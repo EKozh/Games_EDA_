{
 "cells": [
  {
   "cell_type": "markdown",
   "metadata": {},
   "source": [
    "# Исследование о продаже игр и закономерностях, определяющих успешность игры"
   ]
  },
  {
   "cell_type": "markdown",
   "metadata": {},
   "source": [
    "### Общая информация"
   ]
  },
  {
   "cell_type": "code",
   "execution_count": 8,
   "metadata": {},
   "outputs": [],
   "source": [
    "import pandas as pd\n",
    "import numpy as np\n",
    "import seaborn as sns\n",
    "import matplotlib.pyplot as plt\n",
    "from scipy import stats as st\n",
    "import sweetviz as sv\n",
    "import numpy as np\n",
    "import pandas as pd\n",
    "from pandas_profiling import ProfileReport"
   ]
  },
  {
   "cell_type": "code",
   "execution_count": 9,
   "metadata": {},
   "outputs": [],
   "source": [
    "data = pd.read_csv('/datasets/games.csv')"
   ]
  },
  {
   "cell_type": "code",
   "execution_count": 10,
   "metadata": {},
   "outputs": [],
   "source": [
    "profile = ProfileReport(data, title='Pandas Profiling Report')"
   ]
  },
  {
   "cell_type": "code",
   "execution_count": 3,
   "metadata": {},
   "outputs": [
    {
     "data": {
      "text/html": [
       "<div>\n",
       "<style scoped>\n",
       "    .dataframe tbody tr th:only-of-type {\n",
       "        vertical-align: middle;\n",
       "    }\n",
       "\n",
       "    .dataframe tbody tr th {\n",
       "        vertical-align: top;\n",
       "    }\n",
       "\n",
       "    .dataframe thead th {\n",
       "        text-align: right;\n",
       "    }\n",
       "</style>\n",
       "<table border=\"1\" class=\"dataframe\">\n",
       "  <thead>\n",
       "    <tr style=\"text-align: right;\">\n",
       "      <th></th>\n",
       "      <th>Name</th>\n",
       "      <th>Platform</th>\n",
       "      <th>Year_of_Release</th>\n",
       "      <th>Genre</th>\n",
       "      <th>NA_sales</th>\n",
       "      <th>EU_sales</th>\n",
       "      <th>JP_sales</th>\n",
       "      <th>Other_sales</th>\n",
       "      <th>Critic_Score</th>\n",
       "      <th>User_Score</th>\n",
       "      <th>Rating</th>\n",
       "    </tr>\n",
       "  </thead>\n",
       "  <tbody>\n",
       "    <tr>\n",
       "      <th>6497</th>\n",
       "      <td>Hatsune Miku: Project Diva</td>\n",
       "      <td>PSP</td>\n",
       "      <td>2009.0</td>\n",
       "      <td>Misc</td>\n",
       "      <td>0.00</td>\n",
       "      <td>0.00</td>\n",
       "      <td>0.26</td>\n",
       "      <td>0.00</td>\n",
       "      <td>NaN</td>\n",
       "      <td>NaN</td>\n",
       "      <td>NaN</td>\n",
       "    </tr>\n",
       "    <tr>\n",
       "      <th>6051</th>\n",
       "      <td>Puzzle Quest: Challenge of the Warlords</td>\n",
       "      <td>Wii</td>\n",
       "      <td>2007.0</td>\n",
       "      <td>Puzzle</td>\n",
       "      <td>0.26</td>\n",
       "      <td>0.00</td>\n",
       "      <td>0.00</td>\n",
       "      <td>0.02</td>\n",
       "      <td>71.0</td>\n",
       "      <td>6.2</td>\n",
       "      <td>E10+</td>\n",
       "    </tr>\n",
       "    <tr>\n",
       "      <th>6222</th>\n",
       "      <td>Pokemon Box: Ruby &amp; Sapphire</td>\n",
       "      <td>GC</td>\n",
       "      <td>2003.0</td>\n",
       "      <td>Misc</td>\n",
       "      <td>0.00</td>\n",
       "      <td>0.00</td>\n",
       "      <td>0.27</td>\n",
       "      <td>0.01</td>\n",
       "      <td>NaN</td>\n",
       "      <td>NaN</td>\n",
       "      <td>NaN</td>\n",
       "    </tr>\n",
       "    <tr>\n",
       "      <th>15871</th>\n",
       "      <td>Army Men: Major Malfunction</td>\n",
       "      <td>XB</td>\n",
       "      <td>2006.0</td>\n",
       "      <td>Shooter</td>\n",
       "      <td>0.01</td>\n",
       "      <td>0.00</td>\n",
       "      <td>0.00</td>\n",
       "      <td>0.00</td>\n",
       "      <td>36.0</td>\n",
       "      <td>4</td>\n",
       "      <td>T</td>\n",
       "    </tr>\n",
       "    <tr>\n",
       "      <th>8029</th>\n",
       "      <td>AirForce Delta Storm</td>\n",
       "      <td>XB</td>\n",
       "      <td>2001.0</td>\n",
       "      <td>Shooter</td>\n",
       "      <td>0.14</td>\n",
       "      <td>0.04</td>\n",
       "      <td>0.00</td>\n",
       "      <td>0.01</td>\n",
       "      <td>61.0</td>\n",
       "      <td>7.1</td>\n",
       "      <td>E</td>\n",
       "    </tr>\n",
       "  </tbody>\n",
       "</table>\n",
       "</div>"
      ],
      "text/plain": [
       "                                          Name Platform  Year_of_Release  \\\n",
       "6497                Hatsune Miku: Project Diva      PSP           2009.0   \n",
       "6051   Puzzle Quest: Challenge of the Warlords      Wii           2007.0   \n",
       "6222              Pokemon Box: Ruby & Sapphire       GC           2003.0   \n",
       "15871              Army Men: Major Malfunction       XB           2006.0   \n",
       "8029                      AirForce Delta Storm       XB           2001.0   \n",
       "\n",
       "         Genre  NA_sales  EU_sales  JP_sales  Other_sales  Critic_Score  \\\n",
       "6497      Misc      0.00      0.00      0.26         0.00           NaN   \n",
       "6051    Puzzle      0.26      0.00      0.00         0.02          71.0   \n",
       "6222      Misc      0.00      0.00      0.27         0.01           NaN   \n",
       "15871  Shooter      0.01      0.00      0.00         0.00          36.0   \n",
       "8029   Shooter      0.14      0.04      0.00         0.01          61.0   \n",
       "\n",
       "      User_Score Rating  \n",
       "6497         NaN    NaN  \n",
       "6051         6.2   E10+  \n",
       "6222         NaN    NaN  \n",
       "15871          4      T  \n",
       "8029         7.1      E  "
      ]
     },
     "execution_count": 3,
     "metadata": {},
     "output_type": "execute_result"
    }
   ],
   "source": [
    "data.sample(5)"
   ]
  },
  {
   "cell_type": "code",
   "execution_count": 4,
   "metadata": {},
   "outputs": [
    {
     "name": "stdout",
     "output_type": "stream",
     "text": [
      "<class 'pandas.core.frame.DataFrame'>\n",
      "RangeIndex: 16715 entries, 0 to 16714\n",
      "Data columns (total 11 columns):\n",
      " #   Column           Non-Null Count  Dtype  \n",
      "---  ------           --------------  -----  \n",
      " 0   Name             16713 non-null  object \n",
      " 1   Platform         16715 non-null  object \n",
      " 2   Year_of_Release  16446 non-null  float64\n",
      " 3   Genre            16713 non-null  object \n",
      " 4   NA_sales         16715 non-null  float64\n",
      " 5   EU_sales         16715 non-null  float64\n",
      " 6   JP_sales         16715 non-null  float64\n",
      " 7   Other_sales      16715 non-null  float64\n",
      " 8   Critic_Score     8137 non-null   float64\n",
      " 9   User_Score       10014 non-null  object \n",
      " 10  Rating           9949 non-null   object \n",
      "dtypes: float64(6), object(5)\n",
      "memory usage: 1.4+ MB\n"
     ]
    }
   ],
   "source": [
    "data.info()"
   ]
  },
  {
   "cell_type": "code",
   "execution_count": 5,
   "metadata": {},
   "outputs": [
    {
     "data": {
      "image/png": "[encoded data removed]",
      "text/plain": [
       "<Figure size 504x864 with 6 Axes>"
      ]
     },
     "metadata": {
      "needs_background": "light"
     },
     "output_type": "display_data"
    }
   ],
   "source": [
    "data.hist(figsize = (7, 12)); #построим гистограммы"
   ]
  },
  {
   "cell_type": "code",
   "execution_count": 6,
   "metadata": {},
   "outputs": [
    {
     "data": {
      "text/html": [
       "<div>\n",
       "<style scoped>\n",
       "    .dataframe tbody tr th:only-of-type {\n",
       "        vertical-align: middle;\n",
       "    }\n",
       "\n",
       "    .dataframe tbody tr th {\n",
       "        vertical-align: top;\n",
       "    }\n",
       "\n",
       "    .dataframe thead th {\n",
       "        text-align: right;\n",
       "    }\n",
       "</style>\n",
       "<table border=\"1\" class=\"dataframe\">\n",
       "  <thead>\n",
       "    <tr style=\"text-align: right;\">\n",
       "      <th></th>\n",
       "      <th>Year_of_Release</th>\n",
       "      <th>NA_sales</th>\n",
       "      <th>EU_sales</th>\n",
       "      <th>JP_sales</th>\n",
       "      <th>Other_sales</th>\n",
       "      <th>Critic_Score</th>\n",
       "    </tr>\n",
       "  </thead>\n",
       "  <tbody>\n",
       "    <tr>\n",
       "      <th>count</th>\n",
       "      <td>16446.000000</td>\n",
       "      <td>16715.000000</td>\n",
       "      <td>16715.000000</td>\n",
       "      <td>16715.000000</td>\n",
       "      <td>16715.000000</td>\n",
       "      <td>8137.000000</td>\n",
       "    </tr>\n",
       "    <tr>\n",
       "      <th>mean</th>\n",
       "      <td>2006.484616</td>\n",
       "      <td>0.263377</td>\n",
       "      <td>0.145060</td>\n",
       "      <td>0.077617</td>\n",
       "      <td>0.047342</td>\n",
       "      <td>68.967679</td>\n",
       "    </tr>\n",
       "    <tr>\n",
       "      <th>std</th>\n",
       "      <td>5.877050</td>\n",
       "      <td>0.813604</td>\n",
       "      <td>0.503339</td>\n",
       "      <td>0.308853</td>\n",
       "      <td>0.186731</td>\n",
       "      <td>13.938165</td>\n",
       "    </tr>\n",
       "    <tr>\n",
       "      <th>min</th>\n",
       "      <td>1980.000000</td>\n",
       "      <td>0.000000</td>\n",
       "      <td>0.000000</td>\n",
       "      <td>0.000000</td>\n",
       "      <td>0.000000</td>\n",
       "      <td>13.000000</td>\n",
       "    </tr>\n",
       "    <tr>\n",
       "      <th>25%</th>\n",
       "      <td>2003.000000</td>\n",
       "      <td>0.000000</td>\n",
       "      <td>0.000000</td>\n",
       "      <td>0.000000</td>\n",
       "      <td>0.000000</td>\n",
       "      <td>60.000000</td>\n",
       "    </tr>\n",
       "    <tr>\n",
       "      <th>50%</th>\n",
       "      <td>2007.000000</td>\n",
       "      <td>0.080000</td>\n",
       "      <td>0.020000</td>\n",
       "      <td>0.000000</td>\n",
       "      <td>0.010000</td>\n",
       "      <td>71.000000</td>\n",
       "    </tr>\n",
       "    <tr>\n",
       "      <th>75%</th>\n",
       "      <td>2010.000000</td>\n",
       "      <td>0.240000</td>\n",
       "      <td>0.110000</td>\n",
       "      <td>0.040000</td>\n",
       "      <td>0.030000</td>\n",
       "      <td>79.000000</td>\n",
       "    </tr>\n",
       "    <tr>\n",
       "      <th>max</th>\n",
       "      <td>2016.000000</td>\n",
       "      <td>41.360000</td>\n",
       "      <td>28.960000</td>\n",
       "      <td>10.220000</td>\n",
       "      <td>10.570000</td>\n",
       "      <td>98.000000</td>\n",
       "    </tr>\n",
       "  </tbody>\n",
       "</table>\n",
       "</div>"
      ],
      "text/plain": [
       "       Year_of_Release      NA_sales      EU_sales      JP_sales  \\\n",
       "count     16446.000000  16715.000000  16715.000000  16715.000000   \n",
       "mean       2006.484616      0.263377      0.145060      0.077617   \n",
       "std           5.877050      0.813604      0.503339      0.308853   \n",
       "min        1980.000000      0.000000      0.000000      0.000000   \n",
       "25%        2003.000000      0.000000      0.000000      0.000000   \n",
       "50%        2007.000000      0.080000      0.020000      0.000000   \n",
       "75%        2010.000000      0.240000      0.110000      0.040000   \n",
       "max        2016.000000     41.360000     28.960000     10.220000   \n",
       "\n",
       "        Other_sales  Critic_Score  \n",
       "count  16715.000000   8137.000000  \n",
       "mean       0.047342     68.967679  \n",
       "std        0.186731     13.938165  \n",
       "min        0.000000     13.000000  \n",
       "25%        0.000000     60.000000  \n",
       "50%        0.010000     71.000000  \n",
       "75%        0.030000     79.000000  \n",
       "max       10.570000     98.000000  "
      ]
     },
     "execution_count": 6,
     "metadata": {},
     "output_type": "execute_result"
    }
   ],
   "source": [
    "data.describe()"
   ]
  },
  {
   "cell_type": "code",
   "execution_count": 7,
   "metadata": {},
   "outputs": [
    {
     "data": {
      "text/plain": [
       "0"
      ]
     },
     "execution_count": 7,
     "metadata": {},
     "output_type": "execute_result"
    }
   ],
   "source": [
    "data.duplicated().sum()"
   ]
  },
  {
   "cell_type": "markdown",
   "metadata": {},
   "source": [
    "В датафрейме представлены данные за 1980-2016 гг. о продажах игр, оценках пользователей и экспертов, жанрах и платформах. В исходных данных всего 16715 строк и 11 столбцов:\n",
    "* Name — название игры\n",
    "* Platform — платформа\n",
    "* Year_of_Release — год выпуска\n",
    "* Genre — жанр игры\n",
    "* NA_sales — продажи в Северной Америке (миллионы проданных копий)\n",
    "* EU_sales — продажи в Европе (миллионы проданных копий)\n",
    "* JP_sales — продажи в Японии (миллионы проданных копий)\n",
    "* Other_sales — продажи в других странах (миллионы проданных копий)\n",
    "* Critic_Score — оценка критиков (максимум 100)\n",
    "* User_Score — оценка пользователей (максимум 10)\n",
    "* Rating — рейтинг от организации ESRB (англ. Entertainment Software Rating Board). Эта ассоциация определяет рейтинг компьютерных игр и присваивает им подходящую возрастную категорию.\n",
    "\n",
    "Пропущены данные в 6 столбцах - Name, Year_of_Release, Genre, Critic_Score, User_Score, Rating. При этом в столбцах Name, Year_of_Release, Genre пропущено незначительное количество значений.\n",
    "Также некорректно указаны типы данных в колонках Year_of_Release, User_Score. Дублирующих строчек нет."
   ]
  },
  {
   "cell_type": "markdown",
   "metadata": {},
   "source": [
    "### Предобработка данных"
   ]
  },
  {
   "cell_type": "markdown",
   "metadata": {},
   "source": [
    "Для удобства приведем названия столбцов к нижнему регистру"
   ]
  },
  {
   "cell_type": "code",
   "execution_count": 8,
   "metadata": {},
   "outputs": [],
   "source": [
    "data.columns = data.columns.str.lower()"
   ]
  },
  {
   "cell_type": "code",
   "execution_count": 9,
   "metadata": {},
   "outputs": [
    {
     "data": {
      "text/plain": [
       "name                  2\n",
       "platform              0\n",
       "year_of_release     269\n",
       "genre                 2\n",
       "na_sales              0\n",
       "eu_sales              0\n",
       "jp_sales              0\n",
       "other_sales           0\n",
       "critic_score       8578\n",
       "user_score         6701\n",
       "rating             6766\n",
       "dtype: int64"
      ]
     },
     "execution_count": 9,
     "metadata": {},
     "output_type": "execute_result"
    }
   ],
   "source": [
    "data.isna().sum() # рассмотрим пропуски"
   ]
  },
  {
   "cell_type": "code",
   "execution_count": 10,
   "metadata": {},
   "outputs": [
    {
     "data": {
      "text/plain": [
       "array(['Wii Sports', 'Super Mario Bros.', 'Mario Kart Wii', ...,\n",
       "       'Woody Woodpecker in Crazy Castle 5', 'LMA Manager 2007',\n",
       "       'Haitaka no Psychedelica'], dtype=object)"
      ]
     },
     "execution_count": 10,
     "metadata": {},
     "output_type": "execute_result"
    }
   ],
   "source": [
    "data['name'].unique() # название игры"
   ]
  },
  {
   "cell_type": "code",
   "execution_count": 11,
   "metadata": {},
   "outputs": [
    {
     "data": {
      "text/html": [
       "<div>\n",
       "<style scoped>\n",
       "    .dataframe tbody tr th:only-of-type {\n",
       "        vertical-align: middle;\n",
       "    }\n",
       "\n",
       "    .dataframe tbody tr th {\n",
       "        vertical-align: top;\n",
       "    }\n",
       "\n",
       "    .dataframe thead th {\n",
       "        text-align: right;\n",
       "    }\n",
       "</style>\n",
       "<table border=\"1\" class=\"dataframe\">\n",
       "  <thead>\n",
       "    <tr style=\"text-align: right;\">\n",
       "      <th></th>\n",
       "      <th>name</th>\n",
       "      <th>platform</th>\n",
       "      <th>year_of_release</th>\n",
       "      <th>genre</th>\n",
       "      <th>na_sales</th>\n",
       "      <th>eu_sales</th>\n",
       "      <th>jp_sales</th>\n",
       "      <th>other_sales</th>\n",
       "      <th>critic_score</th>\n",
       "      <th>user_score</th>\n",
       "      <th>rating</th>\n",
       "    </tr>\n",
       "  </thead>\n",
       "  <tbody>\n",
       "    <tr>\n",
       "      <th>659</th>\n",
       "      <td>NaN</td>\n",
       "      <td>GEN</td>\n",
       "      <td>1993.0</td>\n",
       "      <td>NaN</td>\n",
       "      <td>1.78</td>\n",
       "      <td>0.53</td>\n",
       "      <td>0.00</td>\n",
       "      <td>0.08</td>\n",
       "      <td>NaN</td>\n",
       "      <td>NaN</td>\n",
       "      <td>NaN</td>\n",
       "    </tr>\n",
       "    <tr>\n",
       "      <th>14244</th>\n",
       "      <td>NaN</td>\n",
       "      <td>GEN</td>\n",
       "      <td>1993.0</td>\n",
       "      <td>NaN</td>\n",
       "      <td>0.00</td>\n",
       "      <td>0.00</td>\n",
       "      <td>0.03</td>\n",
       "      <td>0.00</td>\n",
       "      <td>NaN</td>\n",
       "      <td>NaN</td>\n",
       "      <td>NaN</td>\n",
       "    </tr>\n",
       "  </tbody>\n",
       "</table>\n",
       "</div>"
      ],
      "text/plain": [
       "      name platform  year_of_release genre  na_sales  eu_sales  jp_sales  \\\n",
       "659    NaN      GEN           1993.0   NaN      1.78      0.53      0.00   \n",
       "14244  NaN      GEN           1993.0   NaN      0.00      0.00      0.03   \n",
       "\n",
       "       other_sales  critic_score user_score rating  \n",
       "659           0.08           NaN        NaN    NaN  \n",
       "14244         0.00           NaN        NaN    NaN  "
      ]
     },
     "execution_count": 11,
     "metadata": {},
     "output_type": "execute_result"
    }
   ],
   "source": [
    "data.query('name.isna()') # посмотрим на пропущенные значения"
   ]
  },
  {
   "cell_type": "markdown",
   "metadata": {},
   "source": [
    "Так как в этих двух строках пропущены не только названия игр, но и жанр, а также их количество мало, удалим данные строки. Пропуски в названии игр и жанров могут возникать, потому что игра еще была в разработке и название не было придумано или же название и жанр не указали из-за ошибки."
   ]
  },
  {
   "cell_type": "code",
   "execution_count": 12,
   "metadata": {},
   "outputs": [],
   "source": [
    "data = data.drop(data.query('name.isna()').index)"
   ]
  },
  {
   "cell_type": "code",
   "execution_count": 13,
   "metadata": {},
   "outputs": [
    {
     "data": {
      "text/plain": [
       "array(['Wii', 'NES', 'GB', 'DS', 'X360', 'PS3', 'PS2', 'SNES', 'GBA',\n",
       "       'PS4', '3DS', 'N64', 'PS', 'XB', 'PC', '2600', 'PSP', 'XOne',\n",
       "       'WiiU', 'GC', 'GEN', 'DC', 'PSV', 'SAT', 'SCD', 'WS', 'NG', 'TG16',\n",
       "       '3DO', 'GG', 'PCFX'], dtype=object)"
      ]
     },
     "execution_count": 13,
     "metadata": {},
     "output_type": "execute_result"
    }
   ],
   "source": [
    "data['platform'].unique() # платформа"
   ]
  },
  {
   "cell_type": "code",
   "execution_count": 14,
   "metadata": {},
   "outputs": [
    {
     "data": {
      "text/plain": [
       "array([2006., 1985., 2008., 2009., 1996., 1989., 1984., 2005., 1999.,\n",
       "       2007., 2010., 2013., 2004., 1990., 1988., 2002., 2001., 2011.,\n",
       "       1998., 2015., 2012., 2014., 1992., 1997., 1993., 1994., 1982.,\n",
       "       2016., 2003., 1986., 2000.,   nan, 1995., 1991., 1981., 1987.,\n",
       "       1980., 1983.])"
      ]
     },
     "execution_count": 14,
     "metadata": {},
     "output_type": "execute_result"
    }
   ],
   "source": [
    "data['year_of_release'].unique() # год выпуска"
   ]
  },
  {
   "cell_type": "code",
   "execution_count": 15,
   "metadata": {},
   "outputs": [
    {
     "data": {
      "text/html": [
       "<div>\n",
       "<style scoped>\n",
       "    .dataframe tbody tr th:only-of-type {\n",
       "        vertical-align: middle;\n",
       "    }\n",
       "\n",
       "    .dataframe tbody tr th {\n",
       "        vertical-align: top;\n",
       "    }\n",
       "\n",
       "    .dataframe thead th {\n",
       "        text-align: right;\n",
       "    }\n",
       "</style>\n",
       "<table border=\"1\" class=\"dataframe\">\n",
       "  <thead>\n",
       "    <tr style=\"text-align: right;\">\n",
       "      <th></th>\n",
       "      <th>name</th>\n",
       "      <th>platform</th>\n",
       "      <th>year_of_release</th>\n",
       "      <th>genre</th>\n",
       "      <th>na_sales</th>\n",
       "      <th>eu_sales</th>\n",
       "      <th>jp_sales</th>\n",
       "      <th>other_sales</th>\n",
       "      <th>critic_score</th>\n",
       "      <th>user_score</th>\n",
       "      <th>rating</th>\n",
       "    </tr>\n",
       "  </thead>\n",
       "  <tbody>\n",
       "    <tr>\n",
       "      <th>183</th>\n",
       "      <td>Madden NFL 2004</td>\n",
       "      <td>PS2</td>\n",
       "      <td>NaN</td>\n",
       "      <td>Sports</td>\n",
       "      <td>4.26</td>\n",
       "      <td>0.26</td>\n",
       "      <td>0.01</td>\n",
       "      <td>0.71</td>\n",
       "      <td>94.0</td>\n",
       "      <td>8.5</td>\n",
       "      <td>E</td>\n",
       "    </tr>\n",
       "    <tr>\n",
       "      <th>377</th>\n",
       "      <td>FIFA Soccer 2004</td>\n",
       "      <td>PS2</td>\n",
       "      <td>NaN</td>\n",
       "      <td>Sports</td>\n",
       "      <td>0.59</td>\n",
       "      <td>2.36</td>\n",
       "      <td>0.04</td>\n",
       "      <td>0.51</td>\n",
       "      <td>84.0</td>\n",
       "      <td>6.4</td>\n",
       "      <td>E</td>\n",
       "    </tr>\n",
       "    <tr>\n",
       "      <th>456</th>\n",
       "      <td>LEGO Batman: The Videogame</td>\n",
       "      <td>Wii</td>\n",
       "      <td>NaN</td>\n",
       "      <td>Action</td>\n",
       "      <td>1.80</td>\n",
       "      <td>0.97</td>\n",
       "      <td>0.00</td>\n",
       "      <td>0.29</td>\n",
       "      <td>74.0</td>\n",
       "      <td>7.9</td>\n",
       "      <td>E10+</td>\n",
       "    </tr>\n",
       "    <tr>\n",
       "      <th>475</th>\n",
       "      <td>wwe Smackdown vs. Raw 2006</td>\n",
       "      <td>PS2</td>\n",
       "      <td>NaN</td>\n",
       "      <td>Fighting</td>\n",
       "      <td>1.57</td>\n",
       "      <td>1.02</td>\n",
       "      <td>0.00</td>\n",
       "      <td>0.41</td>\n",
       "      <td>NaN</td>\n",
       "      <td>NaN</td>\n",
       "      <td>NaN</td>\n",
       "    </tr>\n",
       "    <tr>\n",
       "      <th>609</th>\n",
       "      <td>Space Invaders</td>\n",
       "      <td>2600</td>\n",
       "      <td>NaN</td>\n",
       "      <td>Shooter</td>\n",
       "      <td>2.36</td>\n",
       "      <td>0.14</td>\n",
       "      <td>0.00</td>\n",
       "      <td>0.03</td>\n",
       "      <td>NaN</td>\n",
       "      <td>NaN</td>\n",
       "      <td>NaN</td>\n",
       "    </tr>\n",
       "    <tr>\n",
       "      <th>...</th>\n",
       "      <td>...</td>\n",
       "      <td>...</td>\n",
       "      <td>...</td>\n",
       "      <td>...</td>\n",
       "      <td>...</td>\n",
       "      <td>...</td>\n",
       "      <td>...</td>\n",
       "      <td>...</td>\n",
       "      <td>...</td>\n",
       "      <td>...</td>\n",
       "      <td>...</td>\n",
       "    </tr>\n",
       "    <tr>\n",
       "      <th>16373</th>\n",
       "      <td>PDC World Championship Darts 2008</td>\n",
       "      <td>PSP</td>\n",
       "      <td>NaN</td>\n",
       "      <td>Sports</td>\n",
       "      <td>0.01</td>\n",
       "      <td>0.00</td>\n",
       "      <td>0.00</td>\n",
       "      <td>0.00</td>\n",
       "      <td>43.0</td>\n",
       "      <td>tbd</td>\n",
       "      <td>E10+</td>\n",
       "    </tr>\n",
       "    <tr>\n",
       "      <th>16405</th>\n",
       "      <td>Freaky Flyers</td>\n",
       "      <td>GC</td>\n",
       "      <td>NaN</td>\n",
       "      <td>Racing</td>\n",
       "      <td>0.01</td>\n",
       "      <td>0.00</td>\n",
       "      <td>0.00</td>\n",
       "      <td>0.00</td>\n",
       "      <td>69.0</td>\n",
       "      <td>6.5</td>\n",
       "      <td>T</td>\n",
       "    </tr>\n",
       "    <tr>\n",
       "      <th>16448</th>\n",
       "      <td>Inversion</td>\n",
       "      <td>PC</td>\n",
       "      <td>NaN</td>\n",
       "      <td>Shooter</td>\n",
       "      <td>0.01</td>\n",
       "      <td>0.00</td>\n",
       "      <td>0.00</td>\n",
       "      <td>0.00</td>\n",
       "      <td>59.0</td>\n",
       "      <td>6.7</td>\n",
       "      <td>M</td>\n",
       "    </tr>\n",
       "    <tr>\n",
       "      <th>16458</th>\n",
       "      <td>Hakuouki: Shinsengumi Kitan</td>\n",
       "      <td>PS3</td>\n",
       "      <td>NaN</td>\n",
       "      <td>Adventure</td>\n",
       "      <td>0.01</td>\n",
       "      <td>0.00</td>\n",
       "      <td>0.00</td>\n",
       "      <td>0.00</td>\n",
       "      <td>NaN</td>\n",
       "      <td>NaN</td>\n",
       "      <td>NaN</td>\n",
       "    </tr>\n",
       "    <tr>\n",
       "      <th>16522</th>\n",
       "      <td>Virtua Quest</td>\n",
       "      <td>GC</td>\n",
       "      <td>NaN</td>\n",
       "      <td>Role-Playing</td>\n",
       "      <td>0.01</td>\n",
       "      <td>0.00</td>\n",
       "      <td>0.00</td>\n",
       "      <td>0.00</td>\n",
       "      <td>55.0</td>\n",
       "      <td>5.5</td>\n",
       "      <td>T</td>\n",
       "    </tr>\n",
       "  </tbody>\n",
       "</table>\n",
       "<p>269 rows × 11 columns</p>\n",
       "</div>"
      ],
      "text/plain": [
       "                                    name platform  year_of_release  \\\n",
       "183                      Madden NFL 2004      PS2              NaN   \n",
       "377                     FIFA Soccer 2004      PS2              NaN   \n",
       "456           LEGO Batman: The Videogame      Wii              NaN   \n",
       "475           wwe Smackdown vs. Raw 2006      PS2              NaN   \n",
       "609                       Space Invaders     2600              NaN   \n",
       "...                                  ...      ...              ...   \n",
       "16373  PDC World Championship Darts 2008      PSP              NaN   \n",
       "16405                      Freaky Flyers       GC              NaN   \n",
       "16448                          Inversion       PC              NaN   \n",
       "16458        Hakuouki: Shinsengumi Kitan      PS3              NaN   \n",
       "16522                       Virtua Quest       GC              NaN   \n",
       "\n",
       "              genre  na_sales  eu_sales  jp_sales  other_sales  critic_score  \\\n",
       "183          Sports      4.26      0.26      0.01         0.71          94.0   \n",
       "377          Sports      0.59      2.36      0.04         0.51          84.0   \n",
       "456          Action      1.80      0.97      0.00         0.29          74.0   \n",
       "475        Fighting      1.57      1.02      0.00         0.41           NaN   \n",
       "609         Shooter      2.36      0.14      0.00         0.03           NaN   \n",
       "...             ...       ...       ...       ...          ...           ...   \n",
       "16373        Sports      0.01      0.00      0.00         0.00          43.0   \n",
       "16405        Racing      0.01      0.00      0.00         0.00          69.0   \n",
       "16448       Shooter      0.01      0.00      0.00         0.00          59.0   \n",
       "16458     Adventure      0.01      0.00      0.00         0.00           NaN   \n",
       "16522  Role-Playing      0.01      0.00      0.00         0.00          55.0   \n",
       "\n",
       "      user_score rating  \n",
       "183          8.5      E  \n",
       "377          6.4      E  \n",
       "456          7.9   E10+  \n",
       "475          NaN    NaN  \n",
       "609          NaN    NaN  \n",
       "...          ...    ...  \n",
       "16373        tbd   E10+  \n",
       "16405        6.5      T  \n",
       "16448        6.7      M  \n",
       "16458        NaN    NaN  \n",
       "16522        5.5      T  \n",
       "\n",
       "[269 rows x 11 columns]"
      ]
     },
     "execution_count": 15,
     "metadata": {},
     "output_type": "execute_result"
    }
   ],
   "source": [
    "data[data['year_of_release'].isna()]  # выведем пропущенные значения в столбце \"Год выпуска\""
   ]
  },
  {
   "cell_type": "markdown",
   "metadata": {},
   "source": [
    "Пропущенные значения в столбце \"год выпуска\" могли возникнуть из-за того, что дату забыли указать или же нет точной даты выхода.  Невозможно предположить по имеющимся данным год выпуска игры, так как на каждой платформе может быть разный год выпуска игры. Так как пропущенных значений меньше 2% от общего количества данных, удалим их."
   ]
  },
  {
   "cell_type": "code",
   "execution_count": 16,
   "metadata": {},
   "outputs": [],
   "source": [
    "data=data.dropna(subset = ['year_of_release']) # удалим пропущенные значения"
   ]
  },
  {
   "cell_type": "code",
   "execution_count": 17,
   "metadata": {},
   "outputs": [],
   "source": [
    "data['year_of_release'] = data['year_of_release'].astype('int') # переименуем тим данных на целочисленный"
   ]
  },
  {
   "cell_type": "code",
   "execution_count": 18,
   "metadata": {},
   "outputs": [
    {
     "data": {
      "text/plain": [
       "array(['Sports', 'Platform', 'Racing', 'Role-Playing', 'Puzzle', 'Misc',\n",
       "       'Shooter', 'Simulation', 'Action', 'Fighting', 'Adventure',\n",
       "       'Strategy'], dtype=object)"
      ]
     },
     "execution_count": 18,
     "metadata": {},
     "output_type": "execute_result"
    }
   ],
   "source": [
    "data['genre'].unique() # жанг игры"
   ]
  },
  {
   "cell_type": "code",
   "execution_count": 19,
   "metadata": {},
   "outputs": [
    {
     "data": {
      "text/plain": [
       "0.00     4449\n",
       "0.02      562\n",
       "0.03      554\n",
       "0.04      543\n",
       "0.05      536\n",
       "         ... \n",
       "14.44       1\n",
       "13.96       1\n",
       "2.35        1\n",
       "2.96        1\n",
       "4.40        1\n",
       "Name: na_sales, Length: 401, dtype: int64"
      ]
     },
     "execution_count": 19,
     "metadata": {},
     "output_type": "execute_result"
    }
   ],
   "source": [
    "data['na_sales'].value_counts() # продажи в Северной Америке (миллионы проданных копий)"
   ]
  },
  {
   "cell_type": "code",
   "execution_count": 20,
   "metadata": {},
   "outputs": [
    {
     "data": {
      "text/plain": [
       "0.00    5766\n",
       "0.01    1467\n",
       "0.02    1290\n",
       "0.03     911\n",
       "0.04     702\n",
       "        ... \n",
       "9.14       1\n",
       "1.92       1\n",
       "3.86       1\n",
       "2.59       1\n",
       "3.87       1\n",
       "Name: eu_sales, Length: 307, dtype: int64"
      ]
     },
     "execution_count": 20,
     "metadata": {},
     "output_type": "execute_result"
    }
   ],
   "source": [
    "data['eu_sales'].value_counts() # продажи в Европе (миллионы проданных копий)"
   ]
  },
  {
   "cell_type": "code",
   "execution_count": 21,
   "metadata": {},
   "outputs": [
    {
     "data": {
      "text/plain": [
       "0.00    10300\n",
       "0.02      733\n",
       "0.01      697\n",
       "0.03      540\n",
       "0.04      391\n",
       "        ...  \n",
       "3.84        1\n",
       "1.17        1\n",
       "3.03        1\n",
       "2.66        1\n",
       "1.71        1\n",
       "Name: jp_sales, Length: 244, dtype: int64"
      ]
     },
     "execution_count": 21,
     "metadata": {},
     "output_type": "execute_result"
    }
   ],
   "source": [
    "data['jp_sales'].value_counts() # продажи в Японии (миллионы проданных копий)"
   ]
  },
  {
   "cell_type": "code",
   "execution_count": 22,
   "metadata": {},
   "outputs": [
    {
     "data": {
      "text/plain": [
       "0.00    6492\n",
       "0.01    3398\n",
       "0.02    1596\n",
       "0.03     910\n",
       "0.04     641\n",
       "        ... \n",
       "0.72       1\n",
       "2.11       1\n",
       "0.96       1\n",
       "1.48       1\n",
       "3.96       1\n",
       "Name: other_sales, Length: 155, dtype: int64"
      ]
     },
     "execution_count": 22,
     "metadata": {},
     "output_type": "execute_result"
    }
   ],
   "source": [
    "data['other_sales'].value_counts() # продажи в других странах (миллионы проданных копий)"
   ]
  },
  {
   "cell_type": "code",
   "execution_count": 23,
   "metadata": {},
   "outputs": [
    {
     "data": {
      "text/plain": [
       "array([76., nan, 82., 80., 89., 58., 87., 91., 61., 97., 95., 77., 88.,\n",
       "       83., 94., 93., 85., 86., 98., 96., 90., 84., 73., 74., 78., 92.,\n",
       "       71., 72., 68., 62., 49., 67., 81., 66., 56., 79., 70., 59., 64.,\n",
       "       75., 60., 63., 69., 50., 25., 42., 44., 55., 48., 57., 29., 47.,\n",
       "       65., 54., 20., 53., 37., 38., 33., 52., 30., 32., 43., 45., 51.,\n",
       "       40., 46., 39., 34., 41., 36., 31., 27., 35., 26., 19., 28., 23.,\n",
       "       24., 21., 17., 13.])"
      ]
     },
     "execution_count": 23,
     "metadata": {},
     "output_type": "execute_result"
    }
   ],
   "source": [
    "data['critic_score'].unique() # оценка критиков (максимум 100)"
   ]
  },
  {
   "cell_type": "code",
   "execution_count": 24,
   "metadata": {},
   "outputs": [
    {
     "data": {
      "text/plain": [
       "array(['8', nan, '8.3', '8.5', '6.6', '8.4', '8.6', '7.7', '6.3', '7.4',\n",
       "       '8.2', '9', '7.9', '8.1', '8.7', '7.1', '3.4', '5.3', '4.8', '3.2',\n",
       "       '8.9', '6.4', '7.8', '7.5', '2.6', '7.2', '9.2', '7', '7.3', '4.3',\n",
       "       '7.6', '5.7', '5', '9.1', '6.5', 'tbd', '8.8', '6.9', '9.4', '6.8',\n",
       "       '6.1', '6.7', '5.4', '4', '4.9', '4.5', '9.3', '6.2', '4.2', '6',\n",
       "       '3.7', '4.1', '5.8', '5.6', '5.5', '4.4', '4.6', '5.9', '3.9',\n",
       "       '3.1', '2.9', '5.2', '3.3', '4.7', '5.1', '3.5', '2.5', '1.9', '3',\n",
       "       '2.7', '2.2', '2', '9.5', '2.1', '3.6', '2.8', '1.8', '3.8', '0',\n",
       "       '1.6', '9.6', '2.4', '1.7', '1.1', '0.3', '1.5', '0.7', '1.2',\n",
       "       '2.3', '0.5', '1.3', '0.2', '0.6', '1.4', '0.9', '1', '9.7'],\n",
       "      dtype=object)"
      ]
     },
     "execution_count": 24,
     "metadata": {},
     "output_type": "execute_result"
    }
   ],
   "source": [
    "data['user_score'].unique() # оценка пользователей (максимум 10)"
   ]
  },
  {
   "cell_type": "markdown",
   "metadata": {},
   "source": [
    "Заметим, что в столбце \"Оценка пользователей\" значение 'tbd'. Такое значение указывается, когда пользователье еще не играл определенное количество игр и не выставил оценку. Заменим эти значения на Nan и поменяем тим данных на десятичный."
   ]
  },
  {
   "cell_type": "code",
   "execution_count": 25,
   "metadata": {},
   "outputs": [],
   "source": [
    "data['user_score'] = data['user_score'].replace('tbd', np.nan, regex=True).astype('float')"
   ]
  },
  {
   "cell_type": "code",
   "execution_count": 26,
   "metadata": {},
   "outputs": [
    {
     "data": {
      "text/plain": [
       "E       3921\n",
       "T       2905\n",
       "M       1536\n",
       "E10+    1393\n",
       "EC         8\n",
       "K-A        3\n",
       "RP         1\n",
       "AO         1\n",
       "Name: rating, dtype: int64"
      ]
     },
     "execution_count": 26,
     "metadata": {},
     "output_type": "execute_result"
    }
   ],
   "source": [
    "data['rating'].value_counts()  # рейтинг от организации ESRB"
   ]
  },
  {
   "cell_type": "markdown",
   "metadata": {},
   "source": [
    "При просмотре рейтингов обратим внимание на К-А, это устаревшая абревиатура, необходимо переименовать на Е. Для большего понимания создадим новый столбец, где функцией подробнее распишем информацию по рейтингу. Пропущенные значения заменим на \"не определен\", так как рейтинг может быть еще не выставлен или же игра могла не выпускаться, где выдается данный рейтинг."
   ]
  },
  {
   "cell_type": "code",
   "execution_count": 27,
   "metadata": {},
   "outputs": [],
   "source": [
    "# функция для расшифровки рейтинга\n",
    "def full_rating(name):\n",
    "    try:\n",
    "        if name == 'E' or name == 'K-A':\n",
    "            return 'для всех возрастов'\n",
    "        elif name == 'T':\n",
    "            return 'от 13 лет'\n",
    "        elif name == 'M':\n",
    "            return 'от 17 лет'\n",
    "        elif name == 'RP':\n",
    "            return 'рейтинг ожидается'\n",
    "        elif name == 'AO':\n",
    "            return 'от 18 лет'\n",
    "        elif name == 'E10+':\n",
    "            return 'от 10 лет'\n",
    "        elif name == 'EC':\n",
    "            return 'от 3 лет'\n",
    "        else:\n",
    "            return 'не определен'\n",
    "    except:\n",
    "        pass"
   ]
  },
  {
   "cell_type": "code",
   "execution_count": 28,
   "metadata": {},
   "outputs": [],
   "source": [
    "data['full_rating'] = data['rating'].apply(full_rating)"
   ]
  },
  {
   "cell_type": "code",
   "execution_count": 29,
   "metadata": {},
   "outputs": [
    {
     "data": {
      "text/plain": [
       "не определен          6676\n",
       "для всех возрастов    3924\n",
       "от 13 лет             2905\n",
       "от 17 лет             1536\n",
       "от 10 лет             1393\n",
       "от 3 лет                 8\n",
       "рейтинг ожидается        1\n",
       "от 18 лет                1\n",
       "Name: full_rating, dtype: int64"
      ]
     },
     "execution_count": 29,
     "metadata": {},
     "output_type": "execute_result"
    }
   ],
   "source": [
    "data['full_rating'].value_counts() # рейтинг"
   ]
  },
  {
   "cell_type": "code",
   "execution_count": 30,
   "metadata": {},
   "outputs": [
    {
     "name": "stdout",
     "output_type": "stream",
     "text": [
      "<class 'pandas.core.frame.DataFrame'>\n",
      "Int64Index: 16444 entries, 0 to 16714\n",
      "Data columns (total 12 columns):\n",
      " #   Column           Non-Null Count  Dtype  \n",
      "---  ------           --------------  -----  \n",
      " 0   name             16444 non-null  object \n",
      " 1   platform         16444 non-null  object \n",
      " 2   year_of_release  16444 non-null  int64  \n",
      " 3   genre            16444 non-null  object \n",
      " 4   na_sales         16444 non-null  float64\n",
      " 5   eu_sales         16444 non-null  float64\n",
      " 6   jp_sales         16444 non-null  float64\n",
      " 7   other_sales      16444 non-null  float64\n",
      " 8   critic_score     7983 non-null   float64\n",
      " 9   user_score       7463 non-null   float64\n",
      " 10  rating           9768 non-null   object \n",
      " 11  full_rating      16444 non-null  object \n",
      "dtypes: float64(6), int64(1), object(5)\n",
      "memory usage: 1.6+ MB\n"
     ]
    }
   ],
   "source": [
    "data.info() # пропущенные значений после обработки"
   ]
  },
  {
   "cell_type": "markdown",
   "metadata": {},
   "source": [
    "Пропущенные значения в столбцах \"critic_score\", \"user_score\" оставим без изменений, так как игры могли быть новыми и критики и пользователи могли еще не оценить их."
   ]
  },
  {
   "cell_type": "markdown",
   "metadata": {},
   "source": [
    "Посчитаем суммарные продажи по всем регионам:"
   ]
  },
  {
   "cell_type": "code",
   "execution_count": 31,
   "metadata": {},
   "outputs": [],
   "source": [
    "data['total_sales'] = data[['na_sales','eu_sales','jp_sales', 'other_sales']].sum(axis = 1)"
   ]
  },
  {
   "cell_type": "markdown",
   "metadata": {},
   "source": [
    "Таким образом, при предобработке данных были удалены пропущенные значения в столбцах \"Наименование игры\", \"Жанр\", \"Год выпуска\", количество удаленных значений составляет меньше 2%. Изменен тип данных в столбцах \"Год выпуска\", \"Оценка пользователей\". Также в столбце \"Оценка пользователей\" было заменено значение 'tbd' на NaN, так как это значение возникает, когда пользователей не сыграл определенное количество игр для возможности поставить оценку. Создан новые столбцы: \"full rating\" для понятной расшифровки рейтинга, заменены устаревшее значение рейтинга и пропущенные значения, \"total_sales\" - суммарные продажи по всем регионам."
   ]
  },
  {
   "cell_type": "markdown",
   "metadata": {},
   "source": [
    "### Исследовательский анализ данных"
   ]
  },
  {
   "cell_type": "markdown",
   "metadata": {},
   "source": [
    "#### Количество выпущенных игр в каждом году"
   ]
  },
  {
   "cell_type": "code",
   "execution_count": 32,
   "metadata": {},
   "outputs": [
    {
     "data": {
      "image/png": "[encoded data removed]",
      "text/plain": [
       "<Figure size 1008x216 with 1 Axes>"
      ]
     },
     "metadata": {
      "needs_background": "light"
     },
     "output_type": "display_data"
    }
   ],
   "source": [
    "# рассмотрим, сколько игр выпускалось в каждом году\n",
    "data.plot(y = 'year_of_release', kind = 'hist', bins = 38, grid=True, figsize = (14,3), range = (1980,2017));"
   ]
  },
  {
   "cell_type": "markdown",
   "metadata": {},
   "source": [
    "На графике видно, что пик на выпуск игр приходится на 2009-2010 гг., хотя в 2007-2008 гг. в банковской сфере произошел кризис, который по принципу \"домино\" потянул за собой другие сектора, в том числе и игровую индустрию. Игровая индустрия пострадала гораздо меньше других, ведь в сложившемся положении игры оставались одним из самых доступных видов досуга. 2012-2013 гг. были самыми тяжелыми для розничных продаж, по графику наблюдается резкий спад, в 2012 году New-York Times писала, что игры становятся для американцев дорогим развлечением и для многих проще раз в месяц покупать подписку по цене билета в кино на одну единственную игру, чем тратить по 60 долларов хотя бы раз в месяц.  С 2012-2016 гг. по графику наблюдается застой. \n",
    "За все время данные нам не важны, возьмем данные, начиная с 2013 года."
   ]
  },
  {
   "cell_type": "markdown",
   "metadata": {},
   "source": [
    "#### Продажи по платформам"
   ]
  },
  {
   "cell_type": "code",
   "execution_count": 33,
   "metadata": {},
   "outputs": [],
   "source": [
    "# посмотрим как менялись продажи по платформам\n",
    "platform_pivot=data.pivot_table(index=['platform'], values='total_sales', aggfunc='sum').sort_values(by='total_sales', ascending=False)"
   ]
  },
  {
   "cell_type": "code",
   "execution_count": 34,
   "metadata": {},
   "outputs": [
    {
     "data": {
      "text/html": [
       "<div>\n",
       "<style scoped>\n",
       "    .dataframe tbody tr th:only-of-type {\n",
       "        vertical-align: middle;\n",
       "    }\n",
       "\n",
       "    .dataframe tbody tr th {\n",
       "        vertical-align: top;\n",
       "    }\n",
       "\n",
       "    .dataframe thead th {\n",
       "        text-align: right;\n",
       "    }\n",
       "</style>\n",
       "<table border=\"1\" class=\"dataframe\">\n",
       "  <thead>\n",
       "    <tr style=\"text-align: right;\">\n",
       "      <th></th>\n",
       "      <th>total_sales</th>\n",
       "    </tr>\n",
       "    <tr>\n",
       "      <th>platform</th>\n",
       "      <th></th>\n",
       "    </tr>\n",
       "  </thead>\n",
       "  <tbody>\n",
       "    <tr>\n",
       "      <th>PS2</th>\n",
       "      <td>1233.56</td>\n",
       "    </tr>\n",
       "    <tr>\n",
       "      <th>X360</th>\n",
       "      <td>961.24</td>\n",
       "    </tr>\n",
       "    <tr>\n",
       "      <th>PS3</th>\n",
       "      <td>931.34</td>\n",
       "    </tr>\n",
       "    <tr>\n",
       "      <th>Wii</th>\n",
       "      <td>891.18</td>\n",
       "    </tr>\n",
       "    <tr>\n",
       "      <th>DS</th>\n",
       "      <td>802.78</td>\n",
       "    </tr>\n",
       "    <tr>\n",
       "      <th>PS</th>\n",
       "      <td>727.58</td>\n",
       "    </tr>\n",
       "    <tr>\n",
       "      <th>PS4</th>\n",
       "      <td>314.14</td>\n",
       "    </tr>\n",
       "    <tr>\n",
       "      <th>GBA</th>\n",
       "      <td>312.88</td>\n",
       "    </tr>\n",
       "    <tr>\n",
       "      <th>PSP</th>\n",
       "      <td>289.53</td>\n",
       "    </tr>\n",
       "    <tr>\n",
       "      <th>3DS</th>\n",
       "      <td>257.81</td>\n",
       "    </tr>\n",
       "    <tr>\n",
       "      <th>PC</th>\n",
       "      <td>255.76</td>\n",
       "    </tr>\n",
       "    <tr>\n",
       "      <th>GB</th>\n",
       "      <td>254.43</td>\n",
       "    </tr>\n",
       "    <tr>\n",
       "      <th>XB</th>\n",
       "      <td>251.57</td>\n",
       "    </tr>\n",
       "    <tr>\n",
       "      <th>NES</th>\n",
       "      <td>251.05</td>\n",
       "    </tr>\n",
       "    <tr>\n",
       "      <th>N64</th>\n",
       "      <td>218.01</td>\n",
       "    </tr>\n",
       "    <tr>\n",
       "      <th>SNES</th>\n",
       "      <td>200.04</td>\n",
       "    </tr>\n",
       "    <tr>\n",
       "      <th>GC</th>\n",
       "      <td>196.73</td>\n",
       "    </tr>\n",
       "    <tr>\n",
       "      <th>XOne</th>\n",
       "      <td>159.32</td>\n",
       "    </tr>\n",
       "    <tr>\n",
       "      <th>2600</th>\n",
       "      <td>86.48</td>\n",
       "    </tr>\n",
       "    <tr>\n",
       "      <th>WiiU</th>\n",
       "      <td>82.19</td>\n",
       "    </tr>\n",
       "    <tr>\n",
       "      <th>PSV</th>\n",
       "      <td>53.81</td>\n",
       "    </tr>\n",
       "    <tr>\n",
       "      <th>SAT</th>\n",
       "      <td>33.59</td>\n",
       "    </tr>\n",
       "    <tr>\n",
       "      <th>GEN</th>\n",
       "      <td>28.35</td>\n",
       "    </tr>\n",
       "    <tr>\n",
       "      <th>DC</th>\n",
       "      <td>15.95</td>\n",
       "    </tr>\n",
       "    <tr>\n",
       "      <th>SCD</th>\n",
       "      <td>1.86</td>\n",
       "    </tr>\n",
       "    <tr>\n",
       "      <th>NG</th>\n",
       "      <td>1.44</td>\n",
       "    </tr>\n",
       "    <tr>\n",
       "      <th>WS</th>\n",
       "      <td>1.42</td>\n",
       "    </tr>\n",
       "    <tr>\n",
       "      <th>TG16</th>\n",
       "      <td>0.16</td>\n",
       "    </tr>\n",
       "    <tr>\n",
       "      <th>3DO</th>\n",
       "      <td>0.10</td>\n",
       "    </tr>\n",
       "    <tr>\n",
       "      <th>GG</th>\n",
       "      <td>0.04</td>\n",
       "    </tr>\n",
       "    <tr>\n",
       "      <th>PCFX</th>\n",
       "      <td>0.03</td>\n",
       "    </tr>\n",
       "  </tbody>\n",
       "</table>\n",
       "</div>"
      ],
      "text/plain": [
       "          total_sales\n",
       "platform             \n",
       "PS2           1233.56\n",
       "X360           961.24\n",
       "PS3            931.34\n",
       "Wii            891.18\n",
       "DS             802.78\n",
       "PS             727.58\n",
       "PS4            314.14\n",
       "GBA            312.88\n",
       "PSP            289.53\n",
       "3DS            257.81\n",
       "PC             255.76\n",
       "GB             254.43\n",
       "XB             251.57\n",
       "NES            251.05\n",
       "N64            218.01\n",
       "SNES           200.04\n",
       "GC             196.73\n",
       "XOne           159.32\n",
       "2600            86.48\n",
       "WiiU            82.19\n",
       "PSV             53.81\n",
       "SAT             33.59\n",
       "GEN             28.35\n",
       "DC              15.95\n",
       "SCD              1.86\n",
       "NG               1.44\n",
       "WS               1.42\n",
       "TG16             0.16\n",
       "3DO              0.10\n",
       "GG               0.04\n",
       "PCFX             0.03"
      ]
     },
     "execution_count": 34,
     "metadata": {},
     "output_type": "execute_result"
    }
   ],
   "source": [
    "platform_pivot"
   ]
  },
  {
   "cell_type": "markdown",
   "metadata": {},
   "source": [
    "Таким образом, платформы с наилучшими суммарными продажами - PS2, X360, PS3, Wii, DS, PS."
   ]
  },
  {
   "cell_type": "code",
   "execution_count": 35,
   "metadata": {},
   "outputs": [],
   "source": [
    "# построим сводную таблицу с подсчетом сроков жизни платформ\n",
    "years=data.pivot_table(index = 'platform', values='year_of_release', aggfunc=['min', 'max'])"
   ]
  },
  {
   "cell_type": "code",
   "execution_count": 36,
   "metadata": {},
   "outputs": [],
   "source": [
    "years['dif']=years['max']-years['min'] # разница между максимальной датой выхода игры и минимальной"
   ]
  },
  {
   "cell_type": "code",
   "execution_count": 37,
   "metadata": {},
   "outputs": [],
   "source": [
    "years=years.sort_values(by='dif', ascending=False) # сортировка по количеству лет"
   ]
  },
  {
   "cell_type": "code",
   "execution_count": 38,
   "metadata": {},
   "outputs": [
    {
     "data": {
      "text/html": [
       "<div>\n",
       "<style scoped>\n",
       "    .dataframe tbody tr th:only-of-type {\n",
       "        vertical-align: middle;\n",
       "    }\n",
       "\n",
       "    .dataframe tbody tr th {\n",
       "        vertical-align: top;\n",
       "    }\n",
       "\n",
       "    .dataframe thead tr th {\n",
       "        text-align: left;\n",
       "    }\n",
       "\n",
       "    .dataframe thead tr:last-of-type th {\n",
       "        text-align: right;\n",
       "    }\n",
       "</style>\n",
       "<table border=\"1\" class=\"dataframe\">\n",
       "  <thead>\n",
       "    <tr>\n",
       "      <th></th>\n",
       "      <th>min</th>\n",
       "      <th>max</th>\n",
       "      <th>dif</th>\n",
       "    </tr>\n",
       "    <tr>\n",
       "      <th></th>\n",
       "      <th>year_of_release</th>\n",
       "      <th>year_of_release</th>\n",
       "      <th></th>\n",
       "    </tr>\n",
       "    <tr>\n",
       "      <th>platform</th>\n",
       "      <th></th>\n",
       "      <th></th>\n",
       "      <th></th>\n",
       "    </tr>\n",
       "  </thead>\n",
       "  <tbody>\n",
       "    <tr>\n",
       "      <th>PC</th>\n",
       "      <td>1985</td>\n",
       "      <td>2016</td>\n",
       "      <td>31</td>\n",
       "    </tr>\n",
       "    <tr>\n",
       "      <th>DS</th>\n",
       "      <td>1985</td>\n",
       "      <td>2013</td>\n",
       "      <td>28</td>\n",
       "    </tr>\n",
       "    <tr>\n",
       "      <th>GB</th>\n",
       "      <td>1988</td>\n",
       "      <td>2001</td>\n",
       "      <td>13</td>\n",
       "    </tr>\n",
       "    <tr>\n",
       "      <th>X360</th>\n",
       "      <td>2005</td>\n",
       "      <td>2016</td>\n",
       "      <td>11</td>\n",
       "    </tr>\n",
       "    <tr>\n",
       "      <th>PSP</th>\n",
       "      <td>2004</td>\n",
       "      <td>2015</td>\n",
       "      <td>11</td>\n",
       "    </tr>\n",
       "    <tr>\n",
       "      <th>PS2</th>\n",
       "      <td>2000</td>\n",
       "      <td>2011</td>\n",
       "      <td>11</td>\n",
       "    </tr>\n",
       "    <tr>\n",
       "      <th>NES</th>\n",
       "      <td>1983</td>\n",
       "      <td>1994</td>\n",
       "      <td>11</td>\n",
       "    </tr>\n",
       "    <tr>\n",
       "      <th>DC</th>\n",
       "      <td>1998</td>\n",
       "      <td>2008</td>\n",
       "      <td>10</td>\n",
       "    </tr>\n",
       "    <tr>\n",
       "      <th>Wii</th>\n",
       "      <td>2006</td>\n",
       "      <td>2016</td>\n",
       "      <td>10</td>\n",
       "    </tr>\n",
       "    <tr>\n",
       "      <th>PS3</th>\n",
       "      <td>2006</td>\n",
       "      <td>2016</td>\n",
       "      <td>10</td>\n",
       "    </tr>\n",
       "    <tr>\n",
       "      <th>2600</th>\n",
       "      <td>1980</td>\n",
       "      <td>1989</td>\n",
       "      <td>9</td>\n",
       "    </tr>\n",
       "    <tr>\n",
       "      <th>SNES</th>\n",
       "      <td>1990</td>\n",
       "      <td>1999</td>\n",
       "      <td>9</td>\n",
       "    </tr>\n",
       "    <tr>\n",
       "      <th>PS</th>\n",
       "      <td>1994</td>\n",
       "      <td>2003</td>\n",
       "      <td>9</td>\n",
       "    </tr>\n",
       "    <tr>\n",
       "      <th>XB</th>\n",
       "      <td>2000</td>\n",
       "      <td>2008</td>\n",
       "      <td>8</td>\n",
       "    </tr>\n",
       "    <tr>\n",
       "      <th>GBA</th>\n",
       "      <td>2000</td>\n",
       "      <td>2007</td>\n",
       "      <td>7</td>\n",
       "    </tr>\n",
       "    <tr>\n",
       "      <th>GC</th>\n",
       "      <td>2001</td>\n",
       "      <td>2007</td>\n",
       "      <td>6</td>\n",
       "    </tr>\n",
       "    <tr>\n",
       "      <th>N64</th>\n",
       "      <td>1996</td>\n",
       "      <td>2002</td>\n",
       "      <td>6</td>\n",
       "    </tr>\n",
       "    <tr>\n",
       "      <th>3DS</th>\n",
       "      <td>2011</td>\n",
       "      <td>2016</td>\n",
       "      <td>5</td>\n",
       "    </tr>\n",
       "    <tr>\n",
       "      <th>PSV</th>\n",
       "      <td>2011</td>\n",
       "      <td>2016</td>\n",
       "      <td>5</td>\n",
       "    </tr>\n",
       "    <tr>\n",
       "      <th>SAT</th>\n",
       "      <td>1994</td>\n",
       "      <td>1999</td>\n",
       "      <td>5</td>\n",
       "    </tr>\n",
       "    <tr>\n",
       "      <th>WiiU</th>\n",
       "      <td>2012</td>\n",
       "      <td>2016</td>\n",
       "      <td>4</td>\n",
       "    </tr>\n",
       "    <tr>\n",
       "      <th>GEN</th>\n",
       "      <td>1990</td>\n",
       "      <td>1994</td>\n",
       "      <td>4</td>\n",
       "    </tr>\n",
       "    <tr>\n",
       "      <th>NG</th>\n",
       "      <td>1993</td>\n",
       "      <td>1996</td>\n",
       "      <td>3</td>\n",
       "    </tr>\n",
       "    <tr>\n",
       "      <th>XOne</th>\n",
       "      <td>2013</td>\n",
       "      <td>2016</td>\n",
       "      <td>3</td>\n",
       "    </tr>\n",
       "    <tr>\n",
       "      <th>PS4</th>\n",
       "      <td>2013</td>\n",
       "      <td>2016</td>\n",
       "      <td>3</td>\n",
       "    </tr>\n",
       "    <tr>\n",
       "      <th>WS</th>\n",
       "      <td>1999</td>\n",
       "      <td>2001</td>\n",
       "      <td>2</td>\n",
       "    </tr>\n",
       "    <tr>\n",
       "      <th>3DO</th>\n",
       "      <td>1994</td>\n",
       "      <td>1995</td>\n",
       "      <td>1</td>\n",
       "    </tr>\n",
       "    <tr>\n",
       "      <th>SCD</th>\n",
       "      <td>1993</td>\n",
       "      <td>1994</td>\n",
       "      <td>1</td>\n",
       "    </tr>\n",
       "    <tr>\n",
       "      <th>TG16</th>\n",
       "      <td>1995</td>\n",
       "      <td>1995</td>\n",
       "      <td>0</td>\n",
       "    </tr>\n",
       "    <tr>\n",
       "      <th>PCFX</th>\n",
       "      <td>1996</td>\n",
       "      <td>1996</td>\n",
       "      <td>0</td>\n",
       "    </tr>\n",
       "    <tr>\n",
       "      <th>GG</th>\n",
       "      <td>1992</td>\n",
       "      <td>1992</td>\n",
       "      <td>0</td>\n",
       "    </tr>\n",
       "  </tbody>\n",
       "</table>\n",
       "</div>"
      ],
      "text/plain": [
       "                     min             max dif\n",
       "         year_of_release year_of_release    \n",
       "platform                                    \n",
       "PC                  1985            2016  31\n",
       "DS                  1985            2013  28\n",
       "GB                  1988            2001  13\n",
       "X360                2005            2016  11\n",
       "PSP                 2004            2015  11\n",
       "PS2                 2000            2011  11\n",
       "NES                 1983            1994  11\n",
       "DC                  1998            2008  10\n",
       "Wii                 2006            2016  10\n",
       "PS3                 2006            2016  10\n",
       "2600                1980            1989   9\n",
       "SNES                1990            1999   9\n",
       "PS                  1994            2003   9\n",
       "XB                  2000            2008   8\n",
       "GBA                 2000            2007   7\n",
       "GC                  2001            2007   6\n",
       "N64                 1996            2002   6\n",
       "3DS                 2011            2016   5\n",
       "PSV                 2011            2016   5\n",
       "SAT                 1994            1999   5\n",
       "WiiU                2012            2016   4\n",
       "GEN                 1990            1994   4\n",
       "NG                  1993            1996   3\n",
       "XOne                2013            2016   3\n",
       "PS4                 2013            2016   3\n",
       "WS                  1999            2001   2\n",
       "3DO                 1994            1995   1\n",
       "SCD                 1993            1994   1\n",
       "TG16                1995            1995   0\n",
       "PCFX                1996            1996   0\n",
       "GG                  1992            1992   0"
      ]
     },
     "execution_count": 38,
     "metadata": {},
     "output_type": "execute_result"
    }
   ],
   "source": [
    "years"
   ]
  },
  {
   "cell_type": "code",
   "execution_count": 39,
   "metadata": {},
   "outputs": [
    {
     "data": {
      "image/png": "[encoded data removed]",
      "text/plain": [
       "<Figure size 864x432 with 1 Axes>"
      ]
     },
     "metadata": {
      "needs_background": "light"
     },
     "output_type": "display_data"
    }
   ],
   "source": [
    "years['dif'].plot(kind='bar', figsize=(12, 6), grid=True); # для наглядности построим график для 6 лучших платформ"
   ]
  },
  {
   "cell_type": "markdown",
   "metadata": {},
   "source": [
    "В среднем платформы живут 8-10 лет. Отметим две платформы - PC, DS, которые функционировали более 28 года. А  PC до сих пор еще функционирует и не собирается уходить с рынка. Заметим, что в промежуток с 1990-2000 гг. новые платформы появлялись практически каждый год, а, начиная с 2001 года в промежутке 4-5 лет."
   ]
  },
  {
   "cell_type": "code",
   "execution_count": 40,
   "metadata": {},
   "outputs": [
    {
     "data": {
      "image/png": "[encoded data removed]",
      "text/plain": [
       "<Figure size 1224x432 with 2 Axes>"
      ]
     },
     "metadata": {
      "needs_background": "light"
     },
     "output_type": "display_data"
    }
   ],
   "source": [
    "fig, ax = plt.subplots(figsize=(17, 6))\n",
    "sns.heatmap(data.pivot_table(index='platform', columns='year_of_release', values='total_sales', aggfunc=['sum']));"
   ]
  },
  {
   "cell_type": "markdown",
   "metadata": {},
   "source": [
    "**Для дальнейшего анализа возьмем данные за актуальный период - начиная с 2014 года, так как игровая индустрия - это динамично развивающая индустрия и брать слишком большой временной интервал некорректно.**"
   ]
  },
  {
   "cell_type": "code",
   "execution_count": 42,
   "metadata": {},
   "outputs": [],
   "source": [
    "new_data=data.query('year_of_release>=2014')"
   ]
  },
  {
   "cell_type": "markdown",
   "metadata": {},
   "source": [
    "#### Какие платформы лидируют по продажам, растут или падают? Выберите несколько потенциально прибыльных платформ."
   ]
  },
  {
   "cell_type": "code",
   "execution_count": 43,
   "metadata": {},
   "outputs": [],
   "source": [
    "# построим сводныу таблицу по общему количеству продаж по каждой платформе \n",
    "platform=new_data.pivot_table(index = 'platform', values = 'total_sales', aggfunc = 'sum').sort_values(by='total_sales', ascending=False)"
   ]
  },
  {
   "cell_type": "code",
   "execution_count": 44,
   "metadata": {},
   "outputs": [
    {
     "data": {
      "text/html": [
       "<div>\n",
       "<style scoped>\n",
       "    .dataframe tbody tr th:only-of-type {\n",
       "        vertical-align: middle;\n",
       "    }\n",
       "\n",
       "    .dataframe tbody tr th {\n",
       "        vertical-align: top;\n",
       "    }\n",
       "\n",
       "    .dataframe thead th {\n",
       "        text-align: right;\n",
       "    }\n",
       "</style>\n",
       "<table border=\"1\" class=\"dataframe\">\n",
       "  <thead>\n",
       "    <tr style=\"text-align: right;\">\n",
       "      <th></th>\n",
       "      <th>total_sales</th>\n",
       "    </tr>\n",
       "    <tr>\n",
       "      <th>platform</th>\n",
       "      <th></th>\n",
       "    </tr>\n",
       "  </thead>\n",
       "  <tbody>\n",
       "    <tr>\n",
       "      <th>PS4</th>\n",
       "      <td>288.15</td>\n",
       "    </tr>\n",
       "    <tr>\n",
       "      <th>XOne</th>\n",
       "      <td>140.36</td>\n",
       "    </tr>\n",
       "    <tr>\n",
       "      <th>3DS</th>\n",
       "      <td>86.68</td>\n",
       "    </tr>\n",
       "    <tr>\n",
       "      <th>PS3</th>\n",
       "      <td>68.18</td>\n",
       "    </tr>\n",
       "    <tr>\n",
       "      <th>X360</th>\n",
       "      <td>48.22</td>\n",
       "    </tr>\n",
       "    <tr>\n",
       "      <th>WiiU</th>\n",
       "      <td>42.98</td>\n",
       "    </tr>\n",
       "    <tr>\n",
       "      <th>PC</th>\n",
       "      <td>27.05</td>\n",
       "    </tr>\n",
       "    <tr>\n",
       "      <th>PSV</th>\n",
       "      <td>22.40</td>\n",
       "    </tr>\n",
       "    <tr>\n",
       "      <th>Wii</th>\n",
       "      <td>5.07</td>\n",
       "    </tr>\n",
       "    <tr>\n",
       "      <th>PSP</th>\n",
       "      <td>0.36</td>\n",
       "    </tr>\n",
       "  </tbody>\n",
       "</table>\n",
       "</div>"
      ],
      "text/plain": [
       "          total_sales\n",
       "platform             \n",
       "PS4            288.15\n",
       "XOne           140.36\n",
       "3DS             86.68\n",
       "PS3             68.18\n",
       "X360            48.22\n",
       "WiiU            42.98\n",
       "PC              27.05\n",
       "PSV             22.40\n",
       "Wii              5.07\n",
       "PSP              0.36"
      ]
     },
     "execution_count": 44,
     "metadata": {},
     "output_type": "execute_result"
    }
   ],
   "source": [
    "platform"
   ]
  },
  {
   "cell_type": "markdown",
   "metadata": {},
   "source": [
    "Начиная с 2014 года больше всего копий продаж по платформам PS4, XOne, 3DS, PS3, X360."
   ]
  },
  {
   "cell_type": "code",
   "execution_count": 45,
   "metadata": {},
   "outputs": [
    {
     "data": {
      "image/png": "[encoded data removed]",
      "text/plain": [
       "<Figure size 936x504 with 1 Axes>"
      ]
     },
     "metadata": {
      "needs_background": "light"
     },
     "output_type": "display_data"
    }
   ],
   "source": [
    "# построим график по продажам по всем платформам\n",
    "platform = new_data.pivot_table(index = 'year_of_release', columns = 'platform', values = 'total_sales', aggfunc = 'sum').plot(grid=True, figsize = (13,7));"
   ]
  },
  {
   "cell_type": "markdown",
   "metadata": {},
   "source": [
    "По графику видно, что по всем платформам идет тренд на снижение количества продаж. Среди них, в последние годы больше всего продаж наблюдается на игры на PS4, так как эта платформа появилась достаточно недавно. PS4 является потенциально прибыльной платформой. Несмотря на то, что платформа XOne появилась в том же году, что и PS4, продожи по ней примернов 2 раза меньше, но эта платформа тоже является потенциально прибыльной. Платформа PC показывает небольшие, но стабильные продажи. Несмотря на то, что по платформе PSV продажи с момента внедрения не выросли как PS4, XOne, но все равно она показывает стабильные продажи.  Платформы PS3, Wii, X360 падают сильнее всего, при том, что за весь период это самые прибыльные платформы. На остальные платформы уже давно упал спрос или они вообще не продаются.\n",
    "\n",
    "Таким образом, к потенциально прибыльным можно отнести  все сравнительно новые платформы - PS4, XOne, PC, PSV, 3DS, WiiU.\n",
    "Потенциально убыточные - X360, PS360."
   ]
  },
  {
   "cell_type": "code",
   "execution_count": 46,
   "metadata": {},
   "outputs": [],
   "source": [
    "# построим график по потенциально прибыльным платформам\n",
    "top_platform = new_data.query('platform==[\"PS4\", \"XOne\", \"PC\", \"PS3\", \"3DS\", \"WiiU\"]')"
   ]
  },
  {
   "cell_type": "code",
   "execution_count": 47,
   "metadata": {},
   "outputs": [
    {
     "data": {
      "image/png": "[encoded data removed]",
      "text/plain": [
       "<Figure size 1440x576 with 1 Axes>"
      ]
     },
     "metadata": {
      "needs_background": "light"
     },
     "output_type": "display_data"
    }
   ],
   "source": [
    "top_platform.pivot_table(index='year_of_release', columns = 'platform', values='total_sales', aggfunc='sum').plot(grid=True, figsize = (20,8));"
   ]
  },
  {
   "cell_type": "markdown",
   "metadata": {},
   "source": [
    "Так как практически все эти платформы сравнительно новые, они являются потенциально прибыльными."
   ]
  },
  {
   "cell_type": "markdown",
   "metadata": {},
   "source": [
    "#### Постройте график «ящик с усами» по глобальным продажам игр в разбивке по платформам. Опишите результат."
   ]
  },
  {
   "cell_type": "code",
   "execution_count": 48,
   "metadata": {
    "scrolled": false
   },
   "outputs": [
    {
     "data": {
      "image/png": "[encoded data removed]",
      "text/plain": [
       "<Figure size 1080x720 with 1 Axes>"
      ]
     },
     "metadata": {
      "needs_background": "light"
     },
     "output_type": "display_data"
    }
   ],
   "source": [
    "# постороим «ящик с усами» в разбивке по платформам\n",
    "fig, ax = plt.subplots(figsize=(15, 10))\n",
    "sns.boxplot(x='platform', y='total_sales', data=new_data, ax=ax);\n"
   ]
  },
  {
   "cell_type": "markdown",
   "metadata": {},
   "source": [
    "По графику наблюдаются единичные выбросы в районе 10-15 млн на платформах PS4 и 3DS - достаточно современных платформах. Видимо игры на этих платформах были наиболее популярны. В районе 2-10 млн количество выбросов уже намного больше. Больше всего выбросов в этом диапозоне наблюдается на современных платформах - PS4, X360, 3DS - также можно считать, что игры на этих платформах достаточно популярны, на остальных выбросов меньше. Далее посмотрим на диаграмму размаха"
   ]
  },
  {
   "cell_type": "code",
   "execution_count": 49,
   "metadata": {},
   "outputs": [
    {
     "data": {
      "text/plain": [
       "(0.0, 1.6)"
      ]
     },
     "execution_count": 49,
     "metadata": {},
     "output_type": "execute_result"
    },
    {
     "data": {
      "image/png": "[encoded data removed]",
      "text/plain": [
       "<Figure size 1080x720 with 1 Axes>"
      ]
     },
     "metadata": {
      "needs_background": "light"
     },
     "output_type": "display_data"
    }
   ],
   "source": [
    "# постороим «ящик с усами» в разбивке по платформам\n",
    "fig, ax = plt.subplots(figsize=(15, 10))\n",
    "sns.boxplot(x='platform', y='total_sales', data=new_data, ax=ax);\n",
    "plt.ylim(0, 1.6)"
   ]
  },
  {
   "cell_type": "markdown",
   "metadata": {},
   "source": [
    "По данному графику заметим, распределение по всем платформам являются ассиметричны, медианы находятся ближе к нижнему квартилю, а также нижний ус находится намного ближе к 1-ому квартилю, что говорит о том, что  преобладают игры с небольшими продажами и небольшим числом мегапопулярных игр.  \n",
    "Максимальный размах продаж копий видеоигр имеют платформы PS4, XOne и составляет примерно 1.4-1.5 млн. Стоит отметить, что \n",
    "что современные платформы XOne, WiiU, PS4 по медианному значению находятся практически на одном уровне с платформой Wii, что говорит о том, что игры на современных платформах покупают чаще. Хотя по суммарным продажам платформа Wii находится не на первом месте и из года в год продажи только падают, межквартильный размах у данной платформы самый большой."
   ]
  },
  {
   "cell_type": "markdown",
   "metadata": {},
   "source": [
    "#### Посмотрите, как влияют на продажи внутри одной популярной платформы отзывы пользователей и критиков. Постройте диаграмму рассеяния и посчитайте корреляцию между отзывами и продажами. Сформулируйте выводы."
   ]
  },
  {
   "cell_type": "markdown",
   "metadata": {},
   "source": [
    "Для сравнения возьмем несколько платформ платформы: PS3, XOne, PS4, WiiU."
   ]
  },
  {
   "cell_type": "code",
   "execution_count": 50,
   "metadata": {},
   "outputs": [],
   "source": [
    "platform_corr=[\"PS3\", \"XOne\", \"PS4\", \"WiiU\"]"
   ]
  },
  {
   "cell_type": "code",
   "execution_count": 51,
   "metadata": {},
   "outputs": [],
   "source": [
    "def show_corr(name_of_platform):\n",
    "    platform = new_data[new_data['platform']==name_of_platform]\n",
    "    fig, ax = plt.subplots(1 ,2, figsize=(15,5))\n",
    "    sns.scatterplot(x='user_score', y='total_sales', data=platform, ax=ax[0])\n",
    "    sns.scatterplot(x='critic_score', y='total_sales', data=platform, ax=ax[1])\n",
    "    fig.suptitle(name_of_platform, fontsize=15)\n",
    "    ax[0].set(xlabel='Оценка пользователей')\n",
    "    ax[1].set(xlabel='Оценка критиков')\n",
    "    ax[0].set(ylabel='Количество продаж')\n",
    "    ax[1].set(ylabel='Количество продаж')\n",
    "    plt.show()\n",
    "    \n",
    "    user_correl = platform['user_score'].corr(platform['total_sales'])\n",
    "    critic_correl = platform['critic_score'].corr(platform['total_sales'])\n",
    "    print('Корреляция между отзывами критиков и игровой платформой ', name_of_platform.upper(), critic_correl)\n",
    "    print('Корреляция между отзывами пользователей и продажами ', name_of_platform.upper(), user_correl)"
   ]
  },
  {
   "cell_type": "code",
   "execution_count": 52,
   "metadata": {},
   "outputs": [
    {
     "data": {
      "image/png": "[encoded data removed]",
      "text/plain": [
       "<Figure size 1080x360 with 2 Axes>"
      ]
     },
     "metadata": {
      "needs_background": "light"
     },
     "output_type": "display_data"
    },
    {
     "name": "stdout",
     "output_type": "stream",
     "text": [
      "Корреляция между отзывами критиков и игровой платформой  PS3 0.44657460493190704\n",
      "Корреляция между отзывами пользователей и продажами  PS3 -0.16676141347662118\n"
     ]
    },
    {
     "data": {
      "image/png": "[encoded data removed]",
      "text/plain": [
       "<Figure size 1080x360 with 2 Axes>"
      ]
     },
     "metadata": {
      "needs_background": "light"
     },
     "output_type": "display_data"
    },
    {
     "name": "stdout",
     "output_type": "stream",
     "text": [
      "Корреляция между отзывами критиков и игровой платформой  XONE 0.42867694370333226\n",
      "Корреляция между отзывами пользователей и продажами  XONE -0.0703839280647581\n"
     ]
    },
    {
     "data": {
      "image/png": "[encoded data removed]",
      "text/plain": [
       "<Figure size 1080x360 with 2 Axes>"
      ]
     },
     "metadata": {
      "needs_background": "light"
     },
     "output_type": "display_data"
    },
    {
     "name": "stdout",
     "output_type": "stream",
     "text": [
      "Корреляция между отзывами критиков и игровой платформой  PS4 0.40266141068104083\n",
      "Корреляция между отзывами пользователей и продажами  PS4 -0.040131589472697356\n"
     ]
    },
    {
     "data": {
      "image/png": "[encoded data removed]",
      "text/plain": [
       "<Figure size 1080x360 with 2 Axes>"
      ]
     },
     "metadata": {
      "needs_background": "light"
     },
     "output_type": "display_data"
    },
    {
     "name": "stdout",
     "output_type": "stream",
     "text": [
      "Корреляция между отзывами критиков и игровой платформой  WIIU 0.370201412480884\n",
      "Корреляция между отзывами пользователей и продажами  WIIU 0.40792645792170773\n"
     ]
    }
   ],
   "source": [
    "for platform in platform_corr:\n",
    "    show_corr(platform)"
   ]
  },
  {
   "cell_type": "markdown",
   "metadata": {},
   "source": [
    "Между оценками критиков и общими продажами наблюдается умеренная положительная связь, между оценками пользователей и общими продажами взаимосвязь практически не наблюдается и везде она слабая отрицательная кроме платформы WiiU. В нашем случае это единственная платформа, где взаимосвязь между оценкой пользователей и продажами сильнее чем между оценками критиков. Но так как корреляция Пирсона выявляет только линейную связь, нельзя утверждать, что между оценкой пользователей и продажами связь отсутсвует совсем. На графиках с оценками пользователей на платформах XONE, PS4 наблюдается нелинейная связь и график больше похож на степенную функцию.\n",
    "\n",
    "Корреляция продаж с отзывами критиков выше, так как критики оценивают игру более комплексно и в деталях. Они смотрят на игру в срезе ряда критериев: графика, геймплей, сюжет, техническая реализация, эмоции и так далее. Такой подход позволяет оценить игру более комплексно и менее субъективно. А пользователи оценивают игры опираясь на свои эмоции, что в свою очередь субъективно и не всегда взвешено.\n",
    "\n",
    "Можно ли утверждать о причинно-следственной связях при высоких значениях корреляции?\n",
    "\n",
    "Причинно-следственная связь всегда подразумевает наличие корреляции. Корреляция не обязательно означает наличие причинно-следственной связи. Корреляция может быть случайной, но причинно-следственная связь по определению не может быть случайностью.\n",
    "\n",
    "Если корреляция есть, то для доказательства причинно-следственной связи должны соблюдаться еще два условия - отсутствие сторонних факторов, которые влияют на обе переменные; прямая временная последовательность между изменением первого и второго показателя.\n"
   ]
  },
  {
   "cell_type": "markdown",
   "metadata": {},
   "source": [
    "Исходя из этого, можно сделать выводы, что на все платформы отзывы критиков влияют больше, чем отзывы пользователей"
   ]
  },
  {
   "cell_type": "markdown",
   "metadata": {},
   "source": [
    "#### Посмотрите на общее распределение игр по жанрам. Что можно сказать о самых прибыльных жанрах? Выделяются ли жанры с высокими и низкими продажами?"
   ]
  },
  {
   "cell_type": "code",
   "execution_count": 53,
   "metadata": {},
   "outputs": [],
   "source": [
    "# построим сводную таблицу по жанрам\n",
    "genre_data=new_data.pivot_table(index='genre', values='total_sales', aggfunc=['sum', 'mean']).sort_values(by=('sum', 'total_sales'), ascending=False)"
   ]
  },
  {
   "cell_type": "code",
   "execution_count": 54,
   "metadata": {},
   "outputs": [
    {
     "data": {
      "text/html": [
       "<div>\n",
       "<style scoped>\n",
       "    .dataframe tbody tr th:only-of-type {\n",
       "        vertical-align: middle;\n",
       "    }\n",
       "\n",
       "    .dataframe tbody tr th {\n",
       "        vertical-align: top;\n",
       "    }\n",
       "\n",
       "    .dataframe thead tr th {\n",
       "        text-align: left;\n",
       "    }\n",
       "\n",
       "    .dataframe thead tr:last-of-type th {\n",
       "        text-align: right;\n",
       "    }\n",
       "</style>\n",
       "<table border=\"1\" class=\"dataframe\">\n",
       "  <thead>\n",
       "    <tr>\n",
       "      <th></th>\n",
       "      <th>sum</th>\n",
       "      <th>mean</th>\n",
       "    </tr>\n",
       "    <tr>\n",
       "      <th></th>\n",
       "      <th>total_sales</th>\n",
       "      <th>total_sales</th>\n",
       "    </tr>\n",
       "    <tr>\n",
       "      <th>genre</th>\n",
       "      <th></th>\n",
       "      <th></th>\n",
       "    </tr>\n",
       "  </thead>\n",
       "  <tbody>\n",
       "    <tr>\n",
       "      <th>Action</th>\n",
       "      <td>199.36</td>\n",
       "      <td>0.322068</td>\n",
       "    </tr>\n",
       "    <tr>\n",
       "      <th>Shooter</th>\n",
       "      <td>170.94</td>\n",
       "      <td>1.335469</td>\n",
       "    </tr>\n",
       "    <tr>\n",
       "      <th>Sports</th>\n",
       "      <td>109.48</td>\n",
       "      <td>0.680000</td>\n",
       "    </tr>\n",
       "    <tr>\n",
       "      <th>Role-Playing</th>\n",
       "      <td>101.44</td>\n",
       "      <td>0.459005</td>\n",
       "    </tr>\n",
       "    <tr>\n",
       "      <th>Misc</th>\n",
       "      <td>37.55</td>\n",
       "      <td>0.332301</td>\n",
       "    </tr>\n",
       "    <tr>\n",
       "      <th>Fighting</th>\n",
       "      <td>28.22</td>\n",
       "      <td>0.470333</td>\n",
       "    </tr>\n",
       "    <tr>\n",
       "      <th>Racing</th>\n",
       "      <td>27.52</td>\n",
       "      <td>0.398841</td>\n",
       "    </tr>\n",
       "    <tr>\n",
       "      <th>Platform</th>\n",
       "      <td>18.09</td>\n",
       "      <td>0.476053</td>\n",
       "    </tr>\n",
       "    <tr>\n",
       "      <th>Adventure</th>\n",
       "      <td>17.55</td>\n",
       "      <td>0.094865</td>\n",
       "    </tr>\n",
       "    <tr>\n",
       "      <th>Simulation</th>\n",
       "      <td>13.13</td>\n",
       "      <td>0.298409</td>\n",
       "    </tr>\n",
       "    <tr>\n",
       "      <th>Strategy</th>\n",
       "      <td>3.96</td>\n",
       "      <td>0.107027</td>\n",
       "    </tr>\n",
       "    <tr>\n",
       "      <th>Puzzle</th>\n",
       "      <td>2.21</td>\n",
       "      <td>0.157857</td>\n",
       "    </tr>\n",
       "  </tbody>\n",
       "</table>\n",
       "</div>"
      ],
      "text/plain": [
       "                     sum        mean\n",
       "             total_sales total_sales\n",
       "genre                               \n",
       "Action            199.36    0.322068\n",
       "Shooter           170.94    1.335469\n",
       "Sports            109.48    0.680000\n",
       "Role-Playing      101.44    0.459005\n",
       "Misc               37.55    0.332301\n",
       "Fighting           28.22    0.470333\n",
       "Racing             27.52    0.398841\n",
       "Platform           18.09    0.476053\n",
       "Adventure          17.55    0.094865\n",
       "Simulation         13.13    0.298409\n",
       "Strategy            3.96    0.107027\n",
       "Puzzle              2.21    0.157857"
      ]
     },
     "execution_count": 54,
     "metadata": {},
     "output_type": "execute_result"
    }
   ],
   "source": [
    "genre_data"
   ]
  },
  {
   "cell_type": "code",
   "execution_count": 55,
   "metadata": {},
   "outputs": [
    {
     "data": {
      "image/png": "[encoded data removed]",
      "text/plain": [
       "<Figure size 576x576 with 1 Axes>"
      ]
     },
     "metadata": {},
     "output_type": "display_data"
    }
   ],
   "source": [
    "genre_data.plot(kind='pie', y=('sum', 'total_sales'), figsize=(8,8), title='Суммарные продажи в разрезе жанров');\n"
   ]
  },
  {
   "cell_type": "code",
   "execution_count": 56,
   "metadata": {},
   "outputs": [
    {
     "data": {
      "image/png": "[encoded data removed]",
      "text/plain": [
       "<Figure size 576x576 with 1 Axes>"
      ]
     },
     "metadata": {},
     "output_type": "display_data"
    }
   ],
   "source": [
    "genre_data.plot(kind='pie', y=('mean', 'total_sales'), figsize=(8,8), title='Средние продажи в разрезе жанров');"
   ]
  },
  {
   "cell_type": "markdown",
   "metadata": {},
   "source": [
    "Анализируя две диаграммы, можно сделать выводы, что по суммарным продажам самые популярные жанры - Action, Sports, Shooter. Наименее популярные жанры - Strategy, Puzzle.\n",
    "По средним продажам самые популярные жанры - Shooter, Sports, Role-Playing. Наименее популярные - Adventure, Strategy. Соотношение немного поменялось. То есть, можно сказать, что за высокими продажами игр жанра Action может скрываться множество мелких игр с низкими продажами. "
   ]
  },
  {
   "cell_type": "markdown",
   "metadata": {},
   "source": [
    "### Портрет пользователя по каждому региону"
   ]
  },
  {
   "cell_type": "markdown",
   "metadata": {},
   "source": [
    "Определите для пользователя каждого региона (NA, EU, JP):\n",
    "Самые популярные платформы (топ-5). Опишите различия в долях продаж.\n",
    "Самые популярные жанры (топ-5). Поясните разницу.\n",
    "Влияет ли рейтинг ESRB на продажи в отдельном регионе?"
   ]
  },
  {
   "cell_type": "code",
   "execution_count": 57,
   "metadata": {},
   "outputs": [],
   "source": [
    "def show_reg(tab):\n",
    "    tab = tab.pivot_table(index=tab.columns[0], values=tab.columns[1],aggfunc=['sum']).sort_values(by=('sum', tab.columns[1]), ascending=False).plot(kind = 'bar', figsize=(12,4), grid=True);\n",
    "    #plt.xlabel(tab.columns.values[0])\n",
    "    plt.ylabel('Продажи экземпляров (млн.)')\n",
    "    return tab;"
   ]
  },
  {
   "cell_type": "code",
   "execution_count": 58,
   "metadata": {},
   "outputs": [
    {
     "data": {
      "image/png": "[encoded data removed]",
      "text/plain": [
       "<Figure size 864x288 with 1 Axes>"
      ]
     },
     "metadata": {
      "needs_background": "light"
     },
     "output_type": "display_data"
    },
    {
     "data": {
      "image/png": "[encoded data removed]",
      "text/plain": [
       "<Figure size 864x288 with 1 Axes>"
      ]
     },
     "metadata": {
      "needs_background": "light"
     },
     "output_type": "display_data"
    },
    {
     "data": {
      "image/png": "[encoded data removed]",
      "text/plain": [
       "<Figure size 864x288 with 1 Axes>"
      ]
     },
     "metadata": {
      "needs_background": "light"
     },
     "output_type": "display_data"
    }
   ],
   "source": [
    "# продажи в Северной Америке\n",
    "show_reg(new_data[['platform', 'na_sales']])\n",
    "show_reg(new_data[['genre', 'na_sales']])\n",
    "show_reg(new_data[['full_rating', 'na_sales']]);"
   ]
  },
  {
   "cell_type": "markdown",
   "metadata": {},
   "source": [
    "Пользователи Северной Америки больше всего предпочитают PS4 - японскую консоль. Платформы XOne, X360 - пользуются также значительной популярностью, это американские консоли. В сумме продаж преобладают игры на американских консолях. Самые популярные жанры в Северной Америке - это Action, Sports, Shooter, Misc, Role-Playing. Больше всего преобладают игры от 17 лет. Так же большую долю занимает информация по неопределенному рейтингу, что тоже немаловажно учитывать, скорее всего, потому что ассоциация по рейтингу американская, а самая популярная платформа японская, поэтому рейтинг по японским играм не проставлен."
   ]
  },
  {
   "cell_type": "code",
   "execution_count": 59,
   "metadata": {},
   "outputs": [
    {
     "data": {
      "image/png": "[encoded data removed]",
      "text/plain": [
       "<Figure size 864x288 with 1 Axes>"
      ]
     },
     "metadata": {
      "needs_background": "light"
     },
     "output_type": "display_data"
    },
    {
     "data": {
      "image/png": "[encoded data removed]",
      "text/plain": [
       "<Figure size 864x288 with 1 Axes>"
      ]
     },
     "metadata": {
      "needs_background": "light"
     },
     "output_type": "display_data"
    },
    {
     "data": {
      "image/png": "[encoded data removed]",
      "text/plain": [
       "<Figure size 864x288 with 1 Axes>"
      ]
     },
     "metadata": {
      "needs_background": "light"
     },
     "output_type": "display_data"
    }
   ],
   "source": [
    "# продажи в Европе\n",
    "show_reg(new_data[['platform', 'eu_sales']])\n",
    "show_reg(new_data[['genre', 'eu_sales']])\n",
    "show_reg(new_data[['full_rating', 'eu_sales']]);"
   ]
  },
  {
   "cell_type": "markdown",
   "metadata": {},
   "source": [
    "У пользователей Европы популярны как американские платформы, так и японские. В целом запросы такие же как у пользователей из Северной Америки."
   ]
  },
  {
   "cell_type": "code",
   "execution_count": 60,
   "metadata": {},
   "outputs": [
    {
     "data": {
      "image/png": "[encoded data removed]",
      "text/plain": [
       "<Figure size 864x288 with 1 Axes>"
      ]
     },
     "metadata": {
      "needs_background": "light"
     },
     "output_type": "display_data"
    },
    {
     "data": {
      "image/png": "[encoded data removed]",
      "text/plain": [
       "<Figure size 864x288 with 1 Axes>"
      ]
     },
     "metadata": {
      "needs_background": "light"
     },
     "output_type": "display_data"
    },
    {
     "data": {
      "image/png": "[encoded data removed]",
      "text/plain": [
       "<Figure size 864x288 with 1 Axes>"
      ]
     },
     "metadata": {
      "needs_background": "light"
     },
     "output_type": "display_data"
    }
   ],
   "source": [
    "# продажи в Японии\n",
    "show_reg(new_data[['platform', 'jp_sales']])\n",
    "show_reg(new_data[['genre', 'jp_sales']])\n",
    "show_reg(new_data[['full_rating', 'jp_sales']]);"
   ]
  },
  {
   "cell_type": "markdown",
   "metadata": {},
   "source": [
    "Большинство японских пользователей играют в японские платформы, что неудивительно из-за большого разнообразия платформ, американские платформы преобладают в меньшей степени. При этом наибольшей популярностью пользуются портативные консоли, поэтому и самый популярный жанр игр - Role-playing. В большей степени в Японии преобладают игры с неопределенным рейтингом, скорее всего это связано, что рейтинг является американским и он не распространяется на игры в Японии."
   ]
  },
  {
   "cell_type": "markdown",
   "metadata": {},
   "source": [
    "**Вывод:**\n",
    "В целом, вкусы на игры и жанры в Северной Америке и Европе схожи, там преобладают платформы американского производства, но и платформы японского производства занимают не последнее место. В Японии преобладают портативные платформы своей страны, поэтому и жанр игры отличается тем, что в эти игры можно играть вне дома. Больше всего покупок игр происходит с рейтингом \"для всех возрастов\", что, скорее всего, является определяющим фактором покупки игр. Стоит обратить внимание, что у подавляющего большинства игр не указан рейтин, это может быть связано с тем, что в данном датафрейме рассматривается рейтинг ESRB, а он не предоставляет рейтинг игр для Японии и других стран."
   ]
  },
  {
   "cell_type": "markdown",
   "metadata": {},
   "source": [
    "### Проверка гипотез"
   ]
  },
  {
   "cell_type": "markdown",
   "metadata": {},
   "source": [
    "* Гипотеза 1: Средние пользовательские рейтинги платформ Xbox One и PC одинаковые"
   ]
  },
  {
   "cell_type": "code",
   "execution_count": 61,
   "metadata": {},
   "outputs": [
    {
     "name": "stdout",
     "output_type": "stream",
     "text": [
      "Средний пользовательский рейтинги платформ Xbox One - 6.59\n",
      "Средний пользовательский рейтинги платформ PC -  6.3\n"
     ]
    }
   ],
   "source": [
    "# посчитаем средние пользовательские рейтинги по двум платформам\n",
    "XOne = new_data[(new_data['platform'] == 'XOne') &  (new_data['user_score'] > 0)]['user_score']\n",
    "PC = new_data[(new_data['platform'] == 'PC') &  (new_data['user_score'] > 0)]['user_score']\n",
    "print('Средний пользовательский рейтинги платформ Xbox One -', round(XOne.mean(), 2))\n",
    "print('Средний пользовательский рейтинги платформ PC - ', round(PC.mean(), 2))"
   ]
  },
  {
   "cell_type": "markdown",
   "metadata": {},
   "source": [
    "Будем использовать двустороннюю гипотезу, так как проверяем утверждение \"равно\" или \"не равно\"\n",
    "Сформируем нулевую и альтернативную гипотезу:\n",
    "\n",
    "H0: Средние пользовательские рейтинги платформ Xbox One и PC одинаковые\n",
    "\n",
    "H1: Средние пользовательские рейтинги платформ Xbox One и PC разные\n",
    "Для проверки гипотез будем использовать статестические методы."
   ]
  },
  {
   "cell_type": "code",
   "execution_count": 62,
   "metadata": {
    "scrolled": true
   },
   "outputs": [
    {
     "name": "stdout",
     "output_type": "stream",
     "text": [
      "p-значение: 0.11601398086668832\n",
      "Не получилось отвергнуть нулевую гипотезу\n"
     ]
    }
   ],
   "source": [
    "alpha = .05\n",
    "results = st.ttest_ind(XOne, PC, equal_var=False)\n",
    "print('p-значение:', results.pvalue)\n",
    "\n",
    "\n",
    "if (results.pvalue < alpha):\n",
    "    print(\"Отвергаем нулевую гипотезу\")\n",
    "else:\n",
    "    print(\"Не получилось отвергнуть нулевую гипотезу\")"
   ]
  },
  {
   "cell_type": "markdown",
   "metadata": {},
   "source": [
    "Таким образом, Средние пользовательские рейтинги платформ Xbox One и PC статистически значимо не различаются"
   ]
  },
  {
   "cell_type": "markdown",
   "metadata": {},
   "source": [
    "* Гипотеза 2: Средние пользовательские рейтинги жанров Action (англ. «действие», экшен-игры) и Sports (англ. «спортивные соревнования») разные."
   ]
  },
  {
   "cell_type": "markdown",
   "metadata": {},
   "source": [
    "Сформируем нулевую и альтернативную гипотезу:\n",
    "\n",
    "H0: Средние пользовательские рейтинги жанров Action и Sports одинаковые\n",
    "\n",
    "H1: Средние пользовательские рейтинги жанров Action и Sports разные"
   ]
  },
  {
   "cell_type": "code",
   "execution_count": 63,
   "metadata": {},
   "outputs": [
    {
     "name": "stdout",
     "output_type": "stream",
     "text": [
      "Средний пользовательский рейтинги жагра Action - 6.76\n",
      "Средний пользовательский рейтинги жанра Sports -  5.23\n"
     ]
    }
   ],
   "source": [
    "# посчитаем средние пользовательские рейтинги по двум жанрам\n",
    "Action = new_data[(new_data['genre'] == 'Action') &  (new_data['user_score'] > 0)]['user_score']\n",
    "Sports = new_data[(new_data['genre'] == 'Sports') &  (new_data['user_score'] > 0)]['user_score']\n",
    "print('Средний пользовательский рейтинги жагра Action -', round(Action.mean(), 2))\n",
    "print('Средний пользовательский рейтинги жанра Sports - ', round(Sports.mean(), 2))"
   ]
  },
  {
   "cell_type": "code",
   "execution_count": 64,
   "metadata": {},
   "outputs": [
    {
     "name": "stdout",
     "output_type": "stream",
     "text": [
      "p-значение: 1.1825550382644557e-14\n",
      "Отвергаем нулевую гипотезу\n"
     ]
    }
   ],
   "source": [
    "alpha = .05\n",
    "results = st.ttest_ind(Action, Sports, equal_var=False)\n",
    "print('p-значение:', results.pvalue)\n",
    "\n",
    "\n",
    "if (results.pvalue < alpha):\n",
    "    print(\"Отвергаем нулевую гипотезу\")\n",
    "else:\n",
    "    print(\"Не получилось отвергнуть нулевую гипотезу\")"
   ]
  },
  {
   "cell_type": "markdown",
   "metadata": {},
   "source": [
    "Таким образом отвергаем нулевую гипотезу и делаем вывод, что средние пользовательские рейтинги жанров Action и Sports статестически значимо различаются."
   ]
  },
  {
   "cell_type": "markdown",
   "metadata": {},
   "source": [
    "### Общий вывод"
   ]
  },
  {
   "cell_type": "markdown",
   "metadata": {},
   "source": [
    "**Работа с данными:**\n",
    "По имеющимся данным был произведен анализ продаж видеоигр по годам и определены закономерности, определяющие успешность игр.\n",
    "На начальном этапе была произведена предобработка данных - удалены пропущенные значения (менее 2%), изменены типы данных в столбцах, заменено значение в столбце \"Оценка пользователей\" 'tbd' на NaN, так как это значение возникает, когда пользователь не сыграл определенное количество игр для возможности поставить оценку, расшифрован рейтинг, в котором были заменены пропущенные значения, а также создан столбец суммарные продажи по всем регионам.\n",
    "\n",
    "При анализе данных 1980-2016 гг. было выявлено, что самое большее количество игр продавалось в 2009-2010 гг., хотя  в это время бушевал кризис. Кризис же в игровой сфере произошел начиная с 2012 года, когда наблюдалось резкое снижение покупок игр. \n",
    "За весь период платформы с наилучшими суммарными продажами - PS2, X360, PS3, Wii, DS, PS. Было определено, что в среднем платформы живут 8-10 лет. А платформа PC до сих пор функционирует уже больше 30 лет. \n",
    "Для дальнейшего анализа были взяты данные с 2014 года, так как это динамично развивающая индустрия и брать слишком большой временной интервал некорректно.\n",
    "За актуальный период больше всего копий продаж по платформам PS4, XOne, 3DS, PS3, X360.\n",
    "По всем платформам идет тренд на снижение количества продаж. Среди них, в последние годы больше всего продаж наблюдается на игры на PS4, так как эта платформа появилась достаточно недавно. Несмотря на то, что платформа XOne появилась в том же году, что и PS4, продожи по ней примернов 2 раза меньше, но эта платформа тоже является потенциально прибыльной. Платформа PC показывает небольшие, но стабильные продажи.  Платформы PS3, Wii, X360 падают сильнее всего, при том, что за весь период это самые прибыльные платформы. На остальные платформы уже давно упал спрос или они вообще не продаются. \n",
    "Таким образом, к потенциально прибыльным можно отнести  все сравнительно новые платформы - PS4, XOne, PC, PS3, 3DS, WiiU.\n",
    "Потенциально убыточные - X360, PS3.\n",
    "Делаем вывод, что самые прибыльные платформы на будующий период - это достаточно новые платформы.\n",
    "\n",
    "**Анализ корреляции:**\n",
    "Связь между оценками критиков и продажими является умеренная положительная, а между оценками пользователей и общими продажами взаимосвязь практически не наблюдается.\n",
    "Исходя из этого, можно сделать выводы, что на все платформы отзывы критиков влияют больше, чем отзывы пользователей, но здесь мы рассматриваем только линейную связь и сказать, что \"связь между оценкой пользователей и продажами отсутсвует\" мы не можем.\n",
    "\n",
    "**Портрет пользователей разных стран:**\n",
    "Самыми популярными жанрами являются Action, Sports, Shooter. Наименее популярные жанры - Strategy, Puzzle.\n",
    "Что касается вкусов разных стран - вкусы на игры и жанры в Северной Америке и Европе схожи, там преобладают платформы как американского производства, так и японского. В Японии преобладают портативные платформы своей страны, поэтому и жанр игры отличается тем, что в эти игры можно играть вне дома. Больше всего покупок игр происходит с рейтингом \"от 17 лет\". Стоит обратить внимание, что у подавляющего большинства игр не указан рейтин, это может быть связано с тем, что в данных рассматривается рейтинг ESRB, а он не предоставляет рейтинг игр для Японии.\n",
    "\n",
    "**Проверка гипотез:**\n",
    "Были проверены две гипотезы:\n",
    "* Средние пользовательские рейтинги платформ Xbox One и PC одинаковые;\n",
    "* Средние пользовательские рейтинги жанров Action (англ. «действие», экшен-игры) и Sports (англ. «спортивные соревнования») разные.\n",
    "И первая и вторая гипотезы подтвердились.\n",
    "\n",
    "**Критерии успешности игры:**\n",
    "К критериям, определяющим успешность игры можно отнести регион продаж, рейтинг ассоциации, платформа, жанр и рейтинг критиков.\n",
    "\n",
    "Игры, которые будут продаваться в Северной Америке лучше всего:\n",
    "Рейтинг ассоциации - \"для всех возрастов\", \"от 17 лет\", \"от 13 лет\"\n",
    "Платформы: Xbox360, PS4, PS3, 3DS\n",
    "Жанры: Action, Sports, Shooter, Misc, Role-Playing\n",
    "\n",
    "Игры, которые будут продаваться в Европе лучше всего:\n",
    "ESRB: \"для всех возрастов\", \"от 17 лет\", \"от 13 лет\"\n",
    "Платформы: PS4, XOne, PS3, 3DS\n",
    "Жанры: Action, Sports, Shooter, Misc, Racing\n",
    "\n",
    "Игры, которые будут продаваться в Японии лучше всего:\n",
    "ESRB: \"для всех возрастов\", \"от 17 лет\", \"от 13 лет\" (стоит учитывать, что большинство игр ассоциация ESRB в Японии не проставляет)\n",
    "Платформы: 3DS, PS4, PSV, PS3\n",
    "Жанры: Role-Playing, Action, Misc, Sports, Platform\n",
    "\n"
   ]
  }
 ],
 "metadata": {
  "ExecuteTimeLog": [
   {
    "duration": 505,
    "start_time": "2022-11-21T09:08:13.587Z"
   },
   {
    "duration": 29,
    "start_time": "2022-11-21T09:08:22.567Z"
   },
   {
    "duration": 14,
    "start_time": "2022-11-21T09:14:09.089Z"
   },
   {
    "duration": 841,
    "start_time": "2022-11-21T09:14:39.834Z"
   },
   {
    "duration": 493,
    "start_time": "2022-11-21T09:14:48.570Z"
   },
   {
    "duration": 20,
    "start_time": "2022-11-21T09:15:33.012Z"
   },
   {
    "duration": 27,
    "start_time": "2022-11-21T09:15:47.341Z"
   },
   {
    "duration": 59,
    "start_time": "2022-11-21T09:25:45.391Z"
   },
   {
    "duration": 16,
    "start_time": "2022-11-21T09:25:45.956Z"
   },
   {
    "duration": 715,
    "start_time": "2022-11-21T09:26:30.325Z"
   },
   {
    "duration": 865,
    "start_time": "2022-11-21T09:26:37.791Z"
   },
   {
    "duration": 730,
    "start_time": "2022-11-21T09:26:52.123Z"
   },
   {
    "duration": 592,
    "start_time": "2022-11-21T09:27:10.983Z"
   },
   {
    "duration": 726,
    "start_time": "2022-11-21T09:27:24.254Z"
   },
   {
    "duration": 25,
    "start_time": "2022-11-21T09:39:38.830Z"
   },
   {
    "duration": 3,
    "start_time": "2022-11-21T09:44:59.141Z"
   },
   {
    "duration": 12,
    "start_time": "2022-11-21T09:45:12.422Z"
   },
   {
    "duration": 3,
    "start_time": "2022-11-21T09:45:19.576Z"
   },
   {
    "duration": 12,
    "start_time": "2022-11-21T09:45:20.407Z"
   },
   {
    "duration": 3,
    "start_time": "2022-11-21T09:46:12.782Z"
   },
   {
    "duration": 558,
    "start_time": "2022-11-21T09:46:13.387Z"
   },
   {
    "duration": 3,
    "start_time": "2022-11-21T09:46:59.991Z"
   },
   {
    "duration": 3,
    "start_time": "2022-11-21T09:47:18.393Z"
   },
   {
    "duration": 16,
    "start_time": "2022-11-21T09:47:19.983Z"
   },
   {
    "duration": 3,
    "start_time": "2022-11-21T09:47:32.308Z"
   },
   {
    "duration": 3,
    "start_time": "2022-11-21T09:48:04.138Z"
   },
   {
    "duration": 26,
    "start_time": "2022-11-21T09:48:04.746Z"
   },
   {
    "duration": 68,
    "start_time": "2022-11-21T09:48:47.459Z"
   },
   {
    "duration": 15,
    "start_time": "2022-11-21T09:48:58.792Z"
   },
   {
    "duration": 17,
    "start_time": "2022-11-21T09:49:04.864Z"
   },
   {
    "duration": 9,
    "start_time": "2022-11-21T09:59:36.006Z"
   },
   {
    "duration": 798,
    "start_time": "2022-11-21T09:59:59.124Z"
   },
   {
    "duration": 7,
    "start_time": "2022-11-21T10:00:11.947Z"
   },
   {
    "duration": 3,
    "start_time": "2022-11-21T10:29:36.629Z"
   },
   {
    "duration": 10,
    "start_time": "2022-11-21T10:29:37.311Z"
   },
   {
    "duration": 5,
    "start_time": "2022-11-21T10:30:39.116Z"
   },
   {
    "duration": 5,
    "start_time": "2022-11-21T10:30:56.938Z"
   },
   {
    "duration": 6,
    "start_time": "2022-11-21T10:31:22.695Z"
   },
   {
    "duration": 5,
    "start_time": "2022-11-21T10:31:35.153Z"
   },
   {
    "duration": 5,
    "start_time": "2022-11-21T10:31:53.080Z"
   },
   {
    "duration": 4,
    "start_time": "2022-11-21T10:32:20.918Z"
   },
   {
    "duration": 9,
    "start_time": "2022-11-21T10:32:21.491Z"
   },
   {
    "duration": 47,
    "start_time": "2022-11-21T14:34:35.982Z"
   },
   {
    "duration": 652,
    "start_time": "2022-11-21T14:34:45.332Z"
   },
   {
    "duration": 26,
    "start_time": "2022-11-21T14:34:45.987Z"
   },
   {
    "duration": 22,
    "start_time": "2022-11-21T14:34:46.255Z"
   },
   {
    "duration": 1057,
    "start_time": "2022-11-21T14:34:46.720Z"
   },
   {
    "duration": 31,
    "start_time": "2022-11-21T14:34:47.779Z"
   },
   {
    "duration": 33,
    "start_time": "2022-11-21T14:34:47.811Z"
   },
   {
    "duration": 3,
    "start_time": "2022-11-21T14:34:49.150Z"
   },
   {
    "duration": 4,
    "start_time": "2022-11-21T14:34:50.863Z"
   },
   {
    "duration": 14,
    "start_time": "2022-11-21T14:34:51.468Z"
   },
   {
    "duration": 8,
    "start_time": "2022-11-21T14:34:53.346Z"
   },
   {
    "duration": 5,
    "start_time": "2022-11-21T14:35:08.366Z"
   },
   {
    "duration": 7,
    "start_time": "2022-11-21T14:35:11.296Z"
   },
   {
    "duration": 5,
    "start_time": "2022-11-21T14:35:12.456Z"
   },
   {
    "duration": 5,
    "start_time": "2022-11-21T14:35:40.612Z"
   },
   {
    "duration": 5,
    "start_time": "2022-11-21T14:36:11.507Z"
   },
   {
    "duration": 78,
    "start_time": "2022-11-21T14:36:48.188Z"
   },
   {
    "duration": 14,
    "start_time": "2022-11-21T14:37:20.741Z"
   },
   {
    "duration": 63,
    "start_time": "2022-11-21T14:41:10.749Z"
   },
   {
    "duration": 35,
    "start_time": "2022-11-21T14:41:19.377Z"
   },
   {
    "duration": 10,
    "start_time": "2022-11-21T14:41:51.774Z"
   },
   {
    "duration": 11,
    "start_time": "2022-11-21T14:56:04.167Z"
   },
   {
    "duration": 7,
    "start_time": "2022-11-21T14:56:10.026Z"
   },
   {
    "duration": 17,
    "start_time": "2022-11-21T14:56:18.273Z"
   },
   {
    "duration": 13,
    "start_time": "2022-11-21T14:57:54.608Z"
   },
   {
    "duration": 13,
    "start_time": "2022-11-21T15:00:05.269Z"
   },
   {
    "duration": 9,
    "start_time": "2022-11-21T15:00:12.352Z"
   },
   {
    "duration": 15,
    "start_time": "2022-11-21T15:00:39.094Z"
   },
   {
    "duration": 21,
    "start_time": "2022-11-21T15:00:54.763Z"
   },
   {
    "duration": 8,
    "start_time": "2022-11-21T15:00:58.149Z"
   },
   {
    "duration": 8,
    "start_time": "2022-11-21T15:01:53.892Z"
   },
   {
    "duration": 10,
    "start_time": "2022-11-21T15:01:54.741Z"
   },
   {
    "duration": 28,
    "start_time": "2022-11-21T15:02:00.731Z"
   },
   {
    "duration": 13,
    "start_time": "2022-11-21T15:02:02.344Z"
   },
   {
    "duration": 7,
    "start_time": "2022-11-21T15:05:20.488Z"
   },
   {
    "duration": 12,
    "start_time": "2022-11-21T15:05:25.581Z"
   },
   {
    "duration": 9,
    "start_time": "2022-11-21T15:14:23.576Z"
   },
   {
    "duration": 8,
    "start_time": "2022-11-21T15:17:02.001Z"
   },
   {
    "duration": 10,
    "start_time": "2022-11-21T15:17:12.434Z"
   },
   {
    "duration": 17,
    "start_time": "2022-11-21T15:17:19.748Z"
   },
   {
    "duration": 6,
    "start_time": "2022-11-21T15:17:36.797Z"
   },
   {
    "duration": 8,
    "start_time": "2022-11-21T15:18:10.023Z"
   },
   {
    "duration": 21,
    "start_time": "2022-11-21T15:18:18.954Z"
   },
   {
    "duration": 6,
    "start_time": "2022-11-21T15:18:20.048Z"
   },
   {
    "duration": 24,
    "start_time": "2022-11-21T15:18:21.940Z"
   },
   {
    "duration": 10,
    "start_time": "2022-11-21T15:18:57.041Z"
   },
   {
    "duration": 16,
    "start_time": "2022-11-21T15:25:13.441Z"
   },
   {
    "duration": 8,
    "start_time": "2022-11-21T15:25:14.209Z"
   },
   {
    "duration": 16,
    "start_time": "2022-11-21T15:25:17.203Z"
   },
   {
    "duration": 7,
    "start_time": "2022-11-21T15:25:17.841Z"
   },
   {
    "duration": 61,
    "start_time": "2022-11-21T15:25:24.154Z"
   },
   {
    "duration": 16,
    "start_time": "2022-11-21T15:25:24.497Z"
   },
   {
    "duration": 14,
    "start_time": "2022-11-21T15:25:24.682Z"
   },
   {
    "duration": 630,
    "start_time": "2022-11-21T15:25:24.861Z"
   },
   {
    "duration": 28,
    "start_time": "2022-11-21T15:25:25.494Z"
   },
   {
    "duration": 15,
    "start_time": "2022-11-21T15:25:25.537Z"
   },
   {
    "duration": 14,
    "start_time": "2022-11-21T15:25:25.732Z"
   },
   {
    "duration": 3,
    "start_time": "2022-11-21T15:25:26.999Z"
   },
   {
    "duration": 10,
    "start_time": "2022-11-21T15:25:27.431Z"
   },
   {
    "duration": 7,
    "start_time": "2022-11-21T15:25:27.927Z"
   },
   {
    "duration": 5,
    "start_time": "2022-11-21T15:25:28.580Z"
   },
   {
    "duration": 6,
    "start_time": "2022-11-21T15:25:29.142Z"
   },
   {
    "duration": 16,
    "start_time": "2022-11-21T15:25:29.719Z"
   },
   {
    "duration": 15,
    "start_time": "2022-11-21T15:25:30.344Z"
   },
   {
    "duration": 5,
    "start_time": "2022-11-21T15:25:31.583Z"
   },
   {
    "duration": 4,
    "start_time": "2022-11-21T15:25:46.521Z"
   },
   {
    "duration": 5,
    "start_time": "2022-11-21T15:25:56.568Z"
   },
   {
    "duration": 10,
    "start_time": "2022-11-21T15:25:58.405Z"
   },
   {
    "duration": 15,
    "start_time": "2022-11-21T15:26:30.599Z"
   },
   {
    "duration": 6,
    "start_time": "2022-11-21T15:26:31.779Z"
   },
   {
    "duration": 51,
    "start_time": "2022-11-21T15:26:37.193Z"
   },
   {
    "duration": 23,
    "start_time": "2022-11-21T15:26:37.363Z"
   },
   {
    "duration": 15,
    "start_time": "2022-11-21T15:26:37.535Z"
   },
   {
    "duration": 691,
    "start_time": "2022-11-21T15:26:37.710Z"
   },
   {
    "duration": 39,
    "start_time": "2022-11-21T15:26:38.403Z"
   },
   {
    "duration": 15,
    "start_time": "2022-11-21T15:26:38.444Z"
   },
   {
    "duration": 2,
    "start_time": "2022-11-21T15:26:38.461Z"
   },
   {
    "duration": 4,
    "start_time": "2022-11-21T15:26:39.238Z"
   },
   {
    "duration": 8,
    "start_time": "2022-11-21T15:26:39.719Z"
   },
   {
    "duration": 6,
    "start_time": "2022-11-21T15:26:40.206Z"
   },
   {
    "duration": 6,
    "start_time": "2022-11-21T15:26:40.864Z"
   },
   {
    "duration": 5,
    "start_time": "2022-11-21T15:26:41.600Z"
   },
   {
    "duration": 12,
    "start_time": "2022-11-21T15:26:42.434Z"
   },
   {
    "duration": 16,
    "start_time": "2022-11-21T15:26:43.124Z"
   },
   {
    "duration": 5,
    "start_time": "2022-11-21T15:26:43.955Z"
   },
   {
    "duration": 17,
    "start_time": "2022-11-21T15:27:10.328Z"
   },
   {
    "duration": 15,
    "start_time": "2022-11-21T15:27:22.092Z"
   },
   {
    "duration": 16,
    "start_time": "2022-11-21T15:28:01.980Z"
   },
   {
    "duration": 22,
    "start_time": "2022-11-21T15:28:27.052Z"
   },
   {
    "duration": 21,
    "start_time": "2022-11-21T15:28:46.073Z"
   },
   {
    "duration": 16,
    "start_time": "2022-11-21T15:29:01.244Z"
   },
   {
    "duration": 66,
    "start_time": "2022-11-21T17:50:14.883Z"
   },
   {
    "duration": 16,
    "start_time": "2022-11-21T17:50:15.586Z"
   },
   {
    "duration": 15,
    "start_time": "2022-11-21T17:50:16.218Z"
   },
   {
    "duration": 742,
    "start_time": "2022-11-21T17:50:16.784Z"
   },
   {
    "duration": 40,
    "start_time": "2022-11-21T17:50:17.528Z"
   },
   {
    "duration": 20,
    "start_time": "2022-11-21T17:50:19.061Z"
   },
   {
    "duration": 3,
    "start_time": "2022-11-21T17:50:21.627Z"
   },
   {
    "duration": 4,
    "start_time": "2022-11-21T17:50:24.989Z"
   },
   {
    "duration": 10,
    "start_time": "2022-11-21T17:50:25.620Z"
   },
   {
    "duration": 17,
    "start_time": "2022-11-21T17:51:13.762Z"
   },
   {
    "duration": 8,
    "start_time": "2022-11-21T17:56:00.662Z"
   },
   {
    "duration": 23,
    "start_time": "2022-11-21T17:56:07.028Z"
   },
   {
    "duration": 19,
    "start_time": "2022-11-21T17:57:48.279Z"
   },
   {
    "duration": 70,
    "start_time": "2022-11-21T18:00:41.121Z"
   },
   {
    "duration": 6,
    "start_time": "2022-11-21T18:00:41.660Z"
   },
   {
    "duration": 52,
    "start_time": "2022-11-21T18:00:50.983Z"
   },
   {
    "duration": 16,
    "start_time": "2022-11-21T18:00:51.565Z"
   },
   {
    "duration": 14,
    "start_time": "2022-11-21T18:00:52.269Z"
   },
   {
    "duration": 739,
    "start_time": "2022-11-21T18:00:52.950Z"
   },
   {
    "duration": 30,
    "start_time": "2022-11-21T18:00:53.692Z"
   },
   {
    "duration": 14,
    "start_time": "2022-11-21T18:00:54.287Z"
   },
   {
    "duration": 3,
    "start_time": "2022-11-21T18:00:55.737Z"
   },
   {
    "duration": 3,
    "start_time": "2022-11-21T18:00:57.821Z"
   },
   {
    "duration": 11,
    "start_time": "2022-11-21T18:00:58.660Z"
   },
   {
    "duration": 7,
    "start_time": "2022-11-21T18:00:59.461Z"
   },
   {
    "duration": 17,
    "start_time": "2022-11-21T18:01:00.408Z"
   },
   {
    "duration": 8,
    "start_time": "2022-11-21T18:01:02.249Z"
   },
   {
    "duration": 5,
    "start_time": "2022-11-21T18:01:03.157Z"
   },
   {
    "duration": 5,
    "start_time": "2022-11-21T18:01:03.960Z"
   },
   {
    "duration": 5,
    "start_time": "2022-11-21T18:01:05.819Z"
   },
   {
    "duration": 7,
    "start_time": "2022-11-21T18:05:13.049Z"
   },
   {
    "duration": 6,
    "start_time": "2022-11-21T18:05:17.071Z"
   },
   {
    "duration": 5,
    "start_time": "2022-11-21T18:05:36.024Z"
   },
   {
    "duration": 5,
    "start_time": "2022-11-21T18:05:36.855Z"
   },
   {
    "duration": 4,
    "start_time": "2022-11-21T18:06:20.599Z"
   },
   {
    "duration": 9,
    "start_time": "2022-11-21T18:07:29.475Z"
   },
   {
    "duration": 6,
    "start_time": "2022-11-21T18:08:01.092Z"
   },
   {
    "duration": 7,
    "start_time": "2022-11-21T18:08:59.608Z"
   },
   {
    "duration": 7,
    "start_time": "2022-11-21T18:09:22.294Z"
   },
   {
    "duration": 7,
    "start_time": "2022-11-21T18:12:44.410Z"
   },
   {
    "duration": 7,
    "start_time": "2022-11-21T18:12:55.707Z"
   },
   {
    "duration": 9,
    "start_time": "2022-11-21T18:13:26.033Z"
   },
   {
    "duration": 12,
    "start_time": "2022-11-21T18:13:38.834Z"
   },
   {
    "duration": 5,
    "start_time": "2022-11-21T18:14:01.591Z"
   },
   {
    "duration": 4,
    "start_time": "2022-11-21T18:14:22.487Z"
   },
   {
    "duration": 13,
    "start_time": "2022-11-21T18:16:49.855Z"
   },
   {
    "duration": 59,
    "start_time": "2022-11-21T18:20:34.984Z"
   },
   {
    "duration": 15,
    "start_time": "2022-11-21T18:20:35.554Z"
   },
   {
    "duration": 20,
    "start_time": "2022-11-21T18:20:36.187Z"
   },
   {
    "duration": 723,
    "start_time": "2022-11-21T18:20:36.986Z"
   },
   {
    "duration": 38,
    "start_time": "2022-11-21T18:20:38.021Z"
   },
   {
    "duration": 19,
    "start_time": "2022-11-21T18:20:39.088Z"
   },
   {
    "duration": 3,
    "start_time": "2022-11-21T18:20:41.878Z"
   },
   {
    "duration": 4,
    "start_time": "2022-11-21T18:20:44.297Z"
   },
   {
    "duration": 14,
    "start_time": "2022-11-21T18:20:45.217Z"
   },
   {
    "duration": 11,
    "start_time": "2022-11-21T18:22:06.146Z"
   },
   {
    "duration": 6,
    "start_time": "2022-11-21T18:22:06.795Z"
   },
   {
    "duration": 5,
    "start_time": "2022-11-21T18:22:08.627Z"
   },
   {
    "duration": 14,
    "start_time": "2022-11-21T18:22:59.536Z"
   },
   {
    "duration": 6,
    "start_time": "2022-11-21T18:23:00.852Z"
   },
   {
    "duration": 7,
    "start_time": "2022-11-21T18:23:02.800Z"
   },
   {
    "duration": 9,
    "start_time": "2022-11-21T18:23:04.540Z"
   },
   {
    "duration": 7,
    "start_time": "2022-11-21T18:23:05.490Z"
   },
   {
    "duration": 5,
    "start_time": "2022-11-21T18:24:40.151Z"
   },
   {
    "duration": 15,
    "start_time": "2022-11-21T18:28:30.337Z"
   },
   {
    "duration": 10,
    "start_time": "2022-11-21T18:28:36.754Z"
   },
   {
    "duration": 16,
    "start_time": "2022-11-21T18:28:47.474Z"
   },
   {
    "duration": 10,
    "start_time": "2022-11-21T18:29:04.827Z"
   },
   {
    "duration": 46,
    "start_time": "2022-11-21T18:30:13.106Z"
   },
   {
    "duration": 19,
    "start_time": "2022-11-21T18:30:34.051Z"
   },
   {
    "duration": 9,
    "start_time": "2022-11-21T18:31:19.384Z"
   },
   {
    "duration": 8,
    "start_time": "2022-11-21T18:37:43.070Z"
   },
   {
    "duration": 51,
    "start_time": "2022-11-21T18:38:01.149Z"
   },
   {
    "duration": 16,
    "start_time": "2022-11-21T18:38:01.551Z"
   },
   {
    "duration": 15,
    "start_time": "2022-11-21T18:38:01.723Z"
   },
   {
    "duration": 675,
    "start_time": "2022-11-21T18:38:01.906Z"
   },
   {
    "duration": 29,
    "start_time": "2022-11-21T18:38:02.583Z"
   },
   {
    "duration": 35,
    "start_time": "2022-11-21T18:38:02.614Z"
   },
   {
    "duration": 2,
    "start_time": "2022-11-21T18:38:02.653Z"
   },
   {
    "duration": 4,
    "start_time": "2022-11-21T18:38:03.171Z"
   },
   {
    "duration": 13,
    "start_time": "2022-11-21T18:38:03.345Z"
   },
   {
    "duration": 8,
    "start_time": "2022-11-21T18:38:03.529Z"
   },
   {
    "duration": 24,
    "start_time": "2022-11-21T18:38:03.728Z"
   },
   {
    "duration": 10,
    "start_time": "2022-11-21T18:38:04.197Z"
   },
   {
    "duration": 7,
    "start_time": "2022-11-21T18:38:04.695Z"
   },
   {
    "duration": 5,
    "start_time": "2022-11-21T18:38:05.151Z"
   },
   {
    "duration": 4,
    "start_time": "2022-11-21T18:38:06.027Z"
   },
   {
    "duration": 5,
    "start_time": "2022-11-21T18:38:06.621Z"
   },
   {
    "duration": 7,
    "start_time": "2022-11-21T18:38:07.211Z"
   },
   {
    "duration": 6,
    "start_time": "2022-11-21T18:38:08.075Z"
   },
   {
    "duration": 11,
    "start_time": "2022-11-21T18:38:08.985Z"
   },
   {
    "duration": 8,
    "start_time": "2022-11-21T18:38:09.569Z"
   },
   {
    "duration": 6,
    "start_time": "2022-11-21T18:38:10.174Z"
   },
   {
    "duration": 7,
    "start_time": "2022-11-21T18:38:10.831Z"
   },
   {
    "duration": 15,
    "start_time": "2022-11-21T18:38:12.509Z"
   },
   {
    "duration": 8,
    "start_time": "2022-11-21T18:38:29.779Z"
   },
   {
    "duration": 37,
    "start_time": "2022-11-21T18:38:57.237Z"
   },
   {
    "duration": 16,
    "start_time": "2022-11-21T18:39:15.590Z"
   },
   {
    "duration": 5,
    "start_time": "2022-11-21T18:39:16.221Z"
   },
   {
    "duration": 13,
    "start_time": "2022-11-21T18:39:18.215Z"
   },
   {
    "duration": 4,
    "start_time": "2022-11-21T18:40:14.069Z"
   },
   {
    "duration": 6,
    "start_time": "2022-11-21T18:40:14.535Z"
   },
   {
    "duration": 13,
    "start_time": "2022-11-21T18:40:15.106Z"
   },
   {
    "duration": 6,
    "start_time": "2022-11-21T18:40:15.793Z"
   },
   {
    "duration": 10,
    "start_time": "2022-11-21T18:40:16.917Z"
   },
   {
    "duration": 9,
    "start_time": "2022-11-21T18:46:19.014Z"
   },
   {
    "duration": 23,
    "start_time": "2022-11-21T18:52:00.381Z"
   },
   {
    "duration": 109,
    "start_time": "2022-11-21T18:52:33.616Z"
   },
   {
    "duration": 14,
    "start_time": "2022-11-21T18:52:42.262Z"
   },
   {
    "duration": 14,
    "start_time": "2022-11-21T18:53:05.008Z"
   },
   {
    "duration": 15,
    "start_time": "2022-11-21T18:53:14.211Z"
   },
   {
    "duration": 14,
    "start_time": "2022-11-21T18:53:26.898Z"
   },
   {
    "duration": 15,
    "start_time": "2022-11-21T18:54:02.497Z"
   },
   {
    "duration": 9,
    "start_time": "2022-11-21T19:29:47.848Z"
   },
   {
    "duration": 7,
    "start_time": "2022-11-21T19:34:42.933Z"
   },
   {
    "duration": 7,
    "start_time": "2022-11-21T19:34:43.135Z"
   },
   {
    "duration": 6,
    "start_time": "2022-11-21T19:34:43.325Z"
   },
   {
    "duration": 5,
    "start_time": "2022-11-21T19:34:43.513Z"
   },
   {
    "duration": 5,
    "start_time": "2022-11-21T19:34:43.675Z"
   },
   {
    "duration": 6,
    "start_time": "2022-11-21T19:34:43.874Z"
   },
   {
    "duration": 6,
    "start_time": "2022-11-21T19:34:44.026Z"
   },
   {
    "duration": 7,
    "start_time": "2022-11-21T19:34:44.254Z"
   },
   {
    "duration": 11,
    "start_time": "2022-11-21T19:35:21.281Z"
   },
   {
    "duration": 16,
    "start_time": "2022-11-21T19:35:44.391Z"
   },
   {
    "duration": 25,
    "start_time": "2022-11-21T19:35:55.844Z"
   },
   {
    "duration": 6,
    "start_time": "2022-11-21T19:36:05.044Z"
   },
   {
    "duration": 5,
    "start_time": "2022-11-21T19:36:05.476Z"
   },
   {
    "duration": 5,
    "start_time": "2022-11-21T19:36:05.734Z"
   },
   {
    "duration": 5,
    "start_time": "2022-11-21T19:36:05.955Z"
   },
   {
    "duration": 5,
    "start_time": "2022-11-21T19:36:06.294Z"
   },
   {
    "duration": 5,
    "start_time": "2022-11-21T19:36:06.899Z"
   },
   {
    "duration": 6,
    "start_time": "2022-11-21T19:36:07.523Z"
   },
   {
    "duration": 6,
    "start_time": "2022-11-21T19:36:08.403Z"
   },
   {
    "duration": 10,
    "start_time": "2022-11-21T19:36:20.176Z"
   },
   {
    "duration": 18,
    "start_time": "2022-11-21T19:36:34.940Z"
   },
   {
    "duration": 11,
    "start_time": "2022-11-21T19:36:59.683Z"
   },
   {
    "duration": 21,
    "start_time": "2022-11-21T19:37:10.816Z"
   },
   {
    "duration": 7,
    "start_time": "2022-11-21T19:37:40.806Z"
   },
   {
    "duration": 30,
    "start_time": "2022-11-21T19:41:14.147Z"
   },
   {
    "duration": 20,
    "start_time": "2022-11-21T19:41:24.507Z"
   },
   {
    "duration": 6,
    "start_time": "2022-11-21T19:41:31.304Z"
   },
   {
    "duration": 20,
    "start_time": "2022-11-21T19:41:33.480Z"
   },
   {
    "duration": 7,
    "start_time": "2022-11-21T19:41:34.119Z"
   },
   {
    "duration": 60,
    "start_time": "2022-11-21T19:41:38.662Z"
   },
   {
    "duration": 16,
    "start_time": "2022-11-21T19:41:39.114Z"
   },
   {
    "duration": 15,
    "start_time": "2022-11-21T19:41:39.577Z"
   },
   {
    "duration": 638,
    "start_time": "2022-11-21T19:41:40.007Z"
   },
   {
    "duration": 28,
    "start_time": "2022-11-21T19:41:40.646Z"
   },
   {
    "duration": 16,
    "start_time": "2022-11-21T19:41:40.838Z"
   },
   {
    "duration": 2,
    "start_time": "2022-11-21T19:41:41.720Z"
   },
   {
    "duration": 3,
    "start_time": "2022-11-21T19:41:43.257Z"
   },
   {
    "duration": 10,
    "start_time": "2022-11-21T19:41:43.720Z"
   },
   {
    "duration": 9,
    "start_time": "2022-11-21T19:41:44.216Z"
   },
   {
    "duration": 17,
    "start_time": "2022-11-21T19:41:44.714Z"
   },
   {
    "duration": 20,
    "start_time": "2022-11-21T19:41:45.814Z"
   },
   {
    "duration": 5,
    "start_time": "2022-11-21T19:41:46.406Z"
   },
   {
    "duration": 6,
    "start_time": "2022-11-21T19:41:47.044Z"
   },
   {
    "duration": 5,
    "start_time": "2022-11-21T19:41:48.565Z"
   },
   {
    "duration": 6,
    "start_time": "2022-11-21T19:41:49.812Z"
   },
   {
    "duration": 7,
    "start_time": "2022-11-21T19:41:50.581Z"
   },
   {
    "duration": 7,
    "start_time": "2022-11-21T19:41:51.397Z"
   },
   {
    "duration": 6,
    "start_time": "2022-11-21T19:41:52.038Z"
   },
   {
    "duration": 7,
    "start_time": "2022-11-21T19:41:52.599Z"
   },
   {
    "duration": 5,
    "start_time": "2022-11-21T19:41:53.222Z"
   },
   {
    "duration": 6,
    "start_time": "2022-11-21T19:41:53.783Z"
   },
   {
    "duration": 17,
    "start_time": "2022-11-21T19:41:55.062Z"
   },
   {
    "duration": 6,
    "start_time": "2022-11-21T19:41:55.622Z"
   },
   {
    "duration": 16,
    "start_time": "2022-11-21T19:41:56.149Z"
   },
   {
    "duration": 7,
    "start_time": "2022-11-21T19:41:56.708Z"
   },
   {
    "duration": 22,
    "start_time": "2022-11-21T19:42:00.006Z"
   },
   {
    "duration": 8,
    "start_time": "2022-11-21T19:42:00.662Z"
   },
   {
    "duration": 11,
    "start_time": "2022-11-21T19:42:01.462Z"
   },
   {
    "duration": 8,
    "start_time": "2022-11-21T19:42:22.431Z"
   },
   {
    "duration": 7,
    "start_time": "2022-11-21T19:42:23.119Z"
   },
   {
    "duration": 7,
    "start_time": "2022-11-21T19:42:39.616Z"
   },
   {
    "duration": 6,
    "start_time": "2022-11-21T19:42:40.671Z"
   },
   {
    "duration": 68,
    "start_time": "2022-11-21T19:45:38.956Z"
   },
   {
    "duration": 15,
    "start_time": "2022-11-21T19:45:47.415Z"
   },
   {
    "duration": 9,
    "start_time": "2022-11-21T19:45:57.413Z"
   },
   {
    "duration": 76,
    "start_time": "2022-11-21T19:47:59.034Z"
   },
   {
    "duration": 103,
    "start_time": "2022-11-21T19:48:19.369Z"
   },
   {
    "duration": 7,
    "start_time": "2022-11-21T19:48:28.520Z"
   },
   {
    "duration": 63,
    "start_time": "2022-11-21T19:49:19.111Z"
   },
   {
    "duration": 17,
    "start_time": "2022-11-21T19:49:19.283Z"
   },
   {
    "duration": 16,
    "start_time": "2022-11-21T19:49:19.455Z"
   },
   {
    "duration": 668,
    "start_time": "2022-11-21T19:49:19.612Z"
   },
   {
    "duration": 31,
    "start_time": "2022-11-21T19:49:20.282Z"
   },
   {
    "duration": 33,
    "start_time": "2022-11-21T19:49:20.316Z"
   },
   {
    "duration": 10,
    "start_time": "2022-11-21T19:49:20.351Z"
   },
   {
    "duration": 4,
    "start_time": "2022-11-21T19:49:20.820Z"
   },
   {
    "duration": 13,
    "start_time": "2022-11-21T19:49:21.006Z"
   },
   {
    "duration": 6,
    "start_time": "2022-11-21T19:49:21.185Z"
   },
   {
    "duration": 18,
    "start_time": "2022-11-21T19:49:21.363Z"
   },
   {
    "duration": 10,
    "start_time": "2022-11-21T19:49:21.767Z"
   },
   {
    "duration": 6,
    "start_time": "2022-11-21T19:49:22.124Z"
   },
   {
    "duration": 5,
    "start_time": "2022-11-21T19:49:22.584Z"
   },
   {
    "duration": 5,
    "start_time": "2022-11-21T19:49:23.607Z"
   },
   {
    "duration": 5,
    "start_time": "2022-11-21T19:49:24.120Z"
   },
   {
    "duration": 9,
    "start_time": "2022-11-21T19:49:24.572Z"
   },
   {
    "duration": 9,
    "start_time": "2022-11-21T19:49:25.112Z"
   },
   {
    "duration": 10,
    "start_time": "2022-11-21T19:49:25.673Z"
   },
   {
    "duration": 9,
    "start_time": "2022-11-21T19:49:26.185Z"
   },
   {
    "duration": 6,
    "start_time": "2022-11-21T19:49:26.665Z"
   },
   {
    "duration": 6,
    "start_time": "2022-11-21T19:49:27.178Z"
   },
   {
    "duration": 33,
    "start_time": "2022-11-21T19:49:27.817Z"
   },
   {
    "duration": 7,
    "start_time": "2022-11-21T19:49:28.312Z"
   },
   {
    "duration": 22,
    "start_time": "2022-11-21T19:49:28.809Z"
   },
   {
    "duration": 9,
    "start_time": "2022-11-21T19:49:29.340Z"
   },
   {
    "duration": 59,
    "start_time": "2022-11-21T19:49:30.762Z"
   },
   {
    "duration": 8,
    "start_time": "2022-11-21T19:49:31.611Z"
   },
   {
    "duration": 5,
    "start_time": "2022-11-21T19:50:14.774Z"
   },
   {
    "duration": 100,
    "start_time": "2022-11-21T19:50:15.270Z"
   },
   {
    "duration": 8,
    "start_time": "2022-11-21T19:50:16.388Z"
   },
   {
    "duration": 18,
    "start_time": "2022-11-21T19:50:22.196Z"
   },
   {
    "duration": 9,
    "start_time": "2022-11-21T19:51:01.781Z"
   },
   {
    "duration": 15,
    "start_time": "2022-11-21T19:53:45.817Z"
   },
   {
    "duration": 7,
    "start_time": "2022-11-21T19:53:52.217Z"
   },
   {
    "duration": 16,
    "start_time": "2022-11-21T19:54:04.887Z"
   },
   {
    "duration": 5,
    "start_time": "2022-11-21T20:08:05.524Z"
   },
   {
    "duration": 3,
    "start_time": "2022-11-21T20:09:23.882Z"
   },
   {
    "duration": 471,
    "start_time": "2022-11-21T20:10:41.662Z"
   },
   {
    "duration": 642,
    "start_time": "2022-11-21T20:11:02.635Z"
   },
   {
    "duration": 270,
    "start_time": "2022-11-21T20:11:17.799Z"
   },
   {
    "duration": 8,
    "start_time": "2022-11-21T20:12:30.278Z"
   },
   {
    "duration": 259,
    "start_time": "2022-11-21T20:12:30.837Z"
   },
   {
    "duration": 261,
    "start_time": "2022-11-21T20:12:45.489Z"
   },
   {
    "duration": 69,
    "start_time": "2022-11-22T10:52:04.538Z"
   },
   {
    "duration": 630,
    "start_time": "2022-11-22T10:52:12.312Z"
   },
   {
    "duration": 35,
    "start_time": "2022-11-22T10:52:12.945Z"
   },
   {
    "duration": 21,
    "start_time": "2022-11-22T10:52:12.982Z"
   },
   {
    "duration": 1363,
    "start_time": "2022-11-22T10:52:13.006Z"
   },
   {
    "duration": 120,
    "start_time": "2022-11-22T10:52:14.375Z"
   },
   {
    "duration": 22,
    "start_time": "2022-11-22T10:52:14.499Z"
   },
   {
    "duration": 13,
    "start_time": "2022-11-22T10:52:14.523Z"
   },
   {
    "duration": 15,
    "start_time": "2022-11-22T10:52:14.539Z"
   },
   {
    "duration": 27,
    "start_time": "2022-11-22T10:52:14.557Z"
   },
   {
    "duration": 17,
    "start_time": "2022-11-22T10:52:14.671Z"
   },
   {
    "duration": 17,
    "start_time": "2022-11-22T10:52:14.858Z"
   },
   {
    "duration": 9,
    "start_time": "2022-11-22T10:52:15.224Z"
   },
   {
    "duration": 5,
    "start_time": "2022-11-22T10:52:15.419Z"
   },
   {
    "duration": 5,
    "start_time": "2022-11-22T10:52:15.617Z"
   },
   {
    "duration": 4,
    "start_time": "2022-11-22T10:52:16.030Z"
   },
   {
    "duration": 5,
    "start_time": "2022-11-22T10:52:16.437Z"
   },
   {
    "duration": 6,
    "start_time": "2022-11-22T10:52:16.646Z"
   },
   {
    "duration": 6,
    "start_time": "2022-11-22T10:52:16.840Z"
   },
   {
    "duration": 7,
    "start_time": "2022-11-22T10:52:17.040Z"
   },
   {
    "duration": 24,
    "start_time": "2022-11-22T10:52:17.278Z"
   },
   {
    "duration": 9,
    "start_time": "2022-11-22T10:52:17.477Z"
   },
   {
    "duration": 5,
    "start_time": "2022-11-22T10:52:17.658Z"
   },
   {
    "duration": 18,
    "start_time": "2022-11-22T10:52:18.029Z"
   },
   {
    "duration": 5,
    "start_time": "2022-11-22T10:52:18.217Z"
   },
   {
    "duration": 13,
    "start_time": "2022-11-22T10:52:18.424Z"
   },
   {
    "duration": 7,
    "start_time": "2022-11-22T10:52:18.627Z"
   },
   {
    "duration": 4,
    "start_time": "2022-11-22T10:52:19.021Z"
   },
   {
    "duration": 71,
    "start_time": "2022-11-22T10:52:19.233Z"
   },
   {
    "duration": 7,
    "start_time": "2022-11-22T10:52:19.461Z"
   },
   {
    "duration": 9,
    "start_time": "2022-11-22T10:52:20.117Z"
   },
   {
    "duration": 5,
    "start_time": "2022-11-22T10:52:21.320Z"
   },
   {
    "duration": 2,
    "start_time": "2022-11-22T10:52:22.468Z"
   },
   {
    "duration": 9,
    "start_time": "2022-11-22T10:52:22.912Z"
   },
   {
    "duration": 250,
    "start_time": "2022-11-22T10:52:23.540Z"
   },
   {
    "duration": 48,
    "start_time": "2022-11-22T10:52:25.350Z"
   },
   {
    "duration": 15,
    "start_time": "2022-11-22T10:52:55.329Z"
   },
   {
    "duration": 15,
    "start_time": "2022-11-22T10:53:04.027Z"
   },
   {
    "duration": 21,
    "start_time": "2022-11-22T10:53:27.414Z"
   },
   {
    "duration": 11,
    "start_time": "2022-11-22T10:53:30.913Z"
   },
   {
    "duration": 10,
    "start_time": "2022-11-22T10:57:25.509Z"
   },
   {
    "duration": 13,
    "start_time": "2022-11-22T10:57:26.112Z"
   },
   {
    "duration": 7,
    "start_time": "2022-11-22T10:58:35.147Z"
   },
   {
    "duration": 13,
    "start_time": "2022-11-22T11:19:24.987Z"
   },
   {
    "duration": 10,
    "start_time": "2022-11-22T11:19:25.488Z"
   },
   {
    "duration": 12,
    "start_time": "2022-11-22T11:20:06.415Z"
   },
   {
    "duration": 13,
    "start_time": "2022-11-22T11:20:08.596Z"
   },
   {
    "duration": 10,
    "start_time": "2022-11-22T11:20:46.607Z"
   },
   {
    "duration": 9,
    "start_time": "2022-11-22T11:20:47.126Z"
   },
   {
    "duration": 85,
    "start_time": "2022-11-22T12:06:30.504Z"
   },
   {
    "duration": 7,
    "start_time": "2022-11-22T12:07:05.174Z"
   },
   {
    "duration": 21,
    "start_time": "2022-11-22T12:07:10.844Z"
   },
   {
    "duration": 7,
    "start_time": "2022-11-22T12:08:43.774Z"
   },
   {
    "duration": 23,
    "start_time": "2022-11-22T12:08:45.247Z"
   },
   {
    "duration": 6,
    "start_time": "2022-11-22T12:08:59.955Z"
   },
   {
    "duration": 21,
    "start_time": "2022-11-22T12:09:00.576Z"
   },
   {
    "duration": 24,
    "start_time": "2022-11-22T12:10:12.372Z"
   },
   {
    "duration": 251,
    "start_time": "2022-11-22T12:13:23.465Z"
   },
   {
    "duration": 71,
    "start_time": "2022-11-22T12:14:18.396Z"
   },
   {
    "duration": 344,
    "start_time": "2022-11-22T12:14:36.410Z"
   },
   {
    "duration": 7,
    "start_time": "2022-11-22T12:14:59.258Z"
   },
   {
    "duration": 227,
    "start_time": "2022-11-22T12:15:00.164Z"
   },
   {
    "duration": 22,
    "start_time": "2022-11-22T12:15:20.296Z"
   },
   {
    "duration": 9,
    "start_time": "2022-11-22T12:16:36.054Z"
   },
   {
    "duration": 31,
    "start_time": "2022-11-22T12:17:19.497Z"
   },
   {
    "duration": 25,
    "start_time": "2022-11-22T12:17:22.014Z"
   },
   {
    "duration": 7,
    "start_time": "2022-11-22T12:17:40.661Z"
   },
   {
    "duration": 21,
    "start_time": "2022-11-22T12:17:41.424Z"
   },
   {
    "duration": 7,
    "start_time": "2022-11-22T12:42:51.310Z"
   },
   {
    "duration": 24,
    "start_time": "2022-11-22T12:42:51.980Z"
   },
   {
    "duration": 16,
    "start_time": "2022-11-22T12:42:52.680Z"
   },
   {
    "duration": 7,
    "start_time": "2022-11-22T12:43:02.625Z"
   },
   {
    "duration": 20,
    "start_time": "2022-11-22T12:43:03.221Z"
   },
   {
    "duration": 18,
    "start_time": "2022-11-22T12:43:03.971Z"
   },
   {
    "duration": 157,
    "start_time": "2022-11-22T12:49:17.348Z"
   },
   {
    "duration": 21,
    "start_time": "2022-11-22T12:49:18.398Z"
   },
   {
    "duration": 51,
    "start_time": "2022-11-22T12:49:23.397Z"
   },
   {
    "duration": 19,
    "start_time": "2022-11-22T12:49:24.067Z"
   },
   {
    "duration": 13,
    "start_time": "2022-11-22T12:49:24.595Z"
   },
   {
    "duration": 617,
    "start_time": "2022-11-22T12:49:24.806Z"
   },
   {
    "duration": 29,
    "start_time": "2022-11-22T12:49:25.425Z"
   },
   {
    "duration": 29,
    "start_time": "2022-11-22T12:49:25.456Z"
   },
   {
    "duration": 3,
    "start_time": "2022-11-22T12:49:25.486Z"
   },
   {
    "duration": 3,
    "start_time": "2022-11-22T12:49:26.018Z"
   },
   {
    "duration": 10,
    "start_time": "2022-11-22T12:49:26.216Z"
   },
   {
    "duration": 6,
    "start_time": "2022-11-22T12:49:26.423Z"
   },
   {
    "duration": 19,
    "start_time": "2022-11-22T12:49:26.592Z"
   },
   {
    "duration": 8,
    "start_time": "2022-11-22T12:49:26.968Z"
   },
   {
    "duration": 4,
    "start_time": "2022-11-22T12:49:27.161Z"
   },
   {
    "duration": 5,
    "start_time": "2022-11-22T12:49:27.369Z"
   },
   {
    "duration": 5,
    "start_time": "2022-11-22T12:49:27.719Z"
   },
   {
    "duration": 4,
    "start_time": "2022-11-22T12:49:27.903Z"
   },
   {
    "duration": 6,
    "start_time": "2022-11-22T12:49:28.089Z"
   },
   {
    "duration": 5,
    "start_time": "2022-11-22T12:49:28.257Z"
   },
   {
    "duration": 6,
    "start_time": "2022-11-22T12:49:28.454Z"
   },
   {
    "duration": 7,
    "start_time": "2022-11-22T12:49:28.655Z"
   },
   {
    "duration": 5,
    "start_time": "2022-11-22T12:49:28.837Z"
   },
   {
    "duration": 6,
    "start_time": "2022-11-22T12:49:29.024Z"
   },
   {
    "duration": 19,
    "start_time": "2022-11-22T12:49:29.421Z"
   },
   {
    "duration": 6,
    "start_time": "2022-11-22T12:49:29.612Z"
   },
   {
    "duration": 13,
    "start_time": "2022-11-22T12:49:29.794Z"
   },
   {
    "duration": 6,
    "start_time": "2022-11-22T12:49:29.988Z"
   },
   {
    "duration": 4,
    "start_time": "2022-11-22T12:49:30.391Z"
   },
   {
    "duration": 53,
    "start_time": "2022-11-22T12:49:30.589Z"
   },
   {
    "duration": 7,
    "start_time": "2022-11-22T12:49:30.774Z"
   },
   {
    "duration": 9,
    "start_time": "2022-11-22T12:49:30.998Z"
   },
   {
    "duration": 5,
    "start_time": "2022-11-22T12:49:31.632Z"
   },
   {
    "duration": 3,
    "start_time": "2022-11-22T12:49:32.050Z"
   },
   {
    "duration": 8,
    "start_time": "2022-11-22T12:49:32.242Z"
   },
   {
    "duration": 232,
    "start_time": "2022-11-22T12:49:33.474Z"
   },
   {
    "duration": 11,
    "start_time": "2022-11-22T12:49:33.708Z"
   },
   {
    "duration": 9,
    "start_time": "2022-11-22T12:49:34.160Z"
   },
   {
    "duration": 79,
    "start_time": "2022-11-22T12:49:35.550Z"
   },
   {
    "duration": 9,
    "start_time": "2022-11-22T12:50:25.276Z"
   },
   {
    "duration": 22,
    "start_time": "2022-11-22T12:50:26.352Z"
   },
   {
    "duration": 13,
    "start_time": "2022-11-22T12:50:28.189Z"
   },
   {
    "duration": 7,
    "start_time": "2022-11-22T12:51:29.131Z"
   },
   {
    "duration": 19,
    "start_time": "2022-11-22T12:51:29.869Z"
   },
   {
    "duration": 18,
    "start_time": "2022-11-22T12:51:32.278Z"
   },
   {
    "duration": 185,
    "start_time": "2022-11-22T12:52:06.117Z"
   },
   {
    "duration": 16,
    "start_time": "2022-11-22T12:52:07.189Z"
   },
   {
    "duration": 257,
    "start_time": "2022-11-22T12:52:42.065Z"
   },
   {
    "duration": 302,
    "start_time": "2022-11-22T12:52:54.055Z"
   },
   {
    "duration": 257,
    "start_time": "2022-11-22T12:53:07.253Z"
   },
   {
    "duration": 43,
    "start_time": "2022-11-22T13:00:30.285Z"
   },
   {
    "duration": 18,
    "start_time": "2022-11-22T13:00:45.786Z"
   },
   {
    "duration": 17,
    "start_time": "2022-11-22T13:01:12.852Z"
   },
   {
    "duration": 16,
    "start_time": "2022-11-22T13:01:18.041Z"
   },
   {
    "duration": 27,
    "start_time": "2022-11-22T13:01:29.370Z"
   },
   {
    "duration": 26,
    "start_time": "2022-11-22T13:01:55.227Z"
   },
   {
    "duration": 23,
    "start_time": "2022-11-22T13:02:57.011Z"
   },
   {
    "duration": 528,
    "start_time": "2022-11-22T15:59:52.974Z"
   },
   {
    "duration": 24,
    "start_time": "2022-11-22T15:59:53.505Z"
   },
   {
    "duration": 14,
    "start_time": "2022-11-22T15:59:53.987Z"
   },
   {
    "duration": 1164,
    "start_time": "2022-11-22T15:59:54.484Z"
   },
   {
    "duration": 34,
    "start_time": "2022-11-22T15:59:55.651Z"
   },
   {
    "duration": 18,
    "start_time": "2022-11-22T15:59:55.741Z"
   },
   {
    "duration": 3,
    "start_time": "2022-11-22T15:59:56.958Z"
   },
   {
    "duration": 4,
    "start_time": "2022-11-22T15:59:59.075Z"
   },
   {
    "duration": 15,
    "start_time": "2022-11-22T16:00:01.084Z"
   },
   {
    "duration": 7,
    "start_time": "2022-11-22T16:00:01.781Z"
   },
   {
    "duration": 88,
    "start_time": "2022-11-22T16:00:02.914Z"
   },
   {
    "duration": 10,
    "start_time": "2022-11-22T16:00:04.160Z"
   },
   {
    "duration": 8,
    "start_time": "2022-11-22T16:00:04.843Z"
   },
   {
    "duration": 6,
    "start_time": "2022-11-22T16:00:05.421Z"
   },
   {
    "duration": 5,
    "start_time": "2022-11-22T16:00:08.581Z"
   },
   {
    "duration": 6,
    "start_time": "2022-11-22T16:00:09.414Z"
   },
   {
    "duration": 8,
    "start_time": "2022-11-22T16:00:19.803Z"
   },
   {
    "duration": 20,
    "start_time": "2022-11-22T16:00:20.767Z"
   },
   {
    "duration": 7,
    "start_time": "2022-11-22T16:00:21.279Z"
   },
   {
    "duration": 8,
    "start_time": "2022-11-22T16:00:21.855Z"
   },
   {
    "duration": 6,
    "start_time": "2022-11-22T16:00:22.468Z"
   },
   {
    "duration": 6,
    "start_time": "2022-11-22T16:00:22.912Z"
   },
   {
    "duration": 20,
    "start_time": "2022-11-22T16:00:24.062Z"
   },
   {
    "duration": 6,
    "start_time": "2022-11-22T16:00:24.638Z"
   },
   {
    "duration": 15,
    "start_time": "2022-11-22T16:00:25.122Z"
   },
   {
    "duration": 8,
    "start_time": "2022-11-22T16:00:25.794Z"
   },
   {
    "duration": 4,
    "start_time": "2022-11-22T16:00:27.338Z"
   },
   {
    "duration": 60,
    "start_time": "2022-11-22T16:00:29.790Z"
   },
   {
    "duration": 11,
    "start_time": "2022-11-22T16:00:30.556Z"
   },
   {
    "duration": 10,
    "start_time": "2022-11-22T16:00:31.212Z"
   },
   {
    "duration": 6,
    "start_time": "2022-11-22T16:00:34.527Z"
   },
   {
    "duration": 5,
    "start_time": "2022-11-22T16:00:36.191Z"
   },
   {
    "duration": 11,
    "start_time": "2022-11-22T16:00:36.763Z"
   },
   {
    "duration": 511,
    "start_time": "2022-11-22T16:01:42.545Z"
   },
   {
    "duration": 17,
    "start_time": "2022-11-22T16:01:43.059Z"
   },
   {
    "duration": 15,
    "start_time": "2022-11-22T16:01:43.562Z"
   },
   {
    "duration": 699,
    "start_time": "2022-11-22T16:01:45.607Z"
   },
   {
    "duration": 35,
    "start_time": "2022-11-22T16:01:47.097Z"
   },
   {
    "duration": 16,
    "start_time": "2022-11-22T16:01:53.305Z"
   },
   {
    "duration": 2,
    "start_time": "2022-11-22T16:01:55.316Z"
   },
   {
    "duration": 4,
    "start_time": "2022-11-22T16:01:57.416Z"
   },
   {
    "duration": 11,
    "start_time": "2022-11-22T16:02:00.971Z"
   },
   {
    "duration": 7,
    "start_time": "2022-11-22T16:02:01.798Z"
   },
   {
    "duration": 21,
    "start_time": "2022-11-22T16:02:19.027Z"
   },
   {
    "duration": 11,
    "start_time": "2022-11-22T16:02:20.641Z"
   },
   {
    "duration": 6,
    "start_time": "2022-11-22T16:02:21.686Z"
   },
   {
    "duration": 7,
    "start_time": "2022-11-22T16:02:25.684Z"
   },
   {
    "duration": 5,
    "start_time": "2022-11-22T16:02:27.814Z"
   },
   {
    "duration": 12,
    "start_time": "2022-11-22T16:04:28.384Z"
   },
   {
    "duration": 61,
    "start_time": "2022-11-22T16:04:37.059Z"
   },
   {
    "duration": 17,
    "start_time": "2022-11-22T16:04:37.542Z"
   },
   {
    "duration": 14,
    "start_time": "2022-11-22T16:04:38.116Z"
   },
   {
    "duration": 756,
    "start_time": "2022-11-22T16:04:38.676Z"
   },
   {
    "duration": 30,
    "start_time": "2022-11-22T16:04:39.433Z"
   },
   {
    "duration": 15,
    "start_time": "2022-11-22T16:04:39.903Z"
   },
   {
    "duration": 3,
    "start_time": "2022-11-22T16:04:41.348Z"
   },
   {
    "duration": 4,
    "start_time": "2022-11-22T16:04:43.227Z"
   },
   {
    "duration": 10,
    "start_time": "2022-11-22T16:04:43.975Z"
   },
   {
    "duration": 7,
    "start_time": "2022-11-22T16:04:45.567Z"
   },
   {
    "duration": 18,
    "start_time": "2022-11-22T16:04:46.533Z"
   },
   {
    "duration": 9,
    "start_time": "2022-11-22T16:04:47.915Z"
   },
   {
    "duration": 5,
    "start_time": "2022-11-22T16:04:48.396Z"
   },
   {
    "duration": 25,
    "start_time": "2022-11-22T16:04:49.066Z"
   },
   {
    "duration": 9,
    "start_time": "2022-11-22T16:17:43.749Z"
   },
   {
    "duration": 6,
    "start_time": "2022-11-22T16:17:45.152Z"
   },
   {
    "duration": 9,
    "start_time": "2022-11-22T16:17:46.196Z"
   },
   {
    "duration": 8,
    "start_time": "2022-11-22T16:17:47.534Z"
   },
   {
    "duration": 7,
    "start_time": "2022-11-22T16:17:48.621Z"
   },
   {
    "duration": 7,
    "start_time": "2022-11-22T16:17:49.650Z"
   },
   {
    "duration": 6,
    "start_time": "2022-11-22T16:17:51.047Z"
   },
   {
    "duration": 6,
    "start_time": "2022-11-22T16:17:51.812Z"
   },
   {
    "duration": 18,
    "start_time": "2022-11-22T16:17:53.806Z"
   },
   {
    "duration": 6,
    "start_time": "2022-11-22T16:17:55.147Z"
   },
   {
    "duration": 14,
    "start_time": "2022-11-22T16:18:06.320Z"
   },
   {
    "duration": 10,
    "start_time": "2022-11-22T16:18:08.455Z"
   },
   {
    "duration": 4,
    "start_time": "2022-11-22T16:18:19.708Z"
   },
   {
    "duration": 79,
    "start_time": "2022-11-22T16:18:20.457Z"
   },
   {
    "duration": 8,
    "start_time": "2022-11-22T16:18:21.293Z"
   },
   {
    "duration": 10,
    "start_time": "2022-11-22T16:18:22.168Z"
   },
   {
    "duration": 5,
    "start_time": "2022-11-22T16:18:26.019Z"
   },
   {
    "duration": 3,
    "start_time": "2022-11-22T16:18:38.996Z"
   },
   {
    "duration": 9,
    "start_time": "2022-11-22T16:18:39.648Z"
   },
   {
    "duration": 312,
    "start_time": "2022-11-22T16:18:54.186Z"
   },
   {
    "duration": 223,
    "start_time": "2022-11-22T16:19:17.094Z"
   },
   {
    "duration": 235,
    "start_time": "2022-11-22T16:19:28.726Z"
   },
   {
    "duration": 214,
    "start_time": "2022-11-22T16:19:51.612Z"
   },
   {
    "duration": 222,
    "start_time": "2022-11-22T16:20:05.767Z"
   },
   {
    "duration": 12,
    "start_time": "2022-11-22T16:21:06.477Z"
   },
   {
    "duration": 9,
    "start_time": "2022-11-22T16:21:07.539Z"
   },
   {
    "duration": 9,
    "start_time": "2022-11-22T16:22:09.215Z"
   },
   {
    "duration": 280,
    "start_time": "2022-11-22T16:22:10.648Z"
   },
   {
    "duration": 32,
    "start_time": "2022-11-22T16:22:54.910Z"
   },
   {
    "duration": 8,
    "start_time": "2022-11-22T16:24:45.064Z"
   },
   {
    "duration": 379,
    "start_time": "2022-11-22T16:24:45.670Z"
   },
   {
    "duration": 127,
    "start_time": "2022-11-22T16:26:17.994Z"
   },
   {
    "duration": 196,
    "start_time": "2022-11-22T16:26:23.674Z"
   },
   {
    "duration": 9,
    "start_time": "2022-11-22T16:28:07.520Z"
   },
   {
    "duration": 6,
    "start_time": "2022-11-22T16:29:09.553Z"
   },
   {
    "duration": 7,
    "start_time": "2022-11-22T16:29:10.146Z"
   },
   {
    "duration": 10,
    "start_time": "2022-11-22T16:29:10.575Z"
   },
   {
    "duration": 8,
    "start_time": "2022-11-22T16:29:10.737Z"
   },
   {
    "duration": 8,
    "start_time": "2022-11-22T16:29:10.915Z"
   },
   {
    "duration": 8,
    "start_time": "2022-11-22T16:29:11.079Z"
   },
   {
    "duration": 6,
    "start_time": "2022-11-22T16:29:11.261Z"
   },
   {
    "duration": 6,
    "start_time": "2022-11-22T16:29:11.446Z"
   },
   {
    "duration": 5,
    "start_time": "2022-11-22T16:29:11.817Z"
   },
   {
    "duration": 7,
    "start_time": "2022-11-22T16:29:11.984Z"
   },
   {
    "duration": 16,
    "start_time": "2022-11-22T16:29:12.165Z"
   },
   {
    "duration": 10,
    "start_time": "2022-11-22T16:29:12.343Z"
   },
   {
    "duration": 4,
    "start_time": "2022-11-22T16:29:12.717Z"
   },
   {
    "duration": 60,
    "start_time": "2022-11-22T16:29:12.913Z"
   },
   {
    "duration": 9,
    "start_time": "2022-11-22T16:29:13.100Z"
   },
   {
    "duration": 16,
    "start_time": "2022-11-22T16:29:13.346Z"
   },
   {
    "duration": 5,
    "start_time": "2022-11-22T16:29:13.725Z"
   },
   {
    "duration": 3,
    "start_time": "2022-11-22T16:29:14.115Z"
   },
   {
    "duration": 12,
    "start_time": "2022-11-22T16:29:14.298Z"
   },
   {
    "duration": 229,
    "start_time": "2022-11-22T16:29:14.497Z"
   },
   {
    "duration": 13,
    "start_time": "2022-11-22T16:29:14.898Z"
   },
   {
    "duration": 10,
    "start_time": "2022-11-22T16:29:15.126Z"
   },
   {
    "duration": 9,
    "start_time": "2022-11-22T16:29:15.524Z"
   },
   {
    "duration": 264,
    "start_time": "2022-11-22T16:29:15.723Z"
   },
   {
    "duration": 10,
    "start_time": "2022-11-22T16:29:15.989Z"
   },
   {
    "duration": 10,
    "start_time": "2022-11-22T16:29:20.668Z"
   },
   {
    "duration": 2023,
    "start_time": "2022-11-22T18:29:03.144Z"
   },
   {
    "duration": 37,
    "start_time": "2022-11-22T18:29:05.169Z"
   },
   {
    "duration": 30,
    "start_time": "2022-11-22T18:29:05.208Z"
   },
   {
    "duration": 802,
    "start_time": "2022-11-22T18:29:05.247Z"
   },
   {
    "duration": 33,
    "start_time": "2022-11-22T18:29:06.051Z"
   },
   {
    "duration": 34,
    "start_time": "2022-11-22T18:29:06.087Z"
   },
   {
    "duration": 24,
    "start_time": "2022-11-22T18:29:06.128Z"
   },
   {
    "duration": 6,
    "start_time": "2022-11-22T18:29:06.153Z"
   },
   {
    "duration": 14,
    "start_time": "2022-11-22T18:29:06.161Z"
   },
   {
    "duration": 9,
    "start_time": "2022-11-22T18:29:06.178Z"
   },
   {
    "duration": 21,
    "start_time": "2022-11-22T18:29:06.189Z"
   },
   {
    "duration": 16,
    "start_time": "2022-11-22T18:29:06.212Z"
   },
   {
    "duration": 32,
    "start_time": "2022-11-22T18:29:06.229Z"
   },
   {
    "duration": 26,
    "start_time": "2022-11-22T18:29:06.262Z"
   },
   {
    "duration": 7,
    "start_time": "2022-11-22T18:29:06.291Z"
   },
   {
    "duration": 11,
    "start_time": "2022-11-22T18:29:06.604Z"
   },
   {
    "duration": 5,
    "start_time": "2022-11-22T18:29:06.796Z"
   },
   {
    "duration": 6,
    "start_time": "2022-11-22T18:29:06.982Z"
   },
   {
    "duration": 9,
    "start_time": "2022-11-22T18:29:07.174Z"
   },
   {
    "duration": 9,
    "start_time": "2022-11-22T18:29:07.366Z"
   },
   {
    "duration": 16,
    "start_time": "2022-11-22T18:29:07.521Z"
   },
   {
    "duration": 9,
    "start_time": "2022-11-22T18:29:07.712Z"
   },
   {
    "duration": 7,
    "start_time": "2022-11-22T18:29:07.892Z"
   },
   {
    "duration": 7,
    "start_time": "2022-11-22T18:29:08.060Z"
   },
   {
    "duration": 32,
    "start_time": "2022-11-22T18:29:08.440Z"
   },
   {
    "duration": 5,
    "start_time": "2022-11-22T18:29:08.609Z"
   },
   {
    "duration": 18,
    "start_time": "2022-11-22T18:29:08.799Z"
   },
   {
    "duration": 9,
    "start_time": "2022-11-22T18:29:08.985Z"
   },
   {
    "duration": 4,
    "start_time": "2022-11-22T18:29:09.360Z"
   },
   {
    "duration": 98,
    "start_time": "2022-11-22T18:29:09.562Z"
   },
   {
    "duration": 9,
    "start_time": "2022-11-22T18:29:09.752Z"
   },
   {
    "duration": 13,
    "start_time": "2022-11-22T18:29:10.047Z"
   },
   {
    "duration": 7,
    "start_time": "2022-11-22T18:29:10.452Z"
   },
   {
    "duration": 3,
    "start_time": "2022-11-22T18:29:10.871Z"
   },
   {
    "duration": 11,
    "start_time": "2022-11-22T18:29:11.053Z"
   },
   {
    "duration": 373,
    "start_time": "2022-11-22T18:29:11.251Z"
   },
   {
    "duration": 18,
    "start_time": "2022-11-22T18:29:11.749Z"
   },
   {
    "duration": 13,
    "start_time": "2022-11-22T18:29:11.954Z"
   },
   {
    "duration": 12,
    "start_time": "2022-11-22T18:29:12.406Z"
   },
   {
    "duration": 353,
    "start_time": "2022-11-22T18:29:13.654Z"
   },
   {
    "duration": 148,
    "start_time": "2022-11-22T18:29:14.324Z"
   },
   {
    "duration": 20,
    "start_time": "2022-11-22T18:29:28.296Z"
   },
   {
    "duration": 9,
    "start_time": "2022-11-22T18:29:33.790Z"
   },
   {
    "duration": 7,
    "start_time": "2022-11-22T18:30:16.255Z"
   },
   {
    "duration": 19,
    "start_time": "2022-11-22T18:30:21.717Z"
   },
   {
    "duration": 32,
    "start_time": "2022-11-22T18:31:52.811Z"
   },
   {
    "duration": 7,
    "start_time": "2022-11-22T18:31:53.404Z"
   },
   {
    "duration": 55,
    "start_time": "2022-11-22T18:32:08.787Z"
   },
   {
    "duration": 26,
    "start_time": "2022-11-22T18:32:32.624Z"
   },
   {
    "duration": 7,
    "start_time": "2022-11-22T18:32:33.362Z"
   },
   {
    "duration": 13,
    "start_time": "2022-11-22T18:32:34.304Z"
   },
   {
    "duration": 261,
    "start_time": "2022-11-22T18:33:02.107Z"
   },
   {
    "duration": 213,
    "start_time": "2022-11-22T18:33:43.205Z"
   },
   {
    "duration": 285,
    "start_time": "2022-11-22T18:34:10.788Z"
   },
   {
    "duration": 415,
    "start_time": "2022-11-22T18:34:38.276Z"
   },
   {
    "duration": 346,
    "start_time": "2022-11-22T18:34:50.477Z"
   },
   {
    "duration": 348,
    "start_time": "2022-11-22T18:34:56.466Z"
   },
   {
    "duration": 310,
    "start_time": "2022-11-22T18:35:06.707Z"
   },
   {
    "duration": 16,
    "start_time": "2022-11-22T18:36:24.155Z"
   },
   {
    "duration": 9,
    "start_time": "2022-11-22T18:36:33.354Z"
   },
   {
    "duration": 11,
    "start_time": "2022-11-22T18:36:57.278Z"
   },
   {
    "duration": 376,
    "start_time": "2022-11-22T18:37:27.658Z"
   },
   {
    "duration": 11,
    "start_time": "2022-11-22T18:37:36.176Z"
   },
   {
    "duration": 301,
    "start_time": "2022-11-22T18:37:36.798Z"
   },
   {
    "duration": 12,
    "start_time": "2022-11-22T18:37:58.093Z"
   },
   {
    "duration": 407,
    "start_time": "2022-11-22T18:38:05.674Z"
   },
   {
    "duration": 1519,
    "start_time": "2022-11-23T11:36:29.911Z"
   },
   {
    "duration": 27,
    "start_time": "2022-11-23T11:36:31.433Z"
   },
   {
    "duration": 29,
    "start_time": "2022-11-23T11:36:31.461Z"
   },
   {
    "duration": 733,
    "start_time": "2022-11-23T11:36:31.496Z"
   },
   {
    "duration": 34,
    "start_time": "2022-11-23T11:36:32.231Z"
   },
   {
    "duration": 37,
    "start_time": "2022-11-23T11:36:32.268Z"
   },
   {
    "duration": 3,
    "start_time": "2022-11-23T11:36:32.307Z"
   },
   {
    "duration": 7,
    "start_time": "2022-11-23T11:36:32.312Z"
   },
   {
    "duration": 18,
    "start_time": "2022-11-23T11:36:32.321Z"
   },
   {
    "duration": 7,
    "start_time": "2022-11-23T11:36:32.341Z"
   },
   {
    "duration": 47,
    "start_time": "2022-11-23T11:36:32.350Z"
   },
   {
    "duration": 9,
    "start_time": "2022-11-23T11:36:33.146Z"
   },
   {
    "duration": 6,
    "start_time": "2022-11-23T11:36:33.308Z"
   },
   {
    "duration": 22,
    "start_time": "2022-11-23T11:36:33.479Z"
   },
   {
    "duration": 5,
    "start_time": "2022-11-23T11:36:33.667Z"
   },
   {
    "duration": 9,
    "start_time": "2022-11-23T11:36:34.126Z"
   },
   {
    "duration": 5,
    "start_time": "2022-11-23T11:36:34.632Z"
   },
   {
    "duration": 6,
    "start_time": "2022-11-23T11:36:34.838Z"
   },
   {
    "duration": 8,
    "start_time": "2022-11-23T11:36:35.005Z"
   },
   {
    "duration": 8,
    "start_time": "2022-11-23T11:36:35.203Z"
   },
   {
    "duration": 7,
    "start_time": "2022-11-23T11:36:35.441Z"
   },
   {
    "duration": 8,
    "start_time": "2022-11-23T11:36:35.634Z"
   },
   {
    "duration": 6,
    "start_time": "2022-11-23T11:36:35.820Z"
   },
   {
    "duration": 6,
    "start_time": "2022-11-23T11:36:36.018Z"
   },
   {
    "duration": 25,
    "start_time": "2022-11-23T11:36:36.453Z"
   },
   {
    "duration": 7,
    "start_time": "2022-11-23T11:36:36.605Z"
   },
   {
    "duration": 14,
    "start_time": "2022-11-23T11:36:36.830Z"
   },
   {
    "duration": 7,
    "start_time": "2022-11-23T11:36:37.309Z"
   },
   {
    "duration": 3,
    "start_time": "2022-11-23T11:36:38.566Z"
   },
   {
    "duration": 64,
    "start_time": "2022-11-23T11:36:39.180Z"
   },
   {
    "duration": 8,
    "start_time": "2022-11-23T11:36:39.747Z"
   },
   {
    "duration": 14,
    "start_time": "2022-11-23T11:36:40.292Z"
   },
   {
    "duration": 6,
    "start_time": "2022-11-23T11:36:40.819Z"
   },
   {
    "duration": 3,
    "start_time": "2022-11-23T11:36:42.119Z"
   },
   {
    "duration": 9,
    "start_time": "2022-11-23T11:36:42.574Z"
   },
   {
    "duration": 257,
    "start_time": "2022-11-23T11:36:43.146Z"
   },
   {
    "duration": 14,
    "start_time": "2022-11-23T11:36:49.848Z"
   },
   {
    "duration": 9,
    "start_time": "2022-11-23T11:36:51.189Z"
   },
   {
    "duration": 14,
    "start_time": "2022-11-23T11:36:52.706Z"
   },
   {
    "duration": 329,
    "start_time": "2022-11-23T11:36:53.933Z"
   },
   {
    "duration": 16,
    "start_time": "2022-11-23T11:36:55.408Z"
   },
   {
    "duration": 7,
    "start_time": "2022-11-23T11:36:56.914Z"
   },
   {
    "duration": 16,
    "start_time": "2022-11-23T11:36:57.929Z"
   },
   {
    "duration": 287,
    "start_time": "2022-11-23T11:36:59.020Z"
   },
   {
    "duration": 6,
    "start_time": "2022-11-23T11:37:32.245Z"
   },
   {
    "duration": 282,
    "start_time": "2022-11-23T11:37:33.444Z"
   },
   {
    "duration": 28,
    "start_time": "2022-11-23T11:38:09.770Z"
   },
   {
    "duration": 8,
    "start_time": "2022-11-23T11:44:14.704Z"
   },
   {
    "duration": 24,
    "start_time": "2022-11-23T11:44:18.846Z"
   },
   {
    "duration": 14,
    "start_time": "2022-11-23T11:44:32.159Z"
   },
   {
    "duration": 19,
    "start_time": "2022-11-23T11:47:47.455Z"
   },
   {
    "duration": 8,
    "start_time": "2022-11-23T11:52:25.610Z"
   },
   {
    "duration": 356,
    "start_time": "2022-11-23T11:52:55.711Z"
   },
   {
    "duration": 8,
    "start_time": "2022-11-23T12:01:11.211Z"
   },
   {
    "duration": 300,
    "start_time": "2022-11-23T12:01:12.130Z"
   },
   {
    "duration": 121,
    "start_time": "2022-11-23T12:05:56.437Z"
   },
   {
    "duration": 334,
    "start_time": "2022-11-23T12:06:07.301Z"
   },
   {
    "duration": 316,
    "start_time": "2022-11-23T12:06:28.105Z"
   },
   {
    "duration": 136,
    "start_time": "2022-11-23T12:07:23.847Z"
   },
   {
    "duration": 339,
    "start_time": "2022-11-23T12:07:30.268Z"
   },
   {
    "duration": 237,
    "start_time": "2022-11-23T12:08:30.630Z"
   },
   {
    "duration": 238,
    "start_time": "2022-11-23T12:10:06.131Z"
   },
   {
    "duration": 133,
    "start_time": "2022-11-23T12:10:12.187Z"
   },
   {
    "duration": 255,
    "start_time": "2022-11-23T12:10:17.773Z"
   },
   {
    "duration": 231,
    "start_time": "2022-11-23T12:23:22.383Z"
   },
   {
    "duration": 223,
    "start_time": "2022-11-23T12:23:33.443Z"
   },
   {
    "duration": 246,
    "start_time": "2022-11-23T12:23:44.775Z"
   },
   {
    "duration": 355,
    "start_time": "2022-11-23T12:23:54.894Z"
   },
   {
    "duration": 250,
    "start_time": "2022-11-23T12:24:17.538Z"
   },
   {
    "duration": 253,
    "start_time": "2022-11-23T12:24:28.320Z"
   },
   {
    "duration": 249,
    "start_time": "2022-11-23T12:24:50.122Z"
   },
   {
    "duration": 269,
    "start_time": "2022-11-23T12:27:04.449Z"
   },
   {
    "duration": 326,
    "start_time": "2022-11-23T12:27:19.016Z"
   },
   {
    "duration": 404,
    "start_time": "2022-11-23T12:27:33.972Z"
   },
   {
    "duration": 294,
    "start_time": "2022-11-23T12:27:40.464Z"
   },
   {
    "duration": 268,
    "start_time": "2022-11-23T12:27:54.373Z"
   },
   {
    "duration": 274,
    "start_time": "2022-11-23T12:30:58.149Z"
   },
   {
    "duration": 269,
    "start_time": "2022-11-23T12:31:06.992Z"
   },
   {
    "duration": 489,
    "start_time": "2022-11-23T12:31:38.549Z"
   },
   {
    "duration": 337,
    "start_time": "2022-11-23T12:32:01.879Z"
   },
   {
    "duration": 447,
    "start_time": "2022-11-23T12:33:15.856Z"
   },
   {
    "duration": 414,
    "start_time": "2022-11-23T12:33:22.885Z"
   },
   {
    "duration": 406,
    "start_time": "2022-11-23T12:33:33.923Z"
   },
   {
    "duration": 29,
    "start_time": "2022-11-23T13:01:15.092Z"
   },
   {
    "duration": 14,
    "start_time": "2022-11-23T13:02:10.825Z"
   },
   {
    "duration": 503,
    "start_time": "2022-11-23T13:02:25.718Z"
   },
   {
    "duration": 22,
    "start_time": "2022-11-23T13:05:44.150Z"
   },
   {
    "duration": 8,
    "start_time": "2022-11-23T13:05:51.939Z"
   },
   {
    "duration": 17,
    "start_time": "2022-11-23T13:06:18.095Z"
   },
   {
    "duration": 7,
    "start_time": "2022-11-23T13:06:45.607Z"
   },
   {
    "duration": 17,
    "start_time": "2022-11-23T13:07:00.261Z"
   },
   {
    "duration": 57,
    "start_time": "2022-11-23T13:07:13.557Z"
   },
   {
    "duration": 7,
    "start_time": "2022-11-23T13:08:41.044Z"
   },
   {
    "duration": 7,
    "start_time": "2022-11-23T13:09:40.406Z"
   },
   {
    "duration": 7,
    "start_time": "2022-11-23T13:10:00.512Z"
   },
   {
    "duration": 6,
    "start_time": "2022-11-23T13:10:01.017Z"
   },
   {
    "duration": 14,
    "start_time": "2022-11-23T13:10:12.091Z"
   },
   {
    "duration": 5,
    "start_time": "2022-11-23T13:10:13.277Z"
   },
   {
    "duration": 6,
    "start_time": "2022-11-23T13:10:21.708Z"
   },
   {
    "duration": 5,
    "start_time": "2022-11-23T13:10:22.856Z"
   },
   {
    "duration": 6,
    "start_time": "2022-11-23T13:10:33.348Z"
   },
   {
    "duration": 7,
    "start_time": "2022-11-23T13:10:34.661Z"
   },
   {
    "duration": 8,
    "start_time": "2022-11-23T13:10:44.147Z"
   },
   {
    "duration": 5,
    "start_time": "2022-11-23T13:10:44.867Z"
   },
   {
    "duration": 6,
    "start_time": "2022-11-23T13:11:54.664Z"
   },
   {
    "duration": 6,
    "start_time": "2022-11-23T13:12:05.522Z"
   },
   {
    "duration": 7,
    "start_time": "2022-11-23T13:12:06.114Z"
   },
   {
    "duration": 6,
    "start_time": "2022-11-23T13:12:16.754Z"
   },
   {
    "duration": 6,
    "start_time": "2022-11-23T13:12:17.328Z"
   },
   {
    "duration": 7,
    "start_time": "2022-11-23T13:14:11.828Z"
   },
   {
    "duration": 6,
    "start_time": "2022-11-23T13:14:12.321Z"
   },
   {
    "duration": 5,
    "start_time": "2022-11-23T13:21:03.061Z"
   },
   {
    "duration": 15,
    "start_time": "2022-11-23T13:21:08.514Z"
   },
   {
    "duration": 9,
    "start_time": "2022-11-23T13:21:57.126Z"
   },
   {
    "duration": 7,
    "start_time": "2022-11-23T13:22:00.091Z"
   },
   {
    "duration": 11,
    "start_time": "2022-11-23T13:22:00.637Z"
   },
   {
    "duration": 6,
    "start_time": "2022-11-23T13:22:13.949Z"
   },
   {
    "duration": 18,
    "start_time": "2022-11-23T13:22:14.406Z"
   },
   {
    "duration": 8,
    "start_time": "2022-11-23T13:22:39.053Z"
   },
   {
    "duration": 15,
    "start_time": "2022-11-23T13:22:39.661Z"
   },
   {
    "duration": 15,
    "start_time": "2022-11-23T13:23:31.486Z"
   },
   {
    "duration": 6,
    "start_time": "2022-11-23T13:23:35.834Z"
   },
   {
    "duration": 11,
    "start_time": "2022-11-23T13:23:36.490Z"
   },
   {
    "duration": 7,
    "start_time": "2022-11-23T13:24:19.918Z"
   },
   {
    "duration": 10,
    "start_time": "2022-11-23T13:24:20.428Z"
   },
   {
    "duration": 8,
    "start_time": "2022-11-23T13:25:26.482Z"
   },
   {
    "duration": 13,
    "start_time": "2022-11-23T13:25:27.026Z"
   },
   {
    "duration": 7,
    "start_time": "2022-11-23T13:25:28.221Z"
   },
   {
    "duration": 11,
    "start_time": "2022-11-23T13:25:39.521Z"
   },
   {
    "duration": 11,
    "start_time": "2022-11-23T13:25:40.064Z"
   },
   {
    "duration": 6,
    "start_time": "2022-11-23T13:25:50.128Z"
   },
   {
    "duration": 10,
    "start_time": "2022-11-23T13:25:50.732Z"
   },
   {
    "duration": 11,
    "start_time": "2022-11-23T13:25:59.719Z"
   },
   {
    "duration": 16,
    "start_time": "2022-11-23T13:26:00.305Z"
   },
   {
    "duration": 10,
    "start_time": "2022-11-23T13:26:08.796Z"
   },
   {
    "duration": 11,
    "start_time": "2022-11-23T13:26:09.436Z"
   },
   {
    "duration": 6,
    "start_time": "2022-11-23T13:26:16.840Z"
   },
   {
    "duration": 11,
    "start_time": "2022-11-23T13:26:18.242Z"
   },
   {
    "duration": 16,
    "start_time": "2022-11-23T13:26:24.413Z"
   },
   {
    "duration": 12,
    "start_time": "2022-11-23T13:26:24.972Z"
   },
   {
    "duration": 150,
    "start_time": "2022-11-23T13:42:26.409Z"
   },
   {
    "duration": 181,
    "start_time": "2022-11-23T13:42:48.237Z"
   },
   {
    "duration": 261,
    "start_time": "2022-11-23T13:42:58.025Z"
   },
   {
    "duration": 135,
    "start_time": "2022-11-23T13:42:58.728Z"
   },
   {
    "duration": 28,
    "start_time": "2022-11-23T13:45:50.347Z"
   },
   {
    "duration": 31,
    "start_time": "2022-11-23T13:46:39.073Z"
   },
   {
    "duration": 26,
    "start_time": "2022-11-23T13:46:48.330Z"
   },
   {
    "duration": 42,
    "start_time": "2022-11-23T13:46:58.004Z"
   },
   {
    "duration": 39,
    "start_time": "2022-11-23T13:47:06.709Z"
   },
   {
    "duration": 27,
    "start_time": "2022-11-23T13:47:17.721Z"
   },
   {
    "duration": 36,
    "start_time": "2022-11-23T13:47:27.972Z"
   },
   {
    "duration": 40,
    "start_time": "2022-11-23T13:47:36.654Z"
   },
   {
    "duration": 35,
    "start_time": "2022-11-23T13:47:56.151Z"
   },
   {
    "duration": 16,
    "start_time": "2022-11-23T13:50:30.879Z"
   },
   {
    "duration": 9,
    "start_time": "2022-11-23T13:50:35.358Z"
   },
   {
    "duration": 35,
    "start_time": "2022-11-23T13:51:12.014Z"
   },
   {
    "duration": 30,
    "start_time": "2022-11-23T13:51:19.689Z"
   },
   {
    "duration": 12,
    "start_time": "2022-11-23T13:51:49.328Z"
   },
   {
    "duration": 12,
    "start_time": "2022-11-23T13:52:25.882Z"
   },
   {
    "duration": 13,
    "start_time": "2022-11-23T13:52:32.129Z"
   },
   {
    "duration": 13,
    "start_time": "2022-11-23T13:53:04.601Z"
   },
   {
    "duration": 12,
    "start_time": "2022-11-23T13:53:05.943Z"
   },
   {
    "duration": 217,
    "start_time": "2022-11-23T13:54:32.032Z"
   },
   {
    "duration": 260,
    "start_time": "2022-11-23T13:55:18.928Z"
   },
   {
    "duration": 290,
    "start_time": "2022-11-23T13:55:25.044Z"
   },
   {
    "duration": 284,
    "start_time": "2022-11-23T13:55:32.688Z"
   },
   {
    "duration": 257,
    "start_time": "2022-11-23T13:55:37.796Z"
   },
   {
    "duration": 236,
    "start_time": "2022-11-23T13:55:45.347Z"
   },
   {
    "duration": 234,
    "start_time": "2022-11-23T13:55:52.431Z"
   },
   {
    "duration": 249,
    "start_time": "2022-11-23T13:55:58.427Z"
   },
   {
    "duration": 615,
    "start_time": "2022-11-23T14:06:36.633Z"
   },
   {
    "duration": 533,
    "start_time": "2022-11-23T14:07:25.891Z"
   },
   {
    "duration": 419,
    "start_time": "2022-11-23T14:07:59.080Z"
   },
   {
    "duration": 515,
    "start_time": "2022-11-23T14:08:04.966Z"
   },
   {
    "duration": 1384,
    "start_time": "2022-11-23T17:26:16.870Z"
   },
   {
    "duration": 18,
    "start_time": "2022-11-23T17:26:18.256Z"
   },
   {
    "duration": 13,
    "start_time": "2022-11-23T17:26:18.275Z"
   },
   {
    "duration": 636,
    "start_time": "2022-11-23T17:26:18.289Z"
   },
   {
    "duration": 36,
    "start_time": "2022-11-23T17:26:18.927Z"
   },
   {
    "duration": 14,
    "start_time": "2022-11-23T17:26:18.964Z"
   },
   {
    "duration": 5,
    "start_time": "2022-11-23T17:26:18.979Z"
   },
   {
    "duration": 4,
    "start_time": "2022-11-23T17:26:19.109Z"
   },
   {
    "duration": 9,
    "start_time": "2022-11-23T17:26:55.920Z"
   },
   {
    "duration": 6,
    "start_time": "2022-11-23T17:26:56.090Z"
   },
   {
    "duration": 16,
    "start_time": "2022-11-23T17:26:56.248Z"
   },
   {
    "duration": 10,
    "start_time": "2022-11-23T17:26:56.569Z"
   },
   {
    "duration": 6,
    "start_time": "2022-11-23T17:26:56.727Z"
   },
   {
    "duration": 22,
    "start_time": "2022-11-23T17:26:56.906Z"
   },
   {
    "duration": 5,
    "start_time": "2022-11-23T17:26:57.055Z"
   },
   {
    "duration": 8,
    "start_time": "2022-11-23T17:26:57.441Z"
   },
   {
    "duration": 5,
    "start_time": "2022-11-23T17:26:57.655Z"
   },
   {
    "duration": 5,
    "start_time": "2022-11-23T17:26:57.841Z"
   },
   {
    "duration": 7,
    "start_time": "2022-11-23T17:26:58.019Z"
   },
   {
    "duration": 7,
    "start_time": "2022-11-23T17:26:58.206Z"
   },
   {
    "duration": 7,
    "start_time": "2022-11-23T17:26:58.398Z"
   },
   {
    "duration": 8,
    "start_time": "2022-11-23T17:26:58.612Z"
   },
   {
    "duration": 6,
    "start_time": "2022-11-23T17:26:58.791Z"
   },
   {
    "duration": 6,
    "start_time": "2022-11-23T17:26:58.983Z"
   },
   {
    "duration": 19,
    "start_time": "2022-11-23T17:26:59.383Z"
   },
   {
    "duration": 6,
    "start_time": "2022-11-23T17:26:59.584Z"
   },
   {
    "duration": 15,
    "start_time": "2022-11-23T17:26:59.798Z"
   },
   {
    "duration": 7,
    "start_time": "2022-11-23T17:27:00.014Z"
   },
   {
    "duration": 3,
    "start_time": "2022-11-23T17:27:00.441Z"
   },
   {
    "duration": 60,
    "start_time": "2022-11-23T17:27:00.655Z"
   },
   {
    "duration": 7,
    "start_time": "2022-11-23T17:27:00.883Z"
   },
   {
    "duration": 11,
    "start_time": "2022-11-23T17:27:01.121Z"
   },
   {
    "duration": 6,
    "start_time": "2022-11-23T17:27:01.526Z"
   },
   {
    "duration": 2,
    "start_time": "2022-11-23T17:27:01.948Z"
   },
   {
    "duration": 8,
    "start_time": "2022-11-23T17:27:02.184Z"
   },
   {
    "duration": 262,
    "start_time": "2022-11-23T17:27:02.404Z"
   },
   {
    "duration": 17,
    "start_time": "2022-11-23T17:27:02.833Z"
   },
   {
    "duration": 12,
    "start_time": "2022-11-23T17:27:03.062Z"
   },
   {
    "duration": 9,
    "start_time": "2022-11-23T17:27:04.026Z"
   },
   {
    "duration": 283,
    "start_time": "2022-11-23T17:27:04.614Z"
   },
   {
    "duration": 17,
    "start_time": "2022-11-23T17:27:05.250Z"
   },
   {
    "duration": 6,
    "start_time": "2022-11-23T17:27:05.943Z"
   },
   {
    "duration": 5,
    "start_time": "2022-11-23T17:27:06.535Z"
   },
   {
    "duration": 9,
    "start_time": "2022-11-23T17:27:07.121Z"
   },
   {
    "duration": 281,
    "start_time": "2022-11-23T17:27:07.871Z"
   },
   {
    "duration": 6,
    "start_time": "2022-11-23T17:27:10.637Z"
   },
   {
    "duration": 18,
    "start_time": "2022-11-23T17:27:11.402Z"
   },
   {
    "duration": 15,
    "start_time": "2022-11-23T17:27:12.282Z"
   },
   {
    "duration": 9,
    "start_time": "2022-11-23T17:27:13.571Z"
   },
   {
    "duration": 283,
    "start_time": "2022-11-23T17:27:14.254Z"
   },
   {
    "duration": 471,
    "start_time": "2022-11-23T17:27:15.823Z"
   },
   {
    "duration": 7,
    "start_time": "2022-11-23T17:27:21.065Z"
   },
   {
    "duration": 11,
    "start_time": "2022-11-23T17:27:21.764Z"
   },
   {
    "duration": 10,
    "start_time": "2022-11-23T17:27:22.578Z"
   },
   {
    "duration": 14,
    "start_time": "2022-11-23T17:27:23.339Z"
   },
   {
    "duration": 7,
    "start_time": "2022-11-23T17:27:23.910Z"
   },
   {
    "duration": 12,
    "start_time": "2022-11-23T17:27:24.515Z"
   },
   {
    "duration": 8,
    "start_time": "2022-11-23T17:27:24.713Z"
   },
   {
    "duration": 13,
    "start_time": "2022-11-23T17:27:24.920Z"
   },
   {
    "duration": 7,
    "start_time": "2022-11-23T17:27:25.127Z"
   },
   {
    "duration": 12,
    "start_time": "2022-11-23T17:27:25.328Z"
   },
   {
    "duration": 171,
    "start_time": "2022-11-23T17:27:25.527Z"
   },
   {
    "duration": 130,
    "start_time": "2022-11-23T17:27:25.743Z"
   },
   {
    "duration": 52,
    "start_time": "2022-11-23T17:27:26.786Z"
   },
   {
    "duration": 15,
    "start_time": "2022-11-23T17:27:27.253Z"
   },
   {
    "duration": 13,
    "start_time": "2022-11-23T17:27:39.127Z"
   },
   {
    "duration": 10,
    "start_time": "2022-11-23T17:27:39.314Z"
   },
   {
    "duration": 261,
    "start_time": "2022-11-23T17:27:39.531Z"
   },
   {
    "duration": 783,
    "start_time": "2022-11-23T17:27:45.919Z"
   },
   {
    "duration": 673,
    "start_time": "2022-11-23T17:27:46.704Z"
   },
   {
    "duration": 469,
    "start_time": "2022-11-23T17:33:28.637Z"
   },
   {
    "duration": 470,
    "start_time": "2022-11-23T17:33:37.870Z"
   },
   {
    "duration": 586,
    "start_time": "2022-11-23T17:34:20.172Z"
   },
   {
    "duration": 1361,
    "start_time": "2022-11-24T16:42:13.757Z"
   },
   {
    "duration": 19,
    "start_time": "2022-11-24T16:42:15.120Z"
   },
   {
    "duration": 14,
    "start_time": "2022-11-24T16:42:15.140Z"
   },
   {
    "duration": 654,
    "start_time": "2022-11-24T16:42:15.156Z"
   },
   {
    "duration": 1516,
    "start_time": "2022-11-28T13:56:13.946Z"
   },
   {
    "duration": 20,
    "start_time": "2022-11-28T13:56:15.464Z"
   },
   {
    "duration": 15,
    "start_time": "2022-11-28T13:56:15.486Z"
   },
   {
    "duration": 679,
    "start_time": "2022-11-28T13:56:15.504Z"
   },
   {
    "duration": 38,
    "start_time": "2022-11-28T13:56:16.184Z"
   },
   {
    "duration": 15,
    "start_time": "2022-11-28T13:56:16.224Z"
   },
   {
    "duration": 2,
    "start_time": "2022-11-28T13:56:16.240Z"
   },
   {
    "duration": 6,
    "start_time": "2022-11-28T13:56:16.244Z"
   },
   {
    "duration": 11,
    "start_time": "2022-11-28T13:56:16.252Z"
   },
   {
    "duration": 8,
    "start_time": "2022-11-28T13:56:16.264Z"
   },
   {
    "duration": 16,
    "start_time": "2022-11-28T13:56:16.418Z"
   },
   {
    "duration": 8,
    "start_time": "2022-11-28T13:56:16.803Z"
   },
   {
    "duration": 5,
    "start_time": "2022-11-28T13:56:16.992Z"
   },
   {
    "duration": 22,
    "start_time": "2022-11-28T13:56:17.183Z"
   },
   {
    "duration": 4,
    "start_time": "2022-11-28T13:56:17.375Z"
   },
   {
    "duration": 8,
    "start_time": "2022-11-28T13:56:17.777Z"
   },
   {
    "duration": 4,
    "start_time": "2022-11-28T13:56:17.974Z"
   },
   {
    "duration": 5,
    "start_time": "2022-11-28T13:56:18.171Z"
   },
   {
    "duration": 6,
    "start_time": "2022-11-28T13:56:18.339Z"
   },
   {
    "duration": 7,
    "start_time": "2022-11-28T13:56:18.535Z"
   },
   {
    "duration": 6,
    "start_time": "2022-11-28T13:56:18.736Z"
   },
   {
    "duration": 7,
    "start_time": "2022-11-28T13:56:18.940Z"
   },
   {
    "duration": 6,
    "start_time": "2022-11-28T13:56:19.148Z"
   },
   {
    "duration": 5,
    "start_time": "2022-11-28T13:56:19.335Z"
   },
   {
    "duration": 18,
    "start_time": "2022-11-28T13:56:19.761Z"
   },
   {
    "duration": 6,
    "start_time": "2022-11-28T13:56:19.939Z"
   },
   {
    "duration": 13,
    "start_time": "2022-11-28T13:56:20.141Z"
   },
   {
    "duration": 7,
    "start_time": "2022-11-28T13:56:20.348Z"
   },
   {
    "duration": 4,
    "start_time": "2022-11-28T13:56:20.755Z"
   },
   {
    "duration": 59,
    "start_time": "2022-11-28T13:56:20.924Z"
   },
   {
    "duration": 8,
    "start_time": "2022-11-28T13:56:21.125Z"
   },
   {
    "duration": 10,
    "start_time": "2022-11-28T13:56:21.319Z"
   },
   {
    "duration": 7,
    "start_time": "2022-11-28T13:56:21.733Z"
   },
   {
    "duration": 3,
    "start_time": "2022-11-28T13:56:22.155Z"
   },
   {
    "duration": 8,
    "start_time": "2022-11-28T13:56:22.369Z"
   },
   {
    "duration": 216,
    "start_time": "2022-11-28T13:56:22.567Z"
   },
   {
    "duration": 13,
    "start_time": "2022-11-28T13:56:22.989Z"
   },
   {
    "duration": 9,
    "start_time": "2022-11-28T13:56:23.203Z"
   },
   {
    "duration": 9,
    "start_time": "2022-11-28T13:56:23.590Z"
   },
   {
    "duration": 362,
    "start_time": "2022-11-28T13:56:24.110Z"
   },
   {
    "duration": 16,
    "start_time": "2022-11-28T13:56:24.682Z"
   },
   {
    "duration": 7,
    "start_time": "2022-11-28T13:56:25.134Z"
   },
   {
    "duration": 5,
    "start_time": "2022-11-28T13:56:25.376Z"
   },
   {
    "duration": 10,
    "start_time": "2022-11-28T13:56:25.555Z"
   },
   {
    "duration": 303,
    "start_time": "2022-11-28T13:56:25.763Z"
   },
   {
    "duration": 7,
    "start_time": "2022-11-28T13:56:26.692Z"
   },
   {
    "duration": 13,
    "start_time": "2022-11-28T13:56:26.941Z"
   },
   {
    "duration": 16,
    "start_time": "2022-11-28T13:56:27.103Z"
   },
   {
    "duration": 7,
    "start_time": "2022-11-28T13:56:27.641Z"
   },
   {
    "duration": 288,
    "start_time": "2022-11-28T13:56:27.855Z"
   },
   {
    "duration": 437,
    "start_time": "2022-11-28T13:56:28.260Z"
   },
   {
    "duration": 7,
    "start_time": "2022-11-28T13:56:29.219Z"
   },
   {
    "duration": 10,
    "start_time": "2022-11-28T13:56:29.449Z"
   },
   {
    "duration": 6,
    "start_time": "2022-11-28T13:56:29.653Z"
   },
   {
    "duration": 11,
    "start_time": "2022-11-28T13:56:29.892Z"
   },
   {
    "duration": 6,
    "start_time": "2022-11-28T13:56:30.085Z"
   },
   {
    "duration": 11,
    "start_time": "2022-11-28T13:56:30.291Z"
   },
   {
    "duration": 7,
    "start_time": "2022-11-28T13:56:30.491Z"
   },
   {
    "duration": 12,
    "start_time": "2022-11-28T13:56:30.685Z"
   },
   {
    "duration": 7,
    "start_time": "2022-11-28T13:56:30.902Z"
   },
   {
    "duration": 10,
    "start_time": "2022-11-28T13:56:31.067Z"
   },
   {
    "duration": 131,
    "start_time": "2022-11-28T13:56:31.277Z"
   },
   {
    "duration": 132,
    "start_time": "2022-11-28T13:56:31.499Z"
   },
   {
    "duration": 12,
    "start_time": "2022-11-28T13:56:32.188Z"
   },
   {
    "duration": 9,
    "start_time": "2022-11-28T13:56:32.464Z"
   },
   {
    "duration": 199,
    "start_time": "2022-11-28T13:56:32.685Z"
   },
   {
    "duration": 594,
    "start_time": "2022-11-28T13:56:34.998Z"
   },
   {
    "duration": 489,
    "start_time": "2022-11-28T13:56:35.594Z"
   },
   {
    "duration": 80,
    "start_time": "2022-11-28T14:24:33.193Z"
   },
   {
    "duration": 77,
    "start_time": "2022-11-28T14:25:03.335Z"
   },
   {
    "duration": 74,
    "start_time": "2022-11-28T14:26:02.895Z"
   },
   {
    "duration": 74,
    "start_time": "2022-11-28T14:26:20.743Z"
   },
   {
    "duration": 98,
    "start_time": "2022-11-28T14:26:30.489Z"
   },
   {
    "duration": 72,
    "start_time": "2022-11-28T14:26:40.462Z"
   },
   {
    "duration": 93,
    "start_time": "2022-11-28T14:26:49.872Z"
   },
   {
    "duration": 49,
    "start_time": "2022-11-28T14:26:57.507Z"
   },
   {
    "duration": 20,
    "start_time": "2022-11-28T14:26:57.846Z"
   },
   {
    "duration": 15,
    "start_time": "2022-11-28T14:26:58.007Z"
   },
   {
    "duration": 658,
    "start_time": "2022-11-28T14:26:58.166Z"
   },
   {
    "duration": 31,
    "start_time": "2022-11-28T14:26:58.826Z"
   },
   {
    "duration": 14,
    "start_time": "2022-11-28T14:26:58.859Z"
   },
   {
    "duration": 8,
    "start_time": "2022-11-28T14:26:58.875Z"
   },
   {
    "duration": 3,
    "start_time": "2022-11-28T14:26:59.322Z"
   },
   {
    "duration": 9,
    "start_time": "2022-11-28T14:26:59.501Z"
   },
   {
    "duration": 6,
    "start_time": "2022-11-28T14:26:59.689Z"
   },
   {
    "duration": 18,
    "start_time": "2022-11-28T14:26:59.870Z"
   },
   {
    "duration": 10,
    "start_time": "2022-11-28T14:27:00.249Z"
   },
   {
    "duration": 6,
    "start_time": "2022-11-28T14:27:00.421Z"
   },
   {
    "duration": 23,
    "start_time": "2022-11-28T14:27:00.603Z"
   },
   {
    "duration": 7,
    "start_time": "2022-11-28T14:27:00.770Z"
   },
   {
    "duration": 9,
    "start_time": "2022-11-28T14:27:01.122Z"
   },
   {
    "duration": 4,
    "start_time": "2022-11-28T14:27:01.307Z"
   },
   {
    "duration": 6,
    "start_time": "2022-11-28T14:27:01.486Z"
   },
   {
    "duration": 6,
    "start_time": "2022-11-28T14:27:01.679Z"
   },
   {
    "duration": 8,
    "start_time": "2022-11-28T14:27:01.861Z"
   },
   {
    "duration": 7,
    "start_time": "2022-11-28T14:27:02.036Z"
   },
   {
    "duration": 8,
    "start_time": "2022-11-28T14:27:02.213Z"
   },
   {
    "duration": 7,
    "start_time": "2022-11-28T14:27:02.400Z"
   },
   {
    "duration": 6,
    "start_time": "2022-11-28T14:27:02.594Z"
   },
   {
    "duration": 19,
    "start_time": "2022-11-28T14:27:02.998Z"
   },
   {
    "duration": 6,
    "start_time": "2022-11-28T14:27:03.165Z"
   },
   {
    "duration": 16,
    "start_time": "2022-11-28T14:27:03.366Z"
   },
   {
    "duration": 7,
    "start_time": "2022-11-28T14:27:03.549Z"
   },
   {
    "duration": 4,
    "start_time": "2022-11-28T14:27:03.947Z"
   },
   {
    "duration": 69,
    "start_time": "2022-11-28T14:27:04.132Z"
   },
   {
    "duration": 7,
    "start_time": "2022-11-28T14:27:04.314Z"
   },
   {
    "duration": 10,
    "start_time": "2022-11-28T14:27:04.509Z"
   },
   {
    "duration": 6,
    "start_time": "2022-11-28T14:27:04.906Z"
   },
   {
    "duration": 3,
    "start_time": "2022-11-28T14:27:05.293Z"
   },
   {
    "duration": 9,
    "start_time": "2022-11-28T14:27:05.495Z"
   },
   {
    "duration": 244,
    "start_time": "2022-11-28T14:27:05.680Z"
   },
   {
    "duration": 14,
    "start_time": "2022-11-28T14:27:06.107Z"
   },
   {
    "duration": 10,
    "start_time": "2022-11-28T14:27:06.324Z"
   },
   {
    "duration": 10,
    "start_time": "2022-11-28T14:27:07.422Z"
   },
   {
    "duration": 365,
    "start_time": "2022-11-28T14:27:07.636Z"
   },
   {
    "duration": 26,
    "start_time": "2022-11-28T14:27:08.004Z"
   },
   {
    "duration": 6,
    "start_time": "2022-11-28T14:27:08.033Z"
   },
   {
    "duration": 5,
    "start_time": "2022-11-28T14:27:08.196Z"
   },
   {
    "duration": 10,
    "start_time": "2022-11-28T14:27:08.381Z"
   },
   {
    "duration": 283,
    "start_time": "2022-11-28T14:27:08.595Z"
   },
   {
    "duration": 6,
    "start_time": "2022-11-28T14:27:09.230Z"
   },
   {
    "duration": 13,
    "start_time": "2022-11-28T14:27:09.400Z"
   },
   {
    "duration": 16,
    "start_time": "2022-11-28T14:27:09.601Z"
   },
   {
    "duration": 7,
    "start_time": "2022-11-28T14:27:10.039Z"
   },
   {
    "duration": 279,
    "start_time": "2022-11-28T14:27:10.236Z"
   },
   {
    "duration": 364,
    "start_time": "2022-11-28T14:27:10.697Z"
   },
   {
    "duration": 7,
    "start_time": "2022-11-28T14:27:15.090Z"
   },
   {
    "duration": 10,
    "start_time": "2022-11-28T14:27:15.611Z"
   },
   {
    "duration": 6,
    "start_time": "2022-11-28T14:27:16.278Z"
   },
   {
    "duration": 10,
    "start_time": "2022-11-28T14:27:16.871Z"
   },
   {
    "duration": 7,
    "start_time": "2022-11-28T14:27:17.472Z"
   },
   {
    "duration": 10,
    "start_time": "2022-11-28T14:27:18.050Z"
   },
   {
    "duration": 7,
    "start_time": "2022-11-28T14:27:18.627Z"
   },
   {
    "duration": 11,
    "start_time": "2022-11-28T14:27:19.210Z"
   },
   {
    "duration": 7,
    "start_time": "2022-11-28T14:27:19.657Z"
   },
   {
    "duration": 11,
    "start_time": "2022-11-28T14:27:19.852Z"
   },
   {
    "duration": 136,
    "start_time": "2022-11-28T14:27:20.049Z"
   },
   {
    "duration": 130,
    "start_time": "2022-11-28T14:27:20.210Z"
   },
   {
    "duration": 11,
    "start_time": "2022-11-28T14:27:20.816Z"
   },
   {
    "duration": 9,
    "start_time": "2022-11-28T14:27:21.017Z"
   },
   {
    "duration": 205,
    "start_time": "2022-11-28T14:27:21.164Z"
   },
   {
    "duration": 544,
    "start_time": "2022-11-28T14:27:22.249Z"
   },
   {
    "duration": 460,
    "start_time": "2022-11-28T14:27:25.313Z"
   },
   {
    "duration": 77,
    "start_time": "2022-11-28T14:27:25.940Z"
   },
   {
    "duration": 101,
    "start_time": "2022-11-28T14:43:18.776Z"
   },
   {
    "duration": 275,
    "start_time": "2022-11-28T14:43:28.338Z"
   },
   {
    "duration": 186,
    "start_time": "2022-11-28T14:43:40.271Z"
   },
   {
    "duration": 196,
    "start_time": "2022-11-28T14:44:34.838Z"
   },
   {
    "duration": 30,
    "start_time": "2022-11-28T14:57:42.853Z"
   },
   {
    "duration": 38,
    "start_time": "2022-11-28T14:57:42.903Z"
   },
   {
    "duration": 16,
    "start_time": "2022-11-28T14:57:42.983Z"
   },
   {
    "duration": 760,
    "start_time": "2022-11-28T14:57:43.674Z"
   },
   {
    "duration": 30,
    "start_time": "2022-11-28T14:57:44.468Z"
   },
   {
    "duration": 17,
    "start_time": "2022-11-28T14:57:44.542Z"
   },
   {
    "duration": 5,
    "start_time": "2022-11-28T14:57:44.566Z"
   },
   {
    "duration": 9,
    "start_time": "2022-11-28T14:57:44.581Z"
   },
   {
    "duration": 11,
    "start_time": "2022-11-28T14:57:44.632Z"
   },
   {
    "duration": 12,
    "start_time": "2022-11-28T14:57:44.656Z"
   },
   {
    "duration": 47,
    "start_time": "2022-11-28T14:57:44.694Z"
   },
   {
    "duration": 14,
    "start_time": "2022-11-28T14:57:44.764Z"
   },
   {
    "duration": 32,
    "start_time": "2022-11-28T14:57:44.790Z"
   },
   {
    "duration": 29,
    "start_time": "2022-11-28T14:57:44.860Z"
   },
   {
    "duration": 29,
    "start_time": "2022-11-28T14:57:44.898Z"
   },
   {
    "duration": 15,
    "start_time": "2022-11-28T14:57:44.946Z"
   },
   {
    "duration": 6,
    "start_time": "2022-11-28T14:57:44.963Z"
   },
   {
    "duration": 11,
    "start_time": "2022-11-28T14:57:44.970Z"
   },
   {
    "duration": 10,
    "start_time": "2022-11-28T14:57:44.983Z"
   },
   {
    "duration": 32,
    "start_time": "2022-11-28T14:57:44.995Z"
   },
   {
    "duration": 11,
    "start_time": "2022-11-28T14:57:45.029Z"
   },
   {
    "duration": 15,
    "start_time": "2022-11-28T14:57:45.042Z"
   },
   {
    "duration": 13,
    "start_time": "2022-11-28T14:57:45.059Z"
   },
   {
    "duration": 10,
    "start_time": "2022-11-28T14:57:45.073Z"
   },
   {
    "duration": 41,
    "start_time": "2022-11-28T14:57:45.085Z"
   },
   {
    "duration": 6,
    "start_time": "2022-11-28T14:57:45.128Z"
   },
   {
    "duration": 17,
    "start_time": "2022-11-28T14:57:45.136Z"
   },
   {
    "duration": 9,
    "start_time": "2022-11-28T14:57:45.155Z"
   },
   {
    "duration": 7,
    "start_time": "2022-11-28T14:57:45.165Z"
   },
   {
    "duration": 85,
    "start_time": "2022-11-28T14:57:45.174Z"
   },
   {
    "duration": 8,
    "start_time": "2022-11-28T14:57:45.260Z"
   },
   {
    "duration": 14,
    "start_time": "2022-11-28T14:57:45.270Z"
   },
   {
    "duration": 7,
    "start_time": "2022-11-28T14:57:45.286Z"
   },
   {
    "duration": 28,
    "start_time": "2022-11-28T14:57:45.295Z"
   },
   {
    "duration": 14,
    "start_time": "2022-11-28T14:57:45.325Z"
   },
   {
    "duration": 248,
    "start_time": "2022-11-28T14:57:45.341Z"
   },
   {
    "duration": 14,
    "start_time": "2022-11-28T14:57:45.591Z"
   },
   {
    "duration": 21,
    "start_time": "2022-11-28T14:57:45.607Z"
   },
   {
    "duration": 13,
    "start_time": "2022-11-28T14:57:45.630Z"
   },
   {
    "duration": 293,
    "start_time": "2022-11-28T14:57:45.645Z"
   },
   {
    "duration": 16,
    "start_time": "2022-11-28T14:57:45.940Z"
   },
   {
    "duration": 13,
    "start_time": "2022-11-28T14:57:45.958Z"
   },
   {
    "duration": 19,
    "start_time": "2022-11-28T14:57:45.973Z"
   },
   {
    "duration": 32,
    "start_time": "2022-11-28T14:57:45.994Z"
   },
   {
    "duration": 280,
    "start_time": "2022-11-28T14:57:46.028Z"
   },
   {
    "duration": 21,
    "start_time": "2022-11-28T14:57:46.310Z"
   },
   {
    "duration": 35,
    "start_time": "2022-11-28T14:57:46.333Z"
   },
   {
    "duration": 34,
    "start_time": "2022-11-28T14:57:46.370Z"
   },
   {
    "duration": 20,
    "start_time": "2022-11-28T14:57:46.405Z"
   },
   {
    "duration": 294,
    "start_time": "2022-11-28T14:57:46.427Z"
   },
   {
    "duration": 376,
    "start_time": "2022-11-28T14:57:46.723Z"
   },
   {
    "duration": 7,
    "start_time": "2022-11-28T14:57:47.101Z"
   },
   {
    "duration": 31,
    "start_time": "2022-11-28T14:57:47.109Z"
   },
   {
    "duration": 26,
    "start_time": "2022-11-28T14:57:47.142Z"
   },
   {
    "duration": 32,
    "start_time": "2022-11-28T14:57:47.170Z"
   },
   {
    "duration": 22,
    "start_time": "2022-11-28T14:57:47.204Z"
   },
   {
    "duration": 37,
    "start_time": "2022-11-28T14:57:47.228Z"
   },
   {
    "duration": 34,
    "start_time": "2022-11-28T14:57:47.266Z"
   },
   {
    "duration": 37,
    "start_time": "2022-11-28T14:57:47.302Z"
   },
   {
    "duration": 23,
    "start_time": "2022-11-28T14:57:47.340Z"
   },
   {
    "duration": 24,
    "start_time": "2022-11-28T14:57:47.369Z"
   },
   {
    "duration": 140,
    "start_time": "2022-11-28T14:57:47.395Z"
   },
   {
    "duration": 144,
    "start_time": "2022-11-28T14:57:47.537Z"
   },
   {
    "duration": 11,
    "start_time": "2022-11-28T14:57:47.682Z"
   },
   {
    "duration": 15,
    "start_time": "2022-11-28T14:57:47.695Z"
   },
   {
    "duration": 225,
    "start_time": "2022-11-28T14:57:47.721Z"
   },
   {
    "duration": 554,
    "start_time": "2022-11-28T14:57:47.948Z"
   },
   {
    "duration": 531,
    "start_time": "2022-11-28T14:57:48.503Z"
   },
   {
    "duration": 4,
    "start_time": "2022-11-28T14:57:49.036Z"
   },
   {
    "duration": 136106,
    "start_time": "2022-11-28T14:57:49.042Z"
   },
   {
    "duration": 52,
    "start_time": "2022-11-28T15:01:54.555Z"
   },
   {
    "duration": 17,
    "start_time": "2022-11-28T15:01:55.252Z"
   },
   {
    "duration": 16,
    "start_time": "2022-11-28T15:01:55.972Z"
   },
   {
    "duration": 718,
    "start_time": "2022-11-28T15:01:56.166Z"
   },
   {
    "duration": 40,
    "start_time": "2022-11-28T15:01:56.886Z"
   },
   {
    "duration": 18,
    "start_time": "2022-11-28T15:01:56.927Z"
   },
   {
    "duration": 10,
    "start_time": "2022-11-28T15:01:56.947Z"
   },
   {
    "duration": 4,
    "start_time": "2022-11-28T15:01:57.515Z"
   },
   {
    "duration": 11,
    "start_time": "2022-11-28T15:01:57.703Z"
   },
   {
    "duration": 8,
    "start_time": "2022-11-28T15:01:57.874Z"
   },
   {
    "duration": 21,
    "start_time": "2022-11-28T15:01:58.059Z"
   },
   {
    "duration": 11,
    "start_time": "2022-11-28T15:01:58.411Z"
   },
   {
    "duration": 6,
    "start_time": "2022-11-28T15:01:58.585Z"
   },
   {
    "duration": 23,
    "start_time": "2022-11-28T15:01:58.812Z"
   },
   {
    "duration": 6,
    "start_time": "2022-11-28T15:01:58.966Z"
   },
   {
    "duration": 11,
    "start_time": "2022-11-28T15:01:59.334Z"
   },
   {
    "duration": 4,
    "start_time": "2022-11-28T15:01:59.512Z"
   },
   {
    "duration": 6,
    "start_time": "2022-11-28T15:01:59.695Z"
   },
   {
    "duration": 8,
    "start_time": "2022-11-28T15:01:59.880Z"
   },
   {
    "duration": 8,
    "start_time": "2022-11-28T15:02:00.066Z"
   },
   {
    "duration": 7,
    "start_time": "2022-11-28T15:02:00.267Z"
   },
   {
    "duration": 8,
    "start_time": "2022-11-28T15:02:00.450Z"
   },
   {
    "duration": 6,
    "start_time": "2022-11-28T15:02:00.654Z"
   },
   {
    "duration": 6,
    "start_time": "2022-11-28T15:02:00.857Z"
   },
   {
    "duration": 17,
    "start_time": "2022-11-28T15:02:01.240Z"
   },
   {
    "duration": 5,
    "start_time": "2022-11-28T15:02:01.436Z"
   },
   {
    "duration": 18,
    "start_time": "2022-11-28T15:02:01.632Z"
   },
   {
    "duration": 9,
    "start_time": "2022-11-28T15:02:01.837Z"
   },
   {
    "duration": 4,
    "start_time": "2022-11-28T15:02:02.200Z"
   },
   {
    "duration": 58,
    "start_time": "2022-11-28T15:02:02.404Z"
   },
   {
    "duration": 8,
    "start_time": "2022-11-28T15:02:02.599Z"
   },
   {
    "duration": 16,
    "start_time": "2022-11-28T15:02:02.796Z"
   },
   {
    "duration": 7,
    "start_time": "2022-11-28T15:02:03.196Z"
   },
   {
    "duration": 3,
    "start_time": "2022-11-28T15:02:03.781Z"
   },
   {
    "duration": 8,
    "start_time": "2022-11-28T15:02:03.967Z"
   },
   {
    "duration": 249,
    "start_time": "2022-11-28T15:02:04.196Z"
   },
   {
    "duration": 15,
    "start_time": "2022-11-28T15:02:04.568Z"
   },
   {
    "duration": 10,
    "start_time": "2022-11-28T15:02:04.760Z"
   },
   {
    "duration": 10,
    "start_time": "2022-11-28T15:02:05.197Z"
   },
   {
    "duration": 250,
    "start_time": "2022-11-28T15:02:05.409Z"
   },
   {
    "duration": 16,
    "start_time": "2022-11-28T15:02:05.661Z"
   },
   {
    "duration": 7,
    "start_time": "2022-11-28T15:02:05.772Z"
   },
   {
    "duration": 6,
    "start_time": "2022-11-28T15:02:05.944Z"
   },
   {
    "duration": 10,
    "start_time": "2022-11-28T15:02:06.146Z"
   },
   {
    "duration": 297,
    "start_time": "2022-11-28T15:02:06.333Z"
   },
   {
    "duration": 7,
    "start_time": "2022-11-28T15:02:06.912Z"
   },
   {
    "duration": 15,
    "start_time": "2022-11-28T15:02:07.104Z"
   },
   {
    "duration": 15,
    "start_time": "2022-11-28T15:02:07.296Z"
   },
   {
    "duration": 8,
    "start_time": "2022-11-28T15:02:07.659Z"
   },
   {
    "duration": 297,
    "start_time": "2022-11-28T15:02:07.841Z"
   },
   {
    "duration": 414,
    "start_time": "2022-11-28T15:02:08.219Z"
   },
   {
    "duration": 8,
    "start_time": "2022-11-28T15:02:09.983Z"
   },
   {
    "duration": 14,
    "start_time": "2022-11-28T15:02:10.938Z"
   },
   {
    "duration": 9,
    "start_time": "2022-11-28T15:02:11.727Z"
   },
   {
    "duration": 15,
    "start_time": "2022-11-28T15:02:12.376Z"
   },
   {
    "duration": 7,
    "start_time": "2022-11-28T15:02:13.024Z"
   },
   {
    "duration": 10,
    "start_time": "2022-11-28T15:02:13.587Z"
   },
   {
    "duration": 10,
    "start_time": "2022-11-28T15:02:14.216Z"
   },
   {
    "duration": 14,
    "start_time": "2022-11-28T15:02:14.747Z"
   },
   {
    "duration": 8,
    "start_time": "2022-11-28T15:02:15.358Z"
   },
   {
    "duration": 12,
    "start_time": "2022-11-28T15:02:15.820Z"
   },
   {
    "duration": 137,
    "start_time": "2022-11-28T15:02:16.336Z"
   },
   {
    "duration": 135,
    "start_time": "2022-11-28T15:02:16.820Z"
   },
   {
    "duration": 12,
    "start_time": "2022-11-28T15:02:18.232Z"
   },
   {
    "duration": 10,
    "start_time": "2022-11-28T15:02:18.675Z"
   },
   {
    "duration": 231,
    "start_time": "2022-11-28T15:02:19.433Z"
   },
   {
    "duration": 561,
    "start_time": "2022-11-28T15:02:21.975Z"
   },
   {
    "duration": 453,
    "start_time": "2022-11-28T15:02:22.702Z"
   },
   {
    "duration": 3,
    "start_time": "2022-11-28T15:02:24.107Z"
   },
   {
    "duration": 136482,
    "start_time": "2022-11-28T15:02:36.779Z"
   },
   {
    "duration": 199,
    "start_time": "2022-11-28T15:05:21.243Z"
   },
   {
    "duration": 1602,
    "start_time": "2022-11-28T15:07:24.722Z"
   },
   {
    "duration": 953,
    "start_time": "2022-11-28T15:07:30.338Z"
   },
   {
    "duration": 1123,
    "start_time": "2022-11-28T15:07:42.442Z"
   },
   {
    "duration": 1103,
    "start_time": "2022-11-28T15:09:03.685Z"
   },
   {
    "duration": 984,
    "start_time": "2022-11-28T15:09:37.838Z"
   },
   {
    "duration": 2455,
    "start_time": "2022-11-28T15:25:06.368Z"
   },
   {
    "duration": 1114,
    "start_time": "2022-11-28T15:25:51.420Z"
   },
   {
    "duration": 1070,
    "start_time": "2022-11-28T15:26:28.781Z"
   },
   {
    "duration": 2195,
    "start_time": "2022-11-28T15:27:29.895Z"
   },
   {
    "duration": 1741,
    "start_time": "2022-11-28T15:28:02.624Z"
   },
   {
    "duration": 1513,
    "start_time": "2022-11-28T15:31:17.577Z"
   },
   {
    "duration": 1759,
    "start_time": "2022-11-28T15:33:12.759Z"
   },
   {
    "duration": 1290,
    "start_time": "2022-11-28T15:34:06.798Z"
   },
   {
    "duration": 118,
    "start_time": "2022-11-28T15:48:29.053Z"
   },
   {
    "duration": 130,
    "start_time": "2022-11-28T15:49:37.428Z"
   },
   {
    "duration": 513,
    "start_time": "2022-11-28T15:49:43.116Z"
   },
   {
    "duration": 527,
    "start_time": "2022-11-28T15:49:55.986Z"
   },
   {
    "duration": 514,
    "start_time": "2022-11-28T15:50:01.662Z"
   },
   {
    "duration": 520,
    "start_time": "2022-11-28T15:50:07.771Z"
   },
   {
    "duration": 1430,
    "start_time": "2022-11-28T15:51:29.776Z"
   },
   {
    "duration": 180531,
    "start_time": "2022-11-28T15:56:40.698Z"
   },
   {
    "duration": 185,
    "start_time": "2022-11-28T16:01:04.063Z"
   },
   {
    "duration": 38613,
    "start_time": "2022-11-28T16:02:40.927Z"
   },
   {
    "duration": 155,
    "start_time": "2022-11-28T16:03:35.460Z"
   },
   {
    "duration": 289134,
    "start_time": "2022-11-28T16:04:16.729Z"
   },
   {
    "duration": 12,
    "start_time": "2022-11-28T16:09:05.882Z"
   },
   {
    "duration": 37,
    "start_time": "2022-11-28T16:09:05.896Z"
   },
   {
    "duration": 10,
    "start_time": "2022-11-28T16:09:35.557Z"
   },
   {
    "duration": 8,
    "start_time": "2022-11-28T16:09:36.434Z"
   },
   {
    "duration": 28,
    "start_time": "2022-11-28T16:10:19.656Z"
   },
   {
    "duration": 6,
    "start_time": "2022-11-28T16:10:19.868Z"
   },
   {
    "duration": 13,
    "start_time": "2022-11-28T16:10:30.092Z"
   },
   {
    "duration": 13,
    "start_time": "2022-11-28T16:10:46.661Z"
   },
   {
    "duration": 11,
    "start_time": "2022-11-28T16:11:05.116Z"
   },
   {
    "duration": 11,
    "start_time": "2022-11-28T16:11:27.798Z"
   },
   {
    "duration": 11,
    "start_time": "2022-11-28T16:11:35.093Z"
   },
   {
    "duration": 11,
    "start_time": "2022-11-28T16:11:46.800Z"
   },
   {
    "duration": 6,
    "start_time": "2022-11-28T16:11:59.806Z"
   },
   {
    "duration": 9,
    "start_time": "2022-11-28T16:12:14.949Z"
   },
   {
    "duration": 51,
    "start_time": "2022-11-28T16:12:56.483Z"
   },
   {
    "duration": 17,
    "start_time": "2022-11-28T16:12:56.626Z"
   },
   {
    "duration": 16,
    "start_time": "2022-11-28T16:12:56.781Z"
   },
   {
    "duration": 679,
    "start_time": "2022-11-28T16:12:56.946Z"
   },
   {
    "duration": 30,
    "start_time": "2022-11-28T16:12:57.626Z"
   },
   {
    "duration": 15,
    "start_time": "2022-11-28T16:12:57.657Z"
   },
   {
    "duration": 5,
    "start_time": "2022-11-28T16:12:57.674Z"
   },
   {
    "duration": 62,
    "start_time": "2022-11-28T16:13:30.291Z"
   },
   {
    "duration": 17,
    "start_time": "2022-11-28T16:13:31.352Z"
   },
   {
    "duration": 17,
    "start_time": "2022-11-28T16:13:31.571Z"
   },
   {
    "duration": 668,
    "start_time": "2022-11-28T16:13:32.362Z"
   },
   {
    "duration": 35,
    "start_time": "2022-11-28T16:13:33.034Z"
   },
   {
    "duration": 17,
    "start_time": "2022-11-28T16:13:33.071Z"
   },
   {
    "duration": 3,
    "start_time": "2022-11-28T16:13:33.091Z"
   },
   {
    "duration": 4,
    "start_time": "2022-11-28T16:13:33.528Z"
   },
   {
    "duration": 9,
    "start_time": "2022-11-28T16:13:33.696Z"
   },
   {
    "duration": 7,
    "start_time": "2022-11-28T16:13:33.849Z"
   },
   {
    "duration": 26,
    "start_time": "2022-11-28T16:13:34.020Z"
   },
   {
    "duration": 11,
    "start_time": "2022-11-28T16:13:34.356Z"
   },
   {
    "duration": 7,
    "start_time": "2022-11-28T16:13:34.536Z"
   },
   {
    "duration": 26,
    "start_time": "2022-11-28T16:13:34.701Z"
   },
   {
    "duration": 6,
    "start_time": "2022-11-28T16:13:34.879Z"
   },
   {
    "duration": 11,
    "start_time": "2022-11-28T16:13:35.241Z"
   },
   {
    "duration": 4,
    "start_time": "2022-11-28T16:13:35.386Z"
   },
   {
    "duration": 5,
    "start_time": "2022-11-28T16:13:35.563Z"
   },
   {
    "duration": 8,
    "start_time": "2022-11-28T16:13:35.721Z"
   },
   {
    "duration": 8,
    "start_time": "2022-11-28T16:13:35.897Z"
   },
   {
    "duration": 7,
    "start_time": "2022-11-28T16:13:36.063Z"
   },
   {
    "duration": 12,
    "start_time": "2022-11-28T16:13:36.237Z"
   },
   {
    "duration": 5,
    "start_time": "2022-11-28T16:13:36.415Z"
   },
   {
    "duration": 7,
    "start_time": "2022-11-28T16:13:36.579Z"
   },
   {
    "duration": 27,
    "start_time": "2022-11-28T16:13:36.929Z"
   },
   {
    "duration": 6,
    "start_time": "2022-11-28T16:13:37.102Z"
   },
   {
    "duration": 16,
    "start_time": "2022-11-28T16:13:37.277Z"
   },
   {
    "duration": 7,
    "start_time": "2022-11-28T16:13:37.459Z"
   },
   {
    "duration": 4,
    "start_time": "2022-11-28T16:13:37.816Z"
   },
   {
    "duration": 70,
    "start_time": "2022-11-28T16:13:38.000Z"
   },
   {
    "duration": 8,
    "start_time": "2022-11-28T16:13:38.202Z"
   },
   {
    "duration": 10,
    "start_time": "2022-11-28T16:13:38.365Z"
   },
   {
    "duration": 5,
    "start_time": "2022-11-28T16:13:38.698Z"
   },
   {
    "duration": 4,
    "start_time": "2022-11-28T16:13:39.035Z"
   },
   {
    "duration": 15,
    "start_time": "2022-11-28T16:13:39.238Z"
   },
   {
    "duration": 266,
    "start_time": "2022-11-28T16:13:39.437Z"
   },
   {
    "duration": 13,
    "start_time": "2022-11-28T16:13:39.794Z"
   },
   {
    "duration": 9,
    "start_time": "2022-11-28T16:13:40.001Z"
   },
   {
    "duration": 9,
    "start_time": "2022-11-28T16:13:40.379Z"
   },
   {
    "duration": 292,
    "start_time": "2022-11-28T16:13:40.580Z"
   },
   {
    "duration": 15,
    "start_time": "2022-11-28T16:13:40.874Z"
   },
   {
    "duration": 6,
    "start_time": "2022-11-28T16:13:40.952Z"
   },
   {
    "duration": 6,
    "start_time": "2022-11-28T16:13:41.128Z"
   },
   {
    "duration": 14,
    "start_time": "2022-11-28T16:13:41.330Z"
   },
   {
    "duration": 306,
    "start_time": "2022-11-28T16:13:41.501Z"
   },
   {
    "duration": 12,
    "start_time": "2022-11-28T16:13:42.134Z"
   },
   {
    "duration": 15,
    "start_time": "2022-11-28T16:13:42.984Z"
   },
   {
    "duration": 15,
    "start_time": "2022-11-28T16:13:43.788Z"
   },
   {
    "duration": 10,
    "start_time": "2022-11-28T16:13:44.243Z"
   },
   {
    "duration": 280,
    "start_time": "2022-11-28T16:13:44.455Z"
   },
   {
    "duration": 415,
    "start_time": "2022-11-28T16:13:45.265Z"
   },
   {
    "duration": 11,
    "start_time": "2022-11-28T16:13:46.239Z"
   },
   {
    "duration": 10,
    "start_time": "2022-11-28T16:13:46.465Z"
   },
   {
    "duration": 11,
    "start_time": "2022-11-28T16:13:47.232Z"
   },
   {
    "duration": 11,
    "start_time": "2022-11-28T16:13:48.176Z"
   },
   {
    "duration": 7,
    "start_time": "2022-11-28T16:13:48.896Z"
   },
   {
    "duration": 15,
    "start_time": "2022-11-28T16:13:49.528Z"
   },
   {
    "duration": 11,
    "start_time": "2022-11-28T16:13:49.718Z"
   },
   {
    "duration": 17,
    "start_time": "2022-11-28T16:13:49.932Z"
   },
   {
    "duration": 9,
    "start_time": "2022-11-28T16:13:50.144Z"
   },
   {
    "duration": 10,
    "start_time": "2022-11-28T16:13:50.547Z"
   },
   {
    "duration": 138,
    "start_time": "2022-11-28T16:13:50.774Z"
   },
   {
    "duration": 157,
    "start_time": "2022-11-28T16:13:51.017Z"
   },
   {
    "duration": 14,
    "start_time": "2022-11-28T16:13:52.812Z"
   },
   {
    "duration": 11,
    "start_time": "2022-11-28T16:13:53.017Z"
   },
   {
    "duration": 237,
    "start_time": "2022-11-28T16:13:53.245Z"
   },
   {
    "duration": 632,
    "start_time": "2022-11-28T16:13:56.081Z"
   },
   {
    "duration": 531,
    "start_time": "2022-11-28T16:13:56.907Z"
   },
   {
    "duration": 15,
    "start_time": "2022-11-28T16:14:07.729Z"
   },
   {
    "duration": 23,
    "start_time": "2022-11-28T16:14:09.094Z"
   },
   {
    "duration": 9,
    "start_time": "2022-11-28T16:14:24.752Z"
   },
   {
    "duration": 23,
    "start_time": "2022-11-28T16:14:25.765Z"
   },
   {
    "duration": 5,
    "start_time": "2022-11-28T16:14:36.567Z"
   },
   {
    "duration": 23,
    "start_time": "2022-11-28T16:14:37.762Z"
   },
   {
    "duration": 6,
    "start_time": "2022-11-28T16:14:52.847Z"
   },
   {
    "duration": 5,
    "start_time": "2022-11-28T16:14:53.287Z"
   },
   {
    "duration": 920,
    "start_time": "2022-11-28T16:15:57.623Z"
   },
   {
    "duration": 936,
    "start_time": "2022-11-28T16:16:23.762Z"
   },
   {
    "duration": 48,
    "start_time": "2022-11-28T16:17:08.529Z"
   },
   {
    "duration": 16,
    "start_time": "2022-11-28T16:17:08.579Z"
   },
   {
    "duration": 29,
    "start_time": "2022-11-28T16:17:08.597Z"
   },
   {
    "duration": 668,
    "start_time": "2022-11-28T16:17:08.628Z"
   },
   {
    "duration": 41,
    "start_time": "2022-11-28T16:17:09.298Z"
   },
   {
    "duration": 14,
    "start_time": "2022-11-28T16:17:09.341Z"
   },
   {
    "duration": 2,
    "start_time": "2022-11-28T16:17:09.357Z"
   },
   {
    "duration": 6,
    "start_time": "2022-11-28T16:17:09.360Z"
   },
   {
    "duration": 11,
    "start_time": "2022-11-28T16:17:09.367Z"
   },
   {
    "duration": 5,
    "start_time": "2022-11-28T16:17:09.380Z"
   },
   {
    "duration": 46,
    "start_time": "2022-11-28T16:17:09.387Z"
   },
   {
    "duration": 12,
    "start_time": "2022-11-28T16:17:09.434Z"
   },
   {
    "duration": 5,
    "start_time": "2022-11-28T16:17:09.448Z"
   },
   {
    "duration": 23,
    "start_time": "2022-11-28T16:17:09.456Z"
   },
   {
    "duration": 7,
    "start_time": "2022-11-28T16:17:09.481Z"
   },
   {
    "duration": 41,
    "start_time": "2022-11-28T16:17:09.489Z"
   },
   {
    "duration": 4,
    "start_time": "2022-11-28T16:17:09.532Z"
   },
   {
    "duration": 7,
    "start_time": "2022-11-28T16:17:09.538Z"
   },
   {
    "duration": 8,
    "start_time": "2022-11-28T16:17:09.546Z"
   },
   {
    "duration": 6,
    "start_time": "2022-11-28T16:17:09.555Z"
   },
   {
    "duration": 11,
    "start_time": "2022-11-28T16:17:09.563Z"
   },
   {
    "duration": 47,
    "start_time": "2022-11-28T16:17:09.576Z"
   },
   {
    "duration": 7,
    "start_time": "2022-11-28T16:17:09.625Z"
   },
   {
    "duration": 7,
    "start_time": "2022-11-28T16:17:09.634Z"
   },
   {
    "duration": 23,
    "start_time": "2022-11-28T16:17:09.643Z"
   },
   {
    "duration": 5,
    "start_time": "2022-11-28T16:17:09.668Z"
   },
   {
    "duration": 15,
    "start_time": "2022-11-28T16:17:09.675Z"
   },
   {
    "duration": 35,
    "start_time": "2022-11-28T16:17:09.691Z"
   },
   {
    "duration": 7,
    "start_time": "2022-11-28T16:17:09.728Z"
   },
   {
    "duration": 56,
    "start_time": "2022-11-28T16:17:09.736Z"
   },
   {
    "duration": 29,
    "start_time": "2022-11-28T16:17:09.794Z"
   },
   {
    "duration": 24,
    "start_time": "2022-11-28T16:17:09.825Z"
   },
   {
    "duration": 13,
    "start_time": "2022-11-28T16:17:09.851Z"
   },
   {
    "duration": 21,
    "start_time": "2022-11-28T16:17:09.866Z"
   },
   {
    "duration": 14,
    "start_time": "2022-11-28T16:17:09.889Z"
   },
   {
    "duration": 234,
    "start_time": "2022-11-28T16:17:09.904Z"
   },
   {
    "duration": 12,
    "start_time": "2022-11-28T16:17:10.140Z"
   },
   {
    "duration": 9,
    "start_time": "2022-11-28T16:17:10.154Z"
   },
   {
    "duration": 11,
    "start_time": "2022-11-28T16:17:10.165Z"
   },
   {
    "duration": 272,
    "start_time": "2022-11-28T16:17:10.178Z"
   },
   {
    "duration": 16,
    "start_time": "2022-11-28T16:17:10.455Z"
   },
   {
    "duration": 6,
    "start_time": "2022-11-28T16:17:10.473Z"
   },
   {
    "duration": 10,
    "start_time": "2022-11-28T16:17:10.480Z"
   },
   {
    "duration": 12,
    "start_time": "2022-11-28T16:17:10.491Z"
   },
   {
    "duration": 271,
    "start_time": "2022-11-28T16:17:10.522Z"
   },
   {
    "duration": 7,
    "start_time": "2022-11-28T16:17:10.794Z"
   },
   {
    "duration": 29,
    "start_time": "2022-11-28T16:17:10.803Z"
   },
   {
    "duration": 15,
    "start_time": "2022-11-28T16:17:10.834Z"
   },
   {
    "duration": 8,
    "start_time": "2022-11-28T16:17:10.851Z"
   },
   {
    "duration": 294,
    "start_time": "2022-11-28T16:17:10.860Z"
   },
   {
    "duration": 371,
    "start_time": "2022-11-28T16:17:11.156Z"
   },
   {
    "duration": 7,
    "start_time": "2022-11-28T16:17:11.528Z"
   },
   {
    "duration": 14,
    "start_time": "2022-11-28T16:17:11.537Z"
   },
   {
    "duration": 8,
    "start_time": "2022-11-28T16:17:11.553Z"
   },
   {
    "duration": 10,
    "start_time": "2022-11-28T16:17:11.563Z"
   },
   {
    "duration": 8,
    "start_time": "2022-11-28T16:17:11.575Z"
   },
   {
    "duration": 37,
    "start_time": "2022-11-28T16:17:11.586Z"
   },
   {
    "duration": 7,
    "start_time": "2022-11-28T16:17:11.625Z"
   },
   {
    "duration": 14,
    "start_time": "2022-11-28T16:17:11.634Z"
   },
   {
    "duration": 12,
    "start_time": "2022-11-28T16:17:11.650Z"
   },
   {
    "duration": 10,
    "start_time": "2022-11-28T16:17:11.664Z"
   },
   {
    "duration": 155,
    "start_time": "2022-11-28T16:17:11.677Z"
   },
   {
    "duration": 139,
    "start_time": "2022-11-28T16:17:11.834Z"
   },
   {
    "duration": 12,
    "start_time": "2022-11-28T16:17:11.975Z"
   },
   {
    "duration": 9,
    "start_time": "2022-11-28T16:17:11.989Z"
   },
   {
    "duration": 214,
    "start_time": "2022-11-28T16:17:12.023Z"
   },
   {
    "duration": 564,
    "start_time": "2022-11-28T16:17:12.239Z"
   },
   {
    "duration": 464,
    "start_time": "2022-11-28T16:17:12.805Z"
   },
   {
    "duration": 1059,
    "start_time": "2022-11-28T16:17:13.271Z"
   },
   {
    "duration": 100943,
    "start_time": "2022-11-28T16:18:26.691Z"
   },
   {
    "duration": 147,
    "start_time": "2022-11-28T16:20:11.796Z"
   },
   {
    "duration": 127,
    "start_time": "2022-11-28T16:20:24.698Z"
   },
   {
    "duration": 985,
    "start_time": "2022-11-28T16:21:08.901Z"
   },
   {
    "duration": 1033,
    "start_time": "2022-11-28T16:21:48.513Z"
   },
   {
    "duration": 138,
    "start_time": "2022-11-28T16:22:29.724Z"
   },
   {
    "duration": 6,
    "start_time": "2022-11-28T16:23:46.357Z"
   },
   {
    "duration": 7,
    "start_time": "2022-11-28T16:24:11.704Z"
   },
   {
    "duration": 10,
    "start_time": "2022-11-28T16:24:30.005Z"
   },
   {
    "duration": 1141,
    "start_time": "2022-11-28T16:24:53.490Z"
   },
   {
    "duration": 1050,
    "start_time": "2022-11-28T16:25:17.346Z"
   },
   {
    "duration": 1038,
    "start_time": "2022-11-28T16:28:49.591Z"
   },
   {
    "duration": 16899,
    "start_time": "2022-11-28T16:30:39.674Z"
   },
   {
    "duration": 15,
    "start_time": "2022-11-28T16:38:54.017Z"
   },
   {
    "duration": 88,
    "start_time": "2022-11-28T16:39:37.918Z"
   },
   {
    "duration": 15,
    "start_time": "2022-11-28T16:39:52.919Z"
   },
   {
    "duration": 967,
    "start_time": "2022-11-28T16:40:10.816Z"
   },
   {
    "duration": 1036,
    "start_time": "2022-11-28T16:40:57.546Z"
   },
   {
    "duration": 93,
    "start_time": "2022-11-28T16:41:15.953Z"
   },
   {
    "duration": 1007,
    "start_time": "2022-11-28T16:41:25.420Z"
   },
   {
    "duration": 992,
    "start_time": "2022-11-28T16:41:41.359Z"
   },
   {
    "duration": 995,
    "start_time": "2022-11-28T16:42:12.496Z"
   },
   {
    "duration": 121,
    "start_time": "2022-11-28T16:42:52.532Z"
   },
   {
    "duration": 167577,
    "start_time": "2022-11-28T16:42:58.164Z"
   },
   {
    "duration": 19,
    "start_time": "2022-11-28T16:45:45.750Z"
   },
   {
    "duration": 6,
    "start_time": "2022-11-28T16:45:53.478Z"
   },
   {
    "duration": 232,
    "start_time": "2022-11-28T16:46:32.490Z"
   },
   {
    "duration": 72,
    "start_time": "2022-11-28T16:46:38.448Z"
   },
   {
    "duration": 6,
    "start_time": "2022-11-28T16:46:44.351Z"
   },
   {
    "duration": 1114,
    "start_time": "2022-11-28T16:47:42.251Z"
   },
   {
    "duration": 1193,
    "start_time": "2022-11-28T16:48:05.393Z"
   },
   {
    "duration": 15,
    "start_time": "2022-11-28T16:48:09.824Z"
   },
   {
    "duration": 1421,
    "start_time": "2022-11-28T16:48:29.485Z"
   },
   {
    "duration": 11,
    "start_time": "2022-11-28T16:48:47.208Z"
   },
   {
    "duration": 129,
    "start_time": "2022-11-28T16:50:00.229Z"
   },
   {
    "duration": 1355,
    "start_time": "2022-11-28T16:50:22.615Z"
   },
   {
    "duration": 152,
    "start_time": "2022-11-28T16:51:15.397Z"
   },
   {
    "duration": 441,
    "start_time": "2022-11-28T16:54:10.648Z"
   },
   {
    "duration": 34187,
    "start_time": "2022-11-28T16:55:20.514Z"
   },
   {
    "duration": 111,
    "start_time": "2022-11-28T16:55:59.056Z"
   },
   {
    "duration": 0,
    "start_time": "2022-11-28T16:56:43.839Z"
   },
   {
    "duration": 0,
    "start_time": "2022-11-28T16:56:43.842Z"
   },
   {
    "duration": 108,
    "start_time": "2022-11-28T16:56:48.693Z"
   },
   {
    "duration": 419,
    "start_time": "2022-11-28T16:57:07.265Z"
   },
   {
    "duration": 16,
    "start_time": "2022-11-28T16:57:39.268Z"
   },
   {
    "duration": 443,
    "start_time": "2022-11-28T16:57:50.517Z"
   },
   {
    "duration": 103,
    "start_time": "2022-11-28T16:58:27.884Z"
   },
   {
    "duration": 11529,
    "start_time": "2022-11-28T16:58:45.876Z"
   },
   {
    "duration": 9,
    "start_time": "2022-11-28T16:59:06.055Z"
   },
   {
    "duration": 8,
    "start_time": "2022-11-28T16:59:17.353Z"
   },
   {
    "duration": 1361,
    "start_time": "2022-11-29T16:18:22.069Z"
   },
   {
    "duration": 21,
    "start_time": "2022-11-29T16:18:23.432Z"
   },
   {
    "duration": 15,
    "start_time": "2022-11-29T16:18:23.454Z"
   },
   {
    "duration": 614,
    "start_time": "2022-11-29T16:18:24.499Z"
   },
   {
    "duration": 29,
    "start_time": "2022-11-29T16:18:27.438Z"
   },
   {
    "duration": 16,
    "start_time": "2022-11-29T16:18:28.034Z"
   },
   {
    "duration": 2,
    "start_time": "2022-11-29T16:18:29.181Z"
   },
   {
    "duration": 3,
    "start_time": "2022-11-29T16:18:31.054Z"
   },
   {
    "duration": 13,
    "start_time": "2022-11-29T16:18:31.679Z"
   },
   {
    "duration": 10,
    "start_time": "2022-11-29T16:18:32.411Z"
   },
   {
    "duration": 16,
    "start_time": "2022-11-29T16:18:33.034Z"
   },
   {
    "duration": 9,
    "start_time": "2022-11-29T16:18:34.236Z"
   },
   {
    "duration": 6,
    "start_time": "2022-11-29T16:18:34.854Z"
   },
   {
    "duration": 21,
    "start_time": "2022-11-29T16:18:35.352Z"
   },
   {
    "duration": 5,
    "start_time": "2022-11-29T16:18:35.977Z"
   },
   {
    "duration": 8,
    "start_time": "2022-11-29T16:18:37.218Z"
   },
   {
    "duration": 4,
    "start_time": "2022-11-29T16:18:37.754Z"
   },
   {
    "duration": 5,
    "start_time": "2022-11-29T16:18:38.195Z"
   },
   {
    "duration": 6,
    "start_time": "2022-11-29T16:18:38.381Z"
   },
   {
    "duration": 6,
    "start_time": "2022-11-29T16:18:38.591Z"
   },
   {
    "duration": 10,
    "start_time": "2022-11-29T16:18:38.769Z"
   },
   {
    "duration": 8,
    "start_time": "2022-11-29T16:18:38.930Z"
   },
   {
    "duration": 5,
    "start_time": "2022-11-29T16:18:39.168Z"
   },
   {
    "duration": 4,
    "start_time": "2022-11-29T16:18:39.328Z"
   },
   {
    "duration": 19,
    "start_time": "2022-11-29T16:18:39.770Z"
   },
   {
    "duration": 5,
    "start_time": "2022-11-29T16:18:39.885Z"
   },
   {
    "duration": 15,
    "start_time": "2022-11-29T16:18:40.071Z"
   },
   {
    "duration": 6,
    "start_time": "2022-11-29T16:18:40.274Z"
   },
   {
    "duration": 3,
    "start_time": "2022-11-29T16:18:40.620Z"
   },
   {
    "duration": 55,
    "start_time": "2022-11-29T16:18:40.869Z"
   },
   {
    "duration": 8,
    "start_time": "2022-11-29T16:18:41.068Z"
   },
   {
    "duration": 11,
    "start_time": "2022-11-29T16:18:41.248Z"
   },
   {
    "duration": 5,
    "start_time": "2022-11-29T16:18:41.656Z"
   },
   {
    "duration": 3,
    "start_time": "2022-11-29T16:18:42.046Z"
   },
   {
    "duration": 9,
    "start_time": "2022-11-29T16:18:42.270Z"
   },
   {
    "duration": 275,
    "start_time": "2022-11-29T16:18:42.448Z"
   },
   {
    "duration": 13,
    "start_time": "2022-11-29T16:18:42.857Z"
   },
   {
    "duration": 10,
    "start_time": "2022-11-29T16:18:43.068Z"
   },
   {
    "duration": 9,
    "start_time": "2022-11-29T16:18:43.585Z"
   },
   {
    "duration": 278,
    "start_time": "2022-11-29T16:18:43.843Z"
   },
   {
    "duration": 20,
    "start_time": "2022-11-29T16:18:44.123Z"
   },
   {
    "duration": 6,
    "start_time": "2022-11-29T16:18:44.304Z"
   },
   {
    "duration": 6,
    "start_time": "2022-11-29T16:18:44.510Z"
   },
   {
    "duration": 12,
    "start_time": "2022-11-29T16:18:44.694Z"
   },
   {
    "duration": 274,
    "start_time": "2022-11-29T16:18:44.951Z"
   },
   {
    "duration": 6,
    "start_time": "2022-11-29T16:18:45.876Z"
   },
   {
    "duration": 17,
    "start_time": "2022-11-29T16:18:46.145Z"
   },
   {
    "duration": 17,
    "start_time": "2022-11-29T16:18:46.313Z"
   },
   {
    "duration": 9,
    "start_time": "2022-11-29T16:18:46.737Z"
   },
   {
    "duration": 281,
    "start_time": "2022-11-29T16:18:47.014Z"
   },
   {
    "duration": 413,
    "start_time": "2022-11-29T16:18:47.345Z"
   },
   {
    "duration": 7,
    "start_time": "2022-11-29T16:18:48.368Z"
   },
   {
    "duration": 12,
    "start_time": "2022-11-29T16:18:49.321Z"
   },
   {
    "duration": 8,
    "start_time": "2022-11-29T16:18:50.166Z"
   },
   {
    "duration": 11,
    "start_time": "2022-11-29T16:18:50.743Z"
   },
   {
    "duration": 7,
    "start_time": "2022-11-29T16:18:51.387Z"
   },
   {
    "duration": 11,
    "start_time": "2022-11-29T16:18:51.970Z"
   },
   {
    "duration": 8,
    "start_time": "2022-11-29T16:18:52.433Z"
   },
   {
    "duration": 11,
    "start_time": "2022-11-29T16:18:52.929Z"
   },
   {
    "duration": 6,
    "start_time": "2022-11-29T16:18:53.478Z"
   },
   {
    "duration": 10,
    "start_time": "2022-11-29T16:18:54.007Z"
   },
   {
    "duration": 133,
    "start_time": "2022-11-29T16:18:54.496Z"
   },
   {
    "duration": 119,
    "start_time": "2022-11-29T16:18:55.020Z"
   },
   {
    "duration": 9,
    "start_time": "2022-11-29T16:18:58.331Z"
   },
   {
    "duration": 9,
    "start_time": "2022-11-29T16:18:59.119Z"
   },
   {
    "duration": 228,
    "start_time": "2022-11-29T16:18:59.724Z"
   },
   {
    "duration": 41,
    "start_time": "2022-11-29T16:22:29.413Z"
   },
   {
    "duration": 1465,
    "start_time": "2022-11-29T18:32:10.501Z"
   },
   {
    "duration": 20,
    "start_time": "2022-11-29T18:32:11.968Z"
   },
   {
    "duration": 13,
    "start_time": "2022-11-29T18:32:11.989Z"
   },
   {
    "duration": 603,
    "start_time": "2022-11-29T18:32:12.004Z"
   },
   {
    "duration": 28,
    "start_time": "2022-11-29T18:32:12.612Z"
   },
   {
    "duration": 15,
    "start_time": "2022-11-29T18:32:12.641Z"
   },
   {
    "duration": 2,
    "start_time": "2022-11-29T18:32:12.658Z"
   },
   {
    "duration": 3,
    "start_time": "2022-11-29T18:32:12.978Z"
   },
   {
    "duration": 10,
    "start_time": "2022-11-29T18:32:13.181Z"
   },
   {
    "duration": 5,
    "start_time": "2022-11-29T18:32:13.380Z"
   },
   {
    "duration": 16,
    "start_time": "2022-11-29T18:32:13.610Z"
   },
   {
    "duration": 8,
    "start_time": "2022-11-29T18:32:14.120Z"
   },
   {
    "duration": 5,
    "start_time": "2022-11-29T18:32:14.266Z"
   },
   {
    "duration": 21,
    "start_time": "2022-11-29T18:32:14.447Z"
   },
   {
    "duration": 6,
    "start_time": "2022-11-29T18:32:14.633Z"
   },
   {
    "duration": 9,
    "start_time": "2022-11-29T18:32:15.017Z"
   },
   {
    "duration": 5,
    "start_time": "2022-11-29T18:32:15.190Z"
   },
   {
    "duration": 5,
    "start_time": "2022-11-29T18:32:15.390Z"
   },
   {
    "duration": 7,
    "start_time": "2022-11-29T18:32:15.583Z"
   },
   {
    "duration": 7,
    "start_time": "2022-11-29T18:32:15.792Z"
   },
   {
    "duration": 8,
    "start_time": "2022-11-29T18:32:16.010Z"
   },
   {
    "duration": 7,
    "start_time": "2022-11-29T18:32:16.220Z"
   },
   {
    "duration": 7,
    "start_time": "2022-11-29T18:32:16.426Z"
   },
   {
    "duration": 6,
    "start_time": "2022-11-29T18:32:16.620Z"
   },
   {
    "duration": 17,
    "start_time": "2022-11-29T18:32:17.076Z"
   },
   {
    "duration": 5,
    "start_time": "2022-11-29T18:32:17.286Z"
   },
   {
    "duration": 15,
    "start_time": "2022-11-29T18:32:17.549Z"
   },
   {
    "duration": 7,
    "start_time": "2022-11-29T18:32:17.795Z"
   },
   {
    "duration": 3,
    "start_time": "2022-11-29T18:32:18.209Z"
   },
   {
    "duration": 53,
    "start_time": "2022-11-29T18:32:18.432Z"
   },
   {
    "duration": 7,
    "start_time": "2022-11-29T18:32:18.608Z"
   },
   {
    "duration": 10,
    "start_time": "2022-11-29T18:32:18.838Z"
   },
   {
    "duration": 5,
    "start_time": "2022-11-29T18:32:19.328Z"
   },
   {
    "duration": 3,
    "start_time": "2022-11-29T18:32:20.104Z"
   },
   {
    "duration": 10,
    "start_time": "2022-11-29T18:32:20.325Z"
   },
   {
    "duration": 210,
    "start_time": "2022-11-29T18:32:20.554Z"
   },
   {
    "duration": 12,
    "start_time": "2022-11-29T18:32:21.478Z"
   },
   {
    "duration": 8,
    "start_time": "2022-11-29T18:32:21.969Z"
   },
   {
    "duration": 9,
    "start_time": "2022-11-29T18:32:23.943Z"
   },
   {
    "duration": 280,
    "start_time": "2022-11-29T18:32:46.925Z"
   },
   {
    "duration": 15,
    "start_time": "2022-11-29T18:32:47.479Z"
   },
   {
    "duration": 7,
    "start_time": "2022-11-29T18:32:48.213Z"
   },
   {
    "duration": 6,
    "start_time": "2022-11-29T18:32:48.735Z"
   },
   {
    "duration": 9,
    "start_time": "2022-11-29T18:32:49.270Z"
   },
   {
    "duration": 264,
    "start_time": "2022-11-29T18:32:49.873Z"
   },
   {
    "duration": 7,
    "start_time": "2022-11-29T18:32:52.822Z"
   },
   {
    "duration": 15,
    "start_time": "2022-11-29T18:32:53.397Z"
   },
   {
    "duration": 14,
    "start_time": "2022-11-29T18:32:54.033Z"
   },
   {
    "duration": 7,
    "start_time": "2022-11-29T18:32:55.217Z"
   },
   {
    "duration": 283,
    "start_time": "2022-11-29T18:32:56.145Z"
   },
   {
    "duration": 413,
    "start_time": "2022-11-29T18:32:57.849Z"
   },
   {
    "duration": 8,
    "start_time": "2022-11-29T18:33:03.646Z"
   },
   {
    "duration": 10,
    "start_time": "2022-11-29T18:33:04.979Z"
   },
   {
    "duration": 8,
    "start_time": "2022-11-29T18:33:06.120Z"
   },
   {
    "duration": 9,
    "start_time": "2022-11-29T18:33:07.065Z"
   },
   {
    "duration": 6,
    "start_time": "2022-11-29T18:33:07.899Z"
   },
   {
    "duration": 10,
    "start_time": "2022-11-29T18:33:08.578Z"
   },
   {
    "duration": 6,
    "start_time": "2022-11-29T18:33:09.372Z"
   },
   {
    "duration": 9,
    "start_time": "2022-11-29T18:33:09.968Z"
   },
   {
    "duration": 6,
    "start_time": "2022-11-29T18:33:10.597Z"
   },
   {
    "duration": 9,
    "start_time": "2022-11-29T18:33:11.138Z"
   },
   {
    "duration": 122,
    "start_time": "2022-11-29T18:33:11.697Z"
   },
   {
    "duration": 118,
    "start_time": "2022-11-29T18:33:12.400Z"
   },
   {
    "duration": 10,
    "start_time": "2022-11-29T18:33:14.829Z"
   },
   {
    "duration": 9,
    "start_time": "2022-11-29T18:33:15.722Z"
   },
   {
    "duration": 90,
    "start_time": "2022-11-29T18:33:16.458Z"
   },
   {
    "duration": 528,
    "start_time": "2022-11-29T18:33:19.341Z"
   },
   {
    "duration": 443,
    "start_time": "2022-11-29T18:33:20.730Z"
   },
   {
    "duration": 0,
    "start_time": "2022-11-29T18:33:42.436Z"
   },
   {
    "duration": 0,
    "start_time": "2022-11-29T18:33:42.438Z"
   },
   {
    "duration": 417,
    "start_time": "2022-11-29T18:33:44.080Z"
   },
   {
    "duration": 1136,
    "start_time": "2022-11-29T18:34:56.567Z"
   },
   {
    "duration": 25,
    "start_time": "2022-11-29T18:35:23.451Z"
   },
   {
    "duration": 493,
    "start_time": "2022-11-29T18:35:32.917Z"
   },
   {
    "duration": 409,
    "start_time": "2022-11-29T18:36:26.419Z"
   },
   {
    "duration": 427,
    "start_time": "2022-11-29T18:36:40.452Z"
   },
   {
    "duration": 429,
    "start_time": "2022-11-29T18:36:47.516Z"
   },
   {
    "duration": 439,
    "start_time": "2022-11-29T18:37:37.262Z"
   },
   {
    "duration": 1847,
    "start_time": "2022-11-29T18:37:57.515Z"
   },
   {
    "duration": 990,
    "start_time": "2022-11-29T18:38:09.990Z"
   },
   {
    "duration": 922,
    "start_time": "2022-11-29T18:39:08.778Z"
   },
   {
    "duration": 962,
    "start_time": "2022-11-29T18:39:18.295Z"
   },
   {
    "duration": 1020,
    "start_time": "2022-11-29T18:39:27.479Z"
   },
   {
    "duration": 918,
    "start_time": "2022-11-29T18:40:07.372Z"
   },
   {
    "duration": 1049,
    "start_time": "2022-11-29T18:43:31.110Z"
   },
   {
    "duration": 25,
    "start_time": "2022-11-29T18:43:58.585Z"
   },
   {
    "duration": 25,
    "start_time": "2022-11-29T18:44:03.330Z"
   },
   {
    "duration": 24,
    "start_time": "2022-11-29T18:44:12.592Z"
   },
   {
    "duration": 1243,
    "start_time": "2022-11-29T18:44:36.445Z"
   },
   {
    "duration": 40,
    "start_time": "2022-11-29T18:44:50.943Z"
   },
   {
    "duration": 24,
    "start_time": "2022-11-29T18:45:07.534Z"
   },
   {
    "duration": 114,
    "start_time": "2022-11-29T18:47:56.098Z"
   },
   {
    "duration": 1056,
    "start_time": "2022-11-29T18:48:03.920Z"
   },
   {
    "duration": 967,
    "start_time": "2022-11-29T18:48:26.315Z"
   },
   {
    "duration": 962,
    "start_time": "2022-11-29T18:48:36.113Z"
   },
   {
    "duration": 925,
    "start_time": "2022-11-29T18:48:45.878Z"
   },
   {
    "duration": 1039,
    "start_time": "2022-11-29T18:48:58.897Z"
   },
   {
    "duration": 921,
    "start_time": "2022-11-29T18:49:24.973Z"
   },
   {
    "duration": 115,
    "start_time": "2022-11-29T18:51:06.083Z"
   },
   {
    "duration": 197,
    "start_time": "2022-11-29T18:51:23.909Z"
   },
   {
    "duration": 23072,
    "start_time": "2022-11-29T18:51:41.353Z"
   },
   {
    "duration": 0,
    "start_time": "2022-11-29T18:53:22.301Z"
   },
   {
    "duration": 131,
    "start_time": "2022-11-29T18:53:29.114Z"
   },
   {
    "duration": 102,
    "start_time": "2022-11-29T18:53:43.372Z"
   },
   {
    "duration": 11572,
    "start_time": "2022-11-29T18:53:58.942Z"
   },
   {
    "duration": 3,
    "start_time": "2022-11-29T18:54:11.490Z"
   },
   {
    "duration": 111,
    "start_time": "2022-11-29T18:54:25.175Z"
   },
   {
    "duration": 279,
    "start_time": "2022-11-29T18:55:20.783Z"
   },
   {
    "duration": 421060,
    "start_time": "2022-11-29T18:55:36.220Z"
   },
   {
    "duration": 49,
    "start_time": "2022-11-29T19:02:37.284Z"
   },
   {
    "duration": 16,
    "start_time": "2022-11-29T19:02:37.335Z"
   },
   {
    "duration": 24,
    "start_time": "2022-11-29T19:02:37.353Z"
   },
   {
    "duration": 646,
    "start_time": "2022-11-29T19:02:37.380Z"
   },
   {
    "duration": 29,
    "start_time": "2022-11-29T19:02:38.027Z"
   },
   {
    "duration": 15,
    "start_time": "2022-11-29T19:02:38.057Z"
   },
   {
    "duration": 2,
    "start_time": "2022-11-29T19:02:38.073Z"
   },
   {
    "duration": 18,
    "start_time": "2022-11-29T19:02:38.078Z"
   },
   {
    "duration": 20,
    "start_time": "2022-11-29T19:02:38.098Z"
   },
   {
    "duration": 8,
    "start_time": "2022-11-29T19:02:38.120Z"
   },
   {
    "duration": 18,
    "start_time": "2022-11-29T19:02:38.129Z"
   },
   {
    "duration": 10,
    "start_time": "2022-11-29T19:02:38.148Z"
   },
   {
    "duration": 5,
    "start_time": "2022-11-29T19:02:38.160Z"
   },
   {
    "duration": 49,
    "start_time": "2022-11-29T19:02:38.166Z"
   },
   {
    "duration": 4,
    "start_time": "2022-11-29T19:02:38.217Z"
   },
   {
    "duration": 11,
    "start_time": "2022-11-29T19:02:38.223Z"
   },
   {
    "duration": 8,
    "start_time": "2022-11-29T19:02:38.236Z"
   },
   {
    "duration": 10,
    "start_time": "2022-11-29T19:02:38.245Z"
   },
   {
    "duration": 8,
    "start_time": "2022-11-29T19:02:38.257Z"
   },
   {
    "duration": 8,
    "start_time": "2022-11-29T19:02:47.195Z"
   },
   {
    "duration": 7,
    "start_time": "2022-11-29T19:02:48.196Z"
   },
   {
    "duration": 7,
    "start_time": "2022-11-29T19:02:48.819Z"
   },
   {
    "duration": 5,
    "start_time": "2022-11-29T19:02:49.445Z"
   },
   {
    "duration": 5,
    "start_time": "2022-11-29T19:02:49.928Z"
   },
   {
    "duration": 18,
    "start_time": "2022-11-29T19:02:51.960Z"
   },
   {
    "duration": 6,
    "start_time": "2022-11-29T19:02:52.486Z"
   },
   {
    "duration": 13,
    "start_time": "2022-11-29T19:03:45.029Z"
   },
   {
    "duration": 8,
    "start_time": "2022-11-29T19:03:45.665Z"
   },
   {
    "duration": 4,
    "start_time": "2022-11-29T19:03:46.612Z"
   },
   {
    "duration": 50,
    "start_time": "2022-11-29T19:03:46.824Z"
   },
   {
    "duration": 7,
    "start_time": "2022-11-29T19:03:47.040Z"
   },
   {
    "duration": 11,
    "start_time": "2022-11-29T19:03:47.214Z"
   },
   {
    "duration": 4,
    "start_time": "2022-11-29T19:03:47.595Z"
   },
   {
    "duration": 3,
    "start_time": "2022-11-29T19:03:47.974Z"
   },
   {
    "duration": 8,
    "start_time": "2022-11-29T19:03:48.184Z"
   },
   {
    "duration": 208,
    "start_time": "2022-11-29T19:03:48.354Z"
   },
   {
    "duration": 12,
    "start_time": "2022-11-29T19:03:48.735Z"
   },
   {
    "duration": 10,
    "start_time": "2022-11-29T19:03:48.941Z"
   },
   {
    "duration": 10,
    "start_time": "2022-11-29T19:03:49.892Z"
   },
   {
    "duration": 234,
    "start_time": "2022-11-29T19:03:50.460Z"
   },
   {
    "duration": 16,
    "start_time": "2022-11-29T19:03:51.105Z"
   },
   {
    "duration": 6,
    "start_time": "2022-11-29T19:03:51.468Z"
   },
   {
    "duration": 5,
    "start_time": "2022-11-29T19:03:51.641Z"
   },
   {
    "duration": 9,
    "start_time": "2022-11-29T19:03:51.819Z"
   },
   {
    "duration": 255,
    "start_time": "2022-11-29T19:03:52.020Z"
   },
   {
    "duration": 6,
    "start_time": "2022-11-29T19:03:52.832Z"
   },
   {
    "duration": 13,
    "start_time": "2022-11-29T19:03:57.071Z"
   },
   {
    "duration": 16,
    "start_time": "2022-11-29T19:03:57.271Z"
   },
   {
    "duration": 7,
    "start_time": "2022-11-29T19:03:57.630Z"
   },
   {
    "duration": 255,
    "start_time": "2022-11-29T19:03:57.817Z"
   },
   {
    "duration": 346,
    "start_time": "2022-11-29T19:03:58.246Z"
   },
   {
    "duration": 6,
    "start_time": "2022-11-29T19:03:58.873Z"
   },
   {
    "duration": 10,
    "start_time": "2022-11-29T19:03:59.114Z"
   },
   {
    "duration": 7,
    "start_time": "2022-11-29T19:03:59.316Z"
   },
   {
    "duration": 9,
    "start_time": "2022-11-29T19:03:59.531Z"
   },
   {
    "duration": 6,
    "start_time": "2022-11-29T19:03:59.747Z"
   },
   {
    "duration": 9,
    "start_time": "2022-11-29T19:04:00.266Z"
   },
   {
    "duration": 7,
    "start_time": "2022-11-29T19:04:00.808Z"
   },
   {
    "duration": 11,
    "start_time": "2022-11-29T19:04:01.023Z"
   },
   {
    "duration": 6,
    "start_time": "2022-11-29T19:04:01.197Z"
   },
   {
    "duration": 10,
    "start_time": "2022-11-29T19:04:01.417Z"
   },
   {
    "duration": 137,
    "start_time": "2022-11-29T19:04:02.242Z"
   },
   {
    "duration": 128,
    "start_time": "2022-11-29T19:04:02.447Z"
   },
   {
    "duration": 9,
    "start_time": "2022-11-29T19:04:03.745Z"
   },
   {
    "duration": 8,
    "start_time": "2022-11-29T19:04:04.008Z"
   },
   {
    "duration": 86,
    "start_time": "2022-11-29T19:04:04.235Z"
   },
   {
    "duration": 521,
    "start_time": "2022-11-29T19:04:09.410Z"
   },
   {
    "duration": 501,
    "start_time": "2022-11-29T19:04:09.932Z"
   },
   {
    "duration": 0,
    "start_time": "2022-11-29T19:07:27.659Z"
   },
   {
    "duration": 420,
    "start_time": "2022-11-29T19:07:42.137Z"
   },
   {
    "duration": 433,
    "start_time": "2022-11-29T19:08:16.105Z"
   },
   {
    "duration": 430,
    "start_time": "2022-11-29T19:08:24.237Z"
   },
   {
    "duration": 953,
    "start_time": "2022-11-29T19:08:42.718Z"
   },
   {
    "duration": 1007,
    "start_time": "2022-11-29T19:08:49.595Z"
   },
   {
    "duration": 928,
    "start_time": "2022-11-29T19:09:22.773Z"
   },
   {
    "duration": 987,
    "start_time": "2022-11-29T19:10:36.886Z"
   },
   {
    "duration": 1566,
    "start_time": "2022-11-30T12:25:12.217Z"
   },
   {
    "duration": 23,
    "start_time": "2022-11-30T12:25:14.083Z"
   },
   {
    "duration": 15,
    "start_time": "2022-11-30T12:25:17.801Z"
   },
   {
    "duration": 16,
    "start_time": "2022-11-30T12:25:31.092Z"
   },
   {
    "duration": 770,
    "start_time": "2022-11-30T12:25:31.858Z"
   },
   {
    "duration": 32,
    "start_time": "2022-11-30T12:25:35.355Z"
   },
   {
    "duration": 17,
    "start_time": "2022-11-30T12:25:39.452Z"
   },
   {
    "duration": 3,
    "start_time": "2022-11-30T12:29:07.451Z"
   },
   {
    "duration": 3,
    "start_time": "2022-11-30T12:30:37.814Z"
   },
   {
    "duration": 4,
    "start_time": "2022-11-30T12:30:39.293Z"
   },
   {
    "duration": 12,
    "start_time": "2022-11-30T12:30:40.183Z"
   },
   {
    "duration": 6,
    "start_time": "2022-11-30T12:30:41.183Z"
   },
   {
    "duration": 18,
    "start_time": "2022-11-30T12:30:42.525Z"
   },
   {
    "duration": 9,
    "start_time": "2022-11-30T12:55:35.569Z"
   },
   {
    "duration": 6,
    "start_time": "2022-11-30T12:56:30.014Z"
   },
   {
    "duration": 24,
    "start_time": "2022-11-30T12:56:33.048Z"
   },
   {
    "duration": 8,
    "start_time": "2022-11-30T12:58:19.048Z"
   },
   {
    "duration": 4,
    "start_time": "2022-11-30T12:58:22.019Z"
   },
   {
    "duration": 5,
    "start_time": "2022-11-30T12:58:23.127Z"
   },
   {
    "duration": 7,
    "start_time": "2022-11-30T12:59:31.121Z"
   },
   {
    "duration": 4,
    "start_time": "2022-11-30T12:59:31.769Z"
   },
   {
    "duration": 6,
    "start_time": "2022-11-30T12:59:32.965Z"
   },
   {
    "duration": 6,
    "start_time": "2022-11-30T12:59:52.441Z"
   },
   {
    "duration": 6,
    "start_time": "2022-11-30T12:59:53.209Z"
   },
   {
    "duration": 7,
    "start_time": "2022-11-30T12:59:58.407Z"
   },
   {
    "duration": 8,
    "start_time": "2022-11-30T12:59:59.067Z"
   },
   {
    "duration": 8,
    "start_time": "2022-11-30T13:00:00.217Z"
   },
   {
    "duration": 6,
    "start_time": "2022-11-30T13:00:02.332Z"
   },
   {
    "duration": 6,
    "start_time": "2022-11-30T13:00:03.569Z"
   },
   {
    "duration": 8,
    "start_time": "2022-11-30T13:14:13.583Z"
   },
   {
    "duration": 7,
    "start_time": "2022-11-30T13:14:14.464Z"
   },
   {
    "duration": 56,
    "start_time": "2022-11-30T13:14:14.472Z"
   },
   {
    "duration": 7,
    "start_time": "2022-11-30T13:14:14.621Z"
   },
   {
    "duration": 5,
    "start_time": "2022-11-30T13:14:15.568Z"
   },
   {
    "duration": 7,
    "start_time": "2022-11-30T13:14:16.463Z"
   },
   {
    "duration": 21,
    "start_time": "2022-11-30T13:14:18.199Z"
   },
   {
    "duration": 4,
    "start_time": "2022-11-30T13:15:21.588Z"
   },
   {
    "duration": 58,
    "start_time": "2022-11-30T13:15:22.334Z"
   },
   {
    "duration": 9,
    "start_time": "2022-11-30T13:15:23.293Z"
   },
   {
    "duration": 10,
    "start_time": "2022-11-30T13:15:41.686Z"
   },
   {
    "duration": 5,
    "start_time": "2022-11-30T13:22:30.758Z"
   },
   {
    "duration": 47,
    "start_time": "2022-11-30T13:26:07.224Z"
   },
   {
    "duration": 7,
    "start_time": "2022-11-30T13:26:09.507Z"
   },
   {
    "duration": 11,
    "start_time": "2022-11-30T13:26:34.151Z"
   },
   {
    "duration": 7,
    "start_time": "2022-11-30T13:26:35.799Z"
   },
   {
    "duration": 60,
    "start_time": "2022-11-30T13:27:21.293Z"
   },
   {
    "duration": 11,
    "start_time": "2022-11-30T13:27:22.250Z"
   },
   {
    "duration": 7,
    "start_time": "2022-11-30T13:27:23.016Z"
   },
   {
    "duration": 11,
    "start_time": "2022-11-30T13:27:35.656Z"
   },
   {
    "duration": 8,
    "start_time": "2022-11-30T13:27:38.224Z"
   },
   {
    "duration": 10,
    "start_time": "2022-11-30T13:27:41.858Z"
   },
   {
    "duration": 12,
    "start_time": "2022-11-30T13:28:14.927Z"
   },
   {
    "duration": 7,
    "start_time": "2022-11-30T13:28:15.476Z"
   },
   {
    "duration": 10,
    "start_time": "2022-11-30T13:28:18.477Z"
   },
   {
    "duration": 176,
    "start_time": "2022-11-30T13:31:37.543Z"
   },
   {
    "duration": 59,
    "start_time": "2022-11-30T13:31:55.760Z"
   },
   {
    "duration": 51,
    "start_time": "2022-11-30T13:32:12.932Z"
   },
   {
    "duration": 59,
    "start_time": "2022-11-30T13:32:13.564Z"
   },
   {
    "duration": 49,
    "start_time": "2022-11-30T13:32:16.901Z"
   },
   {
    "duration": 54,
    "start_time": "2022-11-30T13:32:17.412Z"
   },
   {
    "duration": 7,
    "start_time": "2022-11-30T13:35:08.429Z"
   },
   {
    "duration": 8,
    "start_time": "2022-11-30T13:35:09.259Z"
   },
   {
    "duration": 5,
    "start_time": "2022-11-30T13:35:25.232Z"
   },
   {
    "duration": 6,
    "start_time": "2022-11-30T13:35:25.991Z"
   },
   {
    "duration": 110,
    "start_time": "2022-11-30T13:35:56.700Z"
   },
   {
    "duration": 5,
    "start_time": "2022-11-30T13:35:57.322Z"
   },
   {
    "duration": 9,
    "start_time": "2022-11-30T13:35:58.053Z"
   },
   {
    "duration": 73,
    "start_time": "2022-11-30T13:38:44.203Z"
   },
   {
    "duration": 5,
    "start_time": "2022-11-30T13:38:45.028Z"
   },
   {
    "duration": 7,
    "start_time": "2022-11-30T13:38:46.153Z"
   },
   {
    "duration": 68,
    "start_time": "2022-11-30T13:41:12.421Z"
   },
   {
    "duration": 4,
    "start_time": "2022-11-30T13:41:12.976Z"
   },
   {
    "duration": 7,
    "start_time": "2022-11-30T13:41:13.456Z"
   },
   {
    "duration": 77,
    "start_time": "2022-11-30T13:41:44.278Z"
   },
   {
    "duration": 5,
    "start_time": "2022-11-30T13:41:44.748Z"
   },
   {
    "duration": 8,
    "start_time": "2022-11-30T13:41:45.376Z"
   },
   {
    "duration": 49,
    "start_time": "2022-11-30T13:42:13.013Z"
   },
   {
    "duration": 3,
    "start_time": "2022-11-30T13:42:21.555Z"
   },
   {
    "duration": 5,
    "start_time": "2022-11-30T13:42:22.075Z"
   },
   {
    "duration": 8,
    "start_time": "2022-11-30T13:42:22.548Z"
   },
   {
    "duration": 51,
    "start_time": "2022-11-30T13:42:28.964Z"
   },
   {
    "duration": 2,
    "start_time": "2022-11-30T13:42:29.611Z"
   },
   {
    "duration": 5,
    "start_time": "2022-11-30T13:42:30.037Z"
   },
   {
    "duration": 8,
    "start_time": "2022-11-30T13:42:30.588Z"
   },
   {
    "duration": 68,
    "start_time": "2022-11-30T13:42:34.924Z"
   },
   {
    "duration": 16,
    "start_time": "2022-11-30T13:42:35.092Z"
   },
   {
    "duration": 15,
    "start_time": "2022-11-30T13:42:35.224Z"
   },
   {
    "duration": 652,
    "start_time": "2022-11-30T13:42:35.390Z"
   },
   {
    "duration": 34,
    "start_time": "2022-11-30T13:42:36.044Z"
   },
   {
    "duration": 13,
    "start_time": "2022-11-30T13:42:36.080Z"
   },
   {
    "duration": 2,
    "start_time": "2022-11-30T13:42:36.113Z"
   },
   {
    "duration": 3,
    "start_time": "2022-11-30T13:42:36.543Z"
   },
   {
    "duration": 9,
    "start_time": "2022-11-30T13:42:36.710Z"
   },
   {
    "duration": 8,
    "start_time": "2022-11-30T13:42:36.883Z"
   },
   {
    "duration": 17,
    "start_time": "2022-11-30T13:42:37.059Z"
   },
   {
    "duration": 8,
    "start_time": "2022-11-30T13:42:37.448Z"
   },
   {
    "duration": 6,
    "start_time": "2022-11-30T13:42:37.625Z"
   },
   {
    "duration": 5,
    "start_time": "2022-11-30T13:42:37.796Z"
   },
   {
    "duration": 27,
    "start_time": "2022-11-30T13:42:37.976Z"
   },
   {
    "duration": 6,
    "start_time": "2022-11-30T13:42:38.361Z"
   },
   {
    "duration": 4,
    "start_time": "2022-11-30T13:42:38.575Z"
   },
   {
    "duration": 5,
    "start_time": "2022-11-30T13:42:38.816Z"
   },
   {
    "duration": 6,
    "start_time": "2022-11-30T13:42:39.003Z"
   },
   {
    "duration": 6,
    "start_time": "2022-11-30T13:42:39.217Z"
   },
   {
    "duration": 7,
    "start_time": "2022-11-30T13:42:39.468Z"
   },
   {
    "duration": 7,
    "start_time": "2022-11-30T13:42:39.703Z"
   },
   {
    "duration": 6,
    "start_time": "2022-11-30T13:42:39.883Z"
   },
   {
    "duration": 5,
    "start_time": "2022-11-30T13:42:40.111Z"
   },
   {
    "duration": 19,
    "start_time": "2022-11-30T13:42:40.539Z"
   },
   {
    "duration": 7,
    "start_time": "2022-11-30T13:42:40.768Z"
   },
   {
    "duration": 3,
    "start_time": "2022-11-30T13:42:41.218Z"
   },
   {
    "duration": 40,
    "start_time": "2022-11-30T13:42:41.828Z"
   },
   {
    "duration": 3,
    "start_time": "2022-11-30T13:42:42.443Z"
   },
   {
    "duration": 5,
    "start_time": "2022-11-30T13:42:43.007Z"
   },
   {
    "duration": 10,
    "start_time": "2022-11-30T13:42:43.674Z"
   },
   {
    "duration": 52,
    "start_time": "2022-11-30T13:57:02.817Z"
   },
   {
    "duration": 65,
    "start_time": "2022-11-30T13:57:43.223Z"
   },
   {
    "duration": 5,
    "start_time": "2022-11-30T13:57:48.575Z"
   },
   {
    "duration": 54,
    "start_time": "2022-11-30T13:57:49.533Z"
   },
   {
    "duration": 4,
    "start_time": "2022-11-30T13:58:34.411Z"
   },
   {
    "duration": 9,
    "start_time": "2022-11-30T13:58:35.240Z"
   },
   {
    "duration": 9,
    "start_time": "2022-11-30T13:58:44.049Z"
   },
   {
    "duration": 7,
    "start_time": "2022-11-30T13:58:45.828Z"
   },
   {
    "duration": 5,
    "start_time": "2022-11-30T14:02:46.972Z"
   },
   {
    "duration": 12,
    "start_time": "2022-11-30T14:02:47.580Z"
   },
   {
    "duration": 8,
    "start_time": "2022-11-30T14:02:48.520Z"
   },
   {
    "duration": 12,
    "start_time": "2022-11-30T14:03:46.572Z"
   },
   {
    "duration": 10,
    "start_time": "2022-11-30T14:05:13.183Z"
   },
   {
    "duration": 18,
    "start_time": "2022-11-30T14:07:04.427Z"
   },
   {
    "duration": 5,
    "start_time": "2022-11-30T14:16:02.055Z"
   },
   {
    "duration": 1559,
    "start_time": "2022-12-01T13:58:05.069Z"
   },
   {
    "duration": 20,
    "start_time": "2022-12-01T13:58:06.630Z"
   },
   {
    "duration": 17,
    "start_time": "2022-12-01T13:58:07.799Z"
   },
   {
    "duration": 724,
    "start_time": "2022-12-01T13:58:08.414Z"
   },
   {
    "duration": 35,
    "start_time": "2022-12-01T13:58:09.140Z"
   },
   {
    "duration": 16,
    "start_time": "2022-12-01T13:58:09.556Z"
   },
   {
    "duration": 4,
    "start_time": "2022-12-01T13:58:52.363Z"
   },
   {
    "duration": 9,
    "start_time": "2022-12-01T13:58:53.198Z"
   },
   {
    "duration": 7,
    "start_time": "2022-12-01T13:58:54.576Z"
   },
   {
    "duration": 18,
    "start_time": "2022-12-01T13:58:56.688Z"
   },
   {
    "duration": 10,
    "start_time": "2022-12-01T13:59:21.718Z"
   },
   {
    "duration": 5,
    "start_time": "2022-12-01T13:59:23.565Z"
   },
   {
    "duration": 5,
    "start_time": "2022-12-01T13:59:24.306Z"
   },
   {
    "duration": 24,
    "start_time": "2022-12-01T14:02:35.774Z"
   },
   {
    "duration": 10,
    "start_time": "2022-12-01T14:02:37.276Z"
   },
   {
    "duration": 4,
    "start_time": "2022-12-01T14:02:38.020Z"
   },
   {
    "duration": 6,
    "start_time": "2022-12-01T14:02:38.553Z"
   },
   {
    "duration": 6,
    "start_time": "2022-12-01T14:02:39.065Z"
   },
   {
    "duration": 7,
    "start_time": "2022-12-01T14:02:39.705Z"
   },
   {
    "duration": 7,
    "start_time": "2022-12-01T14:02:40.601Z"
   },
   {
    "duration": 7,
    "start_time": "2022-12-01T14:02:41.452Z"
   },
   {
    "duration": 7,
    "start_time": "2022-12-01T14:02:42.154Z"
   },
   {
    "duration": 6,
    "start_time": "2022-12-01T14:02:42.848Z"
   },
   {
    "duration": 19,
    "start_time": "2022-12-01T14:02:44.944Z"
   },
   {
    "duration": 7,
    "start_time": "2022-12-01T14:02:45.586Z"
   },
   {
    "duration": 4,
    "start_time": "2022-12-01T14:02:48.361Z"
   },
   {
    "duration": 9,
    "start_time": "2022-12-01T14:02:48.952Z"
   },
   {
    "duration": 8,
    "start_time": "2022-12-01T14:02:49.740Z"
   },
   {
    "duration": 16,
    "start_time": "2022-12-01T14:02:50.997Z"
   },
   {
    "duration": 8,
    "start_time": "2022-12-01T14:03:43.758Z"
   },
   {
    "duration": 13,
    "start_time": "2022-12-01T14:04:34.435Z"
   },
   {
    "duration": 6,
    "start_time": "2022-12-01T14:04:54.493Z"
   },
   {
    "duration": 5,
    "start_time": "2022-12-01T14:05:15.894Z"
   },
   {
    "duration": 5,
    "start_time": "2022-12-01T14:05:25.555Z"
   },
   {
    "duration": 24,
    "start_time": "2022-12-01T14:12:53.593Z"
   },
   {
    "duration": 7,
    "start_time": "2022-12-01T14:12:55.948Z"
   },
   {
    "duration": 69,
    "start_time": "2022-12-01T14:13:36.952Z"
   },
   {
    "duration": 1017,
    "start_time": "2022-12-01T14:24:43.708Z"
   },
   {
    "duration": 836,
    "start_time": "2022-12-01T14:24:51.883Z"
   },
   {
    "duration": 57,
    "start_time": "2022-12-01T14:25:05.242Z"
   },
   {
    "duration": 15,
    "start_time": "2022-12-01T14:25:06.039Z"
   },
   {
    "duration": 23,
    "start_time": "2022-12-01T14:25:06.186Z"
   },
   {
    "duration": 885,
    "start_time": "2022-12-01T14:25:06.351Z"
   },
   {
    "duration": 31,
    "start_time": "2022-12-01T14:25:07.238Z"
   },
   {
    "duration": 16,
    "start_time": "2022-12-01T14:25:07.271Z"
   },
   {
    "duration": 4,
    "start_time": "2022-12-01T14:25:07.394Z"
   },
   {
    "duration": 11,
    "start_time": "2022-12-01T14:25:07.554Z"
   },
   {
    "duration": 6,
    "start_time": "2022-12-01T14:25:07.727Z"
   },
   {
    "duration": 19,
    "start_time": "2022-12-01T14:25:07.905Z"
   },
   {
    "duration": 9,
    "start_time": "2022-12-01T14:25:08.241Z"
   },
   {
    "duration": 6,
    "start_time": "2022-12-01T14:25:08.426Z"
   },
   {
    "duration": 5,
    "start_time": "2022-12-01T14:25:08.605Z"
   },
   {
    "duration": 22,
    "start_time": "2022-12-01T14:25:08.776Z"
   },
   {
    "duration": 8,
    "start_time": "2022-12-01T14:25:09.093Z"
   },
   {
    "duration": 5,
    "start_time": "2022-12-01T14:25:09.280Z"
   },
   {
    "duration": 6,
    "start_time": "2022-12-01T14:25:09.467Z"
   },
   {
    "duration": 8,
    "start_time": "2022-12-01T14:25:09.620Z"
   },
   {
    "duration": 8,
    "start_time": "2022-12-01T14:25:09.786Z"
   },
   {
    "duration": 7,
    "start_time": "2022-12-01T14:25:09.959Z"
   },
   {
    "duration": 9,
    "start_time": "2022-12-01T14:25:10.134Z"
   },
   {
    "duration": 5,
    "start_time": "2022-12-01T14:25:10.324Z"
   },
   {
    "duration": 6,
    "start_time": "2022-12-01T14:25:10.509Z"
   },
   {
    "duration": 21,
    "start_time": "2022-12-01T14:25:10.859Z"
   },
   {
    "duration": 7,
    "start_time": "2022-12-01T14:25:11.036Z"
   },
   {
    "duration": 5,
    "start_time": "2022-12-01T14:25:11.408Z"
   },
   {
    "duration": 8,
    "start_time": "2022-12-01T14:25:11.596Z"
   },
   {
    "duration": 7,
    "start_time": "2022-12-01T14:25:11.773Z"
   },
   {
    "duration": 14,
    "start_time": "2022-12-01T14:25:11.997Z"
   },
   {
    "duration": 5,
    "start_time": "2022-12-01T14:25:12.519Z"
   },
   {
    "duration": 231,
    "start_time": "2022-12-01T14:25:13.067Z"
   },
   {
    "duration": 228,
    "start_time": "2022-12-01T14:25:20.034Z"
   },
   {
    "duration": 13,
    "start_time": "2022-12-01T14:41:54.615Z"
   },
   {
    "duration": 11,
    "start_time": "2022-12-01T14:42:47.220Z"
   },
   {
    "duration": 9,
    "start_time": "2022-12-01T14:42:50.541Z"
   },
   {
    "duration": 11,
    "start_time": "2022-12-01T14:48:47.546Z"
   },
   {
    "duration": 9,
    "start_time": "2022-12-01T14:48:48.377Z"
   },
   {
    "duration": 9,
    "start_time": "2022-12-01T14:48:57.760Z"
   },
   {
    "duration": 17,
    "start_time": "2022-12-01T14:48:58.836Z"
   },
   {
    "duration": 7,
    "start_time": "2022-12-01T14:48:59.517Z"
   },
   {
    "duration": 13,
    "start_time": "2022-12-01T14:49:00.084Z"
   },
   {
    "duration": 10,
    "start_time": "2022-12-01T14:49:01.042Z"
   },
   {
    "duration": 4,
    "start_time": "2022-12-01T14:49:22.081Z"
   },
   {
    "duration": 12,
    "start_time": "2022-12-01T14:49:37.558Z"
   },
   {
    "duration": 4,
    "start_time": "2022-12-01T14:49:50.425Z"
   },
   {
    "duration": 11,
    "start_time": "2022-12-01T14:49:51.640Z"
   },
   {
    "duration": 1669,
    "start_time": "2022-12-01T15:48:59.387Z"
   },
   {
    "duration": 26,
    "start_time": "2022-12-01T15:49:01.059Z"
   },
   {
    "duration": 80,
    "start_time": "2022-12-01T15:49:01.087Z"
   },
   {
    "duration": 990,
    "start_time": "2022-12-01T15:49:01.171Z"
   },
   {
    "duration": 51,
    "start_time": "2022-12-01T15:49:02.163Z"
   },
   {
    "duration": 19,
    "start_time": "2022-12-01T15:49:02.217Z"
   },
   {
    "duration": 20,
    "start_time": "2022-12-01T15:49:02.239Z"
   },
   {
    "duration": 14,
    "start_time": "2022-12-01T15:49:02.763Z"
   },
   {
    "duration": 7,
    "start_time": "2022-12-01T15:49:02.982Z"
   },
   {
    "duration": 18,
    "start_time": "2022-12-01T15:49:03.744Z"
   },
   {
    "duration": 13,
    "start_time": "2022-12-01T15:49:04.499Z"
   },
   {
    "duration": 8,
    "start_time": "2022-12-01T15:49:04.739Z"
   },
   {
    "duration": 7,
    "start_time": "2022-12-01T15:49:04.926Z"
   },
   {
    "duration": 33,
    "start_time": "2022-12-01T15:49:05.099Z"
   },
   {
    "duration": 10,
    "start_time": "2022-12-01T15:49:05.516Z"
   },
   {
    "duration": 6,
    "start_time": "2022-12-01T15:49:05.730Z"
   },
   {
    "duration": 7,
    "start_time": "2022-12-01T15:49:05.944Z"
   },
   {
    "duration": 10,
    "start_time": "2022-12-01T15:49:06.144Z"
   },
   {
    "duration": 9,
    "start_time": "2022-12-01T15:49:06.341Z"
   },
   {
    "duration": 9,
    "start_time": "2022-12-01T15:49:06.540Z"
   },
   {
    "duration": 8,
    "start_time": "2022-12-01T15:49:06.716Z"
   },
   {
    "duration": 7,
    "start_time": "2022-12-01T15:49:06.925Z"
   },
   {
    "duration": 8,
    "start_time": "2022-12-01T15:49:07.118Z"
   },
   {
    "duration": 22,
    "start_time": "2022-12-01T15:49:07.506Z"
   },
   {
    "duration": 7,
    "start_time": "2022-12-01T15:49:07.690Z"
   },
   {
    "duration": 5,
    "start_time": "2022-12-01T15:49:08.087Z"
   },
   {
    "duration": 11,
    "start_time": "2022-12-01T15:49:08.931Z"
   },
   {
    "duration": 7,
    "start_time": "2022-12-01T15:49:09.459Z"
   },
   {
    "duration": 14,
    "start_time": "2022-12-01T15:49:09.849Z"
   },
   {
    "duration": 5,
    "start_time": "2022-12-01T15:49:11.543Z"
   },
   {
    "duration": 280,
    "start_time": "2022-12-01T15:49:14.503Z"
   },
   {
    "duration": 234,
    "start_time": "2022-12-01T15:49:21.010Z"
   },
   {
    "duration": 14,
    "start_time": "2022-12-01T15:49:22.789Z"
   },
   {
    "duration": 1599,
    "start_time": "2022-12-02T11:01:53.919Z"
   },
   {
    "duration": 17,
    "start_time": "2022-12-02T11:01:55.521Z"
   },
   {
    "duration": 15,
    "start_time": "2022-12-02T11:01:55.539Z"
   },
   {
    "duration": 685,
    "start_time": "2022-12-02T11:01:55.940Z"
   },
   {
    "duration": 29,
    "start_time": "2022-12-02T11:01:56.626Z"
   },
   {
    "duration": 16,
    "start_time": "2022-12-02T11:01:57.051Z"
   },
   {
    "duration": 3,
    "start_time": "2022-12-02T11:01:59.330Z"
   },
   {
    "duration": 10,
    "start_time": "2022-12-02T11:02:00.038Z"
   },
   {
    "duration": 6,
    "start_time": "2022-12-02T11:02:00.626Z"
   },
   {
    "duration": 22,
    "start_time": "2022-12-02T11:02:01.258Z"
   },
   {
    "duration": 10,
    "start_time": "2022-12-02T11:02:02.384Z"
   },
   {
    "duration": 6,
    "start_time": "2022-12-02T11:02:03.036Z"
   },
   {
    "duration": 6,
    "start_time": "2022-12-02T11:02:03.532Z"
   },
   {
    "duration": 21,
    "start_time": "2022-12-02T11:02:04.044Z"
   },
   {
    "duration": 7,
    "start_time": "2022-12-02T11:02:04.456Z"
   },
   {
    "duration": 4,
    "start_time": "2022-12-02T11:02:04.680Z"
   },
   {
    "duration": 5,
    "start_time": "2022-12-02T11:02:04.895Z"
   },
   {
    "duration": 7,
    "start_time": "2022-12-02T11:02:05.081Z"
   },
   {
    "duration": 5,
    "start_time": "2022-12-02T11:02:05.298Z"
   },
   {
    "duration": 6,
    "start_time": "2022-12-02T11:02:05.492Z"
   },
   {
    "duration": 13,
    "start_time": "2022-12-02T11:02:05.709Z"
   },
   {
    "duration": 5,
    "start_time": "2022-12-02T11:02:05.950Z"
   },
   {
    "duration": 5,
    "start_time": "2022-12-02T11:02:06.159Z"
   },
   {
    "duration": 16,
    "start_time": "2022-12-02T11:02:06.633Z"
   },
   {
    "duration": 7,
    "start_time": "2022-12-02T11:02:06.722Z"
   },
   {
    "duration": 4,
    "start_time": "2022-12-02T11:02:07.146Z"
   },
   {
    "duration": 9,
    "start_time": "2022-12-02T11:02:07.334Z"
   },
   {
    "duration": 9,
    "start_time": "2022-12-02T11:02:07.528Z"
   },
   {
    "duration": 15,
    "start_time": "2022-12-02T11:02:07.725Z"
   },
   {
    "duration": 4,
    "start_time": "2022-12-02T11:02:08.322Z"
   },
   {
    "duration": 222,
    "start_time": "2022-12-02T11:02:08.902Z"
   },
   {
    "duration": 12,
    "start_time": "2022-12-02T11:02:10.884Z"
   },
   {
    "duration": 9,
    "start_time": "2022-12-02T11:02:11.345Z"
   },
   {
    "duration": 22,
    "start_time": "2022-12-02T11:02:12.793Z"
   },
   {
    "duration": 7,
    "start_time": "2022-12-02T11:02:23.824Z"
   },
   {
    "duration": 7,
    "start_time": "2022-12-02T11:02:34.799Z"
   },
   {
    "duration": 9,
    "start_time": "2022-12-02T11:02:35.340Z"
   },
   {
    "duration": 301,
    "start_time": "2022-12-02T11:03:04.022Z"
   },
   {
    "duration": 285,
    "start_time": "2022-12-02T11:03:09.865Z"
   },
   {
    "duration": 2,
    "start_time": "2022-12-02T11:14:04.293Z"
   },
   {
    "duration": 2,
    "start_time": "2022-12-02T11:14:07.881Z"
   },
   {
    "duration": 11,
    "start_time": "2022-12-02T11:15:07.210Z"
   },
   {
    "duration": 8,
    "start_time": "2022-12-02T11:15:08.388Z"
   },
   {
    "duration": 7,
    "start_time": "2022-12-02T11:20:58.140Z"
   },
   {
    "duration": 78,
    "start_time": "2022-12-02T11:21:10.442Z"
   },
   {
    "duration": 111,
    "start_time": "2022-12-02T11:21:15.902Z"
   },
   {
    "duration": 6,
    "start_time": "2022-12-02T11:21:51.372Z"
   },
   {
    "duration": 29,
    "start_time": "2022-12-02T11:21:51.899Z"
   },
   {
    "duration": 6,
    "start_time": "2022-12-02T11:22:15.417Z"
   },
   {
    "duration": 33,
    "start_time": "2022-12-02T11:22:16.035Z"
   },
   {
    "duration": 13,
    "start_time": "2022-12-02T11:22:23.723Z"
   },
   {
    "duration": 98,
    "start_time": "2022-12-02T11:29:53.859Z"
   },
   {
    "duration": 15,
    "start_time": "2022-12-02T11:30:06.243Z"
   },
   {
    "duration": 23,
    "start_time": "2022-12-02T11:30:11.770Z"
   },
   {
    "duration": 417,
    "start_time": "2022-12-02T11:30:57.333Z"
   },
   {
    "duration": 13,
    "start_time": "2022-12-02T11:32:09.662Z"
   },
   {
    "duration": 307,
    "start_time": "2022-12-02T11:32:21.409Z"
   },
   {
    "duration": 7,
    "start_time": "2022-12-02T11:33:14.775Z"
   },
   {
    "duration": 211,
    "start_time": "2022-12-02T11:33:16.953Z"
   },
   {
    "duration": 6,
    "start_time": "2022-12-02T11:33:43.363Z"
   },
   {
    "duration": 246,
    "start_time": "2022-12-02T11:33:44.242Z"
   },
   {
    "duration": 7,
    "start_time": "2022-12-02T11:44:21.195Z"
   },
   {
    "duration": 282,
    "start_time": "2022-12-02T11:44:22.069Z"
   },
   {
    "duration": 9,
    "start_time": "2022-12-02T11:44:48.394Z"
   },
   {
    "duration": 242,
    "start_time": "2022-12-02T11:44:49.454Z"
   },
   {
    "duration": 8,
    "start_time": "2022-12-02T11:45:15.884Z"
   },
   {
    "duration": 254,
    "start_time": "2022-12-02T11:45:16.768Z"
   },
   {
    "duration": 8,
    "start_time": "2022-12-02T11:45:54.156Z"
   },
   {
    "duration": 252,
    "start_time": "2022-12-02T11:45:54.666Z"
   },
   {
    "duration": 13,
    "start_time": "2022-12-02T11:49:50.990Z"
   },
   {
    "duration": 8,
    "start_time": "2022-12-02T11:50:06.433Z"
   },
   {
    "duration": 11,
    "start_time": "2022-12-02T11:50:36.240Z"
   },
   {
    "duration": 8,
    "start_time": "2022-12-02T11:50:37.919Z"
   },
   {
    "duration": 13,
    "start_time": "2022-12-02T11:50:53.882Z"
   },
   {
    "duration": 10,
    "start_time": "2022-12-02T11:50:55.171Z"
   },
   {
    "duration": 10,
    "start_time": "2022-12-02T11:57:05.966Z"
   },
   {
    "duration": 7,
    "start_time": "2022-12-02T11:57:06.643Z"
   },
   {
    "duration": 343,
    "start_time": "2022-12-02T11:57:12.266Z"
   },
   {
    "duration": 8,
    "start_time": "2022-12-02T11:58:57.405Z"
   },
   {
    "duration": 217,
    "start_time": "2022-12-02T11:59:00.929Z"
   },
   {
    "duration": 6,
    "start_time": "2022-12-02T11:59:34.310Z"
   },
   {
    "duration": 307,
    "start_time": "2022-12-02T11:59:35.098Z"
   },
   {
    "duration": 6,
    "start_time": "2022-12-02T12:03:32.659Z"
   },
   {
    "duration": 215,
    "start_time": "2022-12-02T12:03:33.191Z"
   },
   {
    "duration": 6,
    "start_time": "2022-12-02T12:06:35.405Z"
   },
   {
    "duration": 215,
    "start_time": "2022-12-02T12:06:36.336Z"
   },
   {
    "duration": 6,
    "start_time": "2022-12-02T12:09:12.886Z"
   },
   {
    "duration": 279,
    "start_time": "2022-12-02T12:09:17.437Z"
   },
   {
    "duration": 340,
    "start_time": "2022-12-02T12:11:21.663Z"
   },
   {
    "duration": 7,
    "start_time": "2022-12-02T12:12:22.583Z"
   },
   {
    "duration": 227,
    "start_time": "2022-12-02T12:12:23.116Z"
   },
   {
    "duration": 7,
    "start_time": "2022-12-02T12:18:52.410Z"
   },
   {
    "duration": 239,
    "start_time": "2022-12-02T12:18:52.988Z"
   },
   {
    "duration": 332,
    "start_time": "2022-12-02T12:18:55.278Z"
   },
   {
    "duration": 7,
    "start_time": "2022-12-02T12:25:05.540Z"
   },
   {
    "duration": 10,
    "start_time": "2022-12-02T12:25:06.095Z"
   },
   {
    "duration": 10,
    "start_time": "2022-12-02T12:25:11.164Z"
   },
   {
    "duration": 6,
    "start_time": "2022-12-02T12:25:43.860Z"
   },
   {
    "duration": 9,
    "start_time": "2022-12-02T12:25:44.276Z"
   },
   {
    "duration": 7,
    "start_time": "2022-12-02T12:25:53.713Z"
   },
   {
    "duration": 9,
    "start_time": "2022-12-02T12:25:54.330Z"
   },
   {
    "duration": 6,
    "start_time": "2022-12-02T12:26:52.288Z"
   },
   {
    "duration": 8,
    "start_time": "2022-12-02T12:28:06.715Z"
   },
   {
    "duration": 13,
    "start_time": "2022-12-02T12:28:07.293Z"
   },
   {
    "duration": 6,
    "start_time": "2022-12-02T12:28:28.782Z"
   },
   {
    "duration": 10,
    "start_time": "2022-12-02T12:28:29.359Z"
   },
   {
    "duration": 5,
    "start_time": "2022-12-02T12:28:29.970Z"
   },
   {
    "duration": 10,
    "start_time": "2022-12-02T12:28:30.510Z"
   },
   {
    "duration": 9,
    "start_time": "2022-12-02T12:30:12.803Z"
   },
   {
    "duration": 9,
    "start_time": "2022-12-02T12:31:26.231Z"
   },
   {
    "duration": 10,
    "start_time": "2022-12-02T12:31:27.010Z"
   },
   {
    "duration": 213,
    "start_time": "2022-12-02T12:31:48.896Z"
   },
   {
    "duration": 19,
    "start_time": "2022-12-02T12:32:20.669Z"
   },
   {
    "duration": 17,
    "start_time": "2022-12-02T12:32:34.223Z"
   },
   {
    "duration": 12,
    "start_time": "2022-12-02T12:32:40.175Z"
   },
   {
    "duration": 18,
    "start_time": "2022-12-02T12:33:15.179Z"
   },
   {
    "duration": 50,
    "start_time": "2022-12-02T12:33:30.218Z"
   },
   {
    "duration": 14,
    "start_time": "2022-12-02T12:33:30.419Z"
   },
   {
    "duration": 14,
    "start_time": "2022-12-02T12:33:30.573Z"
   },
   {
    "duration": 691,
    "start_time": "2022-12-02T12:33:30.724Z"
   },
   {
    "duration": 27,
    "start_time": "2022-12-02T12:33:31.418Z"
   },
   {
    "duration": 20,
    "start_time": "2022-12-02T12:33:31.447Z"
   },
   {
    "duration": 4,
    "start_time": "2022-12-02T12:33:31.754Z"
   },
   {
    "duration": 11,
    "start_time": "2022-12-02T12:33:31.939Z"
   },
   {
    "duration": 6,
    "start_time": "2022-12-02T12:33:32.098Z"
   },
   {
    "duration": 18,
    "start_time": "2022-12-02T12:33:32.288Z"
   },
   {
    "duration": 11,
    "start_time": "2022-12-02T12:33:32.626Z"
   },
   {
    "duration": 7,
    "start_time": "2022-12-02T12:33:32.818Z"
   },
   {
    "duration": 7,
    "start_time": "2022-12-02T12:33:32.979Z"
   },
   {
    "duration": 20,
    "start_time": "2022-12-02T12:33:33.165Z"
   },
   {
    "duration": 6,
    "start_time": "2022-12-02T12:33:33.540Z"
   },
   {
    "duration": 4,
    "start_time": "2022-12-02T12:33:33.684Z"
   },
   {
    "duration": 5,
    "start_time": "2022-12-02T12:33:33.836Z"
   },
   {
    "duration": 6,
    "start_time": "2022-12-02T12:33:34.020Z"
   },
   {
    "duration": 7,
    "start_time": "2022-12-02T12:33:34.193Z"
   },
   {
    "duration": 6,
    "start_time": "2022-12-02T12:33:34.363Z"
   },
   {
    "duration": 7,
    "start_time": "2022-12-02T12:33:34.520Z"
   },
   {
    "duration": 6,
    "start_time": "2022-12-02T12:33:34.699Z"
   },
   {
    "duration": 6,
    "start_time": "2022-12-02T12:33:34.871Z"
   },
   {
    "duration": 17,
    "start_time": "2022-12-02T12:33:35.227Z"
   },
   {
    "duration": 7,
    "start_time": "2022-12-02T12:33:35.397Z"
   },
   {
    "duration": 4,
    "start_time": "2022-12-02T12:33:35.722Z"
   },
   {
    "duration": 7,
    "start_time": "2022-12-02T12:33:35.909Z"
   },
   {
    "duration": 7,
    "start_time": "2022-12-02T12:33:36.068Z"
   },
   {
    "duration": 16,
    "start_time": "2022-12-02T12:33:36.229Z"
   },
   {
    "duration": 5,
    "start_time": "2022-12-02T12:33:36.767Z"
   },
   {
    "duration": 224,
    "start_time": "2022-12-02T12:33:37.514Z"
   },
   {
    "duration": 12,
    "start_time": "2022-12-02T12:33:39.095Z"
   },
   {
    "duration": 8,
    "start_time": "2022-12-02T12:33:39.710Z"
   },
   {
    "duration": 22,
    "start_time": "2022-12-02T12:33:40.967Z"
   },
   {
    "duration": 6,
    "start_time": "2022-12-02T12:33:41.615Z"
   },
   {
    "duration": 6,
    "start_time": "2022-12-02T12:33:42.311Z"
   },
   {
    "duration": 12,
    "start_time": "2022-12-02T12:33:42.970Z"
   },
   {
    "duration": 284,
    "start_time": "2022-12-02T12:33:43.705Z"
   },
   {
    "duration": 8,
    "start_time": "2022-12-02T12:33:45.862Z"
   },
   {
    "duration": 10,
    "start_time": "2022-12-02T12:33:46.237Z"
   },
   {
    "duration": 8,
    "start_time": "2022-12-02T12:33:46.449Z"
   },
   {
    "duration": 312,
    "start_time": "2022-12-02T12:33:46.840Z"
   },
   {
    "duration": 7,
    "start_time": "2022-12-02T12:33:47.217Z"
   },
   {
    "duration": 327,
    "start_time": "2022-12-02T12:33:47.391Z"
   },
   {
    "duration": 359,
    "start_time": "2022-12-02T12:33:47.979Z"
   },
   {
    "duration": 8,
    "start_time": "2022-12-02T12:33:49.528Z"
   },
   {
    "duration": 10,
    "start_time": "2022-12-02T12:33:50.080Z"
   },
   {
    "duration": 5,
    "start_time": "2022-12-02T12:33:50.596Z"
   },
   {
    "duration": 13,
    "start_time": "2022-12-02T12:33:51.110Z"
   },
   {
    "duration": 221,
    "start_time": "2022-12-02T12:33:51.656Z"
   },
   {
    "duration": 137,
    "start_time": "2022-12-02T12:33:52.235Z"
   },
   {
    "duration": 17,
    "start_time": "2022-12-02T12:33:54.665Z"
   },
   {
    "duration": 9,
    "start_time": "2022-12-02T12:34:06.807Z"
   },
   {
    "duration": 69,
    "start_time": "2022-12-02T12:34:12.374Z"
   },
   {
    "duration": 10,
    "start_time": "2022-12-02T12:34:16.123Z"
   },
   {
    "duration": 9,
    "start_time": "2022-12-02T12:38:04.826Z"
   },
   {
    "duration": 10,
    "start_time": "2022-12-02T12:38:21.258Z"
   },
   {
    "duration": 8,
    "start_time": "2022-12-02T12:38:21.852Z"
   },
   {
    "duration": 183,
    "start_time": "2022-12-02T12:38:27.816Z"
   },
   {
    "duration": 1656,
    "start_time": "2022-12-02T12:40:26.761Z"
   },
   {
    "duration": 306,
    "start_time": "2022-12-02T12:41:00.166Z"
   },
   {
    "duration": 364,
    "start_time": "2022-12-02T12:41:11.957Z"
   },
   {
    "duration": 327,
    "start_time": "2022-12-02T12:41:24.271Z"
   },
   {
    "duration": 507,
    "start_time": "2022-12-02T13:05:18.938Z"
   },
   {
    "duration": 337,
    "start_time": "2022-12-02T13:07:14.646Z"
   },
   {
    "duration": 90,
    "start_time": "2022-12-02T13:13:37.411Z"
   },
   {
    "duration": 113,
    "start_time": "2022-12-02T13:13:52.158Z"
   },
   {
    "duration": 17,
    "start_time": "2022-12-02T13:14:46.695Z"
   },
   {
    "duration": 14,
    "start_time": "2022-12-02T13:17:00.678Z"
   },
   {
    "duration": 13,
    "start_time": "2022-12-02T13:17:10.517Z"
   },
   {
    "duration": 13,
    "start_time": "2022-12-02T13:17:36.722Z"
   },
   {
    "duration": 22,
    "start_time": "2022-12-02T13:18:18.844Z"
   },
   {
    "duration": 4,
    "start_time": "2022-12-02T13:20:18.113Z"
   },
   {
    "duration": 11,
    "start_time": "2022-12-02T13:20:28.391Z"
   },
   {
    "duration": 12,
    "start_time": "2022-12-02T13:20:48.432Z"
   },
   {
    "duration": 21,
    "start_time": "2022-12-02T13:21:14.946Z"
   },
   {
    "duration": 152,
    "start_time": "2022-12-02T13:21:39.897Z"
   },
   {
    "duration": 241,
    "start_time": "2022-12-02T13:22:58.694Z"
   },
   {
    "duration": 15,
    "start_time": "2022-12-02T13:23:19.206Z"
   },
   {
    "duration": 28,
    "start_time": "2022-12-02T13:23:42.079Z"
   },
   {
    "duration": 16,
    "start_time": "2022-12-02T13:26:46.892Z"
   },
   {
    "duration": 17,
    "start_time": "2022-12-02T13:26:59.861Z"
   },
   {
    "duration": 21,
    "start_time": "2022-12-02T13:27:09.867Z"
   },
   {
    "duration": 16,
    "start_time": "2022-12-02T13:27:16.973Z"
   },
   {
    "duration": 230,
    "start_time": "2022-12-02T13:30:41.654Z"
   },
   {
    "duration": 202,
    "start_time": "2022-12-02T13:30:52.560Z"
   },
   {
    "duration": 217,
    "start_time": "2022-12-02T13:31:05.969Z"
   },
   {
    "duration": 215,
    "start_time": "2022-12-02T13:31:19.364Z"
   },
   {
    "duration": 367,
    "start_time": "2022-12-02T13:31:48.318Z"
   },
   {
    "duration": 70,
    "start_time": "2022-12-02T13:32:57.098Z"
   },
   {
    "duration": 401,
    "start_time": "2022-12-02T13:33:13.527Z"
   },
   {
    "duration": 435,
    "start_time": "2022-12-02T13:34:08.334Z"
   },
   {
    "duration": 506,
    "start_time": "2022-12-02T13:34:20.861Z"
   },
   {
    "duration": 230,
    "start_time": "2022-12-02T13:34:41.416Z"
   },
   {
    "duration": 238,
    "start_time": "2022-12-02T13:35:01.297Z"
   },
   {
    "duration": 217,
    "start_time": "2022-12-02T13:35:18.816Z"
   },
   {
    "duration": 410,
    "start_time": "2022-12-02T13:37:23.257Z"
   },
   {
    "duration": 435,
    "start_time": "2022-12-02T13:37:57.559Z"
   },
   {
    "duration": 21,
    "start_time": "2022-12-02T13:40:33.636Z"
   },
   {
    "duration": 449,
    "start_time": "2022-12-02T13:40:44.280Z"
   },
   {
    "duration": 4,
    "start_time": "2022-12-02T13:41:11.510Z"
   },
   {
    "duration": 548,
    "start_time": "2022-12-02T13:41:12.836Z"
   },
   {
    "duration": 4,
    "start_time": "2022-12-02T13:43:03.962Z"
   },
   {
    "duration": 3,
    "start_time": "2022-12-02T13:43:11.615Z"
   },
   {
    "duration": 582,
    "start_time": "2022-12-02T13:49:11.267Z"
   },
   {
    "duration": 574,
    "start_time": "2022-12-02T13:49:19.131Z"
   },
   {
    "duration": 579,
    "start_time": "2022-12-02T13:51:52.906Z"
   },
   {
    "duration": 572,
    "start_time": "2022-12-02T13:54:59.070Z"
   },
   {
    "duration": 76,
    "start_time": "2022-12-02T14:13:20.233Z"
   },
   {
    "duration": 6,
    "start_time": "2022-12-02T14:18:43.832Z"
   },
   {
    "duration": 13,
    "start_time": "2022-12-02T14:20:55.535Z"
   },
   {
    "duration": 8,
    "start_time": "2022-12-02T14:22:02.078Z"
   },
   {
    "duration": 11,
    "start_time": "2022-12-02T14:22:02.846Z"
   },
   {
    "duration": 7,
    "start_time": "2022-12-02T14:22:28.951Z"
   },
   {
    "duration": 3,
    "start_time": "2022-12-02T14:22:29.393Z"
   },
   {
    "duration": 4,
    "start_time": "2022-12-02T14:22:50.651Z"
   },
   {
    "duration": 5,
    "start_time": "2022-12-02T14:23:03.724Z"
   },
   {
    "duration": 9,
    "start_time": "2022-12-02T14:28:43.069Z"
   },
   {
    "duration": 49,
    "start_time": "2022-12-02T14:29:07.718Z"
   },
   {
    "duration": 4,
    "start_time": "2022-12-02T14:29:24.268Z"
   },
   {
    "duration": 12,
    "start_time": "2022-12-02T14:35:27.347Z"
   },
   {
    "duration": 10,
    "start_time": "2022-12-02T14:36:03.644Z"
   },
   {
    "duration": 3,
    "start_time": "2022-12-02T14:40:11.248Z"
   },
   {
    "duration": 9,
    "start_time": "2022-12-02T14:41:19.694Z"
   },
   {
    "duration": 4,
    "start_time": "2022-12-02T14:41:20.511Z"
   },
   {
    "duration": 9,
    "start_time": "2022-12-02T14:42:23.241Z"
   },
   {
    "duration": 4,
    "start_time": "2022-12-02T14:42:23.980Z"
   },
   {
    "duration": 5,
    "start_time": "2022-12-02T14:43:17.915Z"
   },
   {
    "duration": 9,
    "start_time": "2022-12-02T14:43:20.445Z"
   },
   {
    "duration": 4,
    "start_time": "2022-12-02T14:43:21.395Z"
   },
   {
    "duration": 11,
    "start_time": "2022-12-02T14:44:08.170Z"
   },
   {
    "duration": 4,
    "start_time": "2022-12-02T14:44:08.674Z"
   },
   {
    "duration": 5,
    "start_time": "2022-12-02T14:45:17.207Z"
   },
   {
    "duration": 10,
    "start_time": "2022-12-02T14:45:45.014Z"
   },
   {
    "duration": 4,
    "start_time": "2022-12-02T14:45:45.681Z"
   },
   {
    "duration": 9,
    "start_time": "2022-12-02T14:46:00.724Z"
   },
   {
    "duration": 5,
    "start_time": "2022-12-02T14:46:02.238Z"
   },
   {
    "duration": 5,
    "start_time": "2022-12-02T14:49:36.950Z"
   },
   {
    "duration": 2,
    "start_time": "2022-12-02T14:52:52.604Z"
   },
   {
    "duration": 1534,
    "start_time": "2022-12-03T07:48:23.861Z"
   },
   {
    "duration": 19,
    "start_time": "2022-12-03T07:48:25.398Z"
   },
   {
    "duration": 16,
    "start_time": "2022-12-03T07:48:25.419Z"
   },
   {
    "duration": 678,
    "start_time": "2022-12-03T07:48:25.438Z"
   },
   {
    "duration": 36,
    "start_time": "2022-12-03T07:48:26.118Z"
   },
   {
    "duration": 22,
    "start_time": "2022-12-03T07:48:26.156Z"
   },
   {
    "duration": 8,
    "start_time": "2022-12-03T07:48:26.256Z"
   },
   {
    "duration": 9,
    "start_time": "2022-12-03T07:48:26.590Z"
   },
   {
    "duration": 7,
    "start_time": "2022-12-03T07:48:26.761Z"
   },
   {
    "duration": 17,
    "start_time": "2022-12-03T07:48:26.926Z"
   },
   {
    "duration": 10,
    "start_time": "2022-12-03T07:48:27.261Z"
   },
   {
    "duration": 6,
    "start_time": "2022-12-03T07:48:27.594Z"
   },
   {
    "duration": 5,
    "start_time": "2022-12-03T07:48:27.771Z"
   },
   {
    "duration": 26,
    "start_time": "2022-12-03T07:48:27.942Z"
   },
   {
    "duration": 8,
    "start_time": "2022-12-03T07:48:28.471Z"
   },
   {
    "duration": 4,
    "start_time": "2022-12-03T07:48:28.838Z"
   },
   {
    "duration": 7,
    "start_time": "2022-12-03T07:48:29.024Z"
   },
   {
    "duration": 8,
    "start_time": "2022-12-03T07:48:29.199Z"
   },
   {
    "duration": 7,
    "start_time": "2022-12-03T07:48:29.382Z"
   },
   {
    "duration": 9,
    "start_time": "2022-12-03T07:48:29.561Z"
   },
   {
    "duration": 7,
    "start_time": "2022-12-03T07:48:29.766Z"
   },
   {
    "duration": 5,
    "start_time": "2022-12-03T07:48:29.919Z"
   },
   {
    "duration": 5,
    "start_time": "2022-12-03T07:48:30.090Z"
   },
   {
    "duration": 23,
    "start_time": "2022-12-03T07:48:30.440Z"
   },
   {
    "duration": 7,
    "start_time": "2022-12-03T07:48:30.828Z"
   },
   {
    "duration": 4,
    "start_time": "2022-12-03T07:48:31.192Z"
   },
   {
    "duration": 9,
    "start_time": "2022-12-03T07:48:31.671Z"
   },
   {
    "duration": 7,
    "start_time": "2022-12-03T07:48:31.912Z"
   },
   {
    "duration": 15,
    "start_time": "2022-12-03T07:48:32.294Z"
   },
   {
    "duration": 5,
    "start_time": "2022-12-03T07:48:32.895Z"
   },
   {
    "duration": 47,
    "start_time": "2022-12-03T07:48:36.921Z"
   },
   {
    "duration": 1293,
    "start_time": "2022-12-03T08:00:46.089Z"
   },
   {
    "duration": 20,
    "start_time": "2022-12-03T08:00:47.384Z"
   },
   {
    "duration": 17,
    "start_time": "2022-12-03T08:00:47.406Z"
   },
   {
    "duration": 728,
    "start_time": "2022-12-03T08:00:47.426Z"
   },
   {
    "duration": 42,
    "start_time": "2022-12-03T08:00:48.156Z"
   },
   {
    "duration": 19,
    "start_time": "2022-12-03T08:00:48.200Z"
   },
   {
    "duration": 30,
    "start_time": "2022-12-03T08:00:48.221Z"
   },
   {
    "duration": 19,
    "start_time": "2022-12-03T08:00:48.253Z"
   },
   {
    "duration": 13,
    "start_time": "2022-12-03T08:00:48.274Z"
   },
   {
    "duration": 31,
    "start_time": "2022-12-03T08:00:48.291Z"
   },
   {
    "duration": 33,
    "start_time": "2022-12-03T08:00:48.325Z"
   },
   {
    "duration": 9,
    "start_time": "2022-12-03T08:00:48.361Z"
   },
   {
    "duration": 8,
    "start_time": "2022-12-03T08:00:48.372Z"
   },
   {
    "duration": 39,
    "start_time": "2022-12-03T08:00:48.382Z"
   },
   {
    "duration": 28,
    "start_time": "2022-12-03T08:00:48.423Z"
   },
   {
    "duration": 5,
    "start_time": "2022-12-03T08:00:48.453Z"
   },
   {
    "duration": 7,
    "start_time": "2022-12-03T08:00:48.460Z"
   },
   {
    "duration": 10,
    "start_time": "2022-12-03T08:00:48.469Z"
   },
   {
    "duration": 13,
    "start_time": "2022-12-03T08:00:48.481Z"
   },
   {
    "duration": 9,
    "start_time": "2022-12-03T08:00:48.496Z"
   },
   {
    "duration": 50,
    "start_time": "2022-12-03T08:00:48.507Z"
   },
   {
    "duration": 7,
    "start_time": "2022-12-03T08:00:48.560Z"
   },
   {
    "duration": 8,
    "start_time": "2022-12-03T08:00:48.570Z"
   },
   {
    "duration": 33,
    "start_time": "2022-12-03T08:00:48.580Z"
   },
   {
    "duration": 35,
    "start_time": "2022-12-03T08:00:48.616Z"
   },
   {
    "duration": 5,
    "start_time": "2022-12-03T08:00:48.653Z"
   },
   {
    "duration": 14,
    "start_time": "2022-12-03T08:00:48.660Z"
   },
   {
    "duration": 10,
    "start_time": "2022-12-03T08:00:48.679Z"
   },
   {
    "duration": 20,
    "start_time": "2022-12-03T08:00:48.691Z"
   },
   {
    "duration": 6,
    "start_time": "2022-12-03T08:00:48.713Z"
   },
   {
    "duration": 278,
    "start_time": "2022-12-03T08:00:48.721Z"
   },
   {
    "duration": 22,
    "start_time": "2022-12-03T08:00:49.001Z"
   },
   {
    "duration": 28,
    "start_time": "2022-12-03T08:00:49.025Z"
   },
   {
    "duration": 30,
    "start_time": "2022-12-03T08:00:49.056Z"
   },
   {
    "duration": 9,
    "start_time": "2022-12-03T08:00:49.089Z"
   },
   {
    "duration": 18,
    "start_time": "2022-12-03T08:00:49.100Z"
   },
   {
    "duration": 31,
    "start_time": "2022-12-03T08:00:49.120Z"
   },
   {
    "duration": 338,
    "start_time": "2022-12-03T08:00:49.153Z"
   },
   {
    "duration": 8,
    "start_time": "2022-12-03T08:00:49.493Z"
   },
   {
    "duration": 12,
    "start_time": "2022-12-03T08:00:49.503Z"
   },
   {
    "duration": 10,
    "start_time": "2022-12-03T08:00:49.517Z"
   },
   {
    "duration": 517,
    "start_time": "2022-12-03T08:00:49.552Z"
   },
   {
    "duration": 9,
    "start_time": "2022-12-03T08:00:50.071Z"
   },
   {
    "duration": 364,
    "start_time": "2022-12-03T08:00:50.082Z"
   },
   {
    "duration": 407,
    "start_time": "2022-12-03T08:00:50.450Z"
   },
   {
    "duration": 7,
    "start_time": "2022-12-03T08:00:50.859Z"
   },
   {
    "duration": 25,
    "start_time": "2022-12-03T08:00:50.868Z"
   },
   {
    "duration": 8,
    "start_time": "2022-12-03T08:00:50.896Z"
   },
   {
    "duration": 7,
    "start_time": "2022-12-03T08:00:50.906Z"
   },
   {
    "duration": 10,
    "start_time": "2022-12-03T08:00:50.915Z"
   },
   {
    "duration": 164,
    "start_time": "2022-12-03T08:00:50.927Z"
   },
   {
    "duration": 103,
    "start_time": "2022-12-03T08:00:51.093Z"
   },
   {
    "duration": 0,
    "start_time": "2022-12-03T08:00:51.198Z"
   },
   {
    "duration": 0,
    "start_time": "2022-12-03T08:00:51.200Z"
   },
   {
    "duration": 0,
    "start_time": "2022-12-03T08:00:51.201Z"
   },
   {
    "duration": 0,
    "start_time": "2022-12-03T08:00:51.203Z"
   },
   {
    "duration": 0,
    "start_time": "2022-12-03T08:00:51.204Z"
   },
   {
    "duration": 0,
    "start_time": "2022-12-03T08:00:51.205Z"
   },
   {
    "duration": 0,
    "start_time": "2022-12-03T08:00:51.206Z"
   },
   {
    "duration": 0,
    "start_time": "2022-12-03T08:00:51.207Z"
   },
   {
    "duration": 0,
    "start_time": "2022-12-03T08:00:51.209Z"
   },
   {
    "duration": 0,
    "start_time": "2022-12-03T08:00:51.210Z"
   },
   {
    "duration": 0,
    "start_time": "2022-12-03T08:00:51.211Z"
   },
   {
    "duration": 0,
    "start_time": "2022-12-03T08:00:51.212Z"
   },
   {
    "duration": 1305,
    "start_time": "2022-12-03T08:02:25.449Z"
   },
   {
    "duration": 25,
    "start_time": "2022-12-03T08:02:26.757Z"
   },
   {
    "duration": 28,
    "start_time": "2022-12-03T08:02:26.785Z"
   },
   {
    "duration": 735,
    "start_time": "2022-12-03T08:02:26.816Z"
   },
   {
    "duration": 46,
    "start_time": "2022-12-03T08:02:27.552Z"
   },
   {
    "duration": 18,
    "start_time": "2022-12-03T08:02:27.601Z"
   },
   {
    "duration": 5,
    "start_time": "2022-12-03T08:02:27.620Z"
   },
   {
    "duration": 39,
    "start_time": "2022-12-03T08:02:27.626Z"
   },
   {
    "duration": 10,
    "start_time": "2022-12-03T08:02:27.667Z"
   },
   {
    "duration": 29,
    "start_time": "2022-12-03T08:02:27.680Z"
   },
   {
    "duration": 13,
    "start_time": "2022-12-03T08:02:27.710Z"
   },
   {
    "duration": 7,
    "start_time": "2022-12-03T08:02:27.752Z"
   },
   {
    "duration": 9,
    "start_time": "2022-12-03T08:02:27.761Z"
   },
   {
    "duration": 32,
    "start_time": "2022-12-03T08:02:27.772Z"
   },
   {
    "duration": 11,
    "start_time": "2022-12-03T08:02:27.806Z"
   },
   {
    "duration": 4,
    "start_time": "2022-12-03T08:02:27.819Z"
   },
   {
    "duration": 7,
    "start_time": "2022-12-03T08:02:27.851Z"
   },
   {
    "duration": 11,
    "start_time": "2022-12-03T08:02:27.859Z"
   },
   {
    "duration": 7,
    "start_time": "2022-12-03T08:02:27.873Z"
   },
   {
    "duration": 9,
    "start_time": "2022-12-03T08:02:27.881Z"
   },
   {
    "duration": 7,
    "start_time": "2022-12-03T08:02:27.893Z"
   },
   {
    "duration": 7,
    "start_time": "2022-12-03T08:02:27.902Z"
   },
   {
    "duration": 45,
    "start_time": "2022-12-03T08:02:27.910Z"
   },
   {
    "duration": 54,
    "start_time": "2022-12-03T08:02:27.956Z"
   },
   {
    "duration": 9,
    "start_time": "2022-12-03T08:02:28.013Z"
   },
   {
    "duration": 6,
    "start_time": "2022-12-03T08:02:28.024Z"
   },
   {
    "duration": 14,
    "start_time": "2022-12-03T08:02:28.031Z"
   },
   {
    "duration": 8,
    "start_time": "2022-12-03T08:02:28.050Z"
   },
   {
    "duration": 19,
    "start_time": "2022-12-03T08:02:28.060Z"
   },
   {
    "duration": 5,
    "start_time": "2022-12-03T08:02:28.081Z"
   },
   {
    "duration": 272,
    "start_time": "2022-12-03T08:02:28.088Z"
   },
   {
    "duration": 13,
    "start_time": "2022-12-03T08:02:28.362Z"
   },
   {
    "duration": 10,
    "start_time": "2022-12-03T08:02:28.377Z"
   },
   {
    "duration": 19,
    "start_time": "2022-12-03T08:02:28.389Z"
   },
   {
    "duration": 7,
    "start_time": "2022-12-03T08:02:28.409Z"
   },
   {
    "duration": 36,
    "start_time": "2022-12-03T08:02:28.418Z"
   },
   {
    "duration": 13,
    "start_time": "2022-12-03T08:02:28.456Z"
   },
   {
    "duration": 336,
    "start_time": "2022-12-03T08:02:28.471Z"
   },
   {
    "duration": 10,
    "start_time": "2022-12-03T08:02:28.809Z"
   },
   {
    "duration": 17,
    "start_time": "2022-12-03T08:02:28.821Z"
   },
   {
    "duration": 20,
    "start_time": "2022-12-03T08:02:28.840Z"
   },
   {
    "duration": 417,
    "start_time": "2022-12-03T08:02:28.863Z"
   },
   {
    "duration": 9,
    "start_time": "2022-12-03T08:02:29.283Z"
   },
   {
    "duration": 391,
    "start_time": "2022-12-03T08:02:29.295Z"
   },
   {
    "duration": 461,
    "start_time": "2022-12-03T08:02:29.690Z"
   },
   {
    "duration": 9,
    "start_time": "2022-12-03T08:02:30.153Z"
   },
   {
    "duration": 31,
    "start_time": "2022-12-03T08:02:30.164Z"
   },
   {
    "duration": 26,
    "start_time": "2022-12-03T08:02:30.198Z"
   },
   {
    "duration": 16,
    "start_time": "2022-12-03T08:02:30.226Z"
   },
   {
    "duration": 17,
    "start_time": "2022-12-03T08:02:30.245Z"
   },
   {
    "duration": 155,
    "start_time": "2022-12-03T08:02:30.265Z"
   },
   {
    "duration": 110,
    "start_time": "2022-12-03T08:02:30.422Z"
   },
   {
    "duration": 0,
    "start_time": "2022-12-03T08:02:30.534Z"
   },
   {
    "duration": 0,
    "start_time": "2022-12-03T08:02:30.536Z"
   },
   {
    "duration": 0,
    "start_time": "2022-12-03T08:02:30.537Z"
   },
   {
    "duration": 0,
    "start_time": "2022-12-03T08:02:30.539Z"
   },
   {
    "duration": 0,
    "start_time": "2022-12-03T08:02:30.552Z"
   },
   {
    "duration": 0,
    "start_time": "2022-12-03T08:02:30.553Z"
   },
   {
    "duration": 0,
    "start_time": "2022-12-03T08:02:30.554Z"
   },
   {
    "duration": 0,
    "start_time": "2022-12-03T08:02:30.555Z"
   },
   {
    "duration": 0,
    "start_time": "2022-12-03T08:02:30.557Z"
   },
   {
    "duration": 0,
    "start_time": "2022-12-03T08:02:30.558Z"
   },
   {
    "duration": 0,
    "start_time": "2022-12-03T08:02:30.559Z"
   },
   {
    "duration": 0,
    "start_time": "2022-12-03T08:02:30.560Z"
   },
   {
    "duration": 149,
    "start_time": "2022-12-03T08:03:03.694Z"
   },
   {
    "duration": 11,
    "start_time": "2022-12-03T08:03:05.337Z"
   },
   {
    "duration": 9,
    "start_time": "2022-12-03T08:03:05.495Z"
   },
   {
    "duration": 346,
    "start_time": "2022-12-03T08:03:05.653Z"
   },
   {
    "duration": 4,
    "start_time": "2022-12-03T08:03:06.445Z"
   },
   {
    "duration": 621,
    "start_time": "2022-12-03T08:03:06.757Z"
   },
   {
    "duration": 640,
    "start_time": "2022-12-03T08:03:07.380Z"
   },
   {
    "duration": 804,
    "start_time": "2022-12-03T08:03:08.022Z"
   },
   {
    "duration": 22,
    "start_time": "2022-12-03T08:03:08.829Z"
   },
   {
    "duration": 6,
    "start_time": "2022-12-03T08:03:08.903Z"
   },
   {
    "duration": 14,
    "start_time": "2022-12-03T08:03:10.078Z"
   },
   {
    "duration": 7,
    "start_time": "2022-12-03T08:03:10.256Z"
   },
   {
    "duration": 1345,
    "start_time": "2022-12-03T11:04:10.633Z"
   },
   {
    "duration": 127,
    "start_time": "2022-12-03T11:04:11.980Z"
   },
   {
    "duration": 18,
    "start_time": "2022-12-03T11:04:12.591Z"
   },
   {
    "duration": 27,
    "start_time": "2022-12-03T11:05:17.113Z"
   },
   {
    "duration": 14,
    "start_time": "2022-12-03T11:05:23.367Z"
   },
   {
    "duration": 59,
    "start_time": "2022-12-03T11:09:24.276Z"
   },
   {
    "duration": 79,
    "start_time": "2022-12-03T11:09:30.831Z"
   },
   {
    "duration": 59,
    "start_time": "2022-12-03T11:10:10.792Z"
   },
   {
    "duration": 40,
    "start_time": "2022-12-03T11:11:24.235Z"
   },
   {
    "duration": 46,
    "start_time": "2022-12-03T11:12:58.636Z"
   },
   {
    "duration": 55,
    "start_time": "2022-12-03T11:20:19.896Z"
   },
   {
    "duration": 3,
    "start_time": "2022-12-03T11:22:21.548Z"
   },
   {
    "duration": 55,
    "start_time": "2022-12-03T11:22:21.747Z"
   },
   {
    "duration": 26,
    "start_time": "2022-12-03T11:22:22.108Z"
   },
   {
    "duration": 24,
    "start_time": "2022-12-03T11:22:22.301Z"
   },
   {
    "duration": 699,
    "start_time": "2022-12-03T11:22:22.508Z"
   },
   {
    "duration": 37,
    "start_time": "2022-12-03T11:22:23.209Z"
   },
   {
    "duration": 14,
    "start_time": "2022-12-03T11:22:23.248Z"
   },
   {
    "duration": 4,
    "start_time": "2022-12-03T11:22:25.888Z"
   },
   {
    "duration": 16,
    "start_time": "2022-12-03T11:22:26.541Z"
   },
   {
    "duration": 6,
    "start_time": "2022-12-03T11:22:26.747Z"
   },
   {
    "duration": 20,
    "start_time": "2022-12-03T11:22:26.946Z"
   },
   {
    "duration": 10,
    "start_time": "2022-12-03T11:22:27.363Z"
   },
   {
    "duration": 5,
    "start_time": "2022-12-03T11:22:27.771Z"
   },
   {
    "duration": 7,
    "start_time": "2022-12-03T11:22:27.975Z"
   },
   {
    "duration": 31,
    "start_time": "2022-12-03T11:22:28.207Z"
   },
   {
    "duration": 7,
    "start_time": "2022-12-03T11:22:28.807Z"
   },
   {
    "duration": 5,
    "start_time": "2022-12-03T11:22:29.230Z"
   },
   {
    "duration": 6,
    "start_time": "2022-12-03T11:22:29.451Z"
   },
   {
    "duration": 6,
    "start_time": "2022-12-03T11:22:29.644Z"
   },
   {
    "duration": 7,
    "start_time": "2022-12-03T11:22:29.843Z"
   },
   {
    "duration": 8,
    "start_time": "2022-12-03T11:22:30.048Z"
   },
   {
    "duration": 7,
    "start_time": "2022-12-03T11:22:30.237Z"
   },
   {
    "duration": 5,
    "start_time": "2022-12-03T11:22:30.453Z"
   },
   {
    "duration": 5,
    "start_time": "2022-12-03T11:22:30.653Z"
   },
   {
    "duration": 18,
    "start_time": "2022-12-03T11:22:31.053Z"
   },
   {
    "duration": 6,
    "start_time": "2022-12-03T11:22:31.466Z"
   },
   {
    "duration": 5,
    "start_time": "2022-12-03T11:22:32.152Z"
   },
   {
    "duration": 8,
    "start_time": "2022-12-03T11:22:32.803Z"
   },
   {
    "duration": 8,
    "start_time": "2022-12-03T11:22:33.328Z"
   },
   {
    "duration": 15,
    "start_time": "2022-12-03T11:22:34.544Z"
   },
   {
    "duration": 105,
    "start_time": "2022-12-03T11:22:38.252Z"
   },
   {
    "duration": 7,
    "start_time": "2022-12-03T11:22:55.596Z"
   },
   {
    "duration": 228,
    "start_time": "2022-12-03T11:23:04.446Z"
   },
   {
    "duration": 12,
    "start_time": "2022-12-03T12:27:54.073Z"
   },
   {
    "duration": 4,
    "start_time": "2022-12-03T12:28:00.671Z"
   },
   {
    "duration": 66,
    "start_time": "2022-12-03T12:28:00.822Z"
   },
   {
    "duration": 23,
    "start_time": "2022-12-03T12:28:01.175Z"
   },
   {
    "duration": 18,
    "start_time": "2022-12-03T12:28:01.348Z"
   },
   {
    "duration": 692,
    "start_time": "2022-12-03T12:28:01.530Z"
   },
   {
    "duration": 34,
    "start_time": "2022-12-03T12:28:02.224Z"
   },
   {
    "duration": 18,
    "start_time": "2022-12-03T12:28:02.260Z"
   },
   {
    "duration": 4,
    "start_time": "2022-12-03T12:28:04.168Z"
   },
   {
    "duration": 14,
    "start_time": "2022-12-03T12:28:04.850Z"
   },
   {
    "duration": 8,
    "start_time": "2022-12-03T12:28:05.095Z"
   },
   {
    "duration": 21,
    "start_time": "2022-12-03T12:28:05.329Z"
   },
   {
    "duration": 10,
    "start_time": "2022-12-03T12:28:06.023Z"
   },
   {
    "duration": 6,
    "start_time": "2022-12-03T12:28:06.932Z"
   },
   {
    "duration": 7,
    "start_time": "2022-12-03T12:28:07.228Z"
   },
   {
    "duration": 31,
    "start_time": "2022-12-03T12:28:07.431Z"
   },
   {
    "duration": 8,
    "start_time": "2022-12-03T12:28:08.125Z"
   },
   {
    "duration": 5,
    "start_time": "2022-12-03T12:28:08.536Z"
   },
   {
    "duration": 8,
    "start_time": "2022-12-03T12:28:08.764Z"
   },
   {
    "duration": 10,
    "start_time": "2022-12-03T12:28:08.977Z"
   },
   {
    "duration": 9,
    "start_time": "2022-12-03T12:28:09.192Z"
   },
   {
    "duration": 7,
    "start_time": "2022-12-03T12:28:09.423Z"
   },
   {
    "duration": 7,
    "start_time": "2022-12-03T12:28:09.655Z"
   },
   {
    "duration": 6,
    "start_time": "2022-12-03T12:28:09.899Z"
   },
   {
    "duration": 6,
    "start_time": "2022-12-03T12:28:10.122Z"
   },
   {
    "duration": 17,
    "start_time": "2022-12-03T12:28:10.550Z"
   },
   {
    "duration": 7,
    "start_time": "2022-12-03T12:28:11.030Z"
   },
   {
    "duration": 5,
    "start_time": "2022-12-03T12:28:11.770Z"
   },
   {
    "duration": 11,
    "start_time": "2022-12-03T12:28:12.484Z"
   },
   {
    "duration": 6,
    "start_time": "2022-12-03T12:28:12.975Z"
   },
   {
    "duration": 21,
    "start_time": "2022-12-03T12:28:14.106Z"
   },
   {
    "duration": 8,
    "start_time": "2022-12-03T12:28:16.151Z"
   },
   {
    "duration": 223,
    "start_time": "2022-12-03T12:28:20.556Z"
   },
   {
    "duration": 9,
    "start_time": "2022-12-03T12:28:21.249Z"
   },
   {
    "duration": 10,
    "start_time": "2022-12-03T12:28:36.653Z"
   },
   {
    "duration": 3,
    "start_time": "2022-12-03T12:28:45.625Z"
   },
   {
    "duration": 71,
    "start_time": "2022-12-03T12:28:45.780Z"
   },
   {
    "duration": 14,
    "start_time": "2022-12-03T12:28:46.096Z"
   },
   {
    "duration": 14,
    "start_time": "2022-12-03T12:28:46.251Z"
   },
   {
    "duration": 786,
    "start_time": "2022-12-03T12:28:46.398Z"
   },
   {
    "duration": 53,
    "start_time": "2022-12-03T12:28:47.187Z"
   },
   {
    "duration": 17,
    "start_time": "2022-12-03T12:28:47.242Z"
   },
   {
    "duration": 4,
    "start_time": "2022-12-03T12:28:47.730Z"
   },
   {
    "duration": 11,
    "start_time": "2022-12-03T12:28:48.083Z"
   },
   {
    "duration": 7,
    "start_time": "2022-12-03T12:28:48.255Z"
   },
   {
    "duration": 16,
    "start_time": "2022-12-03T12:28:48.426Z"
   },
   {
    "duration": 8,
    "start_time": "2022-12-03T12:28:48.802Z"
   },
   {
    "duration": 7,
    "start_time": "2022-12-03T12:28:49.148Z"
   },
   {
    "duration": 6,
    "start_time": "2022-12-03T12:28:49.322Z"
   },
   {
    "duration": 21,
    "start_time": "2022-12-03T12:28:49.522Z"
   },
   {
    "duration": 8,
    "start_time": "2022-12-03T12:28:50.076Z"
   },
   {
    "duration": 4,
    "start_time": "2022-12-03T12:28:50.428Z"
   },
   {
    "duration": 6,
    "start_time": "2022-12-03T12:28:50.608Z"
   },
   {
    "duration": 7,
    "start_time": "2022-12-03T12:28:50.801Z"
   },
   {
    "duration": 9,
    "start_time": "2022-12-03T12:28:50.984Z"
   },
   {
    "duration": 7,
    "start_time": "2022-12-03T12:28:51.176Z"
   },
   {
    "duration": 9,
    "start_time": "2022-12-03T12:28:51.363Z"
   },
   {
    "duration": 7,
    "start_time": "2022-12-03T12:28:51.572Z"
   },
   {
    "duration": 8,
    "start_time": "2022-12-03T12:28:51.763Z"
   },
   {
    "duration": 24,
    "start_time": "2022-12-03T12:28:52.138Z"
   },
   {
    "duration": 10,
    "start_time": "2022-12-03T12:28:52.540Z"
   },
   {
    "duration": 6,
    "start_time": "2022-12-03T12:28:53.867Z"
   },
   {
    "duration": 13,
    "start_time": "2022-12-03T12:28:54.409Z"
   },
   {
    "duration": 7,
    "start_time": "2022-12-03T12:28:54.900Z"
   },
   {
    "duration": 22,
    "start_time": "2022-12-03T12:28:55.983Z"
   },
   {
    "duration": 7,
    "start_time": "2022-12-03T12:28:57.519Z"
   },
   {
    "duration": 215,
    "start_time": "2022-12-03T12:29:01.095Z"
   },
   {
    "duration": 13,
    "start_time": "2022-12-03T12:31:21.636Z"
   },
   {
    "duration": 15,
    "start_time": "2022-12-03T12:32:23.607Z"
   },
   {
    "duration": 9,
    "start_time": "2022-12-03T12:33:51.137Z"
   },
   {
    "duration": 257,
    "start_time": "2022-12-03T12:33:57.673Z"
   },
   {
    "duration": 13,
    "start_time": "2022-12-03T12:35:59.021Z"
   },
   {
    "duration": 16,
    "start_time": "2022-12-03T12:36:03.232Z"
   },
   {
    "duration": 264,
    "start_time": "2022-12-03T12:38:03.318Z"
   },
   {
    "duration": 1185,
    "start_time": "2022-12-03T12:38:25.819Z"
   },
   {
    "duration": 170,
    "start_time": "2022-12-03T12:38:35.678Z"
   },
   {
    "duration": 152,
    "start_time": "2022-12-03T12:38:43.604Z"
   },
   {
    "duration": 220,
    "start_time": "2022-12-03T12:39:30.005Z"
   },
   {
    "duration": 204,
    "start_time": "2022-12-03T12:39:41.111Z"
   },
   {
    "duration": 187,
    "start_time": "2022-12-03T12:39:47.461Z"
   },
   {
    "duration": 333,
    "start_time": "2022-12-03T12:39:54.237Z"
   },
   {
    "duration": 214,
    "start_time": "2022-12-03T12:40:01.354Z"
   },
   {
    "duration": 293,
    "start_time": "2022-12-03T12:40:06.347Z"
   },
   {
    "duration": 12,
    "start_time": "2022-12-03T12:44:25.530Z"
   },
   {
    "duration": 10,
    "start_time": "2022-12-03T12:44:35.076Z"
   },
   {
    "duration": 4,
    "start_time": "2022-12-03T12:44:44.510Z"
   },
   {
    "duration": 54,
    "start_time": "2022-12-03T12:44:44.713Z"
   },
   {
    "duration": 16,
    "start_time": "2022-12-03T12:44:45.048Z"
   },
   {
    "duration": 20,
    "start_time": "2022-12-03T12:44:45.223Z"
   },
   {
    "duration": 677,
    "start_time": "2022-12-03T12:44:45.386Z"
   },
   {
    "duration": 37,
    "start_time": "2022-12-03T12:44:46.066Z"
   },
   {
    "duration": 25,
    "start_time": "2022-12-03T12:44:46.105Z"
   },
   {
    "duration": 3,
    "start_time": "2022-12-03T12:44:46.829Z"
   },
   {
    "duration": 9,
    "start_time": "2022-12-03T12:44:47.205Z"
   },
   {
    "duration": 7,
    "start_time": "2022-12-03T12:44:47.397Z"
   },
   {
    "duration": 18,
    "start_time": "2022-12-03T12:44:47.581Z"
   },
   {
    "duration": 11,
    "start_time": "2022-12-03T12:44:47.952Z"
   },
   {
    "duration": 6,
    "start_time": "2022-12-03T12:44:48.318Z"
   },
   {
    "duration": 5,
    "start_time": "2022-12-03T12:44:48.521Z"
   },
   {
    "duration": 27,
    "start_time": "2022-12-03T12:44:48.709Z"
   },
   {
    "duration": 8,
    "start_time": "2022-12-03T12:44:49.276Z"
   },
   {
    "duration": 5,
    "start_time": "2022-12-03T12:44:49.644Z"
   },
   {
    "duration": 6,
    "start_time": "2022-12-03T12:44:49.831Z"
   },
   {
    "duration": 9,
    "start_time": "2022-12-03T12:44:50.024Z"
   },
   {
    "duration": 8,
    "start_time": "2022-12-03T12:44:50.210Z"
   },
   {
    "duration": 8,
    "start_time": "2022-12-03T12:44:50.406Z"
   },
   {
    "duration": 8,
    "start_time": "2022-12-03T12:44:50.596Z"
   },
   {
    "duration": 7,
    "start_time": "2022-12-03T12:44:50.818Z"
   },
   {
    "duration": 7,
    "start_time": "2022-12-03T12:44:50.974Z"
   },
   {
    "duration": 29,
    "start_time": "2022-12-03T12:44:51.345Z"
   },
   {
    "duration": 9,
    "start_time": "2022-12-03T12:44:51.720Z"
   },
   {
    "duration": 5,
    "start_time": "2022-12-03T12:44:52.119Z"
   },
   {
    "duration": 8,
    "start_time": "2022-12-03T12:44:52.320Z"
   },
   {
    "duration": 7,
    "start_time": "2022-12-03T12:44:52.538Z"
   },
   {
    "duration": 16,
    "start_time": "2022-12-03T12:44:53.427Z"
   },
   {
    "duration": 8,
    "start_time": "2022-12-03T12:44:54.313Z"
   },
   {
    "duration": 213,
    "start_time": "2022-12-03T12:44:57.955Z"
   },
   {
    "duration": 12,
    "start_time": "2022-12-03T12:44:59.105Z"
   },
   {
    "duration": 11,
    "start_time": "2022-12-03T12:45:00.056Z"
   },
   {
    "duration": 23,
    "start_time": "2022-12-03T12:45:04.461Z"
   },
   {
    "duration": 8,
    "start_time": "2022-12-03T12:45:04.904Z"
   },
   {
    "duration": 7,
    "start_time": "2022-12-03T12:45:05.431Z"
   },
   {
    "duration": 14,
    "start_time": "2022-12-03T12:45:06.389Z"
   },
   {
    "duration": 288,
    "start_time": "2022-12-03T12:45:07.158Z"
   },
   {
    "duration": 154,
    "start_time": "2022-12-03T12:45:18.373Z"
   },
   {
    "duration": 140,
    "start_time": "2022-12-03T12:45:32.279Z"
   },
   {
    "duration": 250,
    "start_time": "2022-12-03T12:45:38.838Z"
   },
   {
    "duration": 24,
    "start_time": "2022-12-03T12:50:21.809Z"
   },
   {
    "duration": 20,
    "start_time": "2022-12-03T12:50:48.155Z"
   },
   {
    "duration": 21,
    "start_time": "2022-12-03T12:51:15.162Z"
   },
   {
    "duration": 14,
    "start_time": "2022-12-03T12:51:28.786Z"
   },
   {
    "duration": 20,
    "start_time": "2022-12-03T12:51:48.293Z"
   },
   {
    "duration": 485,
    "start_time": "2022-12-03T12:52:02.832Z"
   },
   {
    "duration": 1708,
    "start_time": "2022-12-03T12:52:47.933Z"
   },
   {
    "duration": 493,
    "start_time": "2022-12-03T12:53:01.338Z"
   },
   {
    "duration": 468,
    "start_time": "2022-12-03T12:53:25.407Z"
   },
   {
    "duration": 442,
    "start_time": "2022-12-03T12:53:57.373Z"
   },
   {
    "duration": 392,
    "start_time": "2022-12-03T12:54:03.308Z"
   },
   {
    "duration": 435,
    "start_time": "2022-12-03T12:55:00.283Z"
   },
   {
    "duration": 551,
    "start_time": "2022-12-03T12:55:21.133Z"
   },
   {
    "duration": 383,
    "start_time": "2022-12-03T12:55:51.129Z"
   },
   {
    "duration": 481,
    "start_time": "2022-12-03T12:56:14.888Z"
   },
   {
    "duration": 578,
    "start_time": "2022-12-03T12:56:30.619Z"
   },
   {
    "duration": 19,
    "start_time": "2022-12-03T12:57:22.866Z"
   },
   {
    "duration": 20,
    "start_time": "2022-12-03T12:57:29.530Z"
   },
   {
    "duration": 436,
    "start_time": "2022-12-03T12:58:06.534Z"
   },
   {
    "duration": 309,
    "start_time": "2022-12-03T12:58:43.765Z"
   },
   {
    "duration": 439,
    "start_time": "2022-12-03T12:59:30.251Z"
   },
   {
    "duration": 954,
    "start_time": "2022-12-03T13:00:30.751Z"
   },
   {
    "duration": 945,
    "start_time": "2022-12-03T13:00:38.981Z"
   },
   {
    "duration": 907,
    "start_time": "2022-12-03T13:00:47.444Z"
   },
   {
    "duration": 42,
    "start_time": "2022-12-03T13:01:44.371Z"
   },
   {
    "duration": 4,
    "start_time": "2022-12-03T13:02:00.511Z"
   },
   {
    "duration": 154,
    "start_time": "2022-12-03T13:02:07.318Z"
   },
   {
    "duration": 138,
    "start_time": "2022-12-03T13:03:41.260Z"
   },
   {
    "duration": 340,
    "start_time": "2022-12-03T13:03:50.650Z"
   },
   {
    "duration": 162,
    "start_time": "2022-12-03T13:03:57.372Z"
   },
   {
    "duration": 4,
    "start_time": "2022-12-03T13:04:08.419Z"
   },
   {
    "duration": 64,
    "start_time": "2022-12-03T13:04:08.588Z"
   },
   {
    "duration": 21,
    "start_time": "2022-12-03T13:04:08.956Z"
   },
   {
    "duration": 18,
    "start_time": "2022-12-03T13:04:09.123Z"
   },
   {
    "duration": 644,
    "start_time": "2022-12-03T13:04:09.310Z"
   },
   {
    "duration": 32,
    "start_time": "2022-12-03T13:04:09.955Z"
   },
   {
    "duration": 35,
    "start_time": "2022-12-03T13:04:09.989Z"
   },
   {
    "duration": 4,
    "start_time": "2022-12-03T13:04:10.903Z"
   },
   {
    "duration": 10,
    "start_time": "2022-12-03T13:04:11.116Z"
   },
   {
    "duration": 7,
    "start_time": "2022-12-03T13:04:11.298Z"
   },
   {
    "duration": 16,
    "start_time": "2022-12-03T13:04:11.507Z"
   },
   {
    "duration": 9,
    "start_time": "2022-12-03T13:04:11.868Z"
   },
   {
    "duration": 6,
    "start_time": "2022-12-03T13:04:12.267Z"
   },
   {
    "duration": 6,
    "start_time": "2022-12-03T13:04:12.486Z"
   },
   {
    "duration": 22,
    "start_time": "2022-12-03T13:04:12.679Z"
   },
   {
    "duration": 9,
    "start_time": "2022-12-03T13:04:13.291Z"
   },
   {
    "duration": 5,
    "start_time": "2022-12-03T13:04:13.676Z"
   },
   {
    "duration": 6,
    "start_time": "2022-12-03T13:04:13.871Z"
   },
   {
    "duration": 9,
    "start_time": "2022-12-03T13:04:14.074Z"
   },
   {
    "duration": 8,
    "start_time": "2022-12-03T13:04:14.295Z"
   },
   {
    "duration": 7,
    "start_time": "2022-12-03T13:04:14.451Z"
   },
   {
    "duration": 10,
    "start_time": "2022-12-03T13:04:14.644Z"
   },
   {
    "duration": 5,
    "start_time": "2022-12-03T13:04:14.826Z"
   },
   {
    "duration": 6,
    "start_time": "2022-12-03T13:04:15.026Z"
   },
   {
    "duration": 18,
    "start_time": "2022-12-03T13:04:15.395Z"
   },
   {
    "duration": 7,
    "start_time": "2022-12-03T13:04:15.757Z"
   },
   {
    "duration": 6,
    "start_time": "2022-12-03T13:04:16.141Z"
   },
   {
    "duration": 10,
    "start_time": "2022-12-03T13:04:16.348Z"
   },
   {
    "duration": 8,
    "start_time": "2022-12-03T13:04:16.558Z"
   },
   {
    "duration": 22,
    "start_time": "2022-12-03T13:04:16.930Z"
   },
   {
    "duration": 8,
    "start_time": "2022-12-03T13:04:17.506Z"
   },
   {
    "duration": 216,
    "start_time": "2022-12-03T13:04:21.450Z"
   },
   {
    "duration": 10,
    "start_time": "2022-12-03T13:04:22.280Z"
   },
   {
    "duration": 9,
    "start_time": "2022-12-03T13:04:22.490Z"
   },
   {
    "duration": 16,
    "start_time": "2022-12-03T13:04:23.331Z"
   },
   {
    "duration": 7,
    "start_time": "2022-12-03T13:04:23.541Z"
   },
   {
    "duration": 6,
    "start_time": "2022-12-03T13:04:23.769Z"
   },
   {
    "duration": 14,
    "start_time": "2022-12-03T13:04:23.981Z"
   },
   {
    "duration": 258,
    "start_time": "2022-12-03T13:04:24.188Z"
   },
   {
    "duration": 6,
    "start_time": "2022-12-03T13:04:55.814Z"
   },
   {
    "duration": 143,
    "start_time": "2022-12-03T13:05:07.414Z"
   },
   {
    "duration": 64,
    "start_time": "2022-12-03T13:05:20.792Z"
   },
   {
    "duration": 957,
    "start_time": "2022-12-03T13:06:18.897Z"
   },
   {
    "duration": 1091,
    "start_time": "2022-12-03T13:06:30.087Z"
   },
   {
    "duration": 767,
    "start_time": "2022-12-03T13:06:36.735Z"
   },
   {
    "duration": 1092,
    "start_time": "2022-12-03T13:06:44.365Z"
   },
   {
    "duration": 25,
    "start_time": "2022-12-03T13:08:47.520Z"
   },
   {
    "duration": 215,
    "start_time": "2022-12-03T13:09:02.280Z"
   },
   {
    "duration": 863,
    "start_time": "2022-12-03T13:09:09.699Z"
   },
   {
    "duration": 1155,
    "start_time": "2022-12-03T13:09:50.945Z"
   },
   {
    "duration": 10,
    "start_time": "2022-12-03T13:17:28.549Z"
   },
   {
    "duration": 8,
    "start_time": "2022-12-03T13:17:36.168Z"
   },
   {
    "duration": 13,
    "start_time": "2022-12-03T13:17:48.295Z"
   },
   {
    "duration": 12,
    "start_time": "2022-12-03T13:17:49.247Z"
   },
   {
    "duration": 408,
    "start_time": "2022-12-03T13:18:10.240Z"
   },
   {
    "duration": 296,
    "start_time": "2022-12-03T13:18:30.251Z"
   },
   {
    "duration": 297,
    "start_time": "2022-12-03T13:18:40.966Z"
   },
   {
    "duration": 364,
    "start_time": "2022-12-03T13:19:02.010Z"
   },
   {
    "duration": 10,
    "start_time": "2022-12-03T13:20:57.627Z"
   },
   {
    "duration": 19,
    "start_time": "2022-12-03T13:21:11.416Z"
   },
   {
    "duration": 11,
    "start_time": "2022-12-03T13:21:30.261Z"
   },
   {
    "duration": 15,
    "start_time": "2022-12-03T13:21:31.011Z"
   },
   {
    "duration": 294,
    "start_time": "2022-12-03T13:21:33.102Z"
   },
   {
    "duration": 327,
    "start_time": "2022-12-03T13:21:41.453Z"
   },
   {
    "duration": 13,
    "start_time": "2022-12-03T13:22:21.632Z"
   },
   {
    "duration": 32,
    "start_time": "2022-12-03T13:22:26.293Z"
   },
   {
    "duration": 10,
    "start_time": "2022-12-03T13:25:40.442Z"
   },
   {
    "duration": 10,
    "start_time": "2022-12-03T13:25:40.996Z"
   },
   {
    "duration": 299,
    "start_time": "2022-12-03T13:25:42.475Z"
   },
   {
    "duration": 6,
    "start_time": "2022-12-03T13:26:15.561Z"
   },
   {
    "duration": 364,
    "start_time": "2022-12-03T13:26:16.445Z"
   },
   {
    "duration": 298,
    "start_time": "2022-12-03T13:27:19.695Z"
   },
   {
    "duration": 445,
    "start_time": "2022-12-03T13:27:27.959Z"
   },
   {
    "duration": 383,
    "start_time": "2022-12-03T13:27:34.550Z"
   },
   {
    "duration": 43,
    "start_time": "2022-12-03T19:53:03.291Z"
   },
   {
    "duration": 1272,
    "start_time": "2022-12-03T19:53:10.204Z"
   },
   {
    "duration": 108,
    "start_time": "2022-12-03T19:53:11.478Z"
   },
   {
    "duration": 19,
    "start_time": "2022-12-03T19:53:11.588Z"
   },
   {
    "duration": 15,
    "start_time": "2022-12-03T19:53:11.609Z"
   },
   {
    "duration": 645,
    "start_time": "2022-12-03T19:53:11.626Z"
   },
   {
    "duration": 42,
    "start_time": "2022-12-03T19:53:12.273Z"
   },
   {
    "duration": 20,
    "start_time": "2022-12-03T19:53:12.316Z"
   },
   {
    "duration": 4,
    "start_time": "2022-12-03T19:53:12.654Z"
   },
   {
    "duration": 14,
    "start_time": "2022-12-03T19:53:13.046Z"
   },
   {
    "duration": 7,
    "start_time": "2022-12-03T19:53:13.240Z"
   },
   {
    "duration": 20,
    "start_time": "2022-12-03T19:53:13.470Z"
   },
   {
    "duration": 8,
    "start_time": "2022-12-03T19:53:13.867Z"
   },
   {
    "duration": 5,
    "start_time": "2022-12-03T19:53:14.268Z"
   },
   {
    "duration": 6,
    "start_time": "2022-12-03T19:53:14.468Z"
   },
   {
    "duration": 28,
    "start_time": "2022-12-03T19:53:14.668Z"
   },
   {
    "duration": 8,
    "start_time": "2022-12-03T19:53:15.324Z"
   },
   {
    "duration": 7,
    "start_time": "2022-12-03T19:53:15.974Z"
   },
   {
    "duration": 5,
    "start_time": "2022-12-03T19:53:16.176Z"
   },
   {
    "duration": 6,
    "start_time": "2022-12-03T19:53:16.394Z"
   },
   {
    "duration": 6,
    "start_time": "2022-12-03T19:53:16.946Z"
   },
   {
    "duration": 6,
    "start_time": "2022-12-03T19:53:17.182Z"
   },
   {
    "duration": 6,
    "start_time": "2022-12-03T19:53:17.394Z"
   },
   {
    "duration": 6,
    "start_time": "2022-12-03T19:53:17.625Z"
   },
   {
    "duration": 4,
    "start_time": "2022-12-03T19:53:17.863Z"
   },
   {
    "duration": 16,
    "start_time": "2022-12-03T19:53:18.253Z"
   },
   {
    "duration": 7,
    "start_time": "2022-12-03T19:53:18.846Z"
   },
   {
    "duration": 5,
    "start_time": "2022-12-03T19:53:19.265Z"
   },
   {
    "duration": 8,
    "start_time": "2022-12-03T19:53:19.494Z"
   },
   {
    "duration": 7,
    "start_time": "2022-12-03T19:53:19.897Z"
   },
   {
    "duration": 13,
    "start_time": "2022-12-03T19:53:20.354Z"
   },
   {
    "duration": 6,
    "start_time": "2022-12-03T19:53:21.031Z"
   },
   {
    "duration": 223,
    "start_time": "2022-12-03T19:53:24.993Z"
   },
   {
    "duration": 10,
    "start_time": "2022-12-03T19:53:27.226Z"
   },
   {
    "duration": 8,
    "start_time": "2022-12-03T19:53:27.760Z"
   },
   {
    "duration": 17,
    "start_time": "2022-12-03T19:53:28.952Z"
   },
   {
    "duration": 6,
    "start_time": "2022-12-03T19:53:29.522Z"
   },
   {
    "duration": 6,
    "start_time": "2022-12-03T19:53:29.921Z"
   },
   {
    "duration": 9,
    "start_time": "2022-12-03T19:53:30.490Z"
   },
   {
    "duration": 296,
    "start_time": "2022-12-03T19:53:31.209Z"
   },
   {
    "duration": 926,
    "start_time": "2022-12-03T19:53:33.350Z"
   },
   {
    "duration": 6,
    "start_time": "2022-12-03T19:53:36.721Z"
   },
   {
    "duration": 13,
    "start_time": "2022-12-03T19:53:56.891Z"
   },
   {
    "duration": 9,
    "start_time": "2022-12-03T19:53:57.364Z"
   },
   {
    "duration": 263,
    "start_time": "2022-12-03T19:53:59.007Z"
   },
   {
    "duration": 6,
    "start_time": "2022-12-03T19:54:41.733Z"
   },
   {
    "duration": 234,
    "start_time": "2022-12-03T19:54:42.990Z"
   },
   {
    "duration": 273,
    "start_time": "2022-12-03T20:02:20.092Z"
   },
   {
    "duration": 249,
    "start_time": "2022-12-03T20:02:30.149Z"
   },
   {
    "duration": 272,
    "start_time": "2022-12-03T20:49:54.136Z"
   },
   {
    "duration": 344,
    "start_time": "2022-12-03T20:50:12.054Z"
   },
   {
    "duration": 281,
    "start_time": "2022-12-03T20:50:18.801Z"
   },
   {
    "duration": 6,
    "start_time": "2022-12-03T21:52:28.040Z"
   },
   {
    "duration": 9,
    "start_time": "2022-12-03T21:52:33.472Z"
   },
   {
    "duration": 5,
    "start_time": "2022-12-03T21:52:34.033Z"
   },
   {
    "duration": 6,
    "start_time": "2022-12-03T21:52:34.436Z"
   },
   {
    "duration": 11,
    "start_time": "2022-12-03T21:52:34.608Z"
   },
   {
    "duration": 113,
    "start_time": "2022-12-03T21:52:34.836Z"
   },
   {
    "duration": 74,
    "start_time": "2022-12-03T21:52:35.060Z"
   },
   {
    "duration": 133,
    "start_time": "2022-12-03T21:52:36.903Z"
   },
   {
    "duration": 15,
    "start_time": "2022-12-03T21:59:33.247Z"
   },
   {
    "duration": 15,
    "start_time": "2022-12-03T22:00:12.349Z"
   },
   {
    "duration": 14,
    "start_time": "2022-12-03T22:00:33.275Z"
   },
   {
    "duration": 14,
    "start_time": "2022-12-03T22:00:43.836Z"
   },
   {
    "duration": 14,
    "start_time": "2022-12-03T22:00:53.930Z"
   },
   {
    "duration": 14,
    "start_time": "2022-12-03T22:01:20.996Z"
   },
   {
    "duration": 10,
    "start_time": "2022-12-03T22:02:29.414Z"
   },
   {
    "duration": 47,
    "start_time": "2022-12-03T22:02:38.090Z"
   },
   {
    "duration": 13,
    "start_time": "2022-12-03T22:02:43.041Z"
   },
   {
    "duration": 15,
    "start_time": "2022-12-03T22:03:22.830Z"
   },
   {
    "duration": 11,
    "start_time": "2022-12-03T22:03:47.476Z"
   },
   {
    "duration": 8,
    "start_time": "2022-12-03T22:03:48.371Z"
   },
   {
    "duration": 12,
    "start_time": "2022-12-03T22:04:02.839Z"
   },
   {
    "duration": 11,
    "start_time": "2022-12-03T22:04:31.725Z"
   },
   {
    "duration": 43,
    "start_time": "2022-12-03T22:05:09.987Z"
   },
   {
    "duration": 11,
    "start_time": "2022-12-03T22:05:39.791Z"
   },
   {
    "duration": 51,
    "start_time": "2022-12-03T22:07:58.321Z"
   },
   {
    "duration": 9,
    "start_time": "2022-12-03T22:11:14.559Z"
   },
   {
    "duration": 62,
    "start_time": "2022-12-03T22:11:19.877Z"
   },
   {
    "duration": 3,
    "start_time": "2022-12-03T22:11:24.462Z"
   },
   {
    "duration": 40,
    "start_time": "2022-12-03T22:11:28.532Z"
   },
   {
    "duration": 12,
    "start_time": "2022-12-03T22:11:32.595Z"
   },
   {
    "duration": 43,
    "start_time": "2022-12-03T22:13:47.968Z"
   },
   {
    "duration": 9,
    "start_time": "2022-12-03T22:15:46.176Z"
   },
   {
    "duration": 10,
    "start_time": "2022-12-03T22:16:29.308Z"
   },
   {
    "duration": 9,
    "start_time": "2022-12-03T22:20:23.415Z"
   },
   {
    "duration": 9,
    "start_time": "2022-12-03T22:21:38.815Z"
   },
   {
    "duration": 3,
    "start_time": "2022-12-03T22:22:00.651Z"
   },
   {
    "duration": 44,
    "start_time": "2022-12-03T22:22:06.580Z"
   },
   {
    "duration": 45,
    "start_time": "2022-12-03T22:22:13.514Z"
   },
   {
    "duration": 9,
    "start_time": "2022-12-03T22:22:19.678Z"
   },
   {
    "duration": 9,
    "start_time": "2022-12-03T22:23:32.339Z"
   },
   {
    "duration": 51,
    "start_time": "2022-12-03T22:24:04.829Z"
   },
   {
    "duration": 9,
    "start_time": "2022-12-03T22:24:10.396Z"
   },
   {
    "duration": 8,
    "start_time": "2022-12-03T22:28:03.978Z"
   },
   {
    "duration": 15,
    "start_time": "2022-12-03T22:39:57.475Z"
   },
   {
    "duration": 14,
    "start_time": "2022-12-03T22:40:26.133Z"
   },
   {
    "duration": 10,
    "start_time": "2022-12-03T22:40:56.398Z"
   },
   {
    "duration": 15,
    "start_time": "2022-12-03T22:42:34.182Z"
   },
   {
    "duration": 9,
    "start_time": "2022-12-03T22:42:41.816Z"
   },
   {
    "duration": 307,
    "start_time": "2022-12-03T22:43:42.288Z"
   },
   {
    "duration": 287,
    "start_time": "2022-12-03T22:43:51.532Z"
   },
   {
    "duration": 318,
    "start_time": "2022-12-03T22:44:56.685Z"
   },
   {
    "duration": 343,
    "start_time": "2022-12-03T22:45:15.079Z"
   },
   {
    "duration": 304,
    "start_time": "2022-12-03T22:48:19.573Z"
   },
   {
    "duration": 455,
    "start_time": "2022-12-03T22:48:29.788Z"
   },
   {
    "duration": 332,
    "start_time": "2022-12-03T22:48:46.213Z"
   },
   {
    "duration": 45,
    "start_time": "2022-12-03T22:57:01.008Z"
   },
   {
    "duration": 3,
    "start_time": "2022-12-03T22:57:54.510Z"
   },
   {
    "duration": 57,
    "start_time": "2022-12-03T22:57:54.688Z"
   },
   {
    "duration": 15,
    "start_time": "2022-12-03T22:57:55.059Z"
   },
   {
    "duration": 17,
    "start_time": "2022-12-03T22:57:55.218Z"
   },
   {
    "duration": 595,
    "start_time": "2022-12-03T22:57:55.397Z"
   },
   {
    "duration": 28,
    "start_time": "2022-12-03T22:57:55.994Z"
   },
   {
    "duration": 13,
    "start_time": "2022-12-03T22:57:56.024Z"
   },
   {
    "duration": 3,
    "start_time": "2022-12-03T22:57:56.818Z"
   },
   {
    "duration": 10,
    "start_time": "2022-12-03T22:57:57.189Z"
   },
   {
    "duration": 7,
    "start_time": "2022-12-03T22:57:57.374Z"
   },
   {
    "duration": 16,
    "start_time": "2022-12-03T22:57:57.567Z"
   },
   {
    "duration": 12,
    "start_time": "2022-12-03T22:57:57.960Z"
   },
   {
    "duration": 5,
    "start_time": "2022-12-03T22:57:58.331Z"
   },
   {
    "duration": 4,
    "start_time": "2022-12-03T22:57:58.518Z"
   },
   {
    "duration": 20,
    "start_time": "2022-12-03T22:57:58.697Z"
   },
   {
    "duration": 7,
    "start_time": "2022-12-03T22:57:59.267Z"
   },
   {
    "duration": 4,
    "start_time": "2022-12-03T22:57:59.638Z"
   },
   {
    "duration": 4,
    "start_time": "2022-12-03T22:57:59.818Z"
   },
   {
    "duration": 7,
    "start_time": "2022-12-03T22:57:59.995Z"
   },
   {
    "duration": 6,
    "start_time": "2022-12-03T22:58:00.175Z"
   },
   {
    "duration": 6,
    "start_time": "2022-12-03T22:58:00.371Z"
   },
   {
    "duration": 5,
    "start_time": "2022-12-03T22:58:00.547Z"
   },
   {
    "duration": 5,
    "start_time": "2022-12-03T22:58:00.733Z"
   },
   {
    "duration": 5,
    "start_time": "2022-12-03T22:58:00.918Z"
   },
   {
    "duration": 16,
    "start_time": "2022-12-03T22:58:01.303Z"
   },
   {
    "duration": 6,
    "start_time": "2022-12-03T22:58:01.675Z"
   },
   {
    "duration": 4,
    "start_time": "2022-12-03T22:58:02.052Z"
   },
   {
    "duration": 8,
    "start_time": "2022-12-03T22:58:02.238Z"
   },
   {
    "duration": 6,
    "start_time": "2022-12-03T22:58:02.417Z"
   },
   {
    "duration": 15,
    "start_time": "2022-12-03T22:58:02.781Z"
   },
   {
    "duration": 6,
    "start_time": "2022-12-03T22:58:03.339Z"
   },
   {
    "duration": 183,
    "start_time": "2022-12-03T22:58:04.681Z"
   },
   {
    "duration": 10,
    "start_time": "2022-12-03T22:58:05.459Z"
   },
   {
    "duration": 9,
    "start_time": "2022-12-03T22:58:05.646Z"
   },
   {
    "duration": 16,
    "start_time": "2022-12-03T22:58:06.016Z"
   },
   {
    "duration": 5,
    "start_time": "2022-12-03T22:58:06.198Z"
   },
   {
    "duration": 5,
    "start_time": "2022-12-03T22:58:06.375Z"
   },
   {
    "duration": 9,
    "start_time": "2022-12-03T22:58:06.567Z"
   },
   {
    "duration": 255,
    "start_time": "2022-12-03T22:58:06.767Z"
   },
   {
    "duration": 819,
    "start_time": "2022-12-03T22:58:07.134Z"
   },
   {
    "duration": 6,
    "start_time": "2022-12-03T22:58:08.096Z"
   },
   {
    "duration": 9,
    "start_time": "2022-12-03T22:58:08.845Z"
   },
   {
    "duration": 7,
    "start_time": "2022-12-03T22:58:09.046Z"
   },
   {
    "duration": 368,
    "start_time": "2022-12-03T22:58:09.445Z"
   },
   {
    "duration": 8,
    "start_time": "2022-12-03T22:58:10.033Z"
   },
   {
    "duration": 292,
    "start_time": "2022-12-03T22:58:10.221Z"
   },
   {
    "duration": 260,
    "start_time": "2022-12-03T22:58:10.774Z"
   },
   {
    "duration": 273,
    "start_time": "2022-12-03T22:58:11.168Z"
   },
   {
    "duration": 48,
    "start_time": "2022-12-03T22:58:12.367Z"
   },
   {
    "duration": 10,
    "start_time": "2022-12-03T22:58:12.546Z"
   },
   {
    "duration": 5,
    "start_time": "2022-12-03T22:58:12.724Z"
   },
   {
    "duration": 8,
    "start_time": "2022-12-03T22:58:12.897Z"
   },
   {
    "duration": 5,
    "start_time": "2022-12-03T22:58:13.089Z"
   },
   {
    "duration": 6,
    "start_time": "2022-12-03T22:58:13.281Z"
   },
   {
    "duration": 9,
    "start_time": "2022-12-03T22:58:13.475Z"
   },
   {
    "duration": 112,
    "start_time": "2022-12-03T22:58:13.653Z"
   },
   {
    "duration": 9,
    "start_time": "2022-12-03T22:58:13.838Z"
   },
   {
    "duration": 129,
    "start_time": "2022-12-03T22:58:14.233Z"
   },
   {
    "duration": 16,
    "start_time": "2022-12-03T22:58:15.410Z"
   },
   {
    "duration": 11,
    "start_time": "2022-12-03T22:58:15.610Z"
   },
   {
    "duration": 316,
    "start_time": "2022-12-03T22:58:15.810Z"
   },
   {
    "duration": 312,
    "start_time": "2022-12-03T22:58:16.127Z"
   },
   {
    "duration": 4,
    "start_time": "2022-12-03T22:58:17.205Z"
   },
   {
    "duration": 585,
    "start_time": "2022-12-03T22:58:17.574Z"
   },
   {
    "duration": 506,
    "start_time": "2022-12-03T22:58:18.161Z"
   },
   {
    "duration": 515,
    "start_time": "2022-12-03T22:58:18.669Z"
   },
   {
    "duration": 8,
    "start_time": "2022-12-03T22:58:20.367Z"
   },
   {
    "duration": 4,
    "start_time": "2022-12-03T22:58:22.622Z"
   },
   {
    "duration": 8,
    "start_time": "2022-12-03T22:58:27.835Z"
   },
   {
    "duration": 5,
    "start_time": "2022-12-03T22:58:28.429Z"
   },
   {
    "duration": 9,
    "start_time": "2022-12-03T23:00:18.448Z"
   },
   {
    "duration": 5,
    "start_time": "2022-12-03T23:00:19.105Z"
   },
   {
    "duration": 13,
    "start_time": "2022-12-03T23:05:19.086Z"
   },
   {
    "duration": 1304,
    "start_time": "2022-12-04T07:11:16.791Z"
   },
   {
    "duration": 106,
    "start_time": "2022-12-04T07:11:18.097Z"
   },
   {
    "duration": 17,
    "start_time": "2022-12-04T07:11:18.204Z"
   },
   {
    "duration": 21,
    "start_time": "2022-12-04T07:11:18.223Z"
   },
   {
    "duration": 629,
    "start_time": "2022-12-04T07:11:18.246Z"
   },
   {
    "duration": 27,
    "start_time": "2022-12-04T07:11:18.876Z"
   },
   {
    "duration": 27,
    "start_time": "2022-12-04T07:11:18.904Z"
   },
   {
    "duration": 4,
    "start_time": "2022-12-04T07:11:19.297Z"
   },
   {
    "duration": 14,
    "start_time": "2022-12-04T07:11:19.718Z"
   },
   {
    "duration": 9,
    "start_time": "2022-12-04T07:11:19.899Z"
   },
   {
    "duration": 26,
    "start_time": "2022-12-04T07:11:20.090Z"
   },
   {
    "duration": 12,
    "start_time": "2022-12-04T07:11:20.508Z"
   },
   {
    "duration": 7,
    "start_time": "2022-12-04T07:11:20.926Z"
   },
   {
    "duration": 7,
    "start_time": "2022-12-04T07:11:21.137Z"
   },
   {
    "duration": 31,
    "start_time": "2022-12-04T07:11:21.321Z"
   },
   {
    "duration": 8,
    "start_time": "2022-12-04T07:11:21.954Z"
   },
   {
    "duration": 5,
    "start_time": "2022-12-04T07:11:22.388Z"
   },
   {
    "duration": 7,
    "start_time": "2022-12-04T07:11:22.603Z"
   },
   {
    "duration": 6,
    "start_time": "2022-12-04T07:11:22.800Z"
   },
   {
    "duration": 8,
    "start_time": "2022-12-04T07:11:23.033Z"
   },
   {
    "duration": 8,
    "start_time": "2022-12-04T07:11:23.254Z"
   },
   {
    "duration": 9,
    "start_time": "2022-12-04T07:11:23.484Z"
   },
   {
    "duration": 5,
    "start_time": "2022-12-04T07:11:23.739Z"
   },
   {
    "duration": 5,
    "start_time": "2022-12-04T07:11:23.974Z"
   },
   {
    "duration": 16,
    "start_time": "2022-12-04T07:11:24.449Z"
   },
   {
    "duration": 9,
    "start_time": "2022-12-04T07:11:24.883Z"
   },
   {
    "duration": 4,
    "start_time": "2022-12-04T07:11:25.323Z"
   },
   {
    "duration": 8,
    "start_time": "2022-12-04T07:11:25.551Z"
   },
   {
    "duration": 9,
    "start_time": "2022-12-04T07:11:25.766Z"
   },
   {
    "duration": 19,
    "start_time": "2022-12-04T07:11:26.191Z"
   },
   {
    "duration": 6,
    "start_time": "2022-12-04T07:11:26.836Z"
   },
   {
    "duration": 208,
    "start_time": "2022-12-04T07:11:28.403Z"
   },
   {
    "duration": 10,
    "start_time": "2022-12-04T07:11:29.396Z"
   },
   {
    "duration": 8,
    "start_time": "2022-12-04T07:11:29.584Z"
   },
   {
    "duration": 15,
    "start_time": "2022-12-04T07:11:30.079Z"
   },
   {
    "duration": 6,
    "start_time": "2022-12-04T07:11:30.294Z"
   },
   {
    "duration": 5,
    "start_time": "2022-12-04T07:11:30.793Z"
   },
   {
    "duration": 9,
    "start_time": "2022-12-04T07:11:31.017Z"
   },
   {
    "duration": 263,
    "start_time": "2022-12-04T07:11:31.461Z"
   },
   {
    "duration": 1137,
    "start_time": "2022-12-04T07:11:32.786Z"
   },
   {
    "duration": 7,
    "start_time": "2022-12-04T07:11:34.765Z"
   },
   {
    "duration": 9,
    "start_time": "2022-12-04T07:11:36.616Z"
   },
   {
    "duration": 9,
    "start_time": "2022-12-04T07:11:36.845Z"
   },
   {
    "duration": 333,
    "start_time": "2022-12-04T07:11:37.248Z"
   },
   {
    "duration": 6,
    "start_time": "2022-12-04T07:11:37.960Z"
   },
   {
    "duration": 239,
    "start_time": "2022-12-04T07:11:38.164Z"
   },
   {
    "duration": 249,
    "start_time": "2022-12-04T07:11:38.822Z"
   },
   {
    "duration": 252,
    "start_time": "2022-12-04T07:11:39.300Z"
   },
   {
    "duration": 102,
    "start_time": "2022-12-04T07:11:48.979Z"
   },
   {
    "duration": 142,
    "start_time": "2022-12-04T07:14:02.664Z"
   },
   {
    "duration": 54,
    "start_time": "2022-12-04T07:14:20.836Z"
   },
   {
    "duration": 3,
    "start_time": "2022-12-04T07:17:18.363Z"
   },
   {
    "duration": 43,
    "start_time": "2022-12-04T07:17:26.900Z"
   },
   {
    "duration": 51,
    "start_time": "2022-12-04T07:18:01.010Z"
   },
   {
    "duration": 20,
    "start_time": "2022-12-04T07:24:43.895Z"
   },
   {
    "duration": 16,
    "start_time": "2022-12-04T07:25:00.960Z"
   },
   {
    "duration": 42,
    "start_time": "2022-12-04T07:25:51.712Z"
   },
   {
    "duration": 16,
    "start_time": "2022-12-04T07:43:46.110Z"
   },
   {
    "duration": 3,
    "start_time": "2022-12-04T07:44:00.995Z"
   },
   {
    "duration": 49,
    "start_time": "2022-12-04T07:44:01.167Z"
   },
   {
    "duration": 18,
    "start_time": "2022-12-04T07:44:01.536Z"
   },
   {
    "duration": 13,
    "start_time": "2022-12-04T07:44:01.686Z"
   },
   {
    "duration": 599,
    "start_time": "2022-12-04T07:44:01.861Z"
   },
   {
    "duration": 29,
    "start_time": "2022-12-04T07:44:02.462Z"
   },
   {
    "duration": 28,
    "start_time": "2022-12-04T07:44:02.493Z"
   },
   {
    "duration": 3,
    "start_time": "2022-12-04T07:44:03.239Z"
   },
   {
    "duration": 9,
    "start_time": "2022-12-04T07:44:03.570Z"
   },
   {
    "duration": 6,
    "start_time": "2022-12-04T07:44:03.749Z"
   },
   {
    "duration": 16,
    "start_time": "2022-12-04T07:44:03.923Z"
   },
   {
    "duration": 8,
    "start_time": "2022-12-04T07:44:04.299Z"
   },
   {
    "duration": 5,
    "start_time": "2022-12-04T07:44:04.672Z"
   },
   {
    "duration": 6,
    "start_time": "2022-12-04T07:44:04.866Z"
   },
   {
    "duration": 21,
    "start_time": "2022-12-04T07:44:05.018Z"
   },
   {
    "duration": 7,
    "start_time": "2022-12-04T07:44:05.603Z"
   },
   {
    "duration": 4,
    "start_time": "2022-12-04T07:44:05.965Z"
   },
   {
    "duration": 5,
    "start_time": "2022-12-04T07:44:06.164Z"
   },
   {
    "duration": 7,
    "start_time": "2022-12-04T07:44:06.364Z"
   },
   {
    "duration": 7,
    "start_time": "2022-12-04T07:44:06.543Z"
   },
   {
    "duration": 6,
    "start_time": "2022-12-04T07:44:06.736Z"
   },
   {
    "duration": 6,
    "start_time": "2022-12-04T07:44:06.932Z"
   },
   {
    "duration": 4,
    "start_time": "2022-12-04T07:44:07.114Z"
   },
   {
    "duration": 5,
    "start_time": "2022-12-04T07:44:07.296Z"
   },
   {
    "duration": 16,
    "start_time": "2022-12-04T07:44:07.666Z"
   },
   {
    "duration": 7,
    "start_time": "2022-12-04T07:44:08.031Z"
   },
   {
    "duration": 4,
    "start_time": "2022-12-04T07:44:08.413Z"
   },
   {
    "duration": 7,
    "start_time": "2022-12-04T07:44:08.612Z"
   },
   {
    "duration": 6,
    "start_time": "2022-12-04T07:44:08.806Z"
   },
   {
    "duration": 14,
    "start_time": "2022-12-04T07:44:09.217Z"
   },
   {
    "duration": 6,
    "start_time": "2022-12-04T07:44:09.787Z"
   },
   {
    "duration": 194,
    "start_time": "2022-12-04T07:44:11.180Z"
   },
   {
    "duration": 10,
    "start_time": "2022-12-04T07:44:11.983Z"
   },
   {
    "duration": 8,
    "start_time": "2022-12-04T07:44:12.234Z"
   },
   {
    "duration": 15,
    "start_time": "2022-12-04T07:44:12.621Z"
   },
   {
    "duration": 7,
    "start_time": "2022-12-04T07:44:12.839Z"
   },
   {
    "duration": 6,
    "start_time": "2022-12-04T07:44:13.057Z"
   },
   {
    "duration": 10,
    "start_time": "2022-12-04T07:44:13.241Z"
   },
   {
    "duration": 338,
    "start_time": "2022-12-04T07:44:13.441Z"
   },
   {
    "duration": 869,
    "start_time": "2022-12-04T07:44:13.870Z"
   },
   {
    "duration": 5,
    "start_time": "2022-12-04T07:44:15.423Z"
   },
   {
    "duration": 10,
    "start_time": "2022-12-04T07:44:21.428Z"
   },
   {
    "duration": 7,
    "start_time": "2022-12-04T07:44:21.593Z"
   },
   {
    "duration": 261,
    "start_time": "2022-12-04T07:44:21.988Z"
   },
   {
    "duration": 6,
    "start_time": "2022-12-04T07:44:22.552Z"
   },
   {
    "duration": 253,
    "start_time": "2022-12-04T07:44:22.742Z"
   },
   {
    "duration": 238,
    "start_time": "2022-12-04T07:44:23.323Z"
   },
   {
    "duration": 243,
    "start_time": "2022-12-04T07:44:23.731Z"
   },
   {
    "duration": 16,
    "start_time": "2022-12-04T07:44:25.897Z"
   },
   {
    "duration": 6,
    "start_time": "2022-12-04T07:46:04.883Z"
   },
   {
    "duration": 10,
    "start_time": "2022-12-04T07:46:32.960Z"
   },
   {
    "duration": 10,
    "start_time": "2022-12-04T07:50:48.994Z"
   },
   {
    "duration": 9,
    "start_time": "2022-12-04T07:51:42.868Z"
   },
   {
    "duration": 5,
    "start_time": "2022-12-04T07:52:28.856Z"
   },
   {
    "duration": 8,
    "start_time": "2022-12-04T07:52:29.859Z"
   },
   {
    "duration": 242,
    "start_time": "2022-12-04T07:52:36.363Z"
   },
   {
    "duration": 4,
    "start_time": "2022-12-04T07:53:00.210Z"
   },
   {
    "duration": 351,
    "start_time": "2022-12-04T07:53:02.531Z"
   },
   {
    "duration": 8,
    "start_time": "2022-12-04T07:54:12.048Z"
   },
   {
    "duration": 6,
    "start_time": "2022-12-04T07:54:17.750Z"
   },
   {
    "duration": 8,
    "start_time": "2022-12-04T07:54:18.429Z"
   },
   {
    "duration": 7,
    "start_time": "2022-12-04T07:56:12.717Z"
   },
   {
    "duration": 8,
    "start_time": "2022-12-04T07:56:17.911Z"
   },
   {
    "duration": 7,
    "start_time": "2022-12-04T07:58:28.503Z"
   },
   {
    "duration": 8,
    "start_time": "2022-12-04T07:58:29.491Z"
   },
   {
    "duration": 231,
    "start_time": "2022-12-04T07:58:37.502Z"
   },
   {
    "duration": 7,
    "start_time": "2022-12-04T07:59:21.408Z"
   },
   {
    "duration": 267,
    "start_time": "2022-12-04T07:59:36.520Z"
   },
   {
    "duration": 8,
    "start_time": "2022-12-04T07:59:55.764Z"
   },
   {
    "duration": 1223,
    "start_time": "2022-12-04T07:59:56.506Z"
   },
   {
    "duration": 7,
    "start_time": "2022-12-04T08:04:44.478Z"
   },
   {
    "duration": 1303,
    "start_time": "2022-12-04T08:04:45.556Z"
   },
   {
    "duration": 3,
    "start_time": "2022-12-04T08:05:47.554Z"
   },
   {
    "duration": 10,
    "start_time": "2022-12-04T08:05:48.575Z"
   },
   {
    "duration": 957,
    "start_time": "2022-12-04T08:05:49.968Z"
   },
   {
    "duration": 5,
    "start_time": "2022-12-04T08:09:35.620Z"
   },
   {
    "duration": 979,
    "start_time": "2022-12-04T08:09:37.361Z"
   },
   {
    "duration": 15,
    "start_time": "2022-12-04T08:42:46.001Z"
   },
   {
    "duration": 9,
    "start_time": "2022-12-04T08:42:46.225Z"
   },
   {
    "duration": 312,
    "start_time": "2022-12-04T08:42:46.711Z"
   },
   {
    "duration": 399,
    "start_time": "2022-12-04T08:42:47.327Z"
   },
   {
    "duration": 4,
    "start_time": "2022-12-04T08:42:56.602Z"
   },
   {
    "duration": 506,
    "start_time": "2022-12-04T08:42:58.350Z"
   },
   {
    "duration": 495,
    "start_time": "2022-12-04T08:43:00.682Z"
   },
   {
    "duration": 498,
    "start_time": "2022-12-04T08:43:01.928Z"
   },
   {
    "duration": 3,
    "start_time": "2022-12-04T08:43:56.919Z"
   },
   {
    "duration": 49,
    "start_time": "2022-12-04T08:43:57.319Z"
   },
   {
    "duration": 14,
    "start_time": "2022-12-04T08:43:57.646Z"
   },
   {
    "duration": 12,
    "start_time": "2022-12-04T08:43:57.800Z"
   },
   {
    "duration": 600,
    "start_time": "2022-12-04T08:43:57.971Z"
   },
   {
    "duration": 29,
    "start_time": "2022-12-04T08:43:58.574Z"
   },
   {
    "duration": 25,
    "start_time": "2022-12-04T08:43:58.605Z"
   },
   {
    "duration": 4,
    "start_time": "2022-12-04T08:43:59.329Z"
   },
   {
    "duration": 9,
    "start_time": "2022-12-04T08:43:59.663Z"
   },
   {
    "duration": 7,
    "start_time": "2022-12-04T08:43:59.842Z"
   },
   {
    "duration": 16,
    "start_time": "2022-12-04T08:43:59.993Z"
   },
   {
    "duration": 8,
    "start_time": "2022-12-04T08:44:00.362Z"
   },
   {
    "duration": 4,
    "start_time": "2022-12-04T08:44:00.718Z"
   },
   {
    "duration": 5,
    "start_time": "2022-12-04T08:44:00.907Z"
   },
   {
    "duration": 21,
    "start_time": "2022-12-04T08:44:01.102Z"
   },
   {
    "duration": 8,
    "start_time": "2022-12-04T08:44:01.651Z"
   },
   {
    "duration": 4,
    "start_time": "2022-12-04T08:44:02.001Z"
   },
   {
    "duration": 5,
    "start_time": "2022-12-04T08:44:02.176Z"
   },
   {
    "duration": 7,
    "start_time": "2022-12-04T08:44:02.361Z"
   },
   {
    "duration": 6,
    "start_time": "2022-12-04T08:44:02.554Z"
   },
   {
    "duration": 6,
    "start_time": "2022-12-04T08:44:02.735Z"
   },
   {
    "duration": 6,
    "start_time": "2022-12-04T08:44:02.923Z"
   },
   {
    "duration": 5,
    "start_time": "2022-12-04T08:44:03.107Z"
   },
   {
    "duration": 5,
    "start_time": "2022-12-04T08:44:03.315Z"
   },
   {
    "duration": 17,
    "start_time": "2022-12-04T08:44:03.675Z"
   },
   {
    "duration": 7,
    "start_time": "2022-12-04T08:44:04.030Z"
   },
   {
    "duration": 4,
    "start_time": "2022-12-04T08:44:04.412Z"
   },
   {
    "duration": 9,
    "start_time": "2022-12-04T08:44:04.584Z"
   },
   {
    "duration": 7,
    "start_time": "2022-12-04T08:44:04.777Z"
   },
   {
    "duration": 20,
    "start_time": "2022-12-04T08:44:05.175Z"
   },
   {
    "duration": 7,
    "start_time": "2022-12-04T08:44:05.745Z"
   },
   {
    "duration": 191,
    "start_time": "2022-12-04T08:44:07.075Z"
   },
   {
    "duration": 11,
    "start_time": "2022-12-04T08:44:07.807Z"
   },
   {
    "duration": 8,
    "start_time": "2022-12-04T08:44:07.997Z"
   },
   {
    "duration": 15,
    "start_time": "2022-12-04T08:44:08.366Z"
   },
   {
    "duration": 9,
    "start_time": "2022-12-04T08:44:08.585Z"
   },
   {
    "duration": 5,
    "start_time": "2022-12-04T08:44:08.785Z"
   },
   {
    "duration": 8,
    "start_time": "2022-12-04T08:44:08.965Z"
   },
   {
    "duration": 349,
    "start_time": "2022-12-04T08:44:09.174Z"
   },
   {
    "duration": 881,
    "start_time": "2022-12-04T08:44:09.668Z"
   },
   {
    "duration": 7,
    "start_time": "2022-12-04T08:44:10.900Z"
   },
   {
    "duration": 12,
    "start_time": "2022-12-04T08:44:11.704Z"
   },
   {
    "duration": 8,
    "start_time": "2022-12-04T08:44:11.889Z"
   },
   {
    "duration": 259,
    "start_time": "2022-12-04T08:44:12.251Z"
   },
   {
    "duration": 7,
    "start_time": "2022-12-04T08:44:12.834Z"
   },
   {
    "duration": 234,
    "start_time": "2022-12-04T08:44:13.027Z"
   },
   {
    "duration": 237,
    "start_time": "2022-12-04T08:44:13.596Z"
   },
   {
    "duration": 249,
    "start_time": "2022-12-04T08:44:13.964Z"
   },
   {
    "duration": 3,
    "start_time": "2022-12-04T08:44:15.303Z"
   },
   {
    "duration": 5,
    "start_time": "2022-12-04T08:44:15.473Z"
   },
   {
    "duration": 1064,
    "start_time": "2022-12-04T08:44:15.644Z"
   },
   {
    "duration": 14,
    "start_time": "2022-12-04T08:44:17.401Z"
   },
   {
    "duration": 9,
    "start_time": "2022-12-04T08:44:17.586Z"
   },
   {
    "duration": 297,
    "start_time": "2022-12-04T08:44:17.806Z"
   },
   {
    "duration": 307,
    "start_time": "2022-12-04T08:44:18.104Z"
   },
   {
    "duration": 3,
    "start_time": "2022-12-04T08:44:19.271Z"
   },
   {
    "duration": 498,
    "start_time": "2022-12-04T08:44:19.683Z"
   },
   {
    "duration": 519,
    "start_time": "2022-12-04T08:44:20.183Z"
   },
   {
    "duration": 504,
    "start_time": "2022-12-04T08:44:20.704Z"
   },
   {
    "duration": 8,
    "start_time": "2022-12-04T08:44:21.895Z"
   },
   {
    "duration": 5,
    "start_time": "2022-12-04T08:44:22.274Z"
   },
   {
    "duration": 7,
    "start_time": "2022-12-04T08:44:23.632Z"
   },
   {
    "duration": 5,
    "start_time": "2022-12-04T08:44:23.838Z"
   },
   {
    "duration": 598,
    "start_time": "2022-12-04T08:53:00.626Z"
   },
   {
    "duration": 6,
    "start_time": "2022-12-04T09:02:34.844Z"
   },
   {
    "duration": 257,
    "start_time": "2022-12-04T09:02:35.411Z"
   },
   {
    "duration": 247,
    "start_time": "2022-12-04T09:02:38.340Z"
   },
   {
    "duration": 249,
    "start_time": "2022-12-04T09:02:40.009Z"
   },
   {
    "duration": 3,
    "start_time": "2022-12-04T09:17:19.665Z"
   },
   {
    "duration": 47,
    "start_time": "2022-12-04T09:17:19.809Z"
   },
   {
    "duration": 14,
    "start_time": "2022-12-04T09:17:20.131Z"
   },
   {
    "duration": 13,
    "start_time": "2022-12-04T09:17:20.275Z"
   },
   {
    "duration": 581,
    "start_time": "2022-12-04T09:17:20.448Z"
   },
   {
    "duration": 26,
    "start_time": "2022-12-04T09:17:21.031Z"
   },
   {
    "duration": 13,
    "start_time": "2022-12-04T09:17:21.058Z"
   },
   {
    "duration": 3,
    "start_time": "2022-12-04T09:17:21.728Z"
   },
   {
    "duration": 10,
    "start_time": "2022-12-04T09:17:22.048Z"
   },
   {
    "duration": 6,
    "start_time": "2022-12-04T09:17:22.218Z"
   },
   {
    "duration": 16,
    "start_time": "2022-12-04T09:17:22.376Z"
   },
   {
    "duration": 8,
    "start_time": "2022-12-04T09:17:22.702Z"
   },
   {
    "duration": 5,
    "start_time": "2022-12-04T09:17:23.021Z"
   },
   {
    "duration": 5,
    "start_time": "2022-12-04T09:17:23.193Z"
   },
   {
    "duration": 20,
    "start_time": "2022-12-04T09:17:23.350Z"
   },
   {
    "duration": 7,
    "start_time": "2022-12-04T09:17:23.862Z"
   },
   {
    "duration": 4,
    "start_time": "2022-12-04T09:17:24.197Z"
   },
   {
    "duration": 4,
    "start_time": "2022-12-04T09:17:24.368Z"
   },
   {
    "duration": 7,
    "start_time": "2022-12-04T09:17:24.537Z"
   },
   {
    "duration": 6,
    "start_time": "2022-12-04T09:17:24.708Z"
   },
   {
    "duration": 7,
    "start_time": "2022-12-04T09:17:24.872Z"
   },
   {
    "duration": 7,
    "start_time": "2022-12-04T09:17:25.025Z"
   },
   {
    "duration": 6,
    "start_time": "2022-12-04T09:17:25.191Z"
   },
   {
    "duration": 6,
    "start_time": "2022-12-04T09:17:25.362Z"
   },
   {
    "duration": 17,
    "start_time": "2022-12-04T09:17:25.717Z"
   },
   {
    "duration": 7,
    "start_time": "2022-12-04T09:17:26.036Z"
   },
   {
    "duration": 4,
    "start_time": "2022-12-04T09:17:26.407Z"
   },
   {
    "duration": 10,
    "start_time": "2022-12-04T09:17:26.571Z"
   },
   {
    "duration": 6,
    "start_time": "2022-12-04T09:17:26.723Z"
   },
   {
    "duration": 14,
    "start_time": "2022-12-04T09:17:27.083Z"
   },
   {
    "duration": 7,
    "start_time": "2022-12-04T09:17:27.622Z"
   },
   {
    "duration": 193,
    "start_time": "2022-12-04T09:17:28.882Z"
   },
   {
    "duration": 11,
    "start_time": "2022-12-04T09:17:29.621Z"
   },
   {
    "duration": 8,
    "start_time": "2022-12-04T09:17:29.787Z"
   },
   {
    "duration": 14,
    "start_time": "2022-12-04T09:17:30.156Z"
   },
   {
    "duration": 7,
    "start_time": "2022-12-04T09:17:30.332Z"
   },
   {
    "duration": 6,
    "start_time": "2022-12-04T09:17:30.502Z"
   },
   {
    "duration": 10,
    "start_time": "2022-12-04T09:17:30.668Z"
   },
   {
    "duration": 360,
    "start_time": "2022-12-04T09:17:30.839Z"
   },
   {
    "duration": 880,
    "start_time": "2022-12-04T09:17:31.200Z"
   },
   {
    "duration": 5,
    "start_time": "2022-12-04T09:17:32.096Z"
   },
   {
    "duration": 10,
    "start_time": "2022-12-04T09:17:32.842Z"
   },
   {
    "duration": 7,
    "start_time": "2022-12-04T09:17:33.030Z"
   },
   {
    "duration": 262,
    "start_time": "2022-12-04T09:17:34.000Z"
   },
   {
    "duration": 6,
    "start_time": "2022-12-04T09:17:34.264Z"
   },
   {
    "duration": 244,
    "start_time": "2022-12-04T09:17:34.271Z"
   },
   {
    "duration": 244,
    "start_time": "2022-12-04T09:17:34.641Z"
   },
   {
    "duration": 266,
    "start_time": "2022-12-04T09:17:35.011Z"
   },
   {
    "duration": 2,
    "start_time": "2022-12-04T09:17:36.257Z"
   },
   {
    "duration": 5,
    "start_time": "2022-12-04T09:17:36.442Z"
   },
   {
    "duration": 1069,
    "start_time": "2022-12-04T09:17:36.612Z"
   },
   {
    "duration": 14,
    "start_time": "2022-12-04T09:17:38.291Z"
   },
   {
    "duration": 9,
    "start_time": "2022-12-04T09:17:38.475Z"
   },
   {
    "duration": 309,
    "start_time": "2022-12-04T09:17:38.661Z"
   },
   {
    "duration": 323,
    "start_time": "2022-12-04T09:17:38.971Z"
   },
   {
    "duration": 3,
    "start_time": "2022-12-04T09:17:40.027Z"
   },
   {
    "duration": 532,
    "start_time": "2022-12-04T09:17:40.409Z"
   },
   {
    "duration": 521,
    "start_time": "2022-12-04T09:17:40.943Z"
   },
   {
    "duration": 522,
    "start_time": "2022-12-04T09:17:41.466Z"
   },
   {
    "duration": 8,
    "start_time": "2022-12-04T09:17:42.522Z"
   },
   {
    "duration": 4,
    "start_time": "2022-12-04T09:17:42.898Z"
   },
   {
    "duration": 8,
    "start_time": "2022-12-04T09:17:44.234Z"
   },
   {
    "duration": 5,
    "start_time": "2022-12-04T09:17:44.420Z"
   },
   {
    "duration": 1185,
    "start_time": "2022-12-04T10:04:41.207Z"
   },
   {
    "duration": 191,
    "start_time": "2022-12-04T10:04:42.394Z"
   },
   {
    "duration": 22,
    "start_time": "2022-12-04T10:04:42.587Z"
   },
   {
    "duration": 17,
    "start_time": "2022-12-04T10:04:42.612Z"
   },
   {
    "duration": 687,
    "start_time": "2022-12-04T10:04:42.630Z"
   },
   {
    "duration": 38,
    "start_time": "2022-12-04T10:04:43.319Z"
   },
   {
    "duration": 15,
    "start_time": "2022-12-04T10:04:43.359Z"
   },
   {
    "duration": 3,
    "start_time": "2022-12-04T10:04:43.376Z"
   },
   {
    "duration": 12,
    "start_time": "2022-12-04T10:04:43.380Z"
   },
   {
    "duration": 6,
    "start_time": "2022-12-04T10:04:43.394Z"
   },
   {
    "duration": 44,
    "start_time": "2022-12-04T10:04:43.402Z"
   },
   {
    "duration": 9,
    "start_time": "2022-12-04T10:04:43.448Z"
   },
   {
    "duration": 6,
    "start_time": "2022-12-04T10:04:43.458Z"
   },
   {
    "duration": 5,
    "start_time": "2022-12-04T10:04:43.466Z"
   },
   {
    "duration": 22,
    "start_time": "2022-12-04T10:04:43.473Z"
   },
   {
    "duration": 7,
    "start_time": "2022-12-04T10:04:43.496Z"
   },
   {
    "duration": 36,
    "start_time": "2022-12-04T10:04:43.504Z"
   },
   {
    "duration": 7,
    "start_time": "2022-12-04T10:04:43.542Z"
   },
   {
    "duration": 8,
    "start_time": "2022-12-04T10:04:43.550Z"
   },
   {
    "duration": 7,
    "start_time": "2022-12-04T10:04:43.559Z"
   },
   {
    "duration": 10,
    "start_time": "2022-12-04T10:04:43.568Z"
   },
   {
    "duration": 6,
    "start_time": "2022-12-04T10:04:43.580Z"
   },
   {
    "duration": 5,
    "start_time": "2022-12-04T10:04:43.587Z"
   },
   {
    "duration": 44,
    "start_time": "2022-12-04T10:04:43.594Z"
   },
   {
    "duration": 19,
    "start_time": "2022-12-04T10:04:43.640Z"
   },
   {
    "duration": 12,
    "start_time": "2022-12-04T10:04:43.661Z"
   },
   {
    "duration": 6,
    "start_time": "2022-12-04T10:04:43.674Z"
   },
   {
    "duration": 10,
    "start_time": "2022-12-04T10:04:43.684Z"
   },
   {
    "duration": 9,
    "start_time": "2022-12-04T10:04:43.696Z"
   },
   {
    "duration": 39,
    "start_time": "2022-12-04T10:04:43.706Z"
   },
   {
    "duration": 8,
    "start_time": "2022-12-04T10:04:43.746Z"
   },
   {
    "duration": 241,
    "start_time": "2022-12-04T10:04:43.756Z"
   },
   {
    "duration": 12,
    "start_time": "2022-12-04T10:04:43.998Z"
   },
   {
    "duration": 9,
    "start_time": "2022-12-04T10:04:44.011Z"
   },
   {
    "duration": 16,
    "start_time": "2022-12-04T10:04:44.037Z"
   },
   {
    "duration": 5,
    "start_time": "2022-12-04T10:04:44.055Z"
   },
   {
    "duration": 5,
    "start_time": "2022-12-04T10:04:44.062Z"
   },
   {
    "duration": 13,
    "start_time": "2022-12-04T10:04:44.068Z"
   },
   {
    "duration": 321,
    "start_time": "2022-12-04T10:04:44.082Z"
   },
   {
    "duration": 1064,
    "start_time": "2022-12-04T10:04:44.405Z"
   },
   {
    "duration": 493,
    "start_time": "2022-12-04T10:04:45.471Z"
   },
   {
    "duration": 6,
    "start_time": "2022-12-04T10:04:45.966Z"
   },
   {
    "duration": 13,
    "start_time": "2022-12-04T10:04:45.973Z"
   },
   {
    "duration": 10,
    "start_time": "2022-12-04T10:04:45.988Z"
   },
   {
    "duration": 311,
    "start_time": "2022-12-04T10:04:46.000Z"
   },
   {
    "duration": 6,
    "start_time": "2022-12-04T10:04:46.313Z"
   },
   {
    "duration": 284,
    "start_time": "2022-12-04T10:04:46.321Z"
   },
   {
    "duration": 273,
    "start_time": "2022-12-04T10:04:46.607Z"
   },
   {
    "duration": 290,
    "start_time": "2022-12-04T10:04:46.882Z"
   },
   {
    "duration": 3,
    "start_time": "2022-12-04T10:04:47.173Z"
   },
   {
    "duration": 9,
    "start_time": "2022-12-04T10:04:47.178Z"
   },
   {
    "duration": 1218,
    "start_time": "2022-12-04T10:04:47.188Z"
   },
   {
    "duration": 32,
    "start_time": "2022-12-04T10:04:48.408Z"
   },
   {
    "duration": 9,
    "start_time": "2022-12-04T10:04:48.442Z"
   },
   {
    "duration": 369,
    "start_time": "2022-12-04T10:04:48.452Z"
   },
   {
    "duration": 439,
    "start_time": "2022-12-04T10:04:48.824Z"
   },
   {
    "duration": 4,
    "start_time": "2022-12-04T10:04:49.265Z"
   },
   {
    "duration": 609,
    "start_time": "2022-12-04T10:04:49.271Z"
   },
   {
    "duration": 605,
    "start_time": "2022-12-04T10:04:49.882Z"
   },
   {
    "duration": 577,
    "start_time": "2022-12-04T10:04:50.489Z"
   },
   {
    "duration": 10,
    "start_time": "2022-12-04T10:04:51.068Z"
   },
   {
    "duration": 6,
    "start_time": "2022-12-04T10:04:51.081Z"
   },
   {
    "duration": 10,
    "start_time": "2022-12-04T10:04:51.089Z"
   },
   {
    "duration": 10,
    "start_time": "2022-12-04T10:04:51.101Z"
   },
   {
    "duration": 335,
    "start_time": "2022-12-04T10:07:55.653Z"
   },
   {
    "duration": 811,
    "start_time": "2022-12-04T10:07:55.990Z"
   },
   {
    "duration": 55,
    "start_time": "2023-01-22T10:36:59.627Z"
   },
   {
    "duration": 4227,
    "start_time": "2023-01-22T10:37:07.519Z"
   },
   {
    "duration": 1567,
    "start_time": "2023-01-22T10:37:15.017Z"
   },
   {
    "duration": 90,
    "start_time": "2023-01-22T10:37:16.586Z"
   },
   {
    "duration": 6385,
    "start_time": "2023-01-22T10:37:19.412Z"
   },
   {
    "duration": 47,
    "start_time": "2023-01-22T10:39:07.399Z"
   },
   {
    "duration": 14066,
    "start_time": "2023-01-22T10:39:39.859Z"
   },
   {
    "duration": 686,
    "start_time": "2023-01-22T10:40:33.307Z"
   },
   {
    "duration": 61,
    "start_time": "2023-01-22T10:40:34.767Z"
   },
   {
    "duration": 10,
    "start_time": "2023-01-22T10:40:35.854Z"
   },
   {
    "duration": 14765,
    "start_time": "2023-01-22T10:40:47.271Z"
   }
  ],
  "kernelspec": {
   "display_name": "Python 3 (ipykernel)",
   "language": "python",
   "name": "python3"
  },
  "language_info": {
   "codemirror_mode": {
    "name": "ipython",
    "version": 3
   },
   "file_extension": ".py",
   "mimetype": "text/x-python",
   "name": "python",
   "nbconvert_exporter": "python",
   "pygments_lexer": "ipython3",
   "version": "3.9.12"
  },
  "toc": {
   "base_numbering": 1,
   "nav_menu": {},
   "number_sections": true,
   "sideBar": true,
   "skip_h1_title": true,
   "title_cell": "Table of Contents",
   "title_sidebar": "Contents",
   "toc_cell": false,
   "toc_position": {},
   "toc_section_display": true,
   "toc_window_display": false
  }
 },
 "nbformat": 4,
 "nbformat_minor": 2
}
